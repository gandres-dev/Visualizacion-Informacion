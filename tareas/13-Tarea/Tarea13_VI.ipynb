{
 "cells": [
  {
   "cell_type": "code",
   "execution_count": 1,
   "metadata": {
    "colab": {
     "base_uri": "https://localhost:8080/"
    },
    "id": "FHzOWfbon5Aw",
    "outputId": "76f27b34-4d46-418d-c77c-9d519f0508d7"
   },
   "outputs": [
    {
     "name": "stdout",
     "output_type": "stream",
     "text": [
      "Defaulting to user installation because normal site-packages is not writeable\n",
      "Requirement already satisfied: pyvis in /home/guillermo/.local/lib/python3.10/site-packages (0.2.1)\n",
      "Requirement already satisfied: jinja2>=2.9.6 in /usr/lib/python3.10/site-packages (from pyvis) (3.0.1)\n",
      "Requirement already satisfied: networkx>=1.11 in /home/guillermo/.local/lib/python3.10/site-packages (from pyvis) (2.8)\n",
      "Requirement already satisfied: ipython>=5.3.0 in /usr/lib/python3.10/site-packages (from pyvis) (7.26.0)\n",
      "Requirement already satisfied: jsonpickle>=1.4.1 in /home/guillermo/.local/lib/python3.10/site-packages (from pyvis) (2.1.0)\n",
      "Requirement already satisfied: setuptools>=18.5 in /usr/lib/python3.10/site-packages (from ipython>=5.3.0->pyvis) (57.4.0)\n",
      "Requirement already satisfied: jedi>=0.16 in /usr/lib/python3.10/site-packages (from ipython>=5.3.0->pyvis) (0.18.0)\n",
      "Requirement already satisfied: decorator in /usr/lib/python3.10/site-packages (from ipython>=5.3.0->pyvis) (5.0.9)\n",
      "Requirement already satisfied: pickleshare in /usr/lib/python3.10/site-packages (from ipython>=5.3.0->pyvis) (0.7.5)\n",
      "Requirement already satisfied: traitlets>=4.2 in /usr/lib/python3.10/site-packages (from ipython>=5.3.0->pyvis) (5.0.5)\n",
      "Requirement already satisfied: prompt_toolkit!=3.0.0,!=3.0.1,<3.1.0,>=2.0.0 in /usr/lib/python3.10/site-packages (from ipython>=5.3.0->pyvis) (3.0.24)\n",
      "Requirement already satisfied: pygments in /usr/lib/python3.10/site-packages (from ipython>=5.3.0->pyvis) (2.9.0)\n",
      "Requirement already satisfied: backcall in /usr/lib/python3.10/site-packages (from ipython>=5.3.0->pyvis) (0.1.0)\n",
      "Requirement already satisfied: matplotlib-inline in /usr/lib/python3.10/site-packages (from ipython>=5.3.0->pyvis) (0.1.2)\n",
      "Requirement already satisfied: pexpect>4.3 in /usr/lib/python3.10/site-packages (from ipython>=5.3.0->pyvis) (4.8.0)\n",
      "Requirement already satisfied: parso<0.9.0,>=0.8.0 in /usr/lib/python3.10/site-packages (from jedi>=0.16->ipython>=5.3.0->pyvis) (0.8.2)\n",
      "Requirement already satisfied: MarkupSafe>=2.0 in /usr/lib64/python3.10/site-packages (from jinja2>=2.9.6->pyvis) (2.0.0)\n",
      "Requirement already satisfied: wcwidth in /usr/lib/python3.10/site-packages (from prompt_toolkit!=3.0.0,!=3.0.1,<3.1.0,>=2.0.0->ipython>=5.3.0->pyvis) (0.2.5)\n"
     ]
    }
   ],
   "source": [
    "!pip install pyvis"
   ]
  },
  {
   "cell_type": "code",
   "execution_count": 2,
   "metadata": {
    "id": "T1OpO9V0g86q"
   },
   "outputs": [],
   "source": [
    "from pyvis.network import Network\n",
    "from pyvis import network as net\n",
    "import matplotlib.pyplot as plt\n",
    "import pandas as pd\n",
    "import networkx as nx\n",
    "import IPython"
   ]
  },
  {
   "cell_type": "markdown",
   "metadata": {
    "id": "nzVRyiLxnlgt"
   },
   "source": [
    "# Visualización de la Información - Tarea 13\n",
    "Elaborada por: __Andrés Urbano Guillermo Gerardo__\n",
    "\n",
    "_18 de Mayo del 2022_\n",
    "\n",
    "Cargamos nuestro conjunto de datos."
   ]
  },
  {
   "cell_type": "code",
   "execution_count": 3,
   "metadata": {
    "colab": {
     "base_uri": "https://localhost:8080/",
     "height": 206
    },
    "id": "Ri_2FU7jnny2",
    "outputId": "2c12a60a-b5de-46b5-8b3f-42aaece6fc36"
   },
   "outputs": [
    {
     "data": {
      "text/html": [
       "<div>\n",
       "<style scoped>\n",
       "    .dataframe tbody tr th:only-of-type {\n",
       "        vertical-align: middle;\n",
       "    }\n",
       "\n",
       "    .dataframe tbody tr th {\n",
       "        vertical-align: top;\n",
       "    }\n",
       "\n",
       "    .dataframe thead th {\n",
       "        text-align: right;\n",
       "    }\n",
       "</style>\n",
       "<table border=\"1\" class=\"dataframe\">\n",
       "  <thead>\n",
       "    <tr style=\"text-align: right;\">\n",
       "      <th></th>\n",
       "      <th>Country</th>\n",
       "      <th>Doses Administered</th>\n",
       "      <th>Doses per 1000</th>\n",
       "      <th>Fully Vaccinated Population (%)</th>\n",
       "      <th>Vaccine being used in a country</th>\n",
       "    </tr>\n",
       "  </thead>\n",
       "  <tbody>\n",
       "    <tr>\n",
       "      <th>173</th>\n",
       "      <td>Anguilla</td>\n",
       "      <td>13235</td>\n",
       "      <td>732.6</td>\n",
       "      <td>24.5</td>\n",
       "      <td>Oxford/AstraZeneca</td>\n",
       "    </tr>\n",
       "    <tr>\n",
       "      <th>174</th>\n",
       "      <td>Wallis and Futuna</td>\n",
       "      <td>8834</td>\n",
       "      <td>558.8</td>\n",
       "      <td>27.2</td>\n",
       "      <td>Oxford/AstraZeneca</td>\n",
       "    </tr>\n",
       "    <tr>\n",
       "      <th>175</th>\n",
       "      <td>Bonaire Sint Eustatius and Saba</td>\n",
       "      <td>7391</td>\n",
       "      <td>275.7</td>\n",
       "      <td>6.2</td>\n",
       "      <td>Moderna, Pfizer/BioNTech</td>\n",
       "    </tr>\n",
       "    <tr>\n",
       "      <th>176</th>\n",
       "      <td>Falkland Islands</td>\n",
       "      <td>4322</td>\n",
       "      <td>1070.1</td>\n",
       "      <td>42.5</td>\n",
       "      <td>Oxford/AstraZeneca</td>\n",
       "    </tr>\n",
       "    <tr>\n",
       "      <th>177</th>\n",
       "      <td>Montserrat</td>\n",
       "      <td>1306</td>\n",
       "      <td>243.7</td>\n",
       "      <td>3.6</td>\n",
       "      <td>Oxford/AstraZeneca</td>\n",
       "    </tr>\n",
       "  </tbody>\n",
       "</table>\n",
       "</div>"
      ],
      "text/plain": [
       "                             Country  Doses Administered  Doses per 1000  \\\n",
       "173                         Anguilla               13235           732.6   \n",
       "174                Wallis and Futuna                8834           558.8   \n",
       "175  Bonaire Sint Eustatius and Saba                7391           275.7   \n",
       "176                 Falkland Islands                4322          1070.1   \n",
       "177                       Montserrat                1306           243.7   \n",
       "\n",
       "     Fully Vaccinated Population (%) Vaccine being used in a country  \n",
       "173                             24.5              Oxford/AstraZeneca  \n",
       "174                             27.2              Oxford/AstraZeneca  \n",
       "175                              6.2        Moderna, Pfizer/BioNTech  \n",
       "176                             42.5              Oxford/AstraZeneca  \n",
       "177                              3.6              Oxford/AstraZeneca  "
      ]
     },
     "execution_count": 3,
     "metadata": {},
     "output_type": "execute_result"
    }
   ],
   "source": [
    "df = pd.read_csv(\"World_Vaccination_Progress.csv\")\n",
    "df.tail()"
   ]
  },
  {
   "cell_type": "markdown",
   "metadata": {
    "id": "Lc8lHnCSoFYF"
   },
   "source": [
    "Para generar el modelo de red con PyVis seleccionaremos las vacunas que son usadas por cada pais en un nuevo dataframe."
   ]
  },
  {
   "cell_type": "code",
   "execution_count": 4,
   "metadata": {
    "colab": {
     "base_uri": "https://localhost:8080/",
     "height": 206
    },
    "id": "CdvARuskzI_Q",
    "outputId": "171d7393-9fe4-41ef-aa9b-05bde37a7186"
   },
   "outputs": [
    {
     "data": {
      "text/html": [
       "<div>\n",
       "<style scoped>\n",
       "    .dataframe tbody tr th:only-of-type {\n",
       "        vertical-align: middle;\n",
       "    }\n",
       "\n",
       "    .dataframe tbody tr th {\n",
       "        vertical-align: top;\n",
       "    }\n",
       "\n",
       "    .dataframe thead th {\n",
       "        text-align: right;\n",
       "    }\n",
       "</style>\n",
       "<table border=\"1\" class=\"dataframe\">\n",
       "  <thead>\n",
       "    <tr style=\"text-align: right;\">\n",
       "      <th></th>\n",
       "      <th>Source</th>\n",
       "      <th>Target</th>\n",
       "    </tr>\n",
       "  </thead>\n",
       "  <tbody>\n",
       "    <tr>\n",
       "      <th>0</th>\n",
       "      <td>United States</td>\n",
       "      <td>Johnson&amp;Johnson</td>\n",
       "    </tr>\n",
       "    <tr>\n",
       "      <th>1</th>\n",
       "      <td>United States</td>\n",
       "      <td>Moderna</td>\n",
       "    </tr>\n",
       "    <tr>\n",
       "      <th>2</th>\n",
       "      <td>United States</td>\n",
       "      <td>Pfizer/BioNTech</td>\n",
       "    </tr>\n",
       "    <tr>\n",
       "      <th>3</th>\n",
       "      <td>India</td>\n",
       "      <td>Covaxin</td>\n",
       "    </tr>\n",
       "    <tr>\n",
       "      <th>4</th>\n",
       "      <td>India</td>\n",
       "      <td>Oxford/AstraZeneca</td>\n",
       "    </tr>\n",
       "  </tbody>\n",
       "</table>\n",
       "</div>"
      ],
      "text/plain": [
       "          Source               Target\n",
       "0  United States      Johnson&Johnson\n",
       "1  United States              Moderna\n",
       "2  United States      Pfizer/BioNTech\n",
       "3          India              Covaxin\n",
       "4          India   Oxford/AstraZeneca"
      ]
     },
     "execution_count": 4,
     "metadata": {},
     "output_type": "execute_result"
    }
   ],
   "source": [
    "countries = df['Country'][1:].values\n",
    "list_vaccines =  df['Vaccine being used in a country'][1:].values\n",
    "\n",
    "data_countries = []\n",
    "data_vaccines = []\n",
    "for country, vaccines in zip(countries, list_vaccines):\n",
    "    list_vaccines_string = vaccines.split(',')\n",
    "    data_countries.extend([country for vaccine in list_vaccines_string])\n",
    "    data_vaccines.extend(list_vaccines_string)    \n",
    "\n",
    "vaccine_df = pd.DataFrame(dict(\n",
    "    Source=data_countries,\n",
    "    Target=data_vaccines    \n",
    "))\n",
    "vaccine_df.head()"
   ]
  },
  {
   "cell_type": "code",
   "execution_count": 10,
   "metadata": {
    "colab": {
     "base_uri": "https://localhost:8080/",
     "height": 807
    },
    "id": "br06fvUg7reo",
    "outputId": "e578e98a-d968-4bdb-8690-5e6f0faafc29"
   },
   "outputs": [
    {
     "data": {
      "text/html": [
       "\n",
       "        <iframe\n",
       "            width=\"100%\"\n",
       "            height=\"750px\"\n",
       "            src=\"Vaccine_net.html\"\n",
       "            frameborder=\"0\"\n",
       "            allowfullscreen\n",
       "            \n",
       "        ></iframe>\n",
       "        "
      ],
      "text/plain": [
       "<IPython.lib.display.IFrame at 0x7ff159901a90>"
      ]
     },
     "execution_count": 10,
     "metadata": {},
     "output_type": "execute_result"
    }
   ],
   "source": [
    "# Generamos nuestra gráfica con PyVis\n",
    "G=nx.from_pandas_edgelist(vaccine_df, 'Source', 'Target')\n",
    "vaccine_net = Network(height='750px', width='100%', bgcolor='#ffffff', font_color='black', notebook=True)\n",
    "vaccine_net.from_nx(G)\n",
    "vaccine_net.show(\"Vaccine_net.html\")\n",
    "#IPython.display.HTML(filename='Vaccine_net.html')"
   ]
  },
  {
   "cell_type": "markdown",
   "metadata": {
    "id": "mt8z-yvv95Lo"
   },
   "source": [
    "## Segunda forma de visualizar\n",
    "\n",
    "Otra manera de visualizar nuestra red será coloreando con diferentes colores los nodos, de esta manera reconocer los cluster que generan cuando se crean las relaciones."
   ]
  },
  {
   "cell_type": "code",
   "execution_count": 8,
   "metadata": {
    "id": "yXLnbIN2-HoU"
   },
   "outputs": [],
   "source": [
    "world = df.iloc[0].Country\n",
    "root = [world]\n",
    "\n",
    "main_cluster = list(vaccine_df.Source.unique())\n",
    "\n",
    "sub_cluster = list(vaccine_df.Target.unique())\n",
    "\n",
    "data = ([list(relacion) for relacion in vaccine_df.values])"
   ]
  },
  {
   "cell_type": "code",
   "execution_count": 11,
   "metadata": {
    "colab": {
     "base_uri": "https://localhost:8080/",
     "height": 807
    },
    "id": "gnO4f7if-hN4",
    "outputId": "1e1dd169-7d98-4beb-cc00-79e9379f38ee"
   },
   "outputs": [
    {
     "data": {
      "text/html": [
       "\n",
       "        <iframe\n",
       "            width=\"100%\"\n",
       "            height=\"750px\"\n",
       "            src=\"test.html\"\n",
       "            frameborder=\"0\"\n",
       "            allowfullscreen\n",
       "            \n",
       "        ></iframe>\n",
       "        "
      ],
      "text/plain": [
       "<IPython.lib.display.IFrame at 0x7ff1598aa340>"
      ]
     },
     "execution_count": 11,
     "metadata": {},
     "output_type": "execute_result"
    }
   ],
   "source": [
    "\"\"\"Define edges.\"\"\"\n",
    "from more_itertools import locate\n",
    "\n",
    "test_nw = Network(height='750px', width=\"100%\", notebook=True)\n",
    "nodes = root + main_cluster + sub_cluster\n",
    "\n",
    "# añadir nodo raíz\n",
    "root_node = list(locate(nodes, lambda x: x in root))\n",
    "root_size, root_color = [35 for _ in root], [\"#006e7f\" for _ in root]\n",
    "\n",
    "test_nw.add_nodes(root_node, size=root_size, label=root, color=root_color)\n",
    "\n",
    "# agregar nodos cluster principal\n",
    "main_nodes = list(locate(nodes, lambda x: x in main_cluster))\n",
    "main_size, main_color = [30 for _ in main_cluster], [\"#F8CB2E\" for _ in main_cluster]\n",
    "\n",
    "test_nw.add_nodes(main_nodes, size=main_size, label=main_cluster, color=main_color)\n",
    "\n",
    "# agregar nodos de subclúster\n",
    "sub_nodes = list(locate(nodes, lambda x: x in sub_cluster))\n",
    "sub_size, sub_color = [25 for _ in sub_cluster], [\"#EE5007\" for _ in sub_cluster]\n",
    "\n",
    "test_nw.add_nodes(sub_nodes, size=sub_size, label=sub_cluster, color=sub_color)\n",
    "\n",
    "# agregar bordes\n",
    "for edge in data:\n",
    "    node_from, node_to = list(locate(nodes, lambda x: x in edge))\n",
    "    test_nw.add_edge(node_from, node_to)\n",
    "\n",
    "test_nw.show(\"test.html\")\n",
    "#IPython.display.HTML(filename='test.html')"
   ]
  }
 ],
 "metadata": {
  "colab": {
   "collapsed_sections": [],
   "name": "Tarea13_VI.ipynb",
   "provenance": []
  },
  "kernelspec": {
   "display_name": "Python 3",
   "language": "python",
   "name": "python3"
  },
  "language_info": {
   "codemirror_mode": {
    "name": "ipython",
    "version": 3
   },
   "file_extension": ".py",
   "mimetype": "text/x-python",
   "name": "python",
   "nbconvert_exporter": "python",
   "pygments_lexer": "ipython3",
   "version": "3.9.7"
  },
  "toc": {
   "base_numbering": 1,
   "nav_menu": {},
   "number_sections": false,
   "sideBar": true,
   "skip_h1_title": false,
   "title_cell": "Table of Contents",
   "title_sidebar": "Contents",
   "toc_cell": false,
   "toc_position": {},
   "toc_section_display": true,
   "toc_window_display": false
  }
 },
 "nbformat": 4,
 "nbformat_minor": 1
}
