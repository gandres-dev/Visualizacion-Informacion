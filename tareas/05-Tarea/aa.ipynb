{
 "cells": [
  {
   "cell_type": "code",
   "execution_count": 389,
   "id": "2e526a79-4929-442b-aada-cda10c42fbf3",
   "metadata": {},
   "outputs": [],
   "source": [
    "import numpy as np\n",
    "import pandas as pd\n",
    "import matplotlib.pyplot as plt\n",
    "import seaborn as sns"
   ]
  },
  {
   "cell_type": "markdown",
   "id": "8f77a204-ee4b-4083-8b94-5bbdb1b45668",
   "metadata": {},
   "source": [
    "# Visualización de la Información - Tarea 5\n",
    "**Andrés Urbano Guillermo Gerardo**\n",
    "\n",
    "El hundimiento del Titanic es uno de los naufragios más infames de la historia. Esta es la descripción de las variables de nuestro conjunto de datos.\n",
    "\n",
    "|Caracteristica| Descripcion|\n",
    "|---|---|\n",
    "pclass|Clase del pasajero|\n",
    "|survived|Indica si sobrevivio (0 = No; 1 = Sí)|\n",
    "|name|Nombre|\n",
    "|sex|Una variable categorica de hombre y mujer|\n",
    "|age|edad en años|\n",
    "|sibsp|Número de hermanos/cónyuges a bordo|\n",
    "|parch|Número de padres/niños a bordo|\n",
    "|ticket|Numero de ticket|\n",
    "|fare|Tarifa de pasajero|\n",
    "|cabin|Cabina|\n",
    "|embarked|El lugar donde embarcaron (Cherbourg, Queenstowny Southampton)|\n",
    "|boat|Bote salvavidas|\n",
    "|body|Número de identificación del cuerpo|\n",
    "|home.dest|Inicio/Destino|"
   ]
  },
  {
   "cell_type": "code",
   "execution_count": 390,
   "id": "2e8c1920-3f10-49f5-a86d-7a1a8c26027e",
   "metadata": {},
   "outputs": [
    {
     "data": {
      "text/html": [
       "<div>\n",
       "<style scoped>\n",
       "    .dataframe tbody tr th:only-of-type {\n",
       "        vertical-align: middle;\n",
       "    }\n",
       "\n",
       "    .dataframe tbody tr th {\n",
       "        vertical-align: top;\n",
       "    }\n",
       "\n",
       "    .dataframe thead th {\n",
       "        text-align: right;\n",
       "    }\n",
       "</style>\n",
       "<table border=\"1\" class=\"dataframe\">\n",
       "  <thead>\n",
       "    <tr style=\"text-align: right;\">\n",
       "      <th></th>\n",
       "      <th>pclass</th>\n",
       "      <th>survived</th>\n",
       "      <th>name</th>\n",
       "      <th>sex</th>\n",
       "      <th>age</th>\n",
       "      <th>sibsp</th>\n",
       "      <th>parch</th>\n",
       "      <th>ticket</th>\n",
       "      <th>fare</th>\n",
       "      <th>cabin</th>\n",
       "      <th>embarked</th>\n",
       "      <th>boat</th>\n",
       "      <th>body</th>\n",
       "      <th>home.dest</th>\n",
       "    </tr>\n",
       "  </thead>\n",
       "  <tbody>\n",
       "    <tr>\n",
       "      <th>1304</th>\n",
       "      <td>3</td>\n",
       "      <td>0</td>\n",
       "      <td>Zabour, Miss. Hileni</td>\n",
       "      <td>female</td>\n",
       "      <td>14.5</td>\n",
       "      <td>1</td>\n",
       "      <td>0</td>\n",
       "      <td>2665</td>\n",
       "      <td>14.4542</td>\n",
       "      <td>NaN</td>\n",
       "      <td>C</td>\n",
       "      <td>NaN</td>\n",
       "      <td>328.0</td>\n",
       "      <td>NaN</td>\n",
       "    </tr>\n",
       "    <tr>\n",
       "      <th>1305</th>\n",
       "      <td>3</td>\n",
       "      <td>0</td>\n",
       "      <td>Zabour, Miss. Thamine</td>\n",
       "      <td>female</td>\n",
       "      <td>NaN</td>\n",
       "      <td>1</td>\n",
       "      <td>0</td>\n",
       "      <td>2665</td>\n",
       "      <td>14.4542</td>\n",
       "      <td>NaN</td>\n",
       "      <td>C</td>\n",
       "      <td>NaN</td>\n",
       "      <td>NaN</td>\n",
       "      <td>NaN</td>\n",
       "    </tr>\n",
       "    <tr>\n",
       "      <th>1306</th>\n",
       "      <td>3</td>\n",
       "      <td>0</td>\n",
       "      <td>Zakarian, Mr. Mapriededer</td>\n",
       "      <td>male</td>\n",
       "      <td>26.5</td>\n",
       "      <td>0</td>\n",
       "      <td>0</td>\n",
       "      <td>2656</td>\n",
       "      <td>7.2250</td>\n",
       "      <td>NaN</td>\n",
       "      <td>C</td>\n",
       "      <td>NaN</td>\n",
       "      <td>304.0</td>\n",
       "      <td>NaN</td>\n",
       "    </tr>\n",
       "    <tr>\n",
       "      <th>1307</th>\n",
       "      <td>3</td>\n",
       "      <td>0</td>\n",
       "      <td>Zakarian, Mr. Ortin</td>\n",
       "      <td>male</td>\n",
       "      <td>27.0</td>\n",
       "      <td>0</td>\n",
       "      <td>0</td>\n",
       "      <td>2670</td>\n",
       "      <td>7.2250</td>\n",
       "      <td>NaN</td>\n",
       "      <td>C</td>\n",
       "      <td>NaN</td>\n",
       "      <td>NaN</td>\n",
       "      <td>NaN</td>\n",
       "    </tr>\n",
       "    <tr>\n",
       "      <th>1308</th>\n",
       "      <td>3</td>\n",
       "      <td>0</td>\n",
       "      <td>Zimmerman, Mr. Leo</td>\n",
       "      <td>male</td>\n",
       "      <td>29.0</td>\n",
       "      <td>0</td>\n",
       "      <td>0</td>\n",
       "      <td>315082</td>\n",
       "      <td>7.8750</td>\n",
       "      <td>NaN</td>\n",
       "      <td>S</td>\n",
       "      <td>NaN</td>\n",
       "      <td>NaN</td>\n",
       "      <td>NaN</td>\n",
       "    </tr>\n",
       "  </tbody>\n",
       "</table>\n",
       "</div>"
      ],
      "text/plain": [
       "      pclass  survived                       name     sex   age  sibsp  parch  \\\n",
       "1304       3         0       Zabour, Miss. Hileni  female  14.5      1      0   \n",
       "1305       3         0      Zabour, Miss. Thamine  female   NaN      1      0   \n",
       "1306       3         0  Zakarian, Mr. Mapriededer    male  26.5      0      0   \n",
       "1307       3         0        Zakarian, Mr. Ortin    male  27.0      0      0   \n",
       "1308       3         0         Zimmerman, Mr. Leo    male  29.0      0      0   \n",
       "\n",
       "      ticket     fare cabin embarked boat   body home.dest  \n",
       "1304    2665  14.4542   NaN        C  NaN  328.0       NaN  \n",
       "1305    2665  14.4542   NaN        C  NaN    NaN       NaN  \n",
       "1306    2656   7.2250   NaN        C  NaN  304.0       NaN  \n",
       "1307    2670   7.2250   NaN        C  NaN    NaN       NaN  \n",
       "1308  315082   7.8750   NaN        S  NaN    NaN       NaN  "
      ]
     },
     "execution_count": 390,
     "metadata": {},
     "output_type": "execute_result"
    }
   ],
   "source": [
    "data = pd.read_csv('data/titanic3.csv')\n",
    "data.tail()"
   ]
  },
  {
   "cell_type": "markdown",
   "id": "872f2c8e-9553-41d7-850f-f2067d5fdf86",
   "metadata": {},
   "source": [
    "i) ¿Cuántos cuerpos fueron encontrados?\n",
    "\n",
    "Para conocer la cantidad de cuerpos encontrados dado nuestro conjunto datos debemos de filtrar la columna body."
   ]
  },
  {
   "cell_type": "code",
   "execution_count": 391,
   "id": "b9e4b37f-ba76-4271-a0aa-8b06134c656b",
   "metadata": {},
   "outputs": [
    {
     "name": "stdout",
     "output_type": "stream",
     "text": [
      "Cantidad de cuerpos encontrados: 121\n"
     ]
    }
   ],
   "source": [
    "body_found = data.body.dropna()\n",
    "print(f\"Cantidad de cuerpos encontrados: {len(body_found)}\")"
   ]
  },
  {
   "cell_type": "markdown",
   "id": "59598059-5985-47de-aafc-8b6e93af6f6c",
   "metadata": {},
   "source": [
    "Tambien podriamos conocer la cantidad de personas que sobrevieron y que en clase pertenecian:"
   ]
  },
  {
   "cell_type": "code",
   "execution_count": 392,
   "id": "d60c2b57-5327-4748-a74f-0058f1ef5e6f",
   "metadata": {},
   "outputs": [
    {
     "name": "stdout",
     "output_type": "stream",
     "text": [
      "Total de personas encontradas 500\n"
     ]
    }
   ],
   "source": [
    "survived_people = data[data.survived == 1]\n",
    "no_survived_people = data[data.survived == 0]\n",
    "print(f\"Total de personas encontradas {len(survived_people)}\")"
   ]
  },
  {
   "cell_type": "code",
   "execution_count": 393,
   "id": "b2c7c621-6be7-41b4-8892-a27b5d5d3655",
   "metadata": {},
   "outputs": [
    {
     "data": {
      "text/plain": [
       "<seaborn.axisgrid.FacetGrid at 0x7f5a8fe9f220>"
      ]
     },
     "execution_count": 393,
     "metadata": {},
     "output_type": "execute_result"
    },
    {
     "data": {
      "image/png": "[encoded data removed]",
      "text/plain": [
       "<Figure size 402.375x360 with 1 Axes>"
      ]
     },
     "metadata": {
      "needs_background": "light"
     },
     "output_type": "display_data"
    }
   ],
   "source": [
    "sns.catplot(data=data, kind=\"bar\", x=\"sex\", y=\"survived\", hue=\"pclass\")"
   ]
  },
  {
   "cell_type": "markdown",
   "id": "109ff84d-0ed5-49a5-9cb1-b94b64795e30",
   "metadata": {},
   "source": [
    "ii) ¿Cuántos de ellos fueron hombres\n",
    "mayores a cuarenta años?"
   ]
  },
  {
   "cell_type": "code",
   "execution_count": 394,
   "id": "5478d117-a461-4487-8917-fb697a816f5c",
   "metadata": {},
   "outputs": [
    {
     "data": {
      "text/plain": [
       "<seaborn.axisgrid.FacetGrid at 0x7f5a90a020b0>"
      ]
     },
     "execution_count": 394,
     "metadata": {},
     "output_type": "execute_result"
    },
    {
     "data": {
      "image/png": "[encoded data removed]",
      "text/plain": [
       "<Figure size 360x360 with 1 Axes>"
      ]
     },
     "metadata": {
      "needs_background": "light"
     },
     "output_type": "display_data"
    }
   ],
   "source": [
    "#  Filtramos por edad y sexo\n",
    "male_40 = data[(data.age > 40) & (data.sex == \"male\")]\n",
    "sns.displot(data=male_40, x=\"age\")"
   ]
  },
  {
   "cell_type": "markdown",
   "id": "5a328801-722e-499e-848d-8f592e648660",
   "metadata": {},
   "source": [
    " iii) ¿Cuantas mujeres desaparecieron entre las edades de 15 a 35\n",
    "años?\n",
    "Para deternmiar las mujeres que desaparecieron es encontrar la cantidad de personas que no sobrevivieron en el accidente:"
   ]
  },
  {
   "cell_type": "code",
   "execution_count": 395,
   "id": "6f4bba04-50b8-4fa8-8d7f-da6a187edcd3",
   "metadata": {},
   "outputs": [
    {
     "name": "stdout",
     "output_type": "stream",
     "text": [
      "Total de mujeres desaparecidas 55\n"
     ]
    }
   ],
   "source": [
    "missing_woman = data[(data.sex == \"female\") & (data.age >= 15) & (data.age <= 35) & (data.survived == 0)]\n",
    "print(f\"Total de mujeres desaparecidas {len(missing_woman)}\")"
   ]
  },
  {
   "cell_type": "code",
   "execution_count": 396,
   "id": "a7338a2c-af7b-436c-9ea1-e05e22cdbe50",
   "metadata": {},
   "outputs": [
    {
     "data": {
      "text/plain": [
       "<seaborn.axisgrid.FacetGrid at 0x7f5a90120c40>"
      ]
     },
     "execution_count": 396,
     "metadata": {},
     "output_type": "execute_result"
    },
    {
     "data": {
      "image/png": "[encoded data removed]",
      "text/plain": [
       "<Figure size 360x360 with 1 Axes>"
      ]
     },
     "metadata": {
      "needs_background": "light"
     },
     "output_type": "display_data"
    }
   ],
   "source": [
    "sns.catplot(x=\"pclass\", y=\"age\", data=missing_woman)"
   ]
  },
  {
   "cell_type": "markdown",
   "id": "32f33329-2755-45f4-96c1-e18caa9ba149",
   "metadata": {},
   "source": [
    "Por otra parte, tambien podemos conocer las mujeres que no encontraron sus cuerpos."
   ]
  },
  {
   "cell_type": "code",
   "execution_count": 397,
   "id": "85dc655c-9681-4dbb-9659-3190f6a34932",
   "metadata": {},
   "outputs": [
    {
     "name": "stdout",
     "output_type": "stream",
     "text": [
      "Mujeres que desaparecieron entre las edades de 15 a 35 años:  51\n"
     ]
    }
   ],
   "source": [
    "not_found_woman = missing_woman.body.fillna(\"Cuerpos no encontrados\")\n",
    "not_found_woman = not_found_woman[not_found_woman == \"Cuerpos no encontrados\"]\n",
    "print(f\"Mujeres que desaparecieron entre las edades de 15 a 35 años:  {len(not_found_woman)}\")"
   ]
  },
  {
   "cell_type": "markdown",
   "id": "4ae5a3e3-c782-4bbf-b08f-a35fbda9f6f3",
   "metadata": {},
   "source": [
    "iv) ¿Cuantos hombres mayores a 20 años sobrevivieron?"
   ]
  },
  {
   "cell_type": "code",
   "execution_count": 398,
   "id": "9f24f787-d251-4cec-8c81-08102b237371",
   "metadata": {},
   "outputs": [
    {
     "name": "stdout",
     "output_type": "stream",
     "text": [
      "Total de hombres mayores de 20 que sobrevivieron: 313\n"
     ]
    }
   ],
   "source": [
    "men_20 = data[(data.age > 20) & (data.survived == 1)]\n",
    "print(f\"Total de hombres mayores de 20 que sobrevivieron: {len(men_20)}\")"
   ]
  },
  {
   "cell_type": "code",
   "execution_count": 399,
   "id": "0574fce9-4268-4d6c-a7ab-cb93dcdf6c3f",
   "metadata": {},
   "outputs": [
    {
     "data": {
      "text/plain": [
       "<seaborn.axisgrid.FacetGrid at 0x7f5a90cbe530>"
      ]
     },
     "execution_count": 399,
     "metadata": {},
     "output_type": "execute_result"
    },
    {
     "data": {
      "image/png": "[encoded data removed]",
      "text/plain": [
       "<Figure size 360x360 with 1 Axes>"
      ]
     },
     "metadata": {
      "needs_background": "light"
     },
     "output_type": "display_data"
    }
   ],
   "source": [
    "sns.displot(men_20, x=\"age\", y=\"pclass\")"
   ]
  },
  {
   "cell_type": "markdown",
   "id": "66e7c761-f6e0-4cd2-b981-3c7683c6242e",
   "metadata": {},
   "source": [
    "v) ¿Cuantas mujeres\n",
    "menores a 25 años sobrevivieron?."
   ]
  },
  {
   "cell_type": "code",
   "execution_count": 400,
   "id": "31295e7b-580a-4eb1-9ebd-1626a4a2c2d9",
   "metadata": {},
   "outputs": [
    {
     "name": "stdout",
     "output_type": "stream",
     "text": [
      "Total de mujeres mayores de 25 que sobrevivieron: 313\n"
     ]
    }
   ],
   "source": [
    "woman_25 = data[(data.age > 25) & (data.survived == 1)]\n",
    "print(f\"Total de mujeres mayores de 25 que sobrevivieron: {len(men_20)}\")"
   ]
  },
  {
   "cell_type": "code",
   "execution_count": 401,
   "id": "1ed615e6-6c5f-4295-832e-f6a8cef1c8c6",
   "metadata": {},
   "outputs": [
    {
     "data": {
      "text/plain": [
       "<seaborn.axisgrid.FacetGrid at 0x7f5a8ff1c880>"
      ]
     },
     "execution_count": 401,
     "metadata": {},
     "output_type": "execute_result"
    },
    {
     "data": {
      "image/png": "[encoded data removed]",
      "text/plain": [
       "<Figure size 360x360 with 1 Axes>"
      ]
     },
     "metadata": {
      "needs_background": "light"
     },
     "output_type": "display_data"
    }
   ],
   "source": [
    "sns.displot(woman_25, x=\"age\")"
   ]
  },
  {
   "cell_type": "markdown",
   "id": "ff2a098d-ca26-4a1c-9d53-0be9145cc311",
   "metadata": {},
   "source": [
    "Además, Genere una copia del conjunto de datos y rellene los datos faltantes (NA's) con\n",
    "un valor de 0 en el caso de datos numéricos usados como identificador la palabra\n",
    "“desconocido\" en el caso de datos tipo cadena de caracteres y en el caso de variables\n",
    "numéricas use el promedio de los valores de esa columna (p.ej., la edad y la tarifa)"
   ]
  },
  {
   "cell_type": "code",
   "execution_count": 402,
   "id": "7fe96f39-d198-47d3-b5bf-eb4f8a435e9e",
   "metadata": {},
   "outputs": [
    {
     "name": "stdout",
     "output_type": "stream",
     "text": [
      "pclass          0\n",
      "survived        0\n",
      "name            0\n",
      "sex             0\n",
      "age           263\n",
      "sibsp           0\n",
      "parch           0\n",
      "ticket          0\n",
      "fare            1\n",
      "cabin        1014\n",
      "embarked        2\n",
      "boat          823\n",
      "body         1188\n",
      "home.dest     564\n",
      "dtype: int64\n"
     ]
    }
   ],
   "source": [
    "# Generamos  una copia del conjunto de datos originales\n",
    "data_cp = data.copy()\n",
    "# Ver el número de elementos faltantes\n",
    "print(data_cp.isnull().sum())"
   ]
  },
  {
   "cell_type": "code",
   "execution_count": 403,
   "id": "be9e9bc4-c923-4f46-8e33-317a1105d9b8",
   "metadata": {},
   "outputs": [],
   "source": [
    "def fill_NA(data, columns_names, values):\n",
    "    \"\"\"Rellena los NA del dataframe original\"\"\"\n",
    "    for column_name, value in zip(columns_names, values):\n",
    "        # Por paso de referencia actualizaremos el dataframe\n",
    "        data[column_name] = data[column_name].fillna(value)"
   ]
  },
  {
   "cell_type": "code",
   "execution_count": 404,
   "id": "c6f02ebe-0673-49f6-8d99-635246e22a22",
   "metadata": {},
   "outputs": [],
   "source": [
    "# Para variables numericas 0\n",
    "columns_names = [\"body\", \"boat\"]\n",
    "fill_NA(data_cp, colums_names, [0,0])\n",
    "data_cp[columns_names].head(5)\n",
    "# “desconocido\" en el caso de datos tipo cadena de caracteres\n",
    "columns_names = ['home.dest', 'embarked', 'cabin']\n",
    "fill_NA(data_cp, columns_names, [\"desconocido\"]*3)\n",
    "# promedio de los valores para age y fare\n",
    "columns_names = ['age', 'fare']\n",
    "age_mean = data.age.mean()\n",
    "fare_mean = data.fare.mean()\n",
    "fill_NA(data_cp, columns_names, [age_mean, fare_mean])"
   ]
  },
  {
   "cell_type": "code",
   "execution_count": 405,
   "id": "1a50c689-786f-425e-a3c2-76c41295ec02",
   "metadata": {},
   "outputs": [
    {
     "name": "stdout",
     "output_type": "stream",
     "text": [
      "pclass       0\n",
      "survived     0\n",
      "name         0\n",
      "sex          0\n",
      "age          0\n",
      "sibsp        0\n",
      "parch        0\n",
      "ticket       0\n",
      "fare         0\n",
      "cabin        0\n",
      "embarked     0\n",
      "boat         0\n",
      "body         0\n",
      "home.dest    0\n",
      "dtype: int64\n"
     ]
    }
   ],
   "source": [
    "# Vemos nuevamente el número de elementos faltantes\n",
    "print(data_cp.isnull().sum())"
   ]
  },
  {
   "cell_type": "code",
   "execution_count": 406,
   "id": "1c08212a-2d35-4f09-a19c-67757c10fc40",
   "metadata": {},
   "outputs": [
    {
     "data": {
      "text/html": [
       "<div>\n",
       "<style scoped>\n",
       "    .dataframe tbody tr th:only-of-type {\n",
       "        vertical-align: middle;\n",
       "    }\n",
       "\n",
       "    .dataframe tbody tr th {\n",
       "        vertical-align: top;\n",
       "    }\n",
       "\n",
       "    .dataframe thead th {\n",
       "        text-align: right;\n",
       "    }\n",
       "</style>\n",
       "<table border=\"1\" class=\"dataframe\">\n",
       "  <thead>\n",
       "    <tr style=\"text-align: right;\">\n",
       "      <th></th>\n",
       "      <th>pclass</th>\n",
       "      <th>survived</th>\n",
       "      <th>name</th>\n",
       "      <th>sex</th>\n",
       "      <th>age</th>\n",
       "      <th>sibsp</th>\n",
       "      <th>parch</th>\n",
       "      <th>ticket</th>\n",
       "      <th>fare</th>\n",
       "      <th>cabin</th>\n",
       "      <th>embarked</th>\n",
       "      <th>boat</th>\n",
       "      <th>body</th>\n",
       "      <th>home.dest</th>\n",
       "    </tr>\n",
       "  </thead>\n",
       "  <tbody>\n",
       "    <tr>\n",
       "      <th>1304</th>\n",
       "      <td>3</td>\n",
       "      <td>0</td>\n",
       "      <td>Zabour, Miss. Hileni</td>\n",
       "      <td>female</td>\n",
       "      <td>14.500000</td>\n",
       "      <td>1</td>\n",
       "      <td>0</td>\n",
       "      <td>2665</td>\n",
       "      <td>14.4542</td>\n",
       "      <td>desconocido</td>\n",
       "      <td>C</td>\n",
       "      <td>0</td>\n",
       "      <td>328.0</td>\n",
       "      <td>desconocido</td>\n",
       "    </tr>\n",
       "    <tr>\n",
       "      <th>1305</th>\n",
       "      <td>3</td>\n",
       "      <td>0</td>\n",
       "      <td>Zabour, Miss. Thamine</td>\n",
       "      <td>female</td>\n",
       "      <td>29.881135</td>\n",
       "      <td>1</td>\n",
       "      <td>0</td>\n",
       "      <td>2665</td>\n",
       "      <td>14.4542</td>\n",
       "      <td>desconocido</td>\n",
       "      <td>C</td>\n",
       "      <td>0</td>\n",
       "      <td>0.0</td>\n",
       "      <td>desconocido</td>\n",
       "    </tr>\n",
       "    <tr>\n",
       "      <th>1306</th>\n",
       "      <td>3</td>\n",
       "      <td>0</td>\n",
       "      <td>Zakarian, Mr. Mapriededer</td>\n",
       "      <td>male</td>\n",
       "      <td>26.500000</td>\n",
       "      <td>0</td>\n",
       "      <td>0</td>\n",
       "      <td>2656</td>\n",
       "      <td>7.2250</td>\n",
       "      <td>desconocido</td>\n",
       "      <td>C</td>\n",
       "      <td>0</td>\n",
       "      <td>304.0</td>\n",
       "      <td>desconocido</td>\n",
       "    </tr>\n",
       "    <tr>\n",
       "      <th>1307</th>\n",
       "      <td>3</td>\n",
       "      <td>0</td>\n",
       "      <td>Zakarian, Mr. Ortin</td>\n",
       "      <td>male</td>\n",
       "      <td>27.000000</td>\n",
       "      <td>0</td>\n",
       "      <td>0</td>\n",
       "      <td>2670</td>\n",
       "      <td>7.2250</td>\n",
       "      <td>desconocido</td>\n",
       "      <td>C</td>\n",
       "      <td>0</td>\n",
       "      <td>0.0</td>\n",
       "      <td>desconocido</td>\n",
       "    </tr>\n",
       "    <tr>\n",
       "      <th>1308</th>\n",
       "      <td>3</td>\n",
       "      <td>0</td>\n",
       "      <td>Zimmerman, Mr. Leo</td>\n",
       "      <td>male</td>\n",
       "      <td>29.000000</td>\n",
       "      <td>0</td>\n",
       "      <td>0</td>\n",
       "      <td>315082</td>\n",
       "      <td>7.8750</td>\n",
       "      <td>desconocido</td>\n",
       "      <td>S</td>\n",
       "      <td>0</td>\n",
       "      <td>0.0</td>\n",
       "      <td>desconocido</td>\n",
       "    </tr>\n",
       "  </tbody>\n",
       "</table>\n",
       "</div>"
      ],
      "text/plain": [
       "      pclass  survived                       name     sex        age  sibsp  \\\n",
       "1304       3         0       Zabour, Miss. Hileni  female  14.500000      1   \n",
       "1305       3         0      Zabour, Miss. Thamine  female  29.881135      1   \n",
       "1306       3         0  Zakarian, Mr. Mapriededer    male  26.500000      0   \n",
       "1307       3         0        Zakarian, Mr. Ortin    male  27.000000      0   \n",
       "1308       3         0         Zimmerman, Mr. Leo    male  29.000000      0   \n",
       "\n",
       "      parch  ticket     fare        cabin embarked boat   body    home.dest  \n",
       "1304      0    2665  14.4542  desconocido        C    0  328.0  desconocido  \n",
       "1305      0    2665  14.4542  desconocido        C    0    0.0  desconocido  \n",
       "1306      0    2656   7.2250  desconocido        C    0  304.0  desconocido  \n",
       "1307      0    2670   7.2250  desconocido        C    0    0.0  desconocido  \n",
       "1308      0  315082   7.8750  desconocido        S    0    0.0  desconocido  "
      ]
     },
     "execution_count": 406,
     "metadata": {},
     "output_type": "execute_result"
    }
   ],
   "source": [
    "data_cp.tail()"
   ]
  },
  {
   "cell_type": "markdown",
   "id": "cc983e7c-1288-4316-86d8-1ae0542edbfd",
   "metadata": {},
   "source": [
    "## Normalización y Estandarización"
   ]
  },
  {
   "cell_type": "markdown",
   "id": "01b0fdce-29e5-4418-8f1f-f0dac3c48df0",
   "metadata": {},
   "source": [
    "Finalmente, de los campos “age” y “fare” agregue columnas al conjunto de datos qué\n",
    "contengan los valores normalizados."
   ]
  },
  {
   "cell_type": "code",
   "execution_count": 407,
   "id": "a704e99e-7294-41a3-8a90-ca41f23993f0",
   "metadata": {},
   "outputs": [
    {
     "data": {
      "text/html": [
       "<div>\n",
       "<style scoped>\n",
       "    .dataframe tbody tr th:only-of-type {\n",
       "        vertical-align: middle;\n",
       "    }\n",
       "\n",
       "    .dataframe tbody tr th {\n",
       "        vertical-align: top;\n",
       "    }\n",
       "\n",
       "    .dataframe thead th {\n",
       "        text-align: right;\n",
       "    }\n",
       "</style>\n",
       "<table border=\"1\" class=\"dataframe\">\n",
       "  <thead>\n",
       "    <tr style=\"text-align: right;\">\n",
       "      <th></th>\n",
       "      <th>pclass</th>\n",
       "      <th>survived</th>\n",
       "      <th>name</th>\n",
       "      <th>sex</th>\n",
       "      <th>age</th>\n",
       "      <th>sibsp</th>\n",
       "      <th>parch</th>\n",
       "      <th>ticket</th>\n",
       "      <th>fare</th>\n",
       "      <th>cabin</th>\n",
       "      <th>embarked</th>\n",
       "      <th>boat</th>\n",
       "      <th>body</th>\n",
       "      <th>home.dest</th>\n",
       "      <th>age_norm</th>\n",
       "      <th>fare_norm2</th>\n",
       "    </tr>\n",
       "  </thead>\n",
       "  <tbody>\n",
       "    <tr>\n",
       "      <th>1304</th>\n",
       "      <td>3</td>\n",
       "      <td>0</td>\n",
       "      <td>Zabour, Miss. Hileni</td>\n",
       "      <td>female</td>\n",
       "      <td>14.500000</td>\n",
       "      <td>1</td>\n",
       "      <td>0</td>\n",
       "      <td>2665</td>\n",
       "      <td>14.4542</td>\n",
       "      <td>desconocido</td>\n",
       "      <td>C</td>\n",
       "      <td>0</td>\n",
       "      <td>328.0</td>\n",
       "      <td>desconocido</td>\n",
       "      <td>-1.067134</td>\n",
       "      <td>0.028213</td>\n",
       "    </tr>\n",
       "    <tr>\n",
       "      <th>1305</th>\n",
       "      <td>3</td>\n",
       "      <td>0</td>\n",
       "      <td>Zabour, Miss. Thamine</td>\n",
       "      <td>female</td>\n",
       "      <td>29.881135</td>\n",
       "      <td>1</td>\n",
       "      <td>0</td>\n",
       "      <td>2665</td>\n",
       "      <td>14.4542</td>\n",
       "      <td>desconocido</td>\n",
       "      <td>C</td>\n",
       "      <td>0</td>\n",
       "      <td>0.0</td>\n",
       "      <td>desconocido</td>\n",
       "      <td>0.000000</td>\n",
       "      <td>0.028213</td>\n",
       "    </tr>\n",
       "    <tr>\n",
       "      <th>1306</th>\n",
       "      <td>3</td>\n",
       "      <td>0</td>\n",
       "      <td>Zakarian, Mr. Mapriededer</td>\n",
       "      <td>male</td>\n",
       "      <td>26.500000</td>\n",
       "      <td>0</td>\n",
       "      <td>0</td>\n",
       "      <td>2656</td>\n",
       "      <td>7.2250</td>\n",
       "      <td>desconocido</td>\n",
       "      <td>C</td>\n",
       "      <td>0</td>\n",
       "      <td>304.0</td>\n",
       "      <td>desconocido</td>\n",
       "      <td>-0.234581</td>\n",
       "      <td>0.014102</td>\n",
       "    </tr>\n",
       "    <tr>\n",
       "      <th>1307</th>\n",
       "      <td>3</td>\n",
       "      <td>0</td>\n",
       "      <td>Zakarian, Mr. Ortin</td>\n",
       "      <td>male</td>\n",
       "      <td>27.000000</td>\n",
       "      <td>0</td>\n",
       "      <td>0</td>\n",
       "      <td>2670</td>\n",
       "      <td>7.2250</td>\n",
       "      <td>desconocido</td>\n",
       "      <td>C</td>\n",
       "      <td>0</td>\n",
       "      <td>0.0</td>\n",
       "      <td>desconocido</td>\n",
       "      <td>-0.199891</td>\n",
       "      <td>0.014102</td>\n",
       "    </tr>\n",
       "    <tr>\n",
       "      <th>1308</th>\n",
       "      <td>3</td>\n",
       "      <td>0</td>\n",
       "      <td>Zimmerman, Mr. Leo</td>\n",
       "      <td>male</td>\n",
       "      <td>29.000000</td>\n",
       "      <td>0</td>\n",
       "      <td>0</td>\n",
       "      <td>315082</td>\n",
       "      <td>7.8750</td>\n",
       "      <td>desconocido</td>\n",
       "      <td>S</td>\n",
       "      <td>0</td>\n",
       "      <td>0.0</td>\n",
       "      <td>desconocido</td>\n",
       "      <td>-0.061133</td>\n",
       "      <td>0.015371</td>\n",
       "    </tr>\n",
       "  </tbody>\n",
       "</table>\n",
       "</div>"
      ],
      "text/plain": [
       "      pclass  survived                       name     sex        age  sibsp  \\\n",
       "1304       3         0       Zabour, Miss. Hileni  female  14.500000      1   \n",
       "1305       3         0      Zabour, Miss. Thamine  female  29.881135      1   \n",
       "1306       3         0  Zakarian, Mr. Mapriededer    male  26.500000      0   \n",
       "1307       3         0        Zakarian, Mr. Ortin    male  27.000000      0   \n",
       "1308       3         0         Zimmerman, Mr. Leo    male  29.000000      0   \n",
       "\n",
       "      parch  ticket     fare        cabin embarked boat   body    home.dest  \\\n",
       "1304      0    2665  14.4542  desconocido        C    0  328.0  desconocido   \n",
       "1305      0    2665  14.4542  desconocido        C    0    0.0  desconocido   \n",
       "1306      0    2656   7.2250  desconocido        C    0  304.0  desconocido   \n",
       "1307      0    2670   7.2250  desconocido        C    0    0.0  desconocido   \n",
       "1308      0  315082   7.8750  desconocido        S    0    0.0  desconocido   \n",
       "\n",
       "      age_norm  fare_norm2  \n",
       "1304 -1.067134    0.028213  \n",
       "1305  0.000000    0.028213  \n",
       "1306 -0.234581    0.014102  \n",
       "1307 -0.199891    0.014102  \n",
       "1308 -0.061133    0.015371  "
      ]
     },
     "execution_count": 407,
     "metadata": {},
     "output_type": "execute_result"
    }
   ],
   "source": [
    "data_cp['age_norm'] = (data_cp['age'] - data.age.mean() ) / (data.age.std())\n",
    "\n",
    "data_cp['fare_norm2'] = (data_cp['fare'] - np.min(data.fare)) / (np.max(data.fare) - np.min(data.fare))\n",
    "\n",
    "data_cp.tail(5)"
   ]
  },
  {
   "cell_type": "markdown",
   "id": "968b3ace-1a3a-4d9b-8543-9cae817636e7",
   "metadata": {},
   "source": [
    "b) Utilizando el archivo “movies.csv” construya una o varias funciones qué\n",
    "permitan calcular una matriz de distancias para los datos numéricos en el dataFrame. La\n",
    "función debe permitir construir la matriz de distancia usando las distancias de Manhattan,\n",
    "Euclideana y de Minkowski (para p igual a 3)."
   ]
  },
  {
   "cell_type": "code",
   "execution_count": 408,
   "id": "d55458c8-42dc-44e3-907a-6245b02e0238",
   "metadata": {},
   "outputs": [],
   "source": [
    "import plotly as py\n",
    "import sympy as sp\n",
    "import plotly.graph_objs as go\n",
    "from plotly.offline import init_notebook_mode, iplot\n",
    "from scipy.spatial import distance_matrix"
   ]
  },
  {
   "cell_type": "code",
   "execution_count": 409,
   "id": "f4be0fed-6a0b-4c75-81c9-2124ab7e6e4a",
   "metadata": {},
   "outputs": [
    {
     "data": {
      "text/html": [
       "<div>\n",
       "<style scoped>\n",
       "    .dataframe tbody tr th:only-of-type {\n",
       "        vertical-align: middle;\n",
       "    }\n",
       "\n",
       "    .dataframe tbody tr th {\n",
       "        vertical-align: top;\n",
       "    }\n",
       "\n",
       "    .dataframe thead th {\n",
       "        text-align: right;\n",
       "    }\n",
       "</style>\n",
       "<table border=\"1\" class=\"dataframe\">\n",
       "  <thead>\n",
       "    <tr style=\"text-align: right;\">\n",
       "      <th></th>\n",
       "      <th>user_id</th>\n",
       "      <th>star_wars</th>\n",
       "      <th>lord_of_the_rings</th>\n",
       "      <th>harry_potter</th>\n",
       "    </tr>\n",
       "  </thead>\n",
       "  <tbody>\n",
       "    <tr>\n",
       "      <th>0</th>\n",
       "      <td>1</td>\n",
       "      <td>1.2</td>\n",
       "      <td>4.9</td>\n",
       "      <td>2.1</td>\n",
       "    </tr>\n",
       "    <tr>\n",
       "      <th>1</th>\n",
       "      <td>2</td>\n",
       "      <td>2.1</td>\n",
       "      <td>8.1</td>\n",
       "      <td>7.9</td>\n",
       "    </tr>\n",
       "    <tr>\n",
       "      <th>2</th>\n",
       "      <td>3</td>\n",
       "      <td>7.4</td>\n",
       "      <td>3.0</td>\n",
       "      <td>9.9</td>\n",
       "    </tr>\n",
       "    <tr>\n",
       "      <th>3</th>\n",
       "      <td>4</td>\n",
       "      <td>5.6</td>\n",
       "      <td>0.5</td>\n",
       "      <td>1.8</td>\n",
       "    </tr>\n",
       "    <tr>\n",
       "      <th>4</th>\n",
       "      <td>5</td>\n",
       "      <td>1.5</td>\n",
       "      <td>8.3</td>\n",
       "      <td>2.6</td>\n",
       "    </tr>\n",
       "    <tr>\n",
       "      <th>5</th>\n",
       "      <td>6</td>\n",
       "      <td>2.5</td>\n",
       "      <td>3.7</td>\n",
       "      <td>6.5</td>\n",
       "    </tr>\n",
       "    <tr>\n",
       "      <th>6</th>\n",
       "      <td>7</td>\n",
       "      <td>2.0</td>\n",
       "      <td>8.2</td>\n",
       "      <td>8.5</td>\n",
       "    </tr>\n",
       "    <tr>\n",
       "      <th>7</th>\n",
       "      <td>8</td>\n",
       "      <td>1.8</td>\n",
       "      <td>9.3</td>\n",
       "      <td>4.5</td>\n",
       "    </tr>\n",
       "    <tr>\n",
       "      <th>8</th>\n",
       "      <td>9</td>\n",
       "      <td>2.6</td>\n",
       "      <td>1.7</td>\n",
       "      <td>3.1</td>\n",
       "    </tr>\n",
       "    <tr>\n",
       "      <th>9</th>\n",
       "      <td>10</td>\n",
       "      <td>1.5</td>\n",
       "      <td>4.7</td>\n",
       "      <td>2.3</td>\n",
       "    </tr>\n",
       "  </tbody>\n",
       "</table>\n",
       "</div>"
      ],
      "text/plain": [
       "   user_id  star_wars  lord_of_the_rings  harry_potter\n",
       "0        1        1.2                4.9           2.1\n",
       "1        2        2.1                8.1           7.9\n",
       "2        3        7.4                3.0           9.9\n",
       "3        4        5.6                0.5           1.8\n",
       "4        5        1.5                8.3           2.6\n",
       "5        6        2.5                3.7           6.5\n",
       "6        7        2.0                8.2           8.5\n",
       "7        8        1.8                9.3           4.5\n",
       "8        9        2.6                1.7           3.1\n",
       "9       10        1.5                4.7           2.3"
      ]
     },
     "execution_count": 409,
     "metadata": {},
     "output_type": "execute_result"
    }
   ],
   "source": [
    "movies_df = pd.read_csv(\"data/movies.csv\", sep=\";\")\n",
    "movies_df"
   ]
  },
  {
   "cell_type": "code",
   "execution_count": 410,
   "id": "9b94f426-f77b-490c-ac4f-9e332f13ddcb",
   "metadata": {},
   "outputs": [
    {
     "data": {
      "application/vnd.plotly.v1+json": {
       "config": {
        "linkText": "Export to plot.ly",
        "plotlyServerURL": "https://plot.ly",
        "showLink": false
       },
       "data": [
        {
         "marker": {
          "color": "rgba(255,102, 255,0.8)",
          "size": 5
         },
         "mode": "markers",
         "name": "Movies",
         "opacity": 0.7,
         "type": "scatter3d",
         "x": [
          1.2,
          2.1,
          7.4,
          5.6,
          1.5,
          2.5,
          2,
          1.8,
          2.6,
          1.5
         ],
         "y": [
          4.9,
          8.1,
          3,
          0.5,
          8.3,
          3.7,
          8.2,
          9.3,
          1.7,
          4.7
         ],
         "z": [
          2.1,
          7.9,
          9.9,
          1.8,
          2.6,
          6.5,
          8.5,
          4.5,
          3.1,
          2.3
         ]
        }
       ],
       "layout": {
        "autosize": true,
        "scene": {
         "aspectmode": "auto",
         "aspectratio": {
          "x": 0.8139640599470962,
          "y": 1.1553038270216849,
          "z": 1.0634046589631418
         }
        },
        "template": {
         "data": {
          "bar": [
           {
            "error_x": {
             "color": "#2a3f5f"
            },
            "error_y": {
             "color": "#2a3f5f"
            },
            "marker": {
             "line": {
              "color": "#E5ECF6",
              "width": 0.5
             },
             "pattern": {
              "fillmode": "overlay",
              "size": 10,
              "solidity": 0.2
             }
            },
            "type": "bar"
           }
          ],
          "barpolar": [
           {
            "marker": {
             "line": {
              "color": "#E5ECF6",
              "width": 0.5
             },
             "pattern": {
              "fillmode": "overlay",
              "size": 10,
              "solidity": 0.2
             }
            },
            "type": "barpolar"
           }
          ],
          "carpet": [
           {
            "aaxis": {
             "endlinecolor": "#2a3f5f",
             "gridcolor": "white",
             "linecolor": "white",
             "minorgridcolor": "white",
             "startlinecolor": "#2a3f5f"
            },
            "baxis": {
             "endlinecolor": "#2a3f5f",
             "gridcolor": "white",
             "linecolor": "white",
             "minorgridcolor": "white",
             "startlinecolor": "#2a3f5f"
            },
            "type": "carpet"
           }
          ],
          "choropleth": [
           {
            "colorbar": {
             "outlinewidth": 0,
             "ticks": ""
            },
            "type": "choropleth"
           }
          ],
          "contour": [
           {
            "colorbar": {
             "outlinewidth": 0,
             "ticks": ""
            },
            "colorscale": [
             [
              0,
              "#0d0887"
             ],
             [
              0.1111111111111111,
              "#46039f"
             ],
             [
              0.2222222222222222,
              "#7201a8"
             ],
             [
              0.3333333333333333,
              "#9c179e"
             ],
             [
              0.4444444444444444,
              "#bd3786"
             ],
             [
              0.5555555555555556,
              "#d8576b"
             ],
             [
              0.6666666666666666,
              "#ed7953"
             ],
             [
              0.7777777777777778,
              "#fb9f3a"
             ],
             [
              0.8888888888888888,
              "#fdca26"
             ],
             [
              1,
              "#f0f921"
             ]
            ],
            "type": "contour"
           }
          ],
          "contourcarpet": [
           {
            "colorbar": {
             "outlinewidth": 0,
             "ticks": ""
            },
            "type": "contourcarpet"
           }
          ],
          "heatmap": [
           {
            "colorbar": {
             "outlinewidth": 0,
             "ticks": ""
            },
            "colorscale": [
             [
              0,
              "#0d0887"
             ],
             [
              0.1111111111111111,
              "#46039f"
             ],
             [
              0.2222222222222222,
              "#7201a8"
             ],
             [
              0.3333333333333333,
              "#9c179e"
             ],
             [
              0.4444444444444444,
              "#bd3786"
             ],
             [
              0.5555555555555556,
              "#d8576b"
             ],
             [
              0.6666666666666666,
              "#ed7953"
             ],
             [
              0.7777777777777778,
              "#fb9f3a"
             ],
             [
              0.8888888888888888,
              "#fdca26"
             ],
             [
              1,
              "#f0f921"
             ]
            ],
            "type": "heatmap"
           }
          ],
          "heatmapgl": [
           {
            "colorbar": {
             "outlinewidth": 0,
             "ticks": ""
            },
            "colorscale": [
             [
              0,
              "#0d0887"
             ],
             [
              0.1111111111111111,
              "#46039f"
             ],
             [
              0.2222222222222222,
              "#7201a8"
             ],
             [
              0.3333333333333333,
              "#9c179e"
             ],
             [
              0.4444444444444444,
              "#bd3786"
             ],
             [
              0.5555555555555556,
              "#d8576b"
             ],
             [
              0.6666666666666666,
              "#ed7953"
             ],
             [
              0.7777777777777778,
              "#fb9f3a"
             ],
             [
              0.8888888888888888,
              "#fdca26"
             ],
             [
              1,
              "#f0f921"
             ]
            ],
            "type": "heatmapgl"
           }
          ],
          "histogram": [
           {
            "marker": {
             "pattern": {
              "fillmode": "overlay",
              "size": 10,
              "solidity": 0.2
             }
            },
            "type": "histogram"
           }
          ],
          "histogram2d": [
           {
            "colorbar": {
             "outlinewidth": 0,
             "ticks": ""
            },
            "colorscale": [
             [
              0,
              "#0d0887"
             ],
             [
              0.1111111111111111,
              "#46039f"
             ],
             [
              0.2222222222222222,
              "#7201a8"
             ],
             [
              0.3333333333333333,
              "#9c179e"
             ],
             [
              0.4444444444444444,
              "#bd3786"
             ],
             [
              0.5555555555555556,
              "#d8576b"
             ],
             [
              0.6666666666666666,
              "#ed7953"
             ],
             [
              0.7777777777777778,
              "#fb9f3a"
             ],
             [
              0.8888888888888888,
              "#fdca26"
             ],
             [
              1,
              "#f0f921"
             ]
            ],
            "type": "histogram2d"
           }
          ],
          "histogram2dcontour": [
           {
            "colorbar": {
             "outlinewidth": 0,
             "ticks": ""
            },
            "colorscale": [
             [
              0,
              "#0d0887"
             ],
             [
              0.1111111111111111,
              "#46039f"
             ],
             [
              0.2222222222222222,
              "#7201a8"
             ],
             [
              0.3333333333333333,
              "#9c179e"
             ],
             [
              0.4444444444444444,
              "#bd3786"
             ],
             [
              0.5555555555555556,
              "#d8576b"
             ],
             [
              0.6666666666666666,
              "#ed7953"
             ],
             [
              0.7777777777777778,
              "#fb9f3a"
             ],
             [
              0.8888888888888888,
              "#fdca26"
             ],
             [
              1,
              "#f0f921"
             ]
            ],
            "type": "histogram2dcontour"
           }
          ],
          "mesh3d": [
           {
            "colorbar": {
             "outlinewidth": 0,
             "ticks": ""
            },
            "type": "mesh3d"
           }
          ],
          "parcoords": [
           {
            "line": {
             "colorbar": {
              "outlinewidth": 0,
              "ticks": ""
             }
            },
            "type": "parcoords"
           }
          ],
          "pie": [
           {
            "automargin": true,
            "type": "pie"
           }
          ],
          "scatter": [
           {
            "marker": {
             "colorbar": {
              "outlinewidth": 0,
              "ticks": ""
             }
            },
            "type": "scatter"
           }
          ],
          "scatter3d": [
           {
            "line": {
             "colorbar": {
              "outlinewidth": 0,
              "ticks": ""
             }
            },
            "marker": {
             "colorbar": {
              "outlinewidth": 0,
              "ticks": ""
             }
            },
            "type": "scatter3d"
           }
          ],
          "scattercarpet": [
           {
            "marker": {
             "colorbar": {
              "outlinewidth": 0,
              "ticks": ""
             }
            },
            "type": "scattercarpet"
           }
          ],
          "scattergeo": [
           {
            "marker": {
             "colorbar": {
              "outlinewidth": 0,
              "ticks": ""
             }
            },
            "type": "scattergeo"
           }
          ],
          "scattergl": [
           {
            "marker": {
             "colorbar": {
              "outlinewidth": 0,
              "ticks": ""
             }
            },
            "type": "scattergl"
           }
          ],
          "scattermapbox": [
           {
            "marker": {
             "colorbar": {
              "outlinewidth": 0,
              "ticks": ""
             }
            },
            "type": "scattermapbox"
           }
          ],
          "scatterpolar": [
           {
            "marker": {
             "colorbar": {
              "outlinewidth": 0,
              "ticks": ""
             }
            },
            "type": "scatterpolar"
           }
          ],
          "scatterpolargl": [
           {
            "marker": {
             "colorbar": {
              "outlinewidth": 0,
              "ticks": ""
             }
            },
            "type": "scatterpolargl"
           }
          ],
          "scatterternary": [
           {
            "marker": {
             "colorbar": {
              "outlinewidth": 0,
              "ticks": ""
             }
            },
            "type": "scatterternary"
           }
          ],
          "surface": [
           {
            "colorbar": {
             "outlinewidth": 0,
             "ticks": ""
            },
            "colorscale": [
             [
              0,
              "#0d0887"
             ],
             [
              0.1111111111111111,
              "#46039f"
             ],
             [
              0.2222222222222222,
              "#7201a8"
             ],
             [
              0.3333333333333333,
              "#9c179e"
             ],
             [
              0.4444444444444444,
              "#bd3786"
             ],
             [
              0.5555555555555556,
              "#d8576b"
             ],
             [
              0.6666666666666666,
              "#ed7953"
             ],
             [
              0.7777777777777778,
              "#fb9f3a"
             ],
             [
              0.8888888888888888,
              "#fdca26"
             ],
             [
              1,
              "#f0f921"
             ]
            ],
            "type": "surface"
           }
          ],
          "table": [
           {
            "cells": {
             "fill": {
              "color": "#EBF0F8"
             },
             "line": {
              "color": "white"
             }
            },
            "header": {
             "fill": {
              "color": "#C8D4E3"
             },
             "line": {
              "color": "white"
             }
            },
            "type": "table"
           }
          ]
         },
         "layout": {
          "annotationdefaults": {
           "arrowcolor": "#2a3f5f",
           "arrowhead": 0,
           "arrowwidth": 1
          },
          "autotypenumbers": "strict",
          "coloraxis": {
           "colorbar": {
            "outlinewidth": 0,
            "ticks": ""
           }
          },
          "colorscale": {
           "diverging": [
            [
             0,
             "#8e0152"
            ],
            [
             0.1,
             "#c51b7d"
            ],
            [
             0.2,
             "#de77ae"
            ],
            [
             0.3,
             "#f1b6da"
            ],
            [
             0.4,
             "#fde0ef"
            ],
            [
             0.5,
             "#f7f7f7"
            ],
            [
             0.6,
             "#e6f5d0"
            ],
            [
             0.7,
             "#b8e186"
            ],
            [
             0.8,
             "#7fbc41"
            ],
            [
             0.9,
             "#4d9221"
            ],
            [
             1,
             "#276419"
            ]
           ],
           "sequential": [
            [
             0,
             "#0d0887"
            ],
            [
             0.1111111111111111,
             "#46039f"
            ],
            [
             0.2222222222222222,
             "#7201a8"
            ],
            [
             0.3333333333333333,
             "#9c179e"
            ],
            [
             0.4444444444444444,
             "#bd3786"
            ],
            [
             0.5555555555555556,
             "#d8576b"
            ],
            [
             0.6666666666666666,
             "#ed7953"
            ],
            [
             0.7777777777777778,
             "#fb9f3a"
            ],
            [
             0.8888888888888888,
             "#fdca26"
            ],
            [
             1,
             "#f0f921"
            ]
           ],
           "sequentialminus": [
            [
             0,
             "#0d0887"
            ],
            [
             0.1111111111111111,
             "#46039f"
            ],
            [
             0.2222222222222222,
             "#7201a8"
            ],
            [
             0.3333333333333333,
             "#9c179e"
            ],
            [
             0.4444444444444444,
             "#bd3786"
            ],
            [
             0.5555555555555556,
             "#d8576b"
            ],
            [
             0.6666666666666666,
             "#ed7953"
            ],
            [
             0.7777777777777778,
             "#fb9f3a"
            ],
            [
             0.8888888888888888,
             "#fdca26"
            ],
            [
             1,
             "#f0f921"
            ]
           ]
          },
          "colorway": [
           "#636efa",
           "#EF553B",
           "#00cc96",
           "#ab63fa",
           "#FFA15A",
           "#19d3f3",
           "#FF6692",
           "#B6E880",
           "#FF97FF",
           "#FECB52"
          ],
          "font": {
           "color": "#2a3f5f"
          },
          "geo": {
           "bgcolor": "white",
           "lakecolor": "white",
           "landcolor": "#E5ECF6",
           "showlakes": true,
           "showland": true,
           "subunitcolor": "white"
          },
          "hoverlabel": {
           "align": "left"
          },
          "hovermode": "closest",
          "mapbox": {
           "style": "light"
          },
          "paper_bgcolor": "white",
          "plot_bgcolor": "#E5ECF6",
          "polar": {
           "angularaxis": {
            "gridcolor": "white",
            "linecolor": "white",
            "ticks": ""
           },
           "bgcolor": "#E5ECF6",
           "radialaxis": {
            "gridcolor": "white",
            "linecolor": "white",
            "ticks": ""
           }
          },
          "scene": {
           "xaxis": {
            "backgroundcolor": "#E5ECF6",
            "gridcolor": "white",
            "gridwidth": 2,
            "linecolor": "white",
            "showbackground": true,
            "ticks": "",
            "zerolinecolor": "white"
           },
           "yaxis": {
            "backgroundcolor": "#E5ECF6",
            "gridcolor": "white",
            "gridwidth": 2,
            "linecolor": "white",
            "showbackground": true,
            "ticks": "",
            "zerolinecolor": "white"
           },
           "zaxis": {
            "backgroundcolor": "#E5ECF6",
            "gridcolor": "white",
            "gridwidth": 2,
            "linecolor": "white",
            "showbackground": true,
            "ticks": "",
            "zerolinecolor": "white"
           }
          },
          "shapedefaults": {
           "line": {
            "color": "#2a3f5f"
           }
          },
          "ternary": {
           "aaxis": {
            "gridcolor": "white",
            "linecolor": "white",
            "ticks": ""
           },
           "baxis": {
            "gridcolor": "white",
            "linecolor": "white",
            "ticks": ""
           },
           "bgcolor": "#E5ECF6",
           "caxis": {
            "gridcolor": "white",
            "linecolor": "white",
            "ticks": ""
           }
          },
          "title": {
           "x": 0.05
          },
          "xaxis": {
           "automargin": true,
           "gridcolor": "white",
           "linecolor": "white",
           "ticks": "",
           "title": {
            "standoff": 15
           },
           "zerolinecolor": "white",
           "zerolinewidth": 2
          },
          "yaxis": {
           "automargin": true,
           "gridcolor": "white",
           "linecolor": "white",
           "ticks": "",
           "title": {
            "standoff": 15
           },
           "zerolinecolor": "white",
           "zerolinewidth": 2
          }
         }
        }
       }
      },
      "image/png": "[encoded data removed]",
      "text/html": [
       "<div>                            <div id=\"b711064c-8de1-4702-819c-80837205c439\" class=\"plotly-graph-div\" style=\"height:525px; width:100%;\"></div>            <script type=\"text/javascript\">                require([\"plotly\"], function(Plotly) {                    window.PLOTLYENV=window.PLOTLYENV || {};                                    if (document.getElementById(\"b711064c-8de1-4702-819c-80837205c439\")) {                    Plotly.newPlot(                        \"b711064c-8de1-4702-819c-80837205c439\",                        [{\"marker\":{\"color\":\"rgba(255,102, 255,0.8)\",\"size\":5},\"mode\":\"markers\",\"name\":\"Movies\",\"opacity\":0.7,\"x\":[1.2,2.1,7.4,5.6,1.5,2.5,2.0,1.8,2.6,1.5],\"y\":[4.9,8.1,3.0,0.5,8.3,3.7,8.2,9.3,1.7,4.7],\"z\":[2.1,7.9,9.9,1.8,2.6,6.5,8.5,4.5,3.1,2.3],\"type\":\"scatter3d\"}],                        {\"template\":{\"data\":{\"barpolar\":[{\"marker\":{\"line\":{\"color\":\"#E5ECF6\",\"width\":0.5},\"pattern\":{\"fillmode\":\"overlay\",\"size\":10,\"solidity\":0.2}},\"type\":\"barpolar\"}],\"bar\":[{\"error_x\":{\"color\":\"#2a3f5f\"},\"error_y\":{\"color\":\"#2a3f5f\"},\"marker\":{\"line\":{\"color\":\"#E5ECF6\",\"width\":0.5},\"pattern\":{\"fillmode\":\"overlay\",\"size\":10,\"solidity\":0.2}},\"type\":\"bar\"}],\"carpet\":[{\"aaxis\":{\"endlinecolor\":\"#2a3f5f\",\"gridcolor\":\"white\",\"linecolor\":\"white\",\"minorgridcolor\":\"white\",\"startlinecolor\":\"#2a3f5f\"},\"baxis\":{\"endlinecolor\":\"#2a3f5f\",\"gridcolor\":\"white\",\"linecolor\":\"white\",\"minorgridcolor\":\"white\",\"startlinecolor\":\"#2a3f5f\"},\"type\":\"carpet\"}],\"choropleth\":[{\"colorbar\":{\"outlinewidth\":0,\"ticks\":\"\"},\"type\":\"choropleth\"}],\"contourcarpet\":[{\"colorbar\":{\"outlinewidth\":0,\"ticks\":\"\"},\"type\":\"contourcarpet\"}],\"contour\":[{\"colorbar\":{\"outlinewidth\":0,\"ticks\":\"\"},\"colorscale\":[[0.0,\"#0d0887\"],[0.1111111111111111,\"#46039f\"],[0.2222222222222222,\"#7201a8\"],[0.3333333333333333,\"#9c179e\"],[0.4444444444444444,\"#bd3786\"],[0.5555555555555556,\"#d8576b\"],[0.6666666666666666,\"#ed7953\"],[0.7777777777777778,\"#fb9f3a\"],[0.8888888888888888,\"#fdca26\"],[1.0,\"#f0f921\"]],\"type\":\"contour\"}],\"heatmapgl\":[{\"colorbar\":{\"outlinewidth\":0,\"ticks\":\"\"},\"colorscale\":[[0.0,\"#0d0887\"],[0.1111111111111111,\"#46039f\"],[0.2222222222222222,\"#7201a8\"],[0.3333333333333333,\"#9c179e\"],[0.4444444444444444,\"#bd3786\"],[0.5555555555555556,\"#d8576b\"],[0.6666666666666666,\"#ed7953\"],[0.7777777777777778,\"#fb9f3a\"],[0.8888888888888888,\"#fdca26\"],[1.0,\"#f0f921\"]],\"type\":\"heatmapgl\"}],\"heatmap\":[{\"colorbar\":{\"outlinewidth\":0,\"ticks\":\"\"},\"colorscale\":[[0.0,\"#0d0887\"],[0.1111111111111111,\"#46039f\"],[0.2222222222222222,\"#7201a8\"],[0.3333333333333333,\"#9c179e\"],[0.4444444444444444,\"#bd3786\"],[0.5555555555555556,\"#d8576b\"],[0.6666666666666666,\"#ed7953\"],[0.7777777777777778,\"#fb9f3a\"],[0.8888888888888888,\"#fdca26\"],[1.0,\"#f0f921\"]],\"type\":\"heatmap\"}],\"histogram2dcontour\":[{\"colorbar\":{\"outlinewidth\":0,\"ticks\":\"\"},\"colorscale\":[[0.0,\"#0d0887\"],[0.1111111111111111,\"#46039f\"],[0.2222222222222222,\"#7201a8\"],[0.3333333333333333,\"#9c179e\"],[0.4444444444444444,\"#bd3786\"],[0.5555555555555556,\"#d8576b\"],[0.6666666666666666,\"#ed7953\"],[0.7777777777777778,\"#fb9f3a\"],[0.8888888888888888,\"#fdca26\"],[1.0,\"#f0f921\"]],\"type\":\"histogram2dcontour\"}],\"histogram2d\":[{\"colorbar\":{\"outlinewidth\":0,\"ticks\":\"\"},\"colorscale\":[[0.0,\"#0d0887\"],[0.1111111111111111,\"#46039f\"],[0.2222222222222222,\"#7201a8\"],[0.3333333333333333,\"#9c179e\"],[0.4444444444444444,\"#bd3786\"],[0.5555555555555556,\"#d8576b\"],[0.6666666666666666,\"#ed7953\"],[0.7777777777777778,\"#fb9f3a\"],[0.8888888888888888,\"#fdca26\"],[1.0,\"#f0f921\"]],\"type\":\"histogram2d\"}],\"histogram\":[{\"marker\":{\"pattern\":{\"fillmode\":\"overlay\",\"size\":10,\"solidity\":0.2}},\"type\":\"histogram\"}],\"mesh3d\":[{\"colorbar\":{\"outlinewidth\":0,\"ticks\":\"\"},\"type\":\"mesh3d\"}],\"parcoords\":[{\"line\":{\"colorbar\":{\"outlinewidth\":0,\"ticks\":\"\"}},\"type\":\"parcoords\"}],\"pie\":[{\"automargin\":true,\"type\":\"pie\"}],\"scatter3d\":[{\"line\":{\"colorbar\":{\"outlinewidth\":0,\"ticks\":\"\"}},\"marker\":{\"colorbar\":{\"outlinewidth\":0,\"ticks\":\"\"}},\"type\":\"scatter3d\"}],\"scattercarpet\":[{\"marker\":{\"colorbar\":{\"outlinewidth\":0,\"ticks\":\"\"}},\"type\":\"scattercarpet\"}],\"scattergeo\":[{\"marker\":{\"colorbar\":{\"outlinewidth\":0,\"ticks\":\"\"}},\"type\":\"scattergeo\"}],\"scattergl\":[{\"marker\":{\"colorbar\":{\"outlinewidth\":0,\"ticks\":\"\"}},\"type\":\"scattergl\"}],\"scattermapbox\":[{\"marker\":{\"colorbar\":{\"outlinewidth\":0,\"ticks\":\"\"}},\"type\":\"scattermapbox\"}],\"scatterpolargl\":[{\"marker\":{\"colorbar\":{\"outlinewidth\":0,\"ticks\":\"\"}},\"type\":\"scatterpolargl\"}],\"scatterpolar\":[{\"marker\":{\"colorbar\":{\"outlinewidth\":0,\"ticks\":\"\"}},\"type\":\"scatterpolar\"}],\"scatter\":[{\"marker\":{\"colorbar\":{\"outlinewidth\":0,\"ticks\":\"\"}},\"type\":\"scatter\"}],\"scatterternary\":[{\"marker\":{\"colorbar\":{\"outlinewidth\":0,\"ticks\":\"\"}},\"type\":\"scatterternary\"}],\"surface\":[{\"colorbar\":{\"outlinewidth\":0,\"ticks\":\"\"},\"colorscale\":[[0.0,\"#0d0887\"],[0.1111111111111111,\"#46039f\"],[0.2222222222222222,\"#7201a8\"],[0.3333333333333333,\"#9c179e\"],[0.4444444444444444,\"#bd3786\"],[0.5555555555555556,\"#d8576b\"],[0.6666666666666666,\"#ed7953\"],[0.7777777777777778,\"#fb9f3a\"],[0.8888888888888888,\"#fdca26\"],[1.0,\"#f0f921\"]],\"type\":\"surface\"}],\"table\":[{\"cells\":{\"fill\":{\"color\":\"#EBF0F8\"},\"line\":{\"color\":\"white\"}},\"header\":{\"fill\":{\"color\":\"#C8D4E3\"},\"line\":{\"color\":\"white\"}},\"type\":\"table\"}]},\"layout\":{\"annotationdefaults\":{\"arrowcolor\":\"#2a3f5f\",\"arrowhead\":0,\"arrowwidth\":1},\"autotypenumbers\":\"strict\",\"coloraxis\":{\"colorbar\":{\"outlinewidth\":0,\"ticks\":\"\"}},\"colorscale\":{\"diverging\":[[0,\"#8e0152\"],[0.1,\"#c51b7d\"],[0.2,\"#de77ae\"],[0.3,\"#f1b6da\"],[0.4,\"#fde0ef\"],[0.5,\"#f7f7f7\"],[0.6,\"#e6f5d0\"],[0.7,\"#b8e186\"],[0.8,\"#7fbc41\"],[0.9,\"#4d9221\"],[1,\"#276419\"]],\"sequential\":[[0.0,\"#0d0887\"],[0.1111111111111111,\"#46039f\"],[0.2222222222222222,\"#7201a8\"],[0.3333333333333333,\"#9c179e\"],[0.4444444444444444,\"#bd3786\"],[0.5555555555555556,\"#d8576b\"],[0.6666666666666666,\"#ed7953\"],[0.7777777777777778,\"#fb9f3a\"],[0.8888888888888888,\"#fdca26\"],[1.0,\"#f0f921\"]],\"sequentialminus\":[[0.0,\"#0d0887\"],[0.1111111111111111,\"#46039f\"],[0.2222222222222222,\"#7201a8\"],[0.3333333333333333,\"#9c179e\"],[0.4444444444444444,\"#bd3786\"],[0.5555555555555556,\"#d8576b\"],[0.6666666666666666,\"#ed7953\"],[0.7777777777777778,\"#fb9f3a\"],[0.8888888888888888,\"#fdca26\"],[1.0,\"#f0f921\"]]},\"colorway\":[\"#636efa\",\"#EF553B\",\"#00cc96\",\"#ab63fa\",\"#FFA15A\",\"#19d3f3\",\"#FF6692\",\"#B6E880\",\"#FF97FF\",\"#FECB52\"],\"font\":{\"color\":\"#2a3f5f\"},\"geo\":{\"bgcolor\":\"white\",\"lakecolor\":\"white\",\"landcolor\":\"#E5ECF6\",\"showlakes\":true,\"showland\":true,\"subunitcolor\":\"white\"},\"hoverlabel\":{\"align\":\"left\"},\"hovermode\":\"closest\",\"mapbox\":{\"style\":\"light\"},\"paper_bgcolor\":\"white\",\"plot_bgcolor\":\"#E5ECF6\",\"polar\":{\"angularaxis\":{\"gridcolor\":\"white\",\"linecolor\":\"white\",\"ticks\":\"\"},\"bgcolor\":\"#E5ECF6\",\"radialaxis\":{\"gridcolor\":\"white\",\"linecolor\":\"white\",\"ticks\":\"\"}},\"scene\":{\"xaxis\":{\"backgroundcolor\":\"#E5ECF6\",\"gridcolor\":\"white\",\"gridwidth\":2,\"linecolor\":\"white\",\"showbackground\":true,\"ticks\":\"\",\"zerolinecolor\":\"white\"},\"yaxis\":{\"backgroundcolor\":\"#E5ECF6\",\"gridcolor\":\"white\",\"gridwidth\":2,\"linecolor\":\"white\",\"showbackground\":true,\"ticks\":\"\",\"zerolinecolor\":\"white\"},\"zaxis\":{\"backgroundcolor\":\"#E5ECF6\",\"gridcolor\":\"white\",\"gridwidth\":2,\"linecolor\":\"white\",\"showbackground\":true,\"ticks\":\"\",\"zerolinecolor\":\"white\"}},\"shapedefaults\":{\"line\":{\"color\":\"#2a3f5f\"}},\"ternary\":{\"aaxis\":{\"gridcolor\":\"white\",\"linecolor\":\"white\",\"ticks\":\"\"},\"baxis\":{\"gridcolor\":\"white\",\"linecolor\":\"white\",\"ticks\":\"\"},\"bgcolor\":\"#E5ECF6\",\"caxis\":{\"gridcolor\":\"white\",\"linecolor\":\"white\",\"ticks\":\"\"}},\"title\":{\"x\":0.05},\"xaxis\":{\"automargin\":true,\"gridcolor\":\"white\",\"linecolor\":\"white\",\"ticks\":\"\",\"title\":{\"standoff\":15},\"zerolinecolor\":\"white\",\"zerolinewidth\":2},\"yaxis\":{\"automargin\":true,\"gridcolor\":\"white\",\"linecolor\":\"white\",\"ticks\":\"\",\"title\":{\"standoff\":15},\"zerolinecolor\":\"white\",\"zerolinewidth\":2}}}},                        {\"responsive\": true}                    ).then(function(){\n",
       "                            \n",
       "var gd = document.getElementById('b711064c-8de1-4702-819c-80837205c439');\n",
       "var x = new MutationObserver(function (mutations, observer) {{\n",
       "        var display = window.getComputedStyle(gd).display;\n",
       "        if (!display || display === 'none') {{\n",
       "            console.log([gd, 'removed!']);\n",
       "            Plotly.purge(gd);\n",
       "            observer.disconnect();\n",
       "        }}\n",
       "}});\n",
       "\n",
       "// Listen for the removal of the full notebook cells\n",
       "var notebookContainer = gd.closest('#notebook-container');\n",
       "if (notebookContainer) {{\n",
       "    x.observe(notebookContainer, {childList: true});\n",
       "}}\n",
       "\n",
       "// Listen for the clearing of the current output cell\n",
       "var outputEl = gd.closest('.output');\n",
       "if (outputEl) {{\n",
       "    x.observe(outputEl, {childList: true});\n",
       "}}\n",
       "\n",
       "                        })                };                });            </script>        </div>"
      ]
     },
     "metadata": {},
     "output_type": "display_data"
    }
   ],
   "source": [
    "# Iris-setosa\n",
    "movies_3d = go.Scatter3d(\n",
    "                        x = movies_df['star_wars'],\n",
    "                        y = movies_df['lord_of_the_rings'],\n",
    "                        z = movies_df['harry_potter'],\n",
    "                        mode = 'markers',\n",
    "                        opacity = 0.7,\n",
    "                        name = \"Movies\",\n",
    "                        marker = dict(\n",
    "                                    size = 5,\n",
    "                                    color = 'rgba(255,102, 255,0.8)')\n",
    ")\n",
    "movies_3d = [movies_3d]\n",
    "fig_3d = go.Figure(data = movies_3d)\n",
    "iplot(movies_3d)"
   ]
  },
  {
   "cell_type": "markdown",
   "id": "4477b97c-d182-49a7-b008-1a34950edc98",
   "metadata": {},
   "source": [
    "Ya que nuestro conjunto de datos no tiene una adecuada descripción del significado de los valores de las columnas, podemos inferir que cada valor es el grado de satisfaccion de cada usuario respecto a cada pelicual. Viendo nuestro grafico en 3D podemos ver hay usuarios con la misma opinion viendo las distancias entre los puntos, para ser más precicos sacaremos la matriz de distancias."
   ]
  },
  {
   "cell_type": "code",
   "execution_count": 411,
   "id": "9135f7c8-3f1d-422b-b042-defebb34ffe0",
   "metadata": {},
   "outputs": [],
   "source": [
    "def distancia_euclidiana(a, b):\n",
    "    \"\"\"Calcula la distancia euclidiana,\n",
    "    \n",
    "    Arguments\n",
    "    p - una tupla que será el primer punto.\n",
    "    q - una tupla que será el segundo punto.\n",
    "    \n",
    "    Return    \n",
    "    Regresa un entero con la distancia entre los puntos.\n",
    "    \"\"\" \n",
    "    # Convertimos los puntos en vectores de numpy\n",
    "    p1 = np.array(a)\n",
    "    p2 = np.array(b)\n",
    "    return np.sqrt(np.sum((p1-p2)**2))    \n",
    "\n",
    "def distancia_manhattan(a, b):\n",
    "    \"\"\"Calcula la distancia manhattan,\n",
    "    \n",
    "    Arguments\n",
    "    p - una tupla que será el primer punto.\n",
    "    q - una tupla que será el segundo punto.\n",
    "    \n",
    "    Return    \n",
    "    Regresa un entero con la distancia entre los puntos.\n",
    "    \"\"\" \n",
    "    # Convertimos los puntos en vectores de numpy\n",
    "    p1 = np.array(a)\n",
    "    p2 = np.array(b)\n",
    "    return np.sum(np.abs(p1-p2))\n",
    "\n",
    "def distancia_minkowski(a, b, p=3):\n",
    "    \"\"\"Calcula la distancia minkowski,\n",
    "    \n",
    "    Arguments\n",
    "    p - una tupla que será el primer punto.\n",
    "    q - una tupla que será el segundo punto.\n",
    "    \n",
    "    Return    \n",
    "    Regresa un entero con la distancia entre los puntos.\n",
    "    \"\"\" \n",
    "    p1 = np.array(a)\n",
    "    p2 = np.array(b)\n",
    "    return np.sum((np.abs(p1-p2)**p)) ** (1/p)"
   ]
  },
  {
   "cell_type": "code",
   "execution_count": 412,
   "id": "62525834-be41-4eec-ab71-e775b21999e6",
   "metadata": {},
   "outputs": [],
   "source": [
    "def obtener_matriz_distancias(data, func_dist):\n",
    "    \"\"\"Crea una matriz de distancia\"\"\"\n",
    "    matriz_distancias = np.zeros((len(data), len(data)))\n",
    "    for i, usuario in enumerate(data):\n",
    "        x1, y1, z1 = usuario\n",
    "        for j, usuario2 in enumerate(data):\n",
    "            # Aprovechando las propiedades de simetria e identidad de los indiscernibles\n",
    "            if j > i:\n",
    "                x2, y2, z2 = usuario2\n",
    "                distancia = func_dist((x1, y1, z1), (x2, y2, z2))                        \n",
    "                matriz_distancias[i][j] = distancia\n",
    "                matriz_distancias[j][i] = distancia\n",
    "            \n",
    "    return matriz_distancias    "
   ]
  },
  {
   "cell_type": "markdown",
   "id": "72a9b48a-e300-45e4-b4d0-37b988ec81e8",
   "metadata": {},
   "source": [
    "## Distancia Euclidiana"
   ]
  },
  {
   "cell_type": "code",
   "execution_count": 413,
   "id": "0ebc79d7-4118-4741-b226-0fb84b15672f",
   "metadata": {},
   "outputs": [
    {
     "name": "stdout",
     "output_type": "stream",
     "text": [
      "\t\t\t Matriz de distancia de euclidines\n"
     ]
    },
    {
     "data": {
      "text/latex": [
       "$\\displaystyle \\left[\\begin{matrix}0 & 6.68505796534331 & 10.1434708063858 & 6.22976725086901 & 3.44963766213207 & 4.74236228055175 & 7.24499827467198 & 5.04777178564959 & 3.63318042491699 & 0.412310562561766\\\\6.68505796534331 & 0 & 7.6223356000638 & 10.3547090736534 & 5.33760245803301 & 4.63465209050259 & 0.616441400296897 & 3.61801050302511 & 8.0156097709407 & 6.57875368135941\\\\10.1434708063858 & 7.6223356000638 & 0 & 8.66602561731732 & 10.779146533933 & 6.00499791840097 & 7.62627038597505 & 10.0104944932805 & 8.42436941260294 & 9.77036335045939\\\\6.22976725086901 & 10.3547090736534 & 8.66602561731732 & 0 & 8.84816365128946 & 6.47610994347687 & 10.8231233939192 & 9.95841352826845 & 3.4828149534536 & 5.89067059000926\\\\3.44963766213207 & 5.33760245803301 & 10.779146533933 & 8.84816365128946 & 0 & 6.11310068623117 & 5.92199290779717 & 2.16794833886788 & 6.7096944788865 & 3.61247837363769\\\\4.74236228055175 & 4.63465209050259 & 6.00499791840097 & 6.47610994347687 & 6.11310068623117 & 0 & 4.94974746830583 & 5.98748695196908 & 3.94588393138977 & 4.43170396123207\\\\7.24499827467198 & 0.616441400296897 & 7.62627038597505 & 10.8231233939192 & 5.92199290779717 & 4.94974746830583 & 0 & 4.15331193145904 & 8.4717176534632 & 7.13722635202219\\\\5.04777178564959 & 3.61801050302511 & 10.0104944932805 & 9.95841352826845 & 2.16794833886788 & 5.98748695196908 & 4.15331193145904 & 0 & 7.76916983982201 & 5.10783711564885\\\\3.63318042491699 & 8.0156097709407 & 8.42436941260294 & 3.4828149534536 & 6.7096944788865 & 3.94588393138977 & 8.4717176534632 & 7.76916983982201 & 0 & 3.29393381840012\\\\0.412310562561766 & 6.57875368135941 & 9.77036335045939 & 5.89067059000926 & 3.61247837363769 & 4.43170396123207 & 7.13722635202219 & 5.10783711564885 & 3.29393381840012 & 0\\end{matrix}\\right]$"
      ],
      "text/plain": [
       "Matrix([\n",
       "[                0,  6.68505796534331, 10.1434708063858, 6.22976725086901, 3.44963766213207, 4.74236228055175,  7.24499827467198, 5.04777178564959, 3.63318042491699, 0.412310562561766],\n",
       "[ 6.68505796534331,                 0,  7.6223356000638, 10.3547090736534, 5.33760245803301, 4.63465209050259, 0.616441400296897, 3.61801050302511,  8.0156097709407,  6.57875368135941],\n",
       "[ 10.1434708063858,   7.6223356000638,                0, 8.66602561731732,  10.779146533933, 6.00499791840097,  7.62627038597505, 10.0104944932805, 8.42436941260294,  9.77036335045939],\n",
       "[ 6.22976725086901,  10.3547090736534, 8.66602561731732,                0, 8.84816365128946, 6.47610994347687,  10.8231233939192, 9.95841352826845,  3.4828149534536,  5.89067059000926],\n",
       "[ 3.44963766213207,  5.33760245803301,  10.779146533933, 8.84816365128946,                0, 6.11310068623117,  5.92199290779717, 2.16794833886788,  6.7096944788865,  3.61247837363769],\n",
       "[ 4.74236228055175,  4.63465209050259, 6.00499791840097, 6.47610994347687, 6.11310068623117,                0,  4.94974746830583, 5.98748695196908, 3.94588393138977,  4.43170396123207],\n",
       "[ 7.24499827467198, 0.616441400296897, 7.62627038597505, 10.8231233939192, 5.92199290779717, 4.94974746830583,                 0, 4.15331193145904,  8.4717176534632,  7.13722635202219],\n",
       "[ 5.04777178564959,  3.61801050302511, 10.0104944932805, 9.95841352826845, 2.16794833886788, 5.98748695196908,  4.15331193145904,                0, 7.76916983982201,  5.10783711564885],\n",
       "[ 3.63318042491699,   8.0156097709407, 8.42436941260294,  3.4828149534536,  6.7096944788865, 3.94588393138977,   8.4717176534632, 7.76916983982201,                0,  3.29393381840012],\n",
       "[0.412310562561766,  6.57875368135941, 9.77036335045939, 5.89067059000926, 3.61247837363769, 4.43170396123207,  7.13722635202219, 5.10783711564885, 3.29393381840012,                 0]])"
      ]
     },
     "metadata": {},
     "output_type": "display_data"
    }
   ],
   "source": [
    "data = movies_df.iloc[:,1:].values\n",
    "matriz_dist = obtener_matriz_distancias(data, distancia_euclidiana)\n",
    "print(\"\\t\\t\\t Matriz de distancia de euclidines\")\n",
    "display(sp.Matrix(matriz_dist))"
   ]
  },
  {
   "cell_type": "markdown",
   "id": "1bdcda07-19a5-4732-94d9-0b0ccf3bb283",
   "metadata": {},
   "source": [
    "Para comprobar los resultados utilizaremos scipy.spatial.distance_matrix\n",
    "~~~\n",
    "\n",
    "p = 1, Manhattan Distance\n",
    "p = 2, Euclidean Distance\n",
    "p = ∞, Chebychev Distance\n",
    "\n",
    "~~~"
   ]
  },
  {
   "cell_type": "code",
   "execution_count": 414,
   "id": "30f83c67-318e-4e8f-bf26-3e0487d6d088",
   "metadata": {},
   "outputs": [
    {
     "name": "stdout",
     "output_type": "stream",
     "text": [
      "\t\t\t Matriz de distancia de euclidines con Scipy\n"
     ]
    },
    {
     "data": {
      "text/latex": [
       "$\\displaystyle \\left[\\begin{matrix}0 & 6.68505796534331 & 10.1434708063858 & 6.22976725086901 & 3.44963766213207 & 4.74236228055175 & 7.24499827467198 & 5.04777178564959 & 3.63318042491699 & 0.412310562561766\\\\6.68505796534331 & 0 & 7.6223356000638 & 10.3547090736534 & 5.33760245803301 & 4.63465209050259 & 0.616441400296897 & 3.61801050302511 & 8.0156097709407 & 6.57875368135941\\\\10.1434708063858 & 7.6223356000638 & 0 & 8.66602561731732 & 10.779146533933 & 6.00499791840097 & 7.62627038597505 & 10.0104944932805 & 8.42436941260294 & 9.77036335045939\\\\6.22976725086901 & 10.3547090736534 & 8.66602561731732 & 0 & 8.84816365128946 & 6.47610994347687 & 10.8231233939192 & 9.95841352826845 & 3.4828149534536 & 5.89067059000926\\\\3.44963766213207 & 5.33760245803301 & 10.779146533933 & 8.84816365128946 & 0 & 6.11310068623117 & 5.92199290779717 & 2.16794833886788 & 6.7096944788865 & 3.61247837363769\\\\4.74236228055175 & 4.63465209050259 & 6.00499791840097 & 6.47610994347687 & 6.11310068623117 & 0 & 4.94974746830583 & 5.98748695196908 & 3.94588393138977 & 4.43170396123207\\\\7.24499827467198 & 0.616441400296897 & 7.62627038597505 & 10.8231233939192 & 5.92199290779717 & 4.94974746830583 & 0 & 4.15331193145904 & 8.4717176534632 & 7.13722635202219\\\\5.04777178564959 & 3.61801050302511 & 10.0104944932805 & 9.95841352826845 & 2.16794833886788 & 5.98748695196908 & 4.15331193145904 & 0 & 7.76916983982201 & 5.10783711564885\\\\3.63318042491699 & 8.0156097709407 & 8.42436941260294 & 3.4828149534536 & 6.7096944788865 & 3.94588393138977 & 8.4717176534632 & 7.76916983982201 & 0 & 3.29393381840012\\\\0.412310562561766 & 6.57875368135941 & 9.77036335045939 & 5.89067059000926 & 3.61247837363769 & 4.43170396123207 & 7.13722635202219 & 5.10783711564885 & 3.29393381840012 & 0\\end{matrix}\\right]$"
      ],
      "text/plain": [
       "Matrix([\n",
       "[                0,  6.68505796534331, 10.1434708063858, 6.22976725086901, 3.44963766213207, 4.74236228055175,  7.24499827467198, 5.04777178564959, 3.63318042491699, 0.412310562561766],\n",
       "[ 6.68505796534331,                 0,  7.6223356000638, 10.3547090736534, 5.33760245803301, 4.63465209050259, 0.616441400296897, 3.61801050302511,  8.0156097709407,  6.57875368135941],\n",
       "[ 10.1434708063858,   7.6223356000638,                0, 8.66602561731732,  10.779146533933, 6.00499791840097,  7.62627038597505, 10.0104944932805, 8.42436941260294,  9.77036335045939],\n",
       "[ 6.22976725086901,  10.3547090736534, 8.66602561731732,                0, 8.84816365128946, 6.47610994347687,  10.8231233939192, 9.95841352826845,  3.4828149534536,  5.89067059000926],\n",
       "[ 3.44963766213207,  5.33760245803301,  10.779146533933, 8.84816365128946,                0, 6.11310068623117,  5.92199290779717, 2.16794833886788,  6.7096944788865,  3.61247837363769],\n",
       "[ 4.74236228055175,  4.63465209050259, 6.00499791840097, 6.47610994347687, 6.11310068623117,                0,  4.94974746830583, 5.98748695196908, 3.94588393138977,  4.43170396123207],\n",
       "[ 7.24499827467198, 0.616441400296897, 7.62627038597505, 10.8231233939192, 5.92199290779717, 4.94974746830583,                 0, 4.15331193145904,  8.4717176534632,  7.13722635202219],\n",
       "[ 5.04777178564959,  3.61801050302511, 10.0104944932805, 9.95841352826845, 2.16794833886788, 5.98748695196908,  4.15331193145904,                0, 7.76916983982201,  5.10783711564885],\n",
       "[ 3.63318042491699,   8.0156097709407, 8.42436941260294,  3.4828149534536,  6.7096944788865, 3.94588393138977,   8.4717176534632, 7.76916983982201,                0,  3.29393381840012],\n",
       "[0.412310562561766,  6.57875368135941, 9.77036335045939, 5.89067059000926, 3.61247837363769, 4.43170396123207,  7.13722635202219, 5.10783711564885, 3.29393381840012,                 0]])"
      ]
     },
     "metadata": {},
     "output_type": "display_data"
    }
   ],
   "source": [
    "# Comprobacion con scipy.spatial\n",
    "dist_mat_scpy = distance_matrix(data, data, p=2)\n",
    "print(\"\\t\\t\\t Matriz de distancia de euclidines con Scipy\")\n",
    "display(sp.Matrix(dist_mat_scpy))"
   ]
  },
  {
   "cell_type": "markdown",
   "id": "db98672d-3202-4cca-8fca-cd948a3ea512",
   "metadata": {},
   "source": [
    "## Distancia Manhattan"
   ]
  },
  {
   "cell_type": "code",
   "execution_count": 415,
   "id": "9bc25bcc-2b20-4f26-acfb-c19b0ba88dd0",
   "metadata": {},
   "outputs": [
    {
     "name": "stdout",
     "output_type": "stream",
     "text": [
      "\t\t\t Matriz de distancia de manhattan\n"
     ]
    },
    {
     "data": {
      "text/latex": [
       "$\\displaystyle \\left[\\begin{matrix}0 & 9.9 & 15.9 & 9.1 & 4.2 & 6.9 & 10.5 & 7.4 & 5.6 & 0.7\\\\9.9 & 0 & 12.4 & 17.2 & 6.1 & 6.2 & 0.799999999999999 & 4.9 & 11.7 & 9.6\\\\15.9 & 12.4 & 0 & 12.4 & 18.5 & 9.0 & 12.0 & 17.3 & 12.9 & 15.2\\\\9.1 & 17.2 & 12.4 & 0 & 12.7 & 11.0 & 18.0 & 15.3 & 5.5 & 8.8\\\\4.2 & 6.1 & 18.5 & 12.7 & 0 & 9.5 & 6.5 & 3.2 & 8.2 & 3.9\\\\6.9 & 6.2 & 9.0 & 11.0 & 9.5 & 0 & 7.0 & 8.3 & 5.5 & 6.2\\\\10.5 & 0.799999999999999 & 12.0 & 18.0 & 6.5 & 7.0 & 0 & 5.3 & 12.5 & 10.2\\\\7.4 & 4.9 & 17.3 & 15.3 & 3.2 & 8.3 & 5.3 & 0 & 9.8 & 7.1\\\\5.6 & 11.7 & 12.9 & 5.5 & 8.2 & 5.5 & 12.5 & 9.8 & 0 & 4.9\\\\0.7 & 9.6 & 15.2 & 8.8 & 3.9 & 6.2 & 10.2 & 7.1 & 4.9 & 0\\end{matrix}\\right]$"
      ],
      "text/plain": [
       "Matrix([\n",
       "[   0,               9.9, 15.9,  9.1,  4.2,  6.9,              10.5,  7.4,  5.6,  0.7],\n",
       "[ 9.9,                 0, 12.4, 17.2,  6.1,  6.2, 0.799999999999999,  4.9, 11.7,  9.6],\n",
       "[15.9,              12.4,    0, 12.4, 18.5,  9.0,              12.0, 17.3, 12.9, 15.2],\n",
       "[ 9.1,              17.2, 12.4,    0, 12.7, 11.0,              18.0, 15.3,  5.5,  8.8],\n",
       "[ 4.2,               6.1, 18.5, 12.7,    0,  9.5,               6.5,  3.2,  8.2,  3.9],\n",
       "[ 6.9,               6.2,  9.0, 11.0,  9.5,    0,               7.0,  8.3,  5.5,  6.2],\n",
       "[10.5, 0.799999999999999, 12.0, 18.0,  6.5,  7.0,                 0,  5.3, 12.5, 10.2],\n",
       "[ 7.4,               4.9, 17.3, 15.3,  3.2,  8.3,               5.3,    0,  9.8,  7.1],\n",
       "[ 5.6,              11.7, 12.9,  5.5,  8.2,  5.5,              12.5,  9.8,    0,  4.9],\n",
       "[ 0.7,               9.6, 15.2,  8.8,  3.9,  6.2,              10.2,  7.1,  4.9,    0]])"
      ]
     },
     "metadata": {},
     "output_type": "display_data"
    }
   ],
   "source": [
    "matriz_dist = obtener_matriz_distancias(data, distancia_manhattan)\n",
    "print(\"\\t\\t\\t Matriz de distancia de manhattan\")\n",
    "display(sp.Matrix(matriz_dist))"
   ]
  },
  {
   "cell_type": "code",
   "execution_count": 416,
   "id": "b7728deb-9726-4f37-baeb-3cf792df43be",
   "metadata": {},
   "outputs": [
    {
     "name": "stdout",
     "output_type": "stream",
     "text": [
      "\t\t\t Matriz de distancia de manhattan con Scipy\n"
     ]
    },
    {
     "data": {
      "text/latex": [
       "$\\displaystyle \\left[\\begin{matrix}0 & 9.9 & 15.9 & 9.1 & 4.2 & 6.9 & 10.5 & 7.4 & 5.6 & 0.7\\\\9.9 & 0 & 12.4 & 17.2 & 6.1 & 6.2 & 0.799999999999999 & 4.9 & 11.7 & 9.6\\\\15.9 & 12.4 & 0 & 12.4 & 18.5 & 9.0 & 12.0 & 17.3 & 12.9 & 15.2\\\\9.1 & 17.2 & 12.4 & 0 & 12.7 & 11.0 & 18.0 & 15.3 & 5.5 & 8.8\\\\4.2 & 6.1 & 18.5 & 12.7 & 0 & 9.5 & 6.5 & 3.2 & 8.2 & 3.9\\\\6.9 & 6.2 & 9.0 & 11.0 & 9.5 & 0 & 7.0 & 8.3 & 5.5 & 6.2\\\\10.5 & 0.799999999999999 & 12.0 & 18.0 & 6.5 & 7.0 & 0 & 5.3 & 12.5 & 10.2\\\\7.4 & 4.9 & 17.3 & 15.3 & 3.2 & 8.3 & 5.3 & 0 & 9.8 & 7.1\\\\5.6 & 11.7 & 12.9 & 5.5 & 8.2 & 5.5 & 12.5 & 9.8 & 0 & 4.9\\\\0.7 & 9.6 & 15.2 & 8.8 & 3.9 & 6.2 & 10.2 & 7.1 & 4.9 & 0\\end{matrix}\\right]$"
      ],
      "text/plain": [
       "Matrix([\n",
       "[   0,               9.9, 15.9,  9.1,  4.2,  6.9,              10.5,  7.4,  5.6,  0.7],\n",
       "[ 9.9,                 0, 12.4, 17.2,  6.1,  6.2, 0.799999999999999,  4.9, 11.7,  9.6],\n",
       "[15.9,              12.4,    0, 12.4, 18.5,  9.0,              12.0, 17.3, 12.9, 15.2],\n",
       "[ 9.1,              17.2, 12.4,    0, 12.7, 11.0,              18.0, 15.3,  5.5,  8.8],\n",
       "[ 4.2,               6.1, 18.5, 12.7,    0,  9.5,               6.5,  3.2,  8.2,  3.9],\n",
       "[ 6.9,               6.2,  9.0, 11.0,  9.5,    0,               7.0,  8.3,  5.5,  6.2],\n",
       "[10.5, 0.799999999999999, 12.0, 18.0,  6.5,  7.0,                 0,  5.3, 12.5, 10.2],\n",
       "[ 7.4,               4.9, 17.3, 15.3,  3.2,  8.3,               5.3,    0,  9.8,  7.1],\n",
       "[ 5.6,              11.7, 12.9,  5.5,  8.2,  5.5,              12.5,  9.8,    0,  4.9],\n",
       "[ 0.7,               9.6, 15.2,  8.8,  3.9,  6.2,              10.2,  7.1,  4.9,    0]])"
      ]
     },
     "metadata": {},
     "output_type": "display_data"
    }
   ],
   "source": [
    "dist_mat_scpy = distance_matrix(data, data, p=1)\n",
    "print(\"\\t\\t\\t Matriz de distancia de manhattan con Scipy\")\n",
    "display(sp.Matrix(dist_mat_scpy))"
   ]
  },
  {
   "cell_type": "markdown",
   "id": "16347f72-8a31-410d-8d24-b585e1db9c87",
   "metadata": {},
   "source": [
    "## Distancia Minkowski"
   ]
  },
  {
   "cell_type": "code",
   "execution_count": 417,
   "id": "ba68b1ee-a3dc-46f5-9a2c-dc740149ff33",
   "metadata": {},
   "outputs": [
    {
     "name": "stdout",
     "output_type": "stream",
     "text": [
      "\t\t\t Matriz de distancia de minkowski\n"
     ]
    },
    {
     "data": {
      "text/latex": [
       "$\\displaystyle \\left[\\begin{matrix}0 & 6.11454916428861 & 8.96172635607764 & 5.5439454576181 & 3.40437729172903 & 4.46656703819761 & 6.68384762858978 & 4.62955139976453 & 3.31750720120221 & 0.350339806038672\\\\6.11454916428861 & 0 & 6.61551294283105 & 8.91622676181095 & 5.30265679067893 & 4.44782539038182 & 0.601846165480645 & 3.44987047052723 & 7.19751071354172 & 5.99198930956623\\\\8.96172635607764 & 6.61551294283105 & 0 & 8.20757776606394 & 9.05835740907213 & 5.39807887765857 & 6.70039353150005 & 8.35451128926497 & 7.53154711786155 & 8.65913810366208\\\\5.5439454576181 & 8.91622676181095 & 8.20757776606394 & 0 & 8.1632351727204 & 5.50007713390447 & 9.29843886386646 & 9.10987536394208 & 3.13884523510554 & 5.23095442295267\\\\3.40437729172903 & 5.30265679067893 & 9.05835740907213 & 8.1632351727204 & 0 & 5.40218247400413 & 5.90120630318665 & 1.99045451433078 & 6.61112296419712 & 3.60069431052831\\\\4.46656703819761 & 4.44782539038182 & 5.39807887765857 & 5.50007713390447 & 5.40218247400413 & 0 & 4.62995573011611 & 5.68731146982036 & 3.61661558064796 & 4.23745783293259\\\\6.68384762858978 & 0.601846165480645 & 6.70039353150005 & 9.29843886386646 & 5.90120630318665 & 4.62995573011611 & 0 & 4.02770351913122 & 7.56130493603761 & 6.55245911199444\\\\4.62955139976453 & 3.44987047052723 & 8.35451128926497 & 9.10987536394208 & 1.99045451433078 & 5.68731146982036 & 4.02770351913122 & 0 & 7.61874412977636 & 4.76236483015256\\\\3.31750720120221 & 7.19751071354172 & 7.53154711786155 & 3.13884523510554 & 6.61112296419712 & 3.61661558064796 & 7.56130493603761 & 7.61874412977636 & 0 & 3.06676249438003\\\\0.350339806038672 & 5.99198930956623 & 8.65913810366208 & 5.23095442295267 & 3.60069431052831 & 4.23745783293259 & 6.55245911199444 & 4.76236483015256 & 3.06676249438003 & 0\\end{matrix}\\right]$"
      ],
      "text/plain": [
       "Matrix([\n",
       "[                0,  6.11454916428861, 8.96172635607764,  5.5439454576181, 3.40437729172903, 4.46656703819761,  6.68384762858978, 4.62955139976453, 3.31750720120221, 0.350339806038672],\n",
       "[ 6.11454916428861,                 0, 6.61551294283105, 8.91622676181095, 5.30265679067893, 4.44782539038182, 0.601846165480645, 3.44987047052723, 7.19751071354172,  5.99198930956623],\n",
       "[ 8.96172635607764,  6.61551294283105,                0, 8.20757776606394, 9.05835740907213, 5.39807887765857,  6.70039353150005, 8.35451128926497, 7.53154711786155,  8.65913810366208],\n",
       "[  5.5439454576181,  8.91622676181095, 8.20757776606394,                0,  8.1632351727204, 5.50007713390447,  9.29843886386646, 9.10987536394208, 3.13884523510554,  5.23095442295267],\n",
       "[ 3.40437729172903,  5.30265679067893, 9.05835740907213,  8.1632351727204,                0, 5.40218247400413,  5.90120630318665, 1.99045451433078, 6.61112296419712,  3.60069431052831],\n",
       "[ 4.46656703819761,  4.44782539038182, 5.39807887765857, 5.50007713390447, 5.40218247400413,                0,  4.62995573011611, 5.68731146982036, 3.61661558064796,  4.23745783293259],\n",
       "[ 6.68384762858978, 0.601846165480645, 6.70039353150005, 9.29843886386646, 5.90120630318665, 4.62995573011611,                 0, 4.02770351913122, 7.56130493603761,  6.55245911199444],\n",
       "[ 4.62955139976453,  3.44987047052723, 8.35451128926497, 9.10987536394208, 1.99045451433078, 5.68731146982036,  4.02770351913122,                0, 7.61874412977636,  4.76236483015256],\n",
       "[ 3.31750720120221,  7.19751071354172, 7.53154711786155, 3.13884523510554, 6.61112296419712, 3.61661558064796,  7.56130493603761, 7.61874412977636,                0,  3.06676249438003],\n",
       "[0.350339806038672,  5.99198930956623, 8.65913810366208, 5.23095442295267, 3.60069431052831, 4.23745783293259,  6.55245911199444, 4.76236483015256, 3.06676249438003,                 0]])"
      ]
     },
     "metadata": {},
     "output_type": "display_data"
    }
   ],
   "source": [
    "matriz_dist = obtener_matriz_distancias(data, distancia_minkowski)\n",
    "print(\"\\t\\t\\t Matriz de distancia de minkowski\")\n",
    "display(sp.Matrix(matriz_dist))"
   ]
  },
  {
   "cell_type": "code",
   "execution_count": 418,
   "id": "14b9feec-ad9f-437c-a34f-b0646bd0a0c0",
   "metadata": {},
   "outputs": [
    {
     "name": "stdout",
     "output_type": "stream",
     "text": [
      "\t\t\t Matriz de distancia de minkowski con Scipy\n"
     ]
    },
    {
     "data": {
      "text/latex": [
       "$\\displaystyle \\left[\\begin{matrix}0 & 6.11454916428861 & 8.96172635607764 & 5.5439454576181 & 3.40437729172903 & 4.46656703819761 & 6.68384762858978 & 4.62955139976453 & 3.31750720120221 & 0.350339806038672\\\\6.11454916428861 & 0 & 6.61551294283105 & 8.91622676181095 & 5.30265679067893 & 4.44782539038182 & 0.601846165480645 & 3.44987047052723 & 7.19751071354172 & 5.99198930956623\\\\8.96172635607764 & 6.61551294283105 & 0 & 8.20757776606394 & 9.05835740907213 & 5.39807887765857 & 6.70039353150005 & 8.35451128926497 & 7.53154711786155 & 8.65913810366208\\\\5.5439454576181 & 8.91622676181095 & 8.20757776606394 & 0 & 8.1632351727204 & 5.50007713390447 & 9.29843886386646 & 9.10987536394208 & 3.13884523510554 & 5.23095442295267\\\\3.40437729172903 & 5.30265679067893 & 9.05835740907213 & 8.1632351727204 & 0 & 5.40218247400413 & 5.90120630318665 & 1.99045451433078 & 6.61112296419712 & 3.60069431052831\\\\4.46656703819761 & 4.44782539038182 & 5.39807887765857 & 5.50007713390447 & 5.40218247400413 & 0 & 4.62995573011611 & 5.68731146982036 & 3.61661558064796 & 4.23745783293259\\\\6.68384762858978 & 0.601846165480645 & 6.70039353150005 & 9.29843886386646 & 5.90120630318665 & 4.62995573011611 & 0 & 4.02770351913122 & 7.56130493603761 & 6.55245911199444\\\\4.62955139976453 & 3.44987047052723 & 8.35451128926497 & 9.10987536394208 & 1.99045451433078 & 5.68731146982036 & 4.02770351913122 & 0 & 7.61874412977636 & 4.76236483015256\\\\3.31750720120221 & 7.19751071354172 & 7.53154711786155 & 3.13884523510554 & 6.61112296419712 & 3.61661558064796 & 7.56130493603761 & 7.61874412977636 & 0 & 3.06676249438003\\\\0.350339806038672 & 5.99198930956623 & 8.65913810366208 & 5.23095442295267 & 3.60069431052831 & 4.23745783293259 & 6.55245911199444 & 4.76236483015256 & 3.06676249438003 & 0\\end{matrix}\\right]$"
      ],
      "text/plain": [
       "Matrix([\n",
       "[                0,  6.11454916428861, 8.96172635607764,  5.5439454576181, 3.40437729172903, 4.46656703819761,  6.68384762858978, 4.62955139976453, 3.31750720120221, 0.350339806038672],\n",
       "[ 6.11454916428861,                 0, 6.61551294283105, 8.91622676181095, 5.30265679067893, 4.44782539038182, 0.601846165480645, 3.44987047052723, 7.19751071354172,  5.99198930956623],\n",
       "[ 8.96172635607764,  6.61551294283105,                0, 8.20757776606394, 9.05835740907213, 5.39807887765857,  6.70039353150005, 8.35451128926497, 7.53154711786155,  8.65913810366208],\n",
       "[  5.5439454576181,  8.91622676181095, 8.20757776606394,                0,  8.1632351727204, 5.50007713390447,  9.29843886386646, 9.10987536394208, 3.13884523510554,  5.23095442295267],\n",
       "[ 3.40437729172903,  5.30265679067893, 9.05835740907213,  8.1632351727204,                0, 5.40218247400413,  5.90120630318665, 1.99045451433078, 6.61112296419712,  3.60069431052831],\n",
       "[ 4.46656703819761,  4.44782539038182, 5.39807887765857, 5.50007713390447, 5.40218247400413,                0,  4.62995573011611, 5.68731146982036, 3.61661558064796,  4.23745783293259],\n",
       "[ 6.68384762858978, 0.601846165480645, 6.70039353150005, 9.29843886386646, 5.90120630318665, 4.62995573011611,                 0, 4.02770351913122, 7.56130493603761,  6.55245911199444],\n",
       "[ 4.62955139976453,  3.44987047052723, 8.35451128926497, 9.10987536394208, 1.99045451433078, 5.68731146982036,  4.02770351913122,                0, 7.61874412977636,  4.76236483015256],\n",
       "[ 3.31750720120221,  7.19751071354172, 7.53154711786155, 3.13884523510554, 6.61112296419712, 3.61661558064796,  7.56130493603761, 7.61874412977636,                0,  3.06676249438003],\n",
       "[0.350339806038672,  5.99198930956623, 8.65913810366208, 5.23095442295267, 3.60069431052831, 4.23745783293259,  6.55245911199444, 4.76236483015256, 3.06676249438003,                 0]])"
      ]
     },
     "metadata": {},
     "output_type": "display_data"
    }
   ],
   "source": [
    "dist_mat_scpy = distance_matrix(data, data, p=3)\n",
    "print(\"\\t\\t\\t Matriz de distancia de minkowski con Scipy\")\n",
    "display(sp.Matrix(dist_mat_scpy))"
   ]
  },
  {
   "cell_type": "markdown",
   "id": "a0d9a815-76d1-4b05-9e67-28fea21a5660",
   "metadata": {},
   "source": [
    "Además, Usando los métodos “dendrogram” y “linkage” construya un diagrama en forma\n",
    "de árbol (dendrograma) para el conjunto de datos en “movies.csv”. Repita el proceso ahora\n",
    "usando algún esquema de normalización del rango de los datos."
   ]
  },
  {
   "cell_type": "code",
   "execution_count": 419,
   "id": "9fffa2c4-a47f-47be-a10a-d273e79312e6",
   "metadata": {},
   "outputs": [],
   "source": [
    "from scipy.cluster.hierarchy import dendrogram,linkage"
   ]
  },
  {
   "cell_type": "code",
   "execution_count": 420,
   "id": "3cbe6db5-c8d4-44c7-893a-0c2c3dac5942",
   "metadata": {},
   "outputs": [
    {
     "data": {
      "image/png": "[encoded data removed]",
      "text/plain": [
       "<Figure size 1800x720 with 1 Axes>"
      ]
     },
     "metadata": {
      "needs_background": "light"
     },
     "output_type": "display_data"
    }
   ],
   "source": [
    "Z = linkage(data, \"ward\")\n",
    "plt.figure(figsize=(25,10))\n",
    "plt.title(\"Dendrograma del clustering jerárquico\")\n",
    "plt.xlabel(\"Índices de la Muestra\")\n",
    "plt.ylabel(\"Distancias\")\n",
    "dendrogram(Z, leaf_rotation=90., leaf_font_size=8.0, color_threshold=0.7*180)\n",
    "plt.show()"
   ]
  },
  {
   "cell_type": "markdown",
   "id": "1b23cf8e-439d-4375-bff3-534e421696eb",
   "metadata": {},
   "source": [
    "### Normalizando los datos."
   ]
  },
  {
   "cell_type": "code",
   "execution_count": 421,
   "id": "d9550e60-f618-4953-9053-c6ff556f920c",
   "metadata": {},
   "outputs": [
    {
     "data": {
      "text/plain": [
       "array([[-0.83997603, -0.11622047, -0.98229819],\n",
       "       [-0.37332268,  0.97761925,  1.03803142],\n",
       "       [ 2.37474706, -0.7656878 ,  1.7346968 ],\n",
       "       [ 1.44144035, -1.62025008, -1.08679799],\n",
       "       [-0.68442492,  1.04598423, -0.80813184],\n",
       "       [-0.16592119, -0.52641036,  0.55036565],\n",
       "       [-0.42517305,  1.01180174,  1.24703103],\n",
       "       [-0.5288738 ,  1.38780914, -0.14629973],\n",
       "       [-0.11407082, -1.21006019, -0.6339655 ],\n",
       "       [-0.68442492, -0.18458545, -0.91263165]])"
      ]
     },
     "execution_count": 421,
     "metadata": {},
     "output_type": "execute_result"
    }
   ],
   "source": [
    "data_norm = np.zeros((data.shape[0], data.shape[1]))\n",
    "for col in range(data.shape[1]):\n",
    "    data_norm[:,col] = (data[:,col] - data[:,col].mean()) / data[:,col].std()\n",
    "data_norm"
   ]
  },
  {
   "cell_type": "code",
   "execution_count": 422,
   "id": "74339d15-bd13-4fcd-826d-ab9072b9c34e",
   "metadata": {},
   "outputs": [
    {
     "data": {
      "image/png": "[encoded data removed]",
      "text/plain": [
       "<Figure size 1800x720 with 1 Axes>"
      ]
     },
     "metadata": {
      "needs_background": "light"
     },
     "output_type": "display_data"
    }
   ],
   "source": [
    "Z = linkage(data_norm, \"ward\")\n",
    "plt.figure(figsize=(25,10))\n",
    "plt.title(\"Dendrograma del clustering jerárquico\")\n",
    "plt.xlabel(\"Índices de la Muestra\")\n",
    "plt.ylabel(\"Distancias\")\n",
    "dendrogram(Z, leaf_rotation=90., leaf_font_size=8.0, color_threshold=0.7*180)\n",
    "plt.show()"
   ]
  },
  {
   "cell_type": "markdown",
   "id": "bbb0e287-028d-40f6-a3a2-493eeb784aba",
   "metadata": {},
   "source": [
    "i) ¿Que diferencias puede encontrar en los resultados previos?.\n",
    "Podemos ver que al normalizar las variables los dendrogramas se apachurran en el eje y, es decir, la altura de los rectuangulos se hacen más pequeñas, pero sigue conservando el mismo orden en eje x.\n",
    "\n",
    "ii) ¿En qué casos resulta importante llevar a cabo un proceso de normalización del rango\n",
    "de datos?.\n",
    "Es muy importante cuando el rango de los datos es superior a los demas, ya que esto puede sesgar a los dato pequeños.\n",
    "\n",
    "iii) Consulte los diferentes tipos de distancias que se pueden usar como parámetro en el\n",
    "método “linkage”, ¿qué características de los datos se podría basar uno para elegir una\n",
    "determinada distancia?.\n",
    "\n",
    "Existen otros tipos de enlazamiento, cada uno resuelve soluciones distintas: \n",
    "\n",
    "- Single linkage: utiliza la distancia más corta entre dos vectores de cada grupo.\n",
    "- Complete linkage: toma en cuenta la distancia más grande entre dos vectores de cada grupo.\n",
    "- Average linkage: usa la distancia promedio entre todos los vectores de cada grupo.\n",
    "- Ward linkage: la distancia es la suma de las diferencias al cuadrado en los grupos."
   ]
  },
  {
   "cell_type": "markdown",
   "id": "d04cf12b-c4b6-4372-9549-991d68824c69",
   "metadata": {},
   "source": [
    "### Referencias\n",
    "- https://docs.scipy.org/doc/scipy/reference/spatial.distance.html\n",
    "- https://www.encyclopedia-titanica.org/\n",
    "- https://www.kaggle.com/vinicius150987/titanic3"
   ]
  }
 ],
 "metadata": {
  "kernelspec": {
   "display_name": "Python 3",
   "language": "python",
   "name": "python3"
  },
  "language_info": {
   "codemirror_mode": {
    "name": "ipython",
    "version": 3
   },
   "file_extension": ".py",
   "mimetype": "text/x-python",
   "name": "python",
   "nbconvert_exporter": "python",
   "pygments_lexer": "ipython3",
   "version": "3.9.7"
  }
 },
 "nbformat": 4,
 "nbformat_minor": 5
}
