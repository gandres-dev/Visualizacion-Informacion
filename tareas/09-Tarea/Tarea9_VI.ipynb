{
 "cells": [
  {
   "cell_type": "code",
   "execution_count": 36,
   "id": "5d934f71-f00a-4221-8cf8-e6d8aa93f83a",
   "metadata": {},
   "outputs": [],
   "source": [
    "import pandas as pd\n",
    "import numpy as np\n",
    "import seaborn as sns\n",
    "import matplotlib.pyplot as plt"
   ]
  },
  {
   "cell_type": "markdown",
   "id": "88480c1e-67b0-4666-9bb9-7a4e4fecb1a3",
   "metadata": {},
   "source": [
    "# Visualización de la Información - Tarea 9\n",
    "Elaborada por: __Andrés Urbano Guillermo Gerardo__\n"
   ]
  },
  {
   "cell_type": "markdown",
   "id": "a44cc43f-b4ba-453a-a565-e5573c05d183",
   "metadata": {},
   "source": [
    "## Descripción\n",
    "\n",
    "Explorar la Base de Datos Global de Plantas de Energía para Puerto Rico, usando eldataset gppd\\_120\\_pr.csv el cual consta de todas las plantas de energía que pertenecen a Puerto Rico, un territorio no incorporado de los Estados Unidos ubicado en el noreste del Mar Caribe. \n",
    "\n",
    "Leemos nuestro conjunto de datos:"
   ]
  },
  {
   "cell_type": "code",
   "execution_count": 37,
   "id": "9e8f7c36-44d0-487a-96ee-0e38c25a1709",
   "metadata": {},
   "outputs": [
    {
     "data": {
      "text/html": [
       "<div>\n",
       "<style scoped>\n",
       "    .dataframe tbody tr th:only-of-type {\n",
       "        vertical-align: middle;\n",
       "    }\n",
       "\n",
       "    .dataframe tbody tr th {\n",
       "        vertical-align: top;\n",
       "    }\n",
       "\n",
       "    .dataframe thead th {\n",
       "        text-align: right;\n",
       "    }\n",
       "</style>\n",
       "<table border=\"1\" class=\"dataframe\">\n",
       "  <thead>\n",
       "    <tr style=\"text-align: right;\">\n",
       "      <th></th>\n",
       "      <th>system:index</th>\n",
       "      <th>capacity_mw</th>\n",
       "      <th>commissioning_year</th>\n",
       "      <th>country</th>\n",
       "      <th>country_long</th>\n",
       "      <th>estimated_generation_gwh</th>\n",
       "      <th>generation_gwh_2013</th>\n",
       "      <th>generation_gwh_2014</th>\n",
       "      <th>generation_gwh_2015</th>\n",
       "      <th>generation_gwh_2016</th>\n",
       "      <th>...</th>\n",
       "      <th>other_fuel1</th>\n",
       "      <th>other_fuel2</th>\n",
       "      <th>other_fuel3</th>\n",
       "      <th>owner</th>\n",
       "      <th>primary_fuel</th>\n",
       "      <th>source</th>\n",
       "      <th>url</th>\n",
       "      <th>wepp_id</th>\n",
       "      <th>year_of_capacity_data</th>\n",
       "      <th>.geo</th>\n",
       "    </tr>\n",
       "  </thead>\n",
       "  <tbody>\n",
       "    <tr>\n",
       "      <th>30</th>\n",
       "      <td>00000000000000004348</td>\n",
       "      <td>864.000000</td>\n",
       "      <td>2009.0</td>\n",
       "      <td>USA</td>\n",
       "      <td>United States of America</td>\n",
       "      <td>4826.129585</td>\n",
       "      <td>0.0</td>\n",
       "      <td>0.0</td>\n",
       "      <td>0.0</td>\n",
       "      <td>0.0</td>\n",
       "      <td>...</td>\n",
       "      <td>NaN</td>\n",
       "      <td>NaN</td>\n",
       "      <td>NaN</td>\n",
       "      <td>PREPA</td>\n",
       "      <td>Oil</td>\n",
       "      <td>PREPA</td>\n",
       "      <td>http://www.prepa.com/sanjuan.asp</td>\n",
       "      <td>30947.0</td>\n",
       "      <td>0</td>\n",
       "      <td>{\"type\":\"Point\",\"coordinates\":[-66.10450095444...</td>\n",
       "    </tr>\n",
       "    <tr>\n",
       "      <th>31</th>\n",
       "      <td>00000000000000004106</td>\n",
       "      <td>23.400000</td>\n",
       "      <td>2011.0</td>\n",
       "      <td>USA</td>\n",
       "      <td>United States of America</td>\n",
       "      <td>4.151337</td>\n",
       "      <td>0.0</td>\n",
       "      <td>0.0</td>\n",
       "      <td>0.0</td>\n",
       "      <td>0.0</td>\n",
       "      <td>...</td>\n",
       "      <td>NaN</td>\n",
       "      <td>NaN</td>\n",
       "      <td>NaN</td>\n",
       "      <td>Sovereign Bank</td>\n",
       "      <td>Wind</td>\n",
       "      <td>Gestamp Wind</td>\n",
       "      <td>http://www.gestampwind.com/en/business/innovat...</td>\n",
       "      <td>64313.0</td>\n",
       "      <td>0</td>\n",
       "      <td>{\"type\":\"Point\",\"coordinates\":[-65.69480320875...</td>\n",
       "    </tr>\n",
       "    <tr>\n",
       "      <th>32</th>\n",
       "      <td>00000000000000003a3d</td>\n",
       "      <td>26.000000</td>\n",
       "      <td>2012.0</td>\n",
       "      <td>USA</td>\n",
       "      <td>United States of America</td>\n",
       "      <td>11.594119</td>\n",
       "      <td>0.0</td>\n",
       "      <td>0.0</td>\n",
       "      <td>0.0</td>\n",
       "      <td>0.0</td>\n",
       "      <td>...</td>\n",
       "      <td>NaN</td>\n",
       "      <td>NaN</td>\n",
       "      <td>NaN</td>\n",
       "      <td>Uriel Renewables and Coqui Power</td>\n",
       "      <td>Solar</td>\n",
       "      <td>Clean Technica</td>\n",
       "      <td>http://www.eosolenergy.com/proyectos.html</td>\n",
       "      <td>NaN</td>\n",
       "      <td>0</td>\n",
       "      <td>{\"type\":\"Point\",\"coordinates\":[-65.90280243648...</td>\n",
       "    </tr>\n",
       "    <tr>\n",
       "      <th>33</th>\n",
       "      <td>00000000000000004368</td>\n",
       "      <td>101.199997</td>\n",
       "      <td>2012.0</td>\n",
       "      <td>USA</td>\n",
       "      <td>United States of America</td>\n",
       "      <td>17.953645</td>\n",
       "      <td>0.0</td>\n",
       "      <td>0.0</td>\n",
       "      <td>0.0</td>\n",
       "      <td>0.0</td>\n",
       "      <td>...</td>\n",
       "      <td>NaN</td>\n",
       "      <td>NaN</td>\n",
       "      <td>NaN</td>\n",
       "      <td>Pattern Energy</td>\n",
       "      <td>Wind</td>\n",
       "      <td>Pattern Energy</td>\n",
       "      <td>http://patternenergy.com/en/operations/facilit...</td>\n",
       "      <td>NaN</td>\n",
       "      <td>0</td>\n",
       "      <td>{\"type\":\"Point\",\"coordinates\":[-66.39800344487...</td>\n",
       "    </tr>\n",
       "    <tr>\n",
       "      <th>34</th>\n",
       "      <td>00000000000000003ee1</td>\n",
       "      <td>57.650002</td>\n",
       "      <td>2015.0</td>\n",
       "      <td>USA</td>\n",
       "      <td>United States of America</td>\n",
       "      <td>25.707730</td>\n",
       "      <td>0.0</td>\n",
       "      <td>0.0</td>\n",
       "      <td>0.0</td>\n",
       "      <td>0.0</td>\n",
       "      <td>...</td>\n",
       "      <td>NaN</td>\n",
       "      <td>NaN</td>\n",
       "      <td>NaN</td>\n",
       "      <td>Sonnedix</td>\n",
       "      <td>Solar</td>\n",
       "      <td>Sonnedix</td>\n",
       "      <td>http://www.sonnedix.com/news/sonnedix-and-yaro...</td>\n",
       "      <td>NaN</td>\n",
       "      <td>0</td>\n",
       "      <td>{\"type\":\"Point\",\"coordinates\":[-67.04429663336...</td>\n",
       "    </tr>\n",
       "  </tbody>\n",
       "</table>\n",
       "<p>5 rows × 24 columns</p>\n",
       "</div>"
      ],
      "text/plain": [
       "            system:index  capacity_mw  commissioning_year country  \\\n",
       "30  00000000000000004348   864.000000              2009.0     USA   \n",
       "31  00000000000000004106    23.400000              2011.0     USA   \n",
       "32  00000000000000003a3d    26.000000              2012.0     USA   \n",
       "33  00000000000000004368   101.199997              2012.0     USA   \n",
       "34  00000000000000003ee1    57.650002              2015.0     USA   \n",
       "\n",
       "                country_long  estimated_generation_gwh  generation_gwh_2013  \\\n",
       "30  United States of America               4826.129585                  0.0   \n",
       "31  United States of America                  4.151337                  0.0   \n",
       "32  United States of America                 11.594119                  0.0   \n",
       "33  United States of America                 17.953645                  0.0   \n",
       "34  United States of America                 25.707730                  0.0   \n",
       "\n",
       "    generation_gwh_2014  generation_gwh_2015  generation_gwh_2016  ...  \\\n",
       "30                  0.0                  0.0                  0.0  ...   \n",
       "31                  0.0                  0.0                  0.0  ...   \n",
       "32                  0.0                  0.0                  0.0  ...   \n",
       "33                  0.0                  0.0                  0.0  ...   \n",
       "34                  0.0                  0.0                  0.0  ...   \n",
       "\n",
       "    other_fuel1 other_fuel2 other_fuel3                             owner  \\\n",
       "30          NaN         NaN         NaN                             PREPA   \n",
       "31          NaN         NaN         NaN                    Sovereign Bank   \n",
       "32          NaN         NaN         NaN  Uriel Renewables and Coqui Power   \n",
       "33          NaN         NaN         NaN                    Pattern Energy   \n",
       "34          NaN         NaN         NaN                          Sonnedix   \n",
       "\n",
       "    primary_fuel          source  \\\n",
       "30           Oil           PREPA   \n",
       "31          Wind    Gestamp Wind   \n",
       "32         Solar  Clean Technica   \n",
       "33          Wind  Pattern Energy   \n",
       "34         Solar        Sonnedix   \n",
       "\n",
       "                                                  url  wepp_id  \\\n",
       "30                   http://www.prepa.com/sanjuan.asp  30947.0   \n",
       "31  http://www.gestampwind.com/en/business/innovat...  64313.0   \n",
       "32          http://www.eosolenergy.com/proyectos.html      NaN   \n",
       "33  http://patternenergy.com/en/operations/facilit...      NaN   \n",
       "34  http://www.sonnedix.com/news/sonnedix-and-yaro...      NaN   \n",
       "\n",
       "   year_of_capacity_data                                               .geo  \n",
       "30                     0  {\"type\":\"Point\",\"coordinates\":[-66.10450095444...  \n",
       "31                     0  {\"type\":\"Point\",\"coordinates\":[-65.69480320875...  \n",
       "32                     0  {\"type\":\"Point\",\"coordinates\":[-65.90280243648...  \n",
       "33                     0  {\"type\":\"Point\",\"coordinates\":[-66.39800344487...  \n",
       "34                     0  {\"type\":\"Point\",\"coordinates\":[-67.04429663336...  \n",
       "\n",
       "[5 rows x 24 columns]"
      ]
     },
     "execution_count": 37,
     "metadata": {},
     "output_type": "execute_result"
    }
   ],
   "source": [
    "df = pd.read_csv(\"gppd_120_pr.csv\")\n",
    "df.tail()"
   ]
  },
  {
   "cell_type": "markdown",
   "id": "babd1f02-454d-48b5-81e0-bb29654ce287",
   "metadata": {},
   "source": [
    "Tenenemos un conjunto de datos que  consta de todas las plantas de energía que pertenecen a Puerto Rico, un territorio no incorporado de los Estados Unidos ubicado en el noreste del Mar Caribe."
   ]
  },
  {
   "cell_type": "code",
   "execution_count": 38,
   "id": "cfd6337f-f39c-4b84-b5d6-053f52999eea",
   "metadata": {},
   "outputs": [
    {
     "name": "stdout",
     "output_type": "stream",
     "text": [
      "Atributos del dataset:\n",
      "Index(['system:index', 'capacity_mw', 'commissioning_year', 'country',\n",
      "       'country_long', 'estimated_generation_gwh', 'generation_gwh_2013',\n",
      "       'generation_gwh_2014', 'generation_gwh_2015', 'generation_gwh_2016',\n",
      "       'generation_gwh_2017', 'geolocation_source', 'gppd_idnr', 'name',\n",
      "       'other_fuel1', 'other_fuel2', 'other_fuel3', 'owner', 'primary_fuel',\n",
      "       'source', 'url', 'wepp_id', 'year_of_capacity_data', '.geo'],\n",
      "      dtype='object')\n"
     ]
    }
   ],
   "source": [
    "print(\"Atributos del dataset:\\n{}\".format(df.columns))"
   ]
  },
  {
   "cell_type": "markdown",
   "id": "e0cad02e-c9c0-43e3-a04b-581cbed0b606",
   "metadata": {},
   "source": [
    "## Actividad 1\n",
    "Elabore una gráfica de barras donde indique los tipos de Centrales Eléctricas en función del\n",
    "Combustible primario utilizado, es decir, en función del combustible principal utilizado\n",
    "(primary_fuel)."
   ]
  },
  {
   "cell_type": "code",
   "execution_count": 39,
   "id": "ee2750c0-1597-4a9b-b671-bf2627cc6555",
   "metadata": {},
   "outputs": [
    {
     "data": {
      "text/plain": [
       "Text(0.5, 1.0, 'Histograma de Tipos de Centrales Eléctricas')"
      ]
     },
     "execution_count": 39,
     "metadata": {},
     "output_type": "execute_result"
    },
    {
     "data": {
      "image/png": "[encoded data removed]",
      "text/plain": [
       "<Figure size 432x288 with 1 Axes>"
      ]
     },
     "metadata": {
      "needs_background": "light"
     },
     "output_type": "display_data"
    }
   ],
   "source": [
    "df.primary_fuel.hist(color=['#96CEB4']);\n",
    "plt.title(\"Histograma de Tipos de Centrales Eléctricas\")"
   ]
  },
  {
   "cell_type": "markdown",
   "id": "0998f92f",
   "metadata": {},
   "source": [
    "Vemos que las principales centrales de combustible en Puerto Rico son de energías Hidráulicas seguido  de Gas. Además vemos que contiene al menos una de cada tipo."
   ]
  },
  {
   "cell_type": "markdown",
   "id": "4901dc6b-50b9-47cc-bbfc-4622f8a76d86",
   "metadata": {},
   "source": [
    "- ¿Cuántos años tienen las plantas de energía?\n",
    "\n",
    "Las centrales eléctricas construidas hace décadas tienden a contaminar más ya que no cumplen con\n",
    "los nuevos requisitos anticontaminación. Observe que muchas centrales eléctricas no tienen su fecha\n",
    "de puesta en marcha. Para ello utilice (commissioning_year)."
   ]
  },
  {
   "cell_type": "code",
   "execution_count": 40,
   "id": "575b2b73-163a-4a87-977b-7e72a1743994",
   "metadata": {},
   "outputs": [
    {
     "name": "stdout",
     "output_type": "stream",
     "text": [
      "Años:\n",
      "[   0. 1915. 1929. 1937. 1941. 1942. 1960. 1962. 1975. 2009. 2011. 2012.\n",
      " 2015.]\n"
     ]
    }
   ],
   "source": [
    "print('Años:\\n{}'.format(np.unique(df.commissioning_year)))"
   ]
  },
  {
   "cell_type": "code",
   "execution_count": 41,
   "id": "cfab10be-c1cd-4b9d-9e72-a76c8363edff",
   "metadata": {},
   "outputs": [
    {
     "data": {
      "image/png": "[encoded data removed]",
      "text/plain": [
       "<Figure size 432x288 with 1 Axes>"
      ]
     },
     "metadata": {
      "needs_background": "light"
     },
     "output_type": "display_data"
    }
   ],
   "source": [
    "only_years = df[df.commissioning_year != 0.0].commissioning_year\n",
    "only_years.hist(color=['#6867AC'])\n",
    "plt.title(\"Histograma de años de las plantas de energia\");"
   ]
  },
  {
   "cell_type": "markdown",
   "id": "28729081",
   "metadata": {},
   "source": [
    "Vemos que existen dos tendencia en los diferentes años, por una parte tenemos una mayor cantidad de plantas recientes que estan por encima del año 2000 por lo que cumple con los requisitos de anticontaminación, y segunda lugar tenemos plantas del año de 1940 que posible no cumplen con los requisitos más nuevos."
   ]
  },
  {
   "cell_type": "markdown",
   "id": "d3afaa3f-9035-41dd-9ccc-ad0399ec0875",
   "metadata": {},
   "source": [
    "- De acuerdo con la información observada en el dataset, ¿De dónde provienen la mayoría de los datos? (CEPR, PREPA, Sonnedix, Clean Technica, PV Tech, Fluor, TSK, etc.) Para ello utilice (source) y puede elaborar una gráfica de su elección para responder."
   ]
  },
  {
   "cell_type": "markdown",
   "id": "41a7fbf9-e39a-47b6-9258-35ffaab1aeac",
   "metadata": {},
   "source": [
    "¿Quién es el propietario (owner) de las centrales eléctricas?\n",
    "Elabore una gráfica de barras horizontal para dar su respuesta."
   ]
  },
  {
   "cell_type": "code",
   "execution_count": 42,
   "id": "8bbbd9ef-4a69-4537-95d4-f071658b3362",
   "metadata": {},
   "outputs": [
    {
     "data": {
      "text/html": [
       "<div>\n",
       "<style scoped>\n",
       "    .dataframe tbody tr th:only-of-type {\n",
       "        vertical-align: middle;\n",
       "    }\n",
       "\n",
       "    .dataframe tbody tr th {\n",
       "        vertical-align: top;\n",
       "    }\n",
       "\n",
       "    .dataframe thead th {\n",
       "        text-align: right;\n",
       "    }\n",
       "</style>\n",
       "<table border=\"1\" class=\"dataframe\">\n",
       "  <thead>\n",
       "    <tr style=\"text-align: right;\">\n",
       "      <th></th>\n",
       "      <th>source</th>\n",
       "      <th>total</th>\n",
       "    </tr>\n",
       "  </thead>\n",
       "  <tbody>\n",
       "    <tr>\n",
       "      <th>0</th>\n",
       "      <td>CEPR</td>\n",
       "      <td>14</td>\n",
       "    </tr>\n",
       "    <tr>\n",
       "      <th>1</th>\n",
       "      <td>PREPA</td>\n",
       "      <td>9</td>\n",
       "    </tr>\n",
       "    <tr>\n",
       "      <th>2</th>\n",
       "      <td>PREPA; CEPR</td>\n",
       "      <td>3</td>\n",
       "    </tr>\n",
       "    <tr>\n",
       "      <th>3</th>\n",
       "      <td>Sonnedix</td>\n",
       "      <td>2</td>\n",
       "    </tr>\n",
       "    <tr>\n",
       "      <th>4</th>\n",
       "      <td>TSK</td>\n",
       "      <td>1</td>\n",
       "    </tr>\n",
       "    <tr>\n",
       "      <th>5</th>\n",
       "      <td>PV Tech</td>\n",
       "      <td>1</td>\n",
       "    </tr>\n",
       "    <tr>\n",
       "      <th>6</th>\n",
       "      <td>Fluor; PREPA</td>\n",
       "      <td>1</td>\n",
       "    </tr>\n",
       "    <tr>\n",
       "      <th>7</th>\n",
       "      <td>Windmar Renewable Energy</td>\n",
       "      <td>1</td>\n",
       "    </tr>\n",
       "    <tr>\n",
       "      <th>8</th>\n",
       "      <td>Gestamp Wind</td>\n",
       "      <td>1</td>\n",
       "    </tr>\n",
       "    <tr>\n",
       "      <th>9</th>\n",
       "      <td>Clean Technica</td>\n",
       "      <td>1</td>\n",
       "    </tr>\n",
       "    <tr>\n",
       "      <th>10</th>\n",
       "      <td>Pattern Energy</td>\n",
       "      <td>1</td>\n",
       "    </tr>\n",
       "  </tbody>\n",
       "</table>\n",
       "</div>"
      ],
      "text/plain": [
       "                      source  total\n",
       "0                       CEPR     14\n",
       "1                      PREPA      9\n",
       "2                PREPA; CEPR      3\n",
       "3                   Sonnedix      2\n",
       "4                        TSK      1\n",
       "5                    PV Tech      1\n",
       "6               Fluor; PREPA      1\n",
       "7   Windmar Renewable Energy      1\n",
       "8               Gestamp Wind      1\n",
       "9             Clean Technica      1\n",
       "10            Pattern Energy      1"
      ]
     },
     "execution_count": 42,
     "metadata": {},
     "output_type": "execute_result"
    }
   ],
   "source": [
    "all_sources = df.source.value_counts()\n",
    "df_all_sources = pd.DataFrame(dict(source=all_sources.index.values, \n",
    "                                   total=all_sources.values))\n",
    "df_all_sources"
   ]
  },
  {
   "cell_type": "code",
   "execution_count": 43,
   "id": "1df76f10-7bf4-4f14-b6e1-b6d0b9d9d176",
   "metadata": {},
   "outputs": [
    {
     "data": {
      "image/png": "[encoded data removed]",
      "text/plain": [
       "<Figure size 432x288 with 1 Axes>"
      ]
     },
     "metadata": {
      "needs_background": "light"
     },
     "output_type": "display_data"
    }
   ],
   "source": [
    "sns.barplot(data=df_all_sources, x=\"total\", y=\"source\").set_title(\"Fuente de los datos\");"
   ]
  },
  {
   "cell_type": "markdown",
   "id": "045385e7",
   "metadata": {},
   "source": [
    "En este histograma de barras horizontales deseamos mostrar De de dónde provienen la mayoría de los datos, es decir su fuente. Vemos que la mayoria de los datos provienen del Centro de Investigación Económica y Política (CEPR) seguido de PREPA - Puerto Rico Electric Power Authority."
   ]
  },
  {
   "cell_type": "markdown",
   "id": "ced159a5-c11f-438e-a4b5-03f131057848",
   "metadata": {},
   "source": [
    "## Actividad 2\n",
    "\n",
    "Mencione cuál es la Capacidad Total Instalada (capacity_mw).\n",
    "\n",
    "La capacidad instalada total de una planta de energía se refiere a la producción máxima de\n",
    "electricidad que puede producir en condiciones ideales, pero esta no será necesariamente la cantidad\n",
    "real de electricidad producida. Por lo general, se expresa en Megavatios (MW).\n",
    "\n",
    "- Elabore una gráfica de su elección que muestre la Capacidad total de todas las plantas (Oil, Gas, Coal, Solar, Wind, Hydro) y el porcentaje del total que representan."
   ]
  },
  {
   "cell_type": "code",
   "execution_count": 44,
   "id": "5f9c88c2-a291-4808-92d6-b54c85b494c4",
   "metadata": {},
   "outputs": [
    {
     "data": {
      "image/png": "[encoded data removed]",
      "text/plain": [
       "<Figure size 432x288 with 1 Axes>"
      ]
     },
     "metadata": {
      "needs_background": "light"
     },
     "output_type": "display_data"
    }
   ],
   "source": [
    "all_plants = df[['primary_fuel', 'capacity_mw']]\n",
    "all_plants_total = all_plants.groupby([\"primary_fuel\"]).sum()\n",
    "gwh_total = np.sum(all_plants_total['capacity_mw'])\n",
    "all_plants_total['capacity_mw'] = all_plants_total['capacity_mw'] / gwh_total\n",
    "all_plants_total['primary_fuel'] = all_plants_total.index.values\n",
    "sns.barplot(data=all_plants_total, x=\"primary_fuel\",\n",
    "            y=\"capacity_mw\").set_title(\"Capacidad total de las plantas\");"
   ]
  },
  {
   "cell_type": "markdown",
   "id": "85eea04d",
   "metadata": {},
   "source": [
    "Vemos en el histograma que la mayor capacidad total es la energía del petroleo con una gran diferentes con las demas energías."
   ]
  },
  {
   "cell_type": "markdown",
   "id": "aaaa124f-e2ce-4034-a04b-a66c08049b16",
   "metadata": {},
   "source": [
    "- ¿Cuál es la Generación estimada (estimated_generation_gwh) de todas las plantas? \n",
    "\n",
    "La generación de electricidad, por otro lado, se refiere a la cantidad de electricidad que se produce durante un período de tiempo específico. Este suele medirse en Kilovatios-hora, Megavatios-hora o Gigavatios-hora.\n",
    "\n",
    "Elabore una gráfica de su preferencia que muestre la Generación estimada total de todas las\n",
    "plantas (Oil, Gas, Coal, Solar, Wind, Hydro) y el porcentaje del total que representan."
   ]
  },
  {
   "cell_type": "code",
   "execution_count": 45,
   "id": "c7228676-7772-4939-a79a-dbb9a1f77919",
   "metadata": {},
   "outputs": [
    {
     "data": {
      "image/png": "[encoded data removed]",
      "text/plain": [
       "<Figure size 432x288 with 1 Axes>"
      ]
     },
     "metadata": {
      "needs_background": "light"
     },
     "output_type": "display_data"
    }
   ],
   "source": [
    "all_plants = df[['primary_fuel', 'estimated_generation_gwh']]\n",
    "all_plants_total = all_plants.groupby([\"primary_fuel\"]).sum()\n",
    "gwh_total = np.sum(all_plants_total['estimated_generation_gwh'])\n",
    "all_plants_total['estimated_generation_gwh'] = all_plants_total['estimated_generation_gwh'] / gwh_total\n",
    "all_plants_total['primary_fuel'] = all_plants_total.index.values\n",
    "sns.barplot(data=all_plants_total, x=\"primary_fuel\",\n",
    "            y=\"estimated_generation_gwh\").set_title(\"Generacion estimada de las plantas\");"
   ]
  },
  {
   "cell_type": "markdown",
   "id": "1d1246d9-a1df-4c6a-9805-54c2fbeb8af5",
   "metadata": {},
   "source": [
    "De acuerdo con su gráfica, qué puede decir sobre la generación estimada que proviene de plantas\n",
    "alimentadas con combustibles fósiles (carbón)."
   ]
  },
  {
   "cell_type": "markdown",
   "id": "ae79ebe6",
   "metadata": {},
   "source": [
    "Por ultimo, hacemos un histograma que nos indique generación de electricidad de cada tipo. Observamos que la mayor cantidad generada es producida por las plantas alimentadas con combustibles fósiles (carbón) con una gran porcentaje del 94\\%."
   ]
  },
  {
   "cell_type": "markdown",
   "id": "fc97fd04",
   "metadata": {},
   "source": [
    "## Resources\n",
    "\n",
    "- https://pandas.pydata.org/docs/reference/api/pandas.DataFrame.hist.html\n",
    "- https://matplotlib.org/3.5.0/api/_as_gen/matplotlib.pyplot.hist.html\n",
    "- https://stackoverflow.com/questions/42406233/how-to-add-title-to-seaborn-boxplot"
   ]
  }
 ],
 "metadata": {
  "kernelspec": {
   "display_name": "Python 3",
   "language": "python",
   "name": "python3"
  },
  "language_info": {
   "codemirror_mode": {
    "name": "ipython",
    "version": 3
   },
   "file_extension": ".py",
   "mimetype": "text/x-python",
   "name": "python",
   "nbconvert_exporter": "python",
   "pygments_lexer": "ipython3",
   "version": "3.9.7"
  }
 },
 "nbformat": 4,
 "nbformat_minor": 5
}
