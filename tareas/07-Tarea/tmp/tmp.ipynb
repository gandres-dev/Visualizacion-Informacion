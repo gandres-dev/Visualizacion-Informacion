{
 "cells": [
  {
   "cell_type": "code",
   "execution_count": null,
   "id": "c8a0e433-9c9e-44b3-8f24-fb600ace62a5",
   "metadata": {},
   "outputs": [],
   "source": [
    "# plt.figure(figsize=(13,10), dpi=80) # \n",
    "# plt.xticks(    \n",
    "# )\n",
    "# sns.distplot(data['cty']);\n",
    "# plt.title('Curva de densidad sobre kilometraje en ciudad', fontsize=22);\n",
    "\n",
    "# fig, ax = plt.subplots(figsize=(10,8), dpi=80)\n",
    "# sns.kdeplot(data=data,  x=\"cty\", hue=\"class\", ax=ax)\n",
    "# plt.title('Curva de densidad sobre kilometraje en ciudad', fontsize=22);\n",
    "\n",
    "# fig, ax = plt.subplots(figsize=(10,8))\n",
    "# sns.kdeplot(data=data,  x=\"cty\", hue=\"class\", multiple=\"stack\", ax=ax)"
   ]
  }
 ],
 "metadata": {
  "kernelspec": {
   "display_name": "Python 3",
   "language": "python",
   "name": "python3"
  },
  "language_info": {
   "codemirror_mode": {
    "name": "ipython",
    "version": 3
   },
   "file_extension": ".py",
   "mimetype": "text/x-python",
   "name": "python",
   "nbconvert_exporter": "python",
   "pygments_lexer": "ipython3",
   "version": "3.10.0"
  }
 },
 "nbformat": 4,
 "nbformat_minor": 5
}
