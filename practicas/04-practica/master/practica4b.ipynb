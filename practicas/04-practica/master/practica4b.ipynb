{
 "cells": [
  {
   "cell_type": "markdown",
   "id": "558432a0",
   "metadata": {},
   "source": [
    "# PRACTICA-4b"
   ]
  },
  {
   "cell_type": "code",
   "execution_count": 23,
   "id": "cb7400ab",
   "metadata": {},
   "outputs": [],
   "source": [
    "import pandas as pd\n",
    "import numpy as np\n",
    "import matplotlib.pyplot as plt"
   ]
  },
  {
   "cell_type": "markdown",
   "id": "c66962dc",
   "metadata": {},
   "source": [
    "# Barras de error a gráficos"
   ]
  },
  {
   "cell_type": "markdown",
   "id": "f286600d",
   "metadata": {},
   "source": [
    "A menudo, se puede estar interesado en agregar barras de error a los gráficos para capturar la incertidumbre en torno a las mediciones o los valores calculados."
   ]
  },
  {
   "cell_type": "code",
   "execution_count": null,
   "id": "30472998",
   "metadata": {},
   "outputs": [],
   "source": [
    "# Supongamos que tenemos el siguiente conjunto de datos\n",
    "barWidth = 0.3\n",
    "bars1 = [10, 9, 8.]\n",
    "bars2 = [10.8, 9.5, 7.3]\n",
    "\n",
    "# Para crear un gráfico de barras con barras de error para este conjunto de datos, \n",
    "# podemos definir el ancho de las barras de error como:\n",
    "yer1 = [0.5, 0.4, 0.5]\n",
    "yer2 = [1, 0.7, 1]\n",
    "\n",
    "# The x position of bars\n",
    "r1 = np.arange(len(bars1))\n",
    "print(r1)\n",
    "\n",
    "r2 = [x + barWidth for x in r1]\n",
    "print(r2)\n",
    "\n",
    "# barras grupo 1\n",
    "# capsize: define el ancho de los topes que limitan cada barra de error\n",
    "plt.bar(r1, bars1, width = barWidth, color = 'blue', edgecolor = 'black', yerr=yer1, capsize=7, label='grupo 1')\n",
    "\n",
    "# barras grupo 2\n",
    "plt.bar(r2, bars2, width = barWidth, color = 'cyan', edgecolor = 'black', yerr=yer2, capsize=7, label='grupo 2')\n",
    "\n",
    "# general layout\n",
    "plt.xticks([r + barWidth for r in range(len(bars1))], ['A', 'B', 'C'])\n",
    "plt.ylabel('Intensidad (mV)')\n",
    "plt.legend()\n",
    "plt.show()"
   ]
  },
  {
   "cell_type": "markdown",
   "id": "b6cba4f6",
   "metadata": {},
   "source": [
    "# Dispersión"
   ]
  },
  {
   "cell_type": "markdown",
   "id": "ee33abfa",
   "metadata": {},
   "source": [
    "Los gráficos de dispersión se utilizan para observar la relación entre variables y utiliza puntos para representar la relación entre ellas y cómo el cambio en una, afecta a la otra."
   ]
  },
  {
   "cell_type": "code",
   "execution_count": null,
   "id": "054c0583",
   "metadata": {},
   "outputs": [],
   "source": [
    "np.random.seed(4711)\n",
    "a = np.random.multivariate_normal([10,0],[[3,1],[1,4]], size = [200,])\n",
    "b = np.random.multivariate_normal([0,20], [[3,1],[1,4]], size = [100,])\n",
    "X = np.concatenate((a,b))\n",
    "print(X.shape)\n",
    "plt.scatter(X[:,0], X[:,1])\n",
    "plt.show()"
   ]
  },
  {
   "cell_type": "code",
   "execution_count": null,
   "id": "39a18d87",
   "metadata": {},
   "outputs": [],
   "source": [
    "idx = [33,62,68]\n",
    "idx2 = [15,69,41]\n",
    "plt.figure(figsize=(10,8))\n",
    "plt.scatter(X[:,0], X[:,1]) #pintar todos los puntos\n",
    "plt.scatter(X[idx,0], X[idx,1], c='r') #destacamos en rojo los puntos interesantes\n",
    "plt.scatter(X[idx2,0], X[idx2,1], c='y') #destacamos en amarillo el segundo cluster\n",
    "plt.show()"
   ]
  },
  {
   "cell_type": "markdown",
   "id": "ababc67e",
   "metadata": {},
   "source": [
    "# Clustering jerárquico"
   ]
  },
  {
   "cell_type": "markdown",
   "id": "ebfa47cf",
   "metadata": {},
   "source": [
    "Como su nombre lo indica, el clustering Jerárquico construye una jerarquía de clusters para realizar el análisis y existen dos categorías para este tipo de clustering: Aglomerante y Divisivo"
   ]
  },
  {
   "cell_type": "markdown",
   "id": "603e40eb",
   "metadata": {},
   "source": [
    "Para representar los resultados de la jerarquía de grupos se usa el dendograma que muestra las jerarquías de acuerdo a las distancias que existen entre los elementos del conjunto de datos, las cuales se pueden representar en una matriz de distancias."
   ]
  },
  {
   "cell_type": "markdown",
   "id": "9be96208",
   "metadata": {},
   "source": [
    "# Clustering Jerárquico Divisivo"
   ]
  },
  {
   "cell_type": "markdown",
   "id": "cbff3356",
   "metadata": {},
   "source": [
    "Este tipo de clustering se lleva a cabo con un enfoque de arriba hacia abajo (top-down), Se inicia con todos los elementos asignado a un solo cluster y sigue el algoritmo hasta que cada elemento es un cluster individual.\n",
    "\n",
    "A diferencia del enfoque de abajo hacia arriba (aglomerante) donde las decisiones para generar los clusters se basan en lo patrones locales sin tomar en cuenta la distribución global, el enfoque de arriba hacia abajo se beneficia de la información completa sobre la distribución global al ir haciendo las particiones.\n",
    "\n",
    "El siguiente diagrama muestra el proceso divisivo"
   ]
  },
  {
   "cell_type": "code",
   "execution_count": null,
   "id": "5f14168e",
   "metadata": {},
   "outputs": [],
   "source": [
    "from scipy.cluster.hierarchy import dendrogram,linkage"
   ]
  },
  {
   "cell_type": "code",
   "execution_count": null,
   "id": "8389e23f",
   "metadata": {},
   "outputs": [],
   "source": [
    "np.random.seed(4711)\n",
    "a = np.random.multivariate_normal([10,0],[[3,1],[1,4]], size = [100,])\n",
    "b = np.random.multivariate_normal([0,20], [[3,1],[1,4]], size = [50,])\n",
    "X = np.concatenate((a,b))\n",
    "print(X.shape)\n",
    "\n",
    "# Dibujo de la distribución de los puntos de los datos generados al azar\n",
    "plt.scatter(X[:,0], X[:,1])\n",
    "plt.show()"
   ]
  },
  {
   "cell_type": "code",
   "execution_count": null,
   "id": "9385a9e2",
   "metadata": {},
   "outputs": [],
   "source": [
    "Z = linkage(X, \"ward\")"
   ]
  },
  {
   "cell_type": "code",
   "execution_count": null,
   "id": "7c3c0c06",
   "metadata": {},
   "outputs": [],
   "source": [
    "plt.figure(figsize=(25,10))\n",
    "plt.title(\"Dendrograma del clustering jerárquico\")\n",
    "plt.xlabel(\"Índices de la Muestra\")\n",
    "plt.ylabel(\"Distancias\")\n",
    "dendrogram(Z, leaf_rotation=90., leaf_font_size=8.0, color_threshold=0.7*180)\n",
    "plt.show()"
   ]
  },
  {
   "cell_type": "markdown",
   "id": "a092336b",
   "metadata": {},
   "source": [
    "Para ambos casos, la medida de distancia que se utiliza para generar los clusters es comúnmente la distancia euclidiana. Se puede seleccionar otro método de acuerdo la relevancia del problema, pero, generalmente la distancia euclidiana es la más eficiente si no existen restricciones en el modelo."
   ]
  },
  {
   "cell_type": "markdown",
   "id": "6b1b3be0",
   "metadata": {},
   "source": [
    "# Gráficos de dispersión 3D"
   ]
  },
  {
   "cell_type": "code",
   "execution_count": 18,
   "id": "aa23bfed",
   "metadata": {},
   "outputs": [],
   "source": [
    "from scipy.spatial import distance_matrix\n",
    "from mpl_toolkits.mplot3d import Axes3D"
   ]
  },
  {
   "cell_type": "code",
   "execution_count": null,
   "id": "e82505f1",
   "metadata": {},
   "outputs": [],
   "source": [
    "data = pd.read_csv(\"movies.csv\", sep=\";\")\n",
    "data"
   ]
  },
  {
   "cell_type": "code",
   "execution_count": null,
   "id": "c9dd6b09",
   "metadata": {},
   "outputs": [],
   "source": [
    "fig = plt.figure()\n",
    "ax = fig.add_subplot(111, projection=\"3d\")\n",
    "ax.scatter(xs = data[\"star_wars\"], ys = data[\"lord_of_the_rings\"], zs=data[\"harry_potter\"])"
   ]
  }
 ],
 "metadata": {
  "kernelspec": {
   "display_name": "Python 3 (ipykernel)",
   "language": "python",
   "name": "python3"
  },
  "language_info": {
   "codemirror_mode": {
    "name": "ipython",
    "version": 3
   },
   "file_extension": ".py",
   "mimetype": "text/x-python",
   "name": "python",
   "nbconvert_exporter": "python",
   "pygments_lexer": "ipython3",
   "version": "3.9.7"
  }
 },
 "nbformat": 4,
 "nbformat_minor": 5
}
