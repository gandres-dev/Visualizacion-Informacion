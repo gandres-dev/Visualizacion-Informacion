{
 "cells": [
  {
   "cell_type": "markdown",
   "id": "a8942ee6",
   "metadata": {},
   "source": [
    "# PRACTICA-4a: Modelo de retención de clientes"
   ]
  },
  {
   "cell_type": "markdown",
   "id": "ad03185f",
   "metadata": {},
   "source": [
    "La retención de clientes es el porcentaje de clientes que dejaron de usar el producto o servicio de su empresa durante un período de tiempo determinado. Una de las formas de calcular la tasa de abandono es dividir la cantidad de clientes perdidos durante un intervalo de tiempo determinado por la cantidad de clientes activos al comienzo del período. Por ejemplo, si obtuvo 1000 clientes y perdió 50 el mes pasado, entonces su tasa de abandono mensual es del 5 por ciento."
   ]
  },
  {
   "cell_type": "markdown",
   "id": "7779a4af",
   "metadata": {},
   "source": [
    "Predecir la retención de clientes es un problema comercial extremadamente importante, especialmente en industrias donde el costo de adquisición de clientes (CAC) es alto, como tecnología, telecomunicaciones, finanzas, etc. La capacidad de predecir que un cliente en particular tiene un alto riesgo de retención, si bien todavía hay tiempo para hacer algo al respecto, representa una enorme fuente de ingresos potencial adicional para las empresas."
   ]
  },
  {
   "cell_type": "markdown",
   "id": "78e85659",
   "metadata": {},
   "source": [
    "# Dataset"
   ]
  },
  {
   "cell_type": "markdown",
   "id": "3624c8e6",
   "metadata": {},
   "source": [
    "Antes de llegar a los datos, inicialicemos nuestro entorno:"
   ]
  },
  {
   "cell_type": "code",
   "execution_count": 1,
   "id": "4a3b7422",
   "metadata": {},
   "outputs": [],
   "source": [
    "import numpy as np\n",
    "import pandas as pd\n",
    "\n",
    "# Matplotlib forma la base para la visualización en Python\n",
    "import matplotlib.pyplot as plt\n",
    "\n",
    "# Usaremos la biblioteca Seaborn\n",
    "import seaborn as sns\n",
    "\n",
    "sns.set()\n",
    "\n",
    "# Los gráficos en formato retina son más nítidos y legibles\n",
    "%config InlineBackend.figure_format = 'retina'"
   ]
  },
  {
   "cell_type": "markdown",
   "id": "dd985b6d",
   "metadata": {},
   "source": [
    "Examinamos los datos sobre la rotación de clientes de un operador de telecomunicaciones."
   ]
  },
  {
   "cell_type": "code",
   "execution_count": null,
   "id": "d6a69605",
   "metadata": {},
   "outputs": [],
   "source": [
    "df = pd.read_csv(\"telecom_churn.csv\")\n",
    "df"
   ]
  },
  {
   "cell_type": "markdown",
   "id": "fa388bb0",
   "metadata": {},
   "source": [
    "La última columna de datos, Churn, es nuestra variable objetivo. Es binario: True indica que la empresa finalmente perdió a este cliente y False indica que el cliente se mantuvo."
   ]
  },
  {
   "cell_type": "markdown",
   "id": "1f9f77f7",
   "metadata": {},
   "source": [
    "# Visualización univariante"
   ]
  },
  {
   "cell_type": "markdown",
   "id": "6f7492f4",
   "metadata": {},
   "source": [
    "El análisis univariado analiza una característica a la vez. Cuando analizamos una característica de forma independiente, generalmente nos interesa principalmente la distribución de sus valores e ignoramos otras características en el conjunto de datos.\n",
    "A continuación, consideraremos diferentes tipos estadísticos de características y las herramientas correspondientes para su análisis visual individual."
   ]
  },
  {
   "cell_type": "markdown",
   "id": "714cbc43",
   "metadata": {},
   "source": [
    "# Características cuantitativas"
   ]
  },
  {
   "cell_type": "markdown",
   "id": "f96677b3",
   "metadata": {},
   "source": [
    "Las características cuantitativas toman valores numéricos ordenados. Esos valores pueden ser discretos, como números enteros, o continuos, como números reales, y generalmente expresan un conteo o una medida."
   ]
  },
  {
   "cell_type": "markdown",
   "id": "b6f10c2e",
   "metadata": {},
   "source": [
    "Histogramas y gráficas de densidad: la forma más fácil de observar la distribución de una variable numérica es trazar su histograma"
   ]
  },
  {
   "cell_type": "code",
   "execution_count": null,
   "id": "c8e60b63",
   "metadata": {},
   "outputs": [],
   "source": [
    "features = [\"Total day minutes\", \"Total intl calls\"]\n",
    "df[features].hist(figsize=(10, 4));"
   ]
  },
  {
   "cell_type": "markdown",
   "id": "795eacf4",
   "metadata": {},
   "source": [
    "Un histograma agrupa valores en intervalos de igual rango de valores. La forma del histograma puede contener pistas sobre el tipo de distribución subyacente: gaussiana, exponencial, etc. También puede detectar cualquier asimetría en su forma cuando la distribución es casi regular pero tiene algunas anomalías."
   ]
  },
  {
   "cell_type": "markdown",
   "id": "6e43260f",
   "metadata": {},
   "source": [
    "En el gráfico anterior, vemos que la variable Minutos totales del día tiene una distribución normal, mientras que las llamadas internacionales totales tienen un sesgo prominente a la derecha (su cola es más larga a la derecha)."
   ]
  },
  {
   "cell_type": "markdown",
   "id": "152389b8",
   "metadata": {},
   "source": [
    "También hay otra forma, a menudo más clara, de comprender la distribución: diagramas de densidad o, más formalmente, diagramas de densidad del kernel. Pueden considerarse una versión suavizada del histograma. Su principal ventaja frente a estos últimos es que no dependen del tamaño de los contenedores. Vamos a crear diagramas de densidad para las mismas dos variables:"
   ]
  },
  {
   "cell_type": "code",
   "execution_count": null,
   "id": "b6ea32d6",
   "metadata": {},
   "outputs": [],
   "source": [
    "df[features].plot(kind=\"density\", subplots=True, layout=(1, 2), sharex=False, figsize=(10, 4));"
   ]
  },
  {
   "cell_type": "markdown",
   "id": "84e8ee10",
   "metadata": {},
   "source": [
    "También es posible trazar una distribución de observaciones. Por ejemplo, veamos la distribución de Minutos totales del día. De forma predeterminada, el gráfico muestra tanto el histograma como la estimación de la densidad del kernel (KDE) en la parte superior."
   ]
  },
  {
   "cell_type": "code",
   "execution_count": null,
   "id": "d98ac69a",
   "metadata": {},
   "outputs": [],
   "source": [
    "sns.distplot(df[\"Total intl calls\"]);"
   ]
  },
  {
   "cell_type": "markdown",
   "id": "15501143",
   "metadata": {},
   "source": [
    "La altura de las barras del histograma aquí está normada y muestra la densidad en lugar del número de ejemplos en cada contenedor."
   ]
  },
  {
   "cell_type": "markdown",
   "id": "ec3303ca",
   "metadata": {},
   "source": [
    "# Box plot"
   ]
  },
  {
   "cell_type": "markdown",
   "id": "1ce8d8ab",
   "metadata": {},
   "source": [
    "Otro tipo útil de visualización es un diagrama de caja."
   ]
  },
  {
   "cell_type": "code",
   "execution_count": null,
   "id": "7ff586d8",
   "metadata": {},
   "outputs": [],
   "source": [
    "sns.boxplot(x=\"Total intl calls\", data=df);"
   ]
  },
  {
   "cell_type": "markdown",
   "id": "16b525ad",
   "metadata": {},
   "source": [
    "Veamos cómo interpretar un diagrama de caja. Sus componentes son una caja (obviamente, por eso se llama diagrama de caja), los llamados bigotes y una serie de puntos individuales (outliers)."
   ]
  },
  {
   "cell_type": "markdown",
   "id": "e34083e0",
   "metadata": {},
   "source": [
    "El cuadro por sí solo ilustra la dispersión intercuartil de la distribución; su longitud está determinada por los percentiles 25 (Q1) y 75 (Q3). La línea vertical dentro de la caja marca la mediana (50%) de la distribución."
   ]
  },
  {
   "cell_type": "markdown",
   "id": "e35d1ea6",
   "metadata": {},
   "source": [
    "Los bigotes son las líneas que se extienden desde la caja. Representan toda la dispersión de puntos de datos, específicamente los puntos que se encuentran dentro del intervalo $Q1-1.5(IQR)$, $Q3+1.5(IQR)$, donde $IQR=Q3-Q1$ es el rango intercuartílico."
   ]
  },
  {
   "cell_type": "markdown",
   "id": "349ceab1",
   "metadata": {},
   "source": [
    "Los valores atípicos que quedan fuera del rango delimitado por los bigotes se trazan individualmente como puntos negros a lo largo del eje central. Podemos ver que una gran cantidad de llamadas internacionales es bastante rara en nuestros datos."
   ]
  },
  {
   "cell_type": "markdown",
   "id": "f4292572",
   "metadata": {},
   "source": [
    "# Bar plot"
   ]
  },
  {
   "cell_type": "markdown",
   "id": "bf984ccb",
   "metadata": {},
   "source": [
    "El gráfico de barras es una representación gráfica de la tabla de frecuencias. Tracemos las distribuciones para dos variables categóricas:"
   ]
  },
  {
   "cell_type": "code",
   "execution_count": null,
   "id": "fc34448f",
   "metadata": {},
   "outputs": [],
   "source": [
    "_, axes = plt.subplots(nrows=1, ncols=2, figsize=(12, 4))\n",
    "\n",
    "sns.countplot(x=\"Churn\", data=df, ax=axes[0])\n",
    "sns.countplot(x=\"Customer service calls\", data=df, ax=axes[1]);"
   ]
  },
  {
   "cell_type": "markdown",
   "id": "5c1e4dcc",
   "metadata": {},
   "source": [
    "# Scatter plot"
   ]
  },
  {
   "cell_type": "markdown",
   "id": "70a46db4",
   "metadata": {},
   "source": [
    "El diagrama de dispersión muestra los valores de dos variables numéricas como coordenadas cartesianas en el espacio 2D. También son posibles los diagramas de dispersión en 3D."
   ]
  },
  {
   "cell_type": "code",
   "execution_count": null,
   "id": "27afd900",
   "metadata": {},
   "outputs": [],
   "source": [
    "plt.scatter(df[\"Total day minutes\"], df[\"Total night minutes\"]);"
   ]
  },
  {
   "cell_type": "markdown",
   "id": "15fb640f",
   "metadata": {},
   "source": [
    "Obtenemos una imagen de dos variables normalmente distribuidas. Además, parece que estas características no están correlacionadas porque la forma de elipse está alineada con los ejes."
   ]
  },
  {
   "cell_type": "code",
   "execution_count": null,
   "id": "367db795",
   "metadata": {},
   "outputs": [],
   "source": [
    "sns.jointplot(x=\"Total day minutes\", y=\"Total night minutes\", data=df, kind=\"scatter\");"
   ]
  },
  {
   "cell_type": "markdown",
   "id": "69b0a0f8",
   "metadata": {},
   "source": [
    "Usando la misma función, también podemos obtener una versión suavizada de nuestra distribución bivariada:"
   ]
  },
  {
   "cell_type": "code",
   "execution_count": null,
   "id": "cf3b9708",
   "metadata": {},
   "outputs": [],
   "source": [
    "sns.jointplot(\"Total day minutes\", \"Total night minutes\", data=df, kind=\"kde\", color=\"k\");"
   ]
  },
  {
   "cell_type": "markdown",
   "id": "5617f1ed",
   "metadata": {},
   "source": [
    "# Cuantitativo vs. categórico"
   ]
  },
  {
   "cell_type": "markdown",
   "id": "2d55f8a3",
   "metadata": {},
   "source": [
    "En esta sección, intentaremos obtener nuevos conocimientos para la predicción de abandono a partir de las interacciones entre las características numéricas y categóricas."
   ]
  },
  {
   "cell_type": "markdown",
   "id": "29c61ad1",
   "metadata": {},
   "source": [
    "Más específicamente, veamos cómo se relacionan las variables de entrada con la variable de destino Churn. Anteriormente, mencionamos sobre diagramas de dispersión. Además, sus puntos pueden codificarse por color o tamaño para que los valores de una tercera variable categórica también se presenten en la misma figura."
   ]
  },
  {
   "cell_type": "code",
   "execution_count": null,
   "id": "ecbf4079",
   "metadata": {},
   "outputs": [],
   "source": [
    "sns.lmplot(\"Total day minutes\", \"Total night minutes\", data=df, hue=\"Churn\", fit_reg=False);"
   ]
  },
  {
   "cell_type": "markdown",
   "id": "fe1651f9",
   "metadata": {},
   "source": [
    "Parece que nuestra pequeña proporción de clientes desleales se inclina hacia la esquina superior derecha; es decir, dichos clientes tienden a pasar más tiempo al teléfono tanto de día como de noche."
   ]
  },
  {
   "cell_type": "markdown",
   "id": "41ce6f92",
   "metadata": {},
   "source": [
    "# EJERCICIO: Categórico vs. Categórico"
   ]
  },
  {
   "cell_type": "markdown",
   "id": "42ef138f",
   "metadata": {},
   "source": [
    "Como vimos anteriormente, la variable Llamadas de atención al cliente tiene pocos valores únicos y, por lo tanto, puede considerarse numérica u ordinaria. Ahora, estamos interesados en la relación entre esta característica ordinaria y la variable objetivo Churn. Muestre la distribución del número de llamadas al servicio de atención al cliente, de nuevo usando un gráfico de conteo. Describa brevemente su resultado"
   ]
  },
  {
   "cell_type": "code",
   "execution_count": null,
   "id": "494200be",
   "metadata": {},
   "outputs": [],
   "source": [
    "sns.countplot(x=\"Customer service calls\", hue=\"Churn\", data=df);"
   ]
  },
  {
   "cell_type": "markdown",
   "id": "5d861fa5",
   "metadata": {},
   "source": [
    "# EJERCICIO"
   ]
  },
  {
   "cell_type": "markdown",
   "id": "279200fd",
   "metadata": {},
   "source": [
    "Ahora, grafique la relación entre Churn y las funciones binarias, el plan internacional y el plan de correo de voz. Describa brevemente su resultado. "
   ]
  },
  {
   "cell_type": "code",
   "execution_count": null,
   "id": "28be2f54",
   "metadata": {},
   "outputs": [],
   "source": [
    "_, axes = plt.subplots(1, 2, sharey=True, figsize=(10, 4))\n",
    "sns.countplot(x=\"International plan\", hue=\"Churn\", data=df, ax=axes[0])\n",
    "sns.countplot(x=\"Voice mail plan\", hue=\"Churn\", data=df, ax=axes[1]);"
   ]
  },
  {
   "cell_type": "code",
   "execution_count": null,
   "id": "1b751b81",
   "metadata": {},
   "outputs": [],
   "source": []
  }
 ],
 "metadata": {
  "kernelspec": {
   "display_name": "Python 3 (ipykernel)",
   "language": "python",
   "name": "python3"
  },
  "language_info": {
   "codemirror_mode": {
    "name": "ipython",
    "version": 3
   },
   "file_extension": ".py",
   "mimetype": "text/x-python",
   "name": "python",
   "nbconvert_exporter": "python",
   "pygments_lexer": "ipython3",
   "version": "3.9.7"
  }
 },
 "nbformat": 4,
 "nbformat_minor": 5
}
