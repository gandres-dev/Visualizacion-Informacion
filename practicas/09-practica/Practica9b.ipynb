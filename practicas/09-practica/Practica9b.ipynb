{
  "nbformat": 4,
  "nbformat_minor": 0,
  "metadata": {
    "colab": {
      "name": "Practica9b.ipynb",
      "provenance": [],
      "collapsed_sections": [],
      "include_colab_link": true
    },
    "kernelspec": {
      "name": "python3",
      "display_name": "Python 3"
    },
    "language_info": {
      "name": "python"
    }
  },
  "cells": [
    {
      "cell_type": "markdown",
      "metadata": {
        "id": "view-in-github",
        "colab_type": "text"
      },
      "source": [
        "<a href=\"https://colab.research.google.com/github/gandres-dev/Visualizacion-Informacion/blob/main/practicas/09-practica/Practica9b.ipynb\" target=\"_parent\"><img src=\"https://colab.research.google.com/assets/colab-badge.svg\" alt=\"Open In Colab\"/></a>"
      ]
    },
    {
      "cell_type": "markdown",
      "source": [
        "# Gráficos de Red X\n",
        "NetworkX es un paquete de Python para la creación, manipulación y estudio de la estructura, dinámica y funciones de redes complejas.\n",
        "\n",
        "La **teoría de grafos** es una herramienta de ciencia de datos que permite visualizar y comprender interacciones complejas. \n"
      ],
      "metadata": {
        "id": "LLuqrht4YpqF"
      }
    },
    {
      "cell_type": "markdown",
      "source": [
        "# Creación de un gráfico NetworkX\n",
        "Comenzaremos haciendo un gráfico básico. \n",
        "\n",
        "Los gráficos se construyen usando **nodos** y **bordes**. \n",
        "\n",
        "Un **nodo** representa algún objeto, tal vez una persona u organización, y un **borde** representa la conexión real de un nodo a otro nodo. \n",
        "\n",
        "Entonces, en el siguiente ejemplo, \"A\", \"B\", \"C\" y \"D\" son nodos y las líneas entre ellos son los bordes."
      ],
      "metadata": {
        "id": "kkyCw9OicSxE"
      }
    },
    {
      "cell_type": "code",
      "source": [
        "import pandas as pd\n",
        "import networkx as nx\n",
        "import matplotlib.pyplot as plt"
      ],
      "metadata": {
        "id": "Uxm-pg5Udk2t"
      },
      "execution_count": null,
      "outputs": []
    },
    {
      "cell_type": "code",
      "source": [
        "fig, ax = plt.subplots(figsize=(15,8))\n",
        "relationships = pd.DataFrame({'from': ['A', 'A', 'A'], \n",
        "                              'to':   ['B', 'C', 'D']})\n",
        "G = nx.from_pandas_edgelist(relationships, 'from', 'to', create_using=nx.Graph())\n",
        "nx.draw(G, with_labels=True)"
      ],
      "metadata": {
        "id": "G8escLx5mBeg"
      },
      "execution_count": null,
      "outputs": []
    },
    {
      "cell_type": "markdown",
      "source": [
        "# Color de nodo\n",
        "También podemos cambiar el color de todos los nodos, usando palabras clave en el método **.draw()**."
      ],
      "metadata": {
        "id": "mzoUh6VWecHP"
      }
    },
    {
      "cell_type": "code",
      "source": [
        "fig, ax = plt.subplots(figsize=(15,8))\n",
        "relationships = pd.DataFrame({'from': ['A', 'A', 'A'], \n",
        "                              'to':   ['B', 'C', 'D']})\n",
        "G = nx.from_pandas_edgelist(relationships, 'from', 'to', create_using=nx.Graph())\n",
        "\n",
        "# determinar color del nodo\n",
        "nx.draw(G, with_labels=True, node_color='red')"
      ],
      "metadata": {
        "id": "wXzJN-KGmFq4"
      },
      "execution_count": null,
      "outputs": []
    },
    {
      "cell_type": "markdown",
      "source": [
        "# Tamaño de nodo\n",
        "Alterar el tamaño del nodo globalmente es simple a través de un argumento de palabra clave en el método .draw(): **node_size**"
      ],
      "metadata": {
        "id": "YcSZAiArf50E"
      }
    },
    {
      "cell_type": "code",
      "source": [
        "fig, ax = plt.subplots(figsize=(15, 8))\n",
        "relationships = pd.DataFrame({'from': ['A', 'A', 'A', '1', '2'], \n",
        "                              'to':   ['B', 'C', 'D', 'C', 'C']})\n",
        "G = nx.from_pandas_edgelist(relationships, 'from', 'to', create_using=nx.Graph())\n",
        "\n",
        "# Especificar tamaño del nodo\n",
        "nx.draw(G, with_labels=True, node_size=1000)"
      ],
      "metadata": {
        "id": "3IRWMFgkmJdK"
      },
      "execution_count": null,
      "outputs": []
    },
    {
      "cell_type": "markdown",
      "source": [
        "# Ancho del borde\n",
        "Ahora que hemos cubierto los atributos de los nodos, podemos pasar a los bordes. Establecer un tamaño o color de borde global es igual como para los nodos, solo especifique la palabra clave de *ancho* en el método **.draw()**."
      ],
      "metadata": {
        "id": "LChN600jibhU"
      }
    },
    {
      "cell_type": "code",
      "source": [
        "fig, ax = plt.subplots(figsize=(15, 8))\n",
        "\n",
        "relationships = pd.DataFrame({'from': ['A', 'A', 'A', '1', '2'], \n",
        "                              'to':   ['B', 'C', 'D', 'C', 'C']})\n",
        " \n",
        "G = nx.from_pandas_edgelist(relationships, 'from', 'to', create_using=nx.Graph())\n",
        "\n",
        "# Colocar ancho del borde\n",
        "nx.draw(G, with_labels=True, width=3)"
      ],
      "metadata": {
        "id": "YqRUd5YCmNHE"
      },
      "execution_count": null,
      "outputs": []
    },
    {
      "cell_type": "markdown",
      "source": [
        "# Color del borde\n",
        "Los bordes se pueden colorear o dimensionar individualmente en lugar de globalmente al pasar listas de atributos en lugar de valores únicos. Entonces, a continuación, tenemos **edge_colors** y **edge_widths** que se alternarán."
      ],
      "metadata": {
        "id": "4QDF8yOQjYxd"
      }
    },
    {
      "cell_type": "code",
      "source": [
        "fig, ax = plt.subplots(figsize=(15, 8))\n",
        "\n",
        "relationships = pd.DataFrame({'from': ['A', 'A', 'A', '1', '2'], \n",
        "                              'to':   ['B', 'C', 'D', 'C', 'C']})\n",
        " \n",
        "G = nx.from_pandas_edgelist(relationships, 'from', 'to', create_using=nx.Graph())\n",
        "\n",
        "# Colocar color de borde\n",
        "edge_colors = ['blue', 'red', 'green', 'orange', 'blue']\n",
        "\n",
        "# Colocar ancho de borde\n",
        "edge_widths = [0.1, 1, 2, 3, 5]\n",
        "\n",
        "# Set width and edge_color\n",
        "nx.draw(G, with_labels=True, width=edge_widths, edge_color=edge_colors)"
      ],
      "metadata": {
        "id": "okEbttDKmRlt"
      },
      "execution_count": null,
      "outputs": []
    },
    {
      "cell_type": "markdown",
      "source": [
        "# Color del borde del nodo\n",
        "Finalmente, también podemos agregar un borde de color a los nodos. Esto se puede usar para ayudar a aclarar y separar los nodos, que puede ver en el gráfico de ejemplo a continuación."
      ],
      "metadata": {
        "id": "F_1_FKLblP7p"
      }
    },
    {
      "cell_type": "code",
      "source": [
        "fig, ax = plt.subplots(figsize=(15, 8))\n",
        "\n",
        "relationships = pd.DataFrame({'from': ['A', 'A', 'A', '1', '2'], \n",
        "                              'to':   ['B', 'C', 'D', 'C', 'C']})\n",
        " \n",
        "G = nx.from_pandas_edgelist(relationships, 'from', 'to', create_using=nx.Graph())\n",
        "\n",
        "# Colocar edgecolors and node_color and node_size para mejorar la visibilidad\n",
        "nx.draw(G, with_labels=True, edgecolors='red', node_color='lightgray', node_size=1000)"
      ],
      "metadata": {
        "id": "sc90IVLQmXnE"
      },
      "execution_count": null,
      "outputs": []
    },
    {
      "cell_type": "markdown",
      "source": [
        "# EJERCICIO: Modelo de Redes Neuronales Artificiales\n",
        "Utilice el siguiente código y la imágen dada para obtener la gráfica resultante que se muestra. Considere un fondo blanco y omita la escala, solo defina de manera opcional las características de los nodos y bordes para obtener una figura similar.  "
      ],
      "metadata": {
        "id": "2UsLUBXO4-vV"
      }
    },
    {
      "cell_type": "code",
      "source": [
        "import cv2\n",
        "import matplotlib.pyplot as plt\n",
        "img = cv2.imread('neural_network.png')\n",
        "plt.imshow(img)"
      ],
      "metadata": {
        "id": "QmEi1JyO44mC"
      },
      "execution_count": null,
      "outputs": []
    },
    {
      "cell_type": "markdown",
      "source": [
        "# Dibujar un gráfico con NetworkX en un Basemap\n",
        "\n",
        "Supongamos que buscamos trazar un gráfico en un mapa donde los nodos estarían definidos por coordenadas (latitud, longitud) y tendrían algún valor asociado."
      ],
      "metadata": {
        "id": "JTKx_E-W5MmW"
      }
    },
    {
      "cell_type": "code",
      "source": [
        "!pip install basemap"
      ],
      "metadata": {
        "id": "a5IPkVDA5p90"
      },
      "execution_count": null,
      "outputs": []
    },
    {
      "cell_type": "code",
      "source": [
        "from mpl_toolkits import basemap\n",
        "print(basemap.__version__)"
      ],
      "metadata": {
        "id": "CiHw3NXH5uCL"
      },
      "execution_count": null,
      "outputs": []
    },
    {
      "cell_type": "code",
      "source": [
        "import networkx as nx\n",
        "import matplotlib.pyplot as plt\n",
        "from mpl_toolkits.basemap import Basemap as Basemap\n",
        "m = Basemap(\n",
        "        projection='merc',\n",
        "        llcrnrlon=-130,\n",
        "        llcrnrlat=25,\n",
        "        urcrnrlon=-60,\n",
        "        urcrnrlat=50,\n",
        "        lat_ts=0,\n",
        "        resolution='i',\n",
        "        suppress_ticks=True)\n",
        "\n",
        "# posición en decimal latitud/longitud \n",
        "lats=[37.96,42.82]\n",
        "lons=[-121.29,-73.95]\n",
        "\n",
        "# convertir latitud y longitud a proyección de mapa\n",
        "mx,my=m(lons,lats)\n",
        "\n",
        "# La parte de Red X\n",
        "# Poner las coordenadas de proyección del mapa en el diccionario \"pos\"\n",
        "G=nx.Graph()\n",
        "G.add_edge('A','B')\n",
        "pos={}\n",
        "pos['A']=(mx[0],my[0])\n",
        "pos['B']=(mx[1],my[1])\n",
        "\n",
        "# Definir características\n",
        "nx.draw_networkx(G,pos,node_size=200,edge_color='lightgray', node_color='lightgray')\n",
        "\n",
        "# Ahora dibujar el mapa\n",
        "m.drawcountries()\n",
        "m.drawstates()\n",
        "m.bluemarble()\n",
        "plt.title('Cómo ir del Punto A al Punto B')\n",
        "plt.show()"
      ],
      "metadata": {
        "id": "-Bb4ZSpQ5y-1"
      },
      "execution_count": null,
      "outputs": []
    }
  ]
}