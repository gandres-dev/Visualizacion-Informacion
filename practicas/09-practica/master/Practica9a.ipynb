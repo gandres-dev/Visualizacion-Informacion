{
  "nbformat": 4,
  "nbformat_minor": 0,
  "metadata": {
    "colab": {
      "name": "Practica9a.ipynb",
      "provenance": []
    },
    "kernelspec": {
      "name": "python3",
      "display_name": "Python 3"
    },
    "language_info": {
      "name": "python"
    }
  },
  "cells": [
    {
      "cell_type": "markdown",
      "source": [
        "# PRACTICA-09: **Datos geográficos con Basemap**"
      ],
      "metadata": {
        "id": "ntjwldANTbuU"
      }
    },
    {
      "cell_type": "markdown",
      "source": [
        "Un tipo común de visualización en la ciencia de datos es el de los *datos geográficos*. En esta práctica, mostraremos algunos ejemplos del tipo de visualización de mapas."
      ],
      "metadata": {
        "id": "93B8X8lYUOeh"
      }
    },
    {
      "cell_type": "markdown",
      "source": [
        "PASO-01: Instalar e importar el kit de herramientas de Basemap."
      ],
      "metadata": {
        "id": "qfWeK2ZjVqDm"
      }
    },
    {
      "cell_type": "code",
      "source": [
        "!pip install basemap"
      ],
      "metadata": {
        "id": "ViTQ-V-8WA6f"
      },
      "execution_count": null,
      "outputs": []
    },
    {
      "cell_type": "code",
      "source": [
        "from mpl_toolkits import basemap\n",
        "print(basemap.__version__)"
      ],
      "metadata": {
        "id": "TeQFzwUEWHh-"
      },
      "execution_count": null,
      "outputs": []
    },
    {
      "cell_type": "code",
      "source": [
        "%matplotlib inline\n",
        "import numpy as np\n",
        "import matplotlib.pyplot as plt\n",
        "from mpl_toolkits.basemap import Basemap"
      ],
      "metadata": {
        "id": "uVJrIgjzWMDC"
      },
      "execution_count": null,
      "outputs": []
    },
    {
      "cell_type": "code",
      "source": [
        "plt.figure(figsize=(8, 8))\n",
        "m = Basemap(projection='ortho', resolution=None, lat_0=50, lon_0=-100)\n",
        "m.bluemarble(scale=0.5);"
      ],
      "metadata": {
        "id": "0zUfUUJDWSQw"
      },
      "execution_count": null,
      "outputs": []
    },
    {
      "cell_type": "markdown",
      "source": [
        "Lo útil es que el globo que se muestra aquí no es una mera imagen; ¡Es un eje de Matplotlib completamente funcional que comprende coordenadas esféricas y que nos permite sobretrazar fácilmente datos en el mapa! Por ejemplo, podemos usar una proyección de mapa diferente, acercarnos a América del Norte y trazar la ubicación de Seattle. Usaremos una imagen etopo (que muestra características topográficas tanto en tierra como bajo el océano) como fondo del mapa:"
      ],
      "metadata": {
        "id": "UPTWxiORW807"
      }
    },
    {
      "cell_type": "code",
      "source": [
        "fig = plt.figure(figsize=(8, 8))\n",
        "m = Basemap(projection='lcc', resolution=None,\n",
        "            width=8E6, height=8E6, \n",
        "            lat_0=45, lon_0=-100,)\n",
        "m.etopo(scale=0.5, alpha=0.5)\n",
        "\n",
        "# Mapa (largo, lat) a (x,y) para trazar\n",
        "x, y = m(-122.3, 47.6)\n",
        "plt.plot(x, y, 'ok', markersize=5)\n",
        "plt.text(x, y, ' Seattle', fontsize=12);"
      ],
      "metadata": {
        "id": "7L3zo3sHXPhu"
      },
      "execution_count": null,
      "outputs": []
    },
    {
      "cell_type": "markdown",
      "source": [
        "Esto da una breve idea del tipo de visualizaciones geográficas que son posibles. Ahora analizaremos las funciones de Basemap con más detalle y daremos algunos ejemplos de visualización de datos de mapas. "
      ],
      "metadata": {
        "id": "sIUmv5i0X2q7"
      }
    },
    {
      "cell_type": "markdown",
      "source": [
        "# Proyecciones de mapas\n",
        "Lo primero que se debe decidir al usar mapas es qué proyección usar. Probablemente estemos familiarizados con el hecho de que es imposible proyectar un mapa esférico, como el de la Tierra, sobre una superficie plana sin distorsionarlo de alguna manera o romper su continuidad. \n",
        "\n",
        "Dependiendo del uso previsto de la proyección del mapa, hay ciertas características del mapa (por ejemplo, dirección, área, distancia, forma u otras consideraciones) que es útil mantener.\n",
        "\n",
        "Comenzaremos definiendo una rutina de conveniencia para dibujar nuestro mapa mundial junto con las líneas de **longitud** y **latitud**:"
      ],
      "metadata": {
        "id": "spOyKO7KZY89"
      }
    },
    {
      "cell_type": "code",
      "source": [
        "from itertools import chain\n",
        "\n",
        "def draw_map(m, scale=0.2):\n",
        "    # dibujar una imagen en relieve sombreado\n",
        "    m.shadedrelief(scale=scale)\n",
        "    \n",
        "    # latitudes y longitudes se devuelven como un diccionario\n",
        "    lats = m.drawparallels(np.linspace(-90, 90, 13))\n",
        "    lons = m.drawmeridians(np.linspace(-180, 180, 13))\n",
        "\n",
        "    # claves contienen las instancias de plt.Line2D.\n",
        "    lat_lines = chain(*(tup[1][0] for tup in lats.items()))\n",
        "    lon_lines = chain(*(tup[1][0] for tup in lons.items()))\n",
        "    all_lines = chain(lat_lines, lon_lines)\n",
        "    \n",
        "    # recorrer estas líneas y establecer el estilo deseado\n",
        "    for line in all_lines:\n",
        "        line.set(linestyle='-', alpha=0.3, color='w')"
      ],
      "metadata": {
        "id": "5_dOP8mi_y9J"
      },
      "execution_count": null,
      "outputs": []
    },
    {
      "cell_type": "markdown",
      "source": [
        "# Proyecciones cilíndricas\n",
        "Las proyecciones cartográficas más simples son las *proyecciones cilíndricas*, en las que las líneas de **latitud** y **longitud** constantes se asignan a líneas horizontales y verticales, respectivamente. Este tipo de mapeo representa bastante bien las regiones ecuatoriales, pero produce distorsiones extremas cerca de los polos. \n",
        "\n",
        "El espaciado de las líneas de latitud varía entre diferentes proyecciones cilíndricas, lo que lleva a diferentes propiedades de conservación y diferentes distorsiones cerca de los polos. \n",
        "\n",
        "A continuación se muestra un ejemplo de la proyección cilíndrica equidistante, que elige una escala de latitud que preserva las distancias a lo largo de los meridianos. Otras proyecciones cilíndricas son las proyecciones de Mercator (projection='merc') y de áreas iguales cilíndricas (projection='cea')."
      ],
      "metadata": {
        "id": "4Y0HjnbvbNBb"
      }
    },
    {
      "cell_type": "code",
      "source": [
        "fig = plt.figure(figsize=(8, 6), edgecolor='w')\n",
        "m = Basemap(projection='cyl', resolution=None,\n",
        "            llcrnrlat=-90, urcrnrlat=90,\n",
        "            llcrnrlon=-180, urcrnrlon=180, )\n",
        "draw_map(m)"
      ],
      "metadata": {
        "id": "F5TcZ1T4cIVh"
      },
      "execution_count": null,
      "outputs": []
    },
    {
      "cell_type": "markdown",
      "source": [
        "Los argumentos adicionales de Basemap para esta vista especifican la **latitud** (lat) y la **longitud** (lon) de la esquina inferior izquierda (llcrnr) y la esquina superior derecha (urcrnr) del mapa deseado, en unidades de grados."
      ],
      "metadata": {
        "id": "KIDvq5dTcXtX"
      }
    },
    {
      "cell_type": "markdown",
      "source": [
        "# Proyecciones pseudocilíndricas\n",
        "Las proyecciones pseudocilíndricas relajan el requisito de que los **meridianos** (líneas de longitud constante) permanezcan verticales; esto puede dar mejores propiedades cerca de los polos de la proyección. La *proyección de Mollweide* (projection='moll') es un ejemplo común de esto, en el que todos los meridianos son *arcos elípticos*. \n",
        "\n",
        "Está construido para preservar el área a lo largo del mapa: aunque hay distorsiones cerca de los polos, el área de pequeños parches refleja el área real. \n",
        "\n",
        "Otras proyecciones pseudocilíndricas son las proyecciones sinusoidal (projection='sinu') y Robinson (projection='robin')."
      ],
      "metadata": {
        "id": "-hvXkFxxcsum"
      }
    },
    {
      "cell_type": "code",
      "source": [
        "fig = plt.figure(figsize=(8, 6), edgecolor='w')\n",
        "m = Basemap(projection='moll', resolution=None,\n",
        "            lat_0=0, lon_0=0)\n",
        "draw_map(m)"
      ],
      "metadata": {
        "id": "Osm1t6wAdKud"
      },
      "execution_count": null,
      "outputs": []
    },
    {
      "cell_type": "markdown",
      "source": [
        "Los argumentos extra para Basemap aquí se refieren a la latitud central (lat_0) y la longitud (lon_0) para el mapa deseado."
      ],
      "metadata": {
        "id": "j6T9Mp4Sdaug"
      }
    },
    {
      "cell_type": "markdown",
      "source": [
        "# Proyecciones de perspectiva\n",
        "Las proyecciones en perspectiva se construyen usando una elección particular de punto de perspectiva, similar a si fotografiaras la Tierra desde un punto particular en el espacio (un punto que, para algunas proyecciones, técnicamente se encuentra dentro de la Tierra). \n",
        "\n",
        "Un ejemplo común es la **proyección ortográfica** (projection='ortho'), que muestra un lado del globo visto desde una distancia muy larga. Como tal, solo puede mostrar la mitad del globo a la vez. \n",
        "\n",
        "Otras proyecciones basadas en perspectiva incluyen la proyección gnomónica (projection='gnom') y la proyección estereográfica (projection='stere'). Suelen ser los más útiles para mostrar pequeñas porciones del mapa.\n",
        "\n",
        "Aquí hay un ejemplo de la proyección ortográfica:"
      ],
      "metadata": {
        "id": "8jQmZYEDdtRb"
      }
    },
    {
      "cell_type": "code",
      "source": [
        "fig = plt.figure(figsize=(8, 8))\n",
        "m = Basemap(projection='ortho', resolution=None,\n",
        "            lat_0=50, lon_0=0)\n",
        "draw_map(m);"
      ],
      "metadata": {
        "id": "aHzvI0VheUuw"
      },
      "execution_count": null,
      "outputs": []
    },
    {
      "cell_type": "markdown",
      "source": [
        "# Proyecciones cónicas\n",
        "Una proyección cónica proyecta el mapa en un solo cono, que luego se desenrolla. Esto puede generar muy buenas propiedades locales, pero las regiones alejadas del punto de enfoque del cono pueden distorsionarse mucho. \n",
        "\n",
        "Un ejemplo de esto es la proyección cónica conforme de Lambert (projection='lcc'). Proyecta el mapa en un cono dispuesto de tal manera que dos paralelos estándar (especificados en Basemap por lat_1 y lat_2) tienen distancias bien representadas, con una escala que disminuye entre ellos y aumenta fuera de ellos. \n",
        "\n",
        "Otras proyecciones cónicas útiles son la proyección cónica equidistante (projection='eqdc') y la proyección de áreas equivalentes de Albers (projection='aea'). \n",
        "\n",
        "Las proyecciones cónicas, como las proyecciones en perspectiva, tienden a ser buenas opciones para representar partes pequeñas o medianas del globo."
      ],
      "metadata": {
        "id": "xxjrUaUKedvZ"
      }
    },
    {
      "cell_type": "code",
      "source": [
        "fig = plt.figure(figsize=(8, 8))\n",
        "m = Basemap(projection='lcc', resolution=None,\n",
        "            lon_0=0, lat_0=50, lat_1=45, lat_2=55,\n",
        "            width=1.6E7, height=1.2E7)\n",
        "draw_map(m)"
      ],
      "metadata": {
        "id": "oCcgU0ZifGCe"
      },
      "execution_count": null,
      "outputs": []
    },
    {
      "cell_type": "markdown",
      "source": [
        "# Trazado de datos en mapas\n",
        "Quizás la pieza más útil del kit de herramientas de Basemap es la capacidad de superponer una variedad de datos en un fondo de mapa. \n",
        "\n",
        "Para gráficos y texto simples, cualquier función plt funciona en el mapa; puede usar la instancia de Basemap para proyectar las coordenadas de latitud y longitud en coordenadas (x,y) para trazar con plt.\n"
      ],
      "metadata": {
        "id": "LZ9Wykj1hHTu"
      }
    },
    {
      "cell_type": "markdown",
      "source": [
        "Algunos de estos métodos específicos del mapa son:\n",
        "\n",
        "- **contour()/contourf()**: Dibujar líneas de contorno o contornos rellenos\n",
        "- **imshow()**: Dibujar una imagen\n",
        "- **pcolor()/pcolormesh()**: Dibuja un diagrama de pseudocolor para mallas irregulares/regulares\n",
        "- **plot():** Dibujar líneas y/o marcadores.\n",
        "- **scatter():** Dibujar puntos con marcadores.\n",
        "- **carcaj():** Dibujar vectores.\n",
        "- **drawgreatcircle():** Dibuja un gran círculo."
      ],
      "metadata": {
        "id": "ID3JnpIEh3eG"
      }
    },
    {
      "cell_type": "markdown",
      "source": [
        "**Ejemplo:** Ciudades de California\n",
        "\n",
        "Empezamos con la carga de los datos, como lo hemos hecho en actividades anteriores:"
      ],
      "metadata": {
        "id": "LR1s3cMbi_Db"
      }
    },
    {
      "cell_type": "code",
      "source": [
        "!pip install basemap-data-hires"
      ],
      "metadata": {
        "id": "S_esJ9wE4leT"
      },
      "execution_count": null,
      "outputs": []
    },
    {
      "cell_type": "code",
      "source": [
        "%matplotlib inline\n",
        "import numpy as np\n",
        "import matplotlib.pyplot as plt\n",
        "from mpl_toolkits.basemap import Basemap"
      ],
      "metadata": {
        "id": "MQ3oyZzjXLpo"
      },
      "execution_count": null,
      "outputs": []
    },
    {
      "cell_type": "code",
      "source": [
        "import pandas as pd\n",
        "cities = pd.read_csv('california_cities.csv')\n",
        "\n",
        "# Extraer los datos que nos interesan\n",
        "lat = cities['latd'].values\n",
        "lon = cities['longd'].values\n",
        "population = cities['population_total'].values\n",
        "area = cities['area_total_km2'].values"
      ],
      "metadata": {
        "id": "MFT8QpP4jZtr"
      },
      "execution_count": null,
      "outputs": []
    },
    {
      "cell_type": "markdown",
      "source": [
        "A continuación, configuramos la proyección del mapa, dispersamos los datos y luego creamos una barra de colores y una leyenda:"
      ],
      "metadata": {
        "id": "_Wpa4O0kkBxs"
      }
    },
    {
      "cell_type": "code",
      "source": [
        "# 1. Dibujar el fondo del mapa\n",
        "fig = plt.figure(figsize=(8, 8))\n",
        "m = Basemap(projection='lcc', resolution='h', \n",
        "            lat_0=37.5, lon_0=-119,\n",
        "            width=1E6, height=1.2E6)\n",
        "m.shadedrelief()\n",
        "m.drawcoastlines(color='gray')\n",
        "m.drawcountries(color='gray')\n",
        "m.drawstates(color='gray')\n",
        "\n",
        "# 2. Datos de ciudades dispersas, con población que refleja el color\n",
        "# y tamaño del área.\n",
        "m.scatter(lon, lat, latlon=True,\n",
        "          c=np.log10(population), s=area,\n",
        "          cmap='Reds', alpha=0.5)\n",
        "\n",
        "# 3. Crear barra de colores y leyenda\n",
        "plt.colorbar(label=r'$\\log_{10}({\\rm population})$')\n",
        "plt.clim(3, 7)\n",
        "\n",
        "# Hacer leyenda con puntos ficticios\n",
        "for a in [100, 300, 500]:\n",
        "    plt.scatter([], [], c='k', alpha=0.5, s=a,\n",
        "                label=str(a) + ' km$^2$')\n",
        "plt.legend(scatterpoints=1, frameon=False,\n",
        "           labelspacing=1, loc='lower left');"
      ],
      "metadata": {
        "id": "TYJ-Cb3WkFoh"
      },
      "execution_count": null,
      "outputs": []
    },
    {
      "cell_type": "markdown",
      "source": [
        "Esto nos muestra aproximadamente dónde se han asentado poblaciones más grandes de personas en California: se agrupan cerca de la costa en las áreas de Los Ángeles y San Francisco, se extienden a lo largo de las carreteras en el valle central plano y evitan casi por completo las regiones montañosas a lo largo de las fronteras de el estado."
      ],
      "metadata": {
        "id": "9pZ4qjsQlBsp"
      }
    }
  ]
}