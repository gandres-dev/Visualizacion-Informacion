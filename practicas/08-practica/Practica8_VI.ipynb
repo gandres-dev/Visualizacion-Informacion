{
  "cells": [
    {
      "cell_type": "code",
      "source": [
        "!pip install --upgrade xlrd"
      ],
      "metadata": {
        "colab": {
          "base_uri": "https://localhost:8080/"
        },
        "id": "GyTTsiyNHoHe",
        "outputId": "3c9ea74a-e67a-4dad-8ada-8e9d6a732917"
      },
      "execution_count": 57,
      "outputs": [
        {
          "output_type": "stream",
          "name": "stdout",
          "text": [
            "Requirement already satisfied: xlrd in /usr/local/lib/python3.7/dist-packages (2.0.1)\n"
          ]
        }
      ]
    },
    {
      "cell_type": "markdown",
      "metadata": {
        "id": "EY8y-66eEVdd"
      },
      "source": [
        "# Práctica-08: Base de datos de satélites UCS\n",
        "Ejercicios resueltos por: Andrés Urbano Guillermo Gerardo\n",
        "\n",
        "\n",
        "**Objetivo:** Analizar detalles sobre los satélites que actualmente orbitan la Tierra, incluido su país de origen, propósito y otros detalles operativos."
      ]
    },
    {
      "cell_type": "markdown",
      "metadata": {
        "id": "zI91wBELEVdg"
      },
      "source": [
        "La base de datos se actualiza tres veces al año. La base de datos contiene 28 tipos de datos para cada satélite, incluida información técnica sobre cada satélite (_masa, potencia, fecha de lanzamiento, vida útil esperada_) y su órbita (_apogeo, perigeo, inclinación y período_), así como información sobre lo que hace el satélite.\n",
        "\n",
        "- Vamos a presentar números básicos sobre la cadena de valor de los servicios satelitales (como datos sobre lanzadores, fabricantes de satélites, operadores de satélites) y la industria espacial en general."
      ]
    },
    {
      "cell_type": "markdown",
      "metadata": {
        "id": "GrXGuguqEVdh"
      },
      "source": [
        "¿Alguna vez te has preguntado cuántos satélites hay encima de nosotros?"
      ]
    },
    {
      "cell_type": "markdown",
      "metadata": {
        "id": "LgkOI0WVEVdi"
      },
      "source": [
        "**Primer paso: cargar la base de datos**\n",
        "\n",
        "Estableceremos el índice del marco de datos a la fecha de lanzamiento de cada satélite, contenido en la columna \"Fecha de lanzamiento\" (Date of Launch)"
      ]
    },
    {
      "cell_type": "code",
      "execution_count": 58,
      "metadata": {
        "id": "QRKUlWxJEVdj"
      },
      "outputs": [],
      "source": [
        "import numpy as np  # útil para muchos cálculos científicos en Python\n",
        "import pandas as pd # biblioteca de estructura de datos primaria\n",
        "import matplotlib.pyplot as plt\n",
        "import seaborn as sns\n",
        "import plotly.express as px\n",
        "\n",
        "sns.color_palette(\"colorblind\", n_colors=8, desat=.5)\n",
        "plt.style.use('tableau-colorblind10')\n",
        "\n",
        "# Esta función personaliza un objeto de barra de gráfico de barras para agregar el número de observaciones.\n",
        "def set_bar_label(ax_ref, minval=1, orient='h'):\n",
        "  for p in ax_ref.patches:\n",
        "    if orient=='h':    \n",
        "      if p.get_width() >=minval:\n",
        "        ax_ref.annotate('{}'.format(p.get_width()),xy=(p.get_x()+p.get_width()*1.01,p.get_y()*1.05),fontsize=13)\n",
        "    else:\n",
        "      if p.get_height() >=minval:\n",
        "          ax_ref.annotate('{}'.format(p.get_height()),xy=(p.get_x()+0.4*p.get_width(), p.get_y() + p.get_height()*1.01),fontsize=13)"
      ]
    },
    {
      "cell_type": "code",
      "execution_count": 59,
      "metadata": {
        "id": "ehQTm5h8EVdl",
        "colab": {
          "base_uri": "https://localhost:8080/"
        },
        "outputId": "6affa9a9-8898-493f-b23f-e8d484eef968"
      },
      "outputs": [
        {
          "output_type": "stream",
          "name": "stdout",
          "text": [
            "Datos cargados\n"
          ]
        }
      ],
      "source": [
        "df_sat=pd.read_excel('UCS-Satellite-Database-1-1-2022.xls',index_col='Date of Launch',parse_dates=True,thousands=',')\n",
        "df_sat.index.name='Date of Launch'\n",
        "print('Datos cargados')"
      ]
    },
    {
      "cell_type": "markdown",
      "metadata": {
        "id": "4fMGrTAKEVdm"
      },
      "source": [
        "El primer paso cuando se trabaja con datos es _explorarlos_. El objetivo de este primer paso es identificar tipos de datos, datos faltantes, problemas de formato, etc., que puedan existir en los datos.\n",
        "\n",
        "Los métodos **.info()** y **.head()** son útiles para determinar los tipos de datos y los datos faltantes. Observemos los nombres de las columnas, el conteo de datos y el tipo de datos."
      ]
    },
    {
      "cell_type": "code",
      "execution_count": 60,
      "metadata": {
        "id": "-61vI-K8EVdn",
        "colab": {
          "base_uri": "https://localhost:8080/"
        },
        "outputId": "4aa6d735-b3d0-4f9a-95ac-f7262fd0e3fa"
      },
      "outputs": [
        {
          "output_type": "stream",
          "name": "stdout",
          "text": [
            "<class 'pandas.core.frame.DataFrame'>\n",
            "DatetimeIndex: 4854 entries, 2019-12-11 to NaT\n",
            "Data columns (total 66 columns):\n",
            " #   Column                              Non-Null Count  Dtype  \n",
            "---  ------                              --------------  -----  \n",
            " 0   Name of Satellite, Alternate Names  4852 non-null   object \n",
            " 1   Current Official Name of Satellite  4852 non-null   object \n",
            " 2   Country/Org of UN Registry          4851 non-null   object \n",
            " 3   Country of Operator/Owner           4852 non-null   object \n",
            " 4   Operator/Owner                      4852 non-null   object \n",
            " 5   Users                               4852 non-null   object \n",
            " 6   Purpose                             4852 non-null   object \n",
            " 7   Detailed Purpose                    1044 non-null   object \n",
            " 8   Class of Orbit                      4852 non-null   object \n",
            " 9   Type of Orbit                       4222 non-null   object \n",
            " 10  Longitude of GEO (degrees)          4852 non-null   float64\n",
            " 11  Perigee (km)                        4852 non-null   float64\n",
            " 12  Apogee (km)                         4852 non-null   float64\n",
            " 13  Eccentricity                        4852 non-null   float64\n",
            " 14  Inclination (degrees)               4852 non-null   float64\n",
            " 15  Period (minutes)                    4837 non-null   float64\n",
            " 16  Launch Mass (kg.)                   4612 non-null   float64\n",
            " 17  Dry Mass (kg.)                      453 non-null    object \n",
            " 18  Power (watts)                       592 non-null    object \n",
            " 19  Expected Lifetime (yrs.)            3095 non-null   float64\n",
            " 20  Contractor                          4850 non-null   object \n",
            " 21  Country of Contractor               4850 non-null   object \n",
            " 22  Launch Site                         4851 non-null   object \n",
            " 23  Launch Vehicle                      4852 non-null   object \n",
            " 24  COSPAR Number                       4852 non-null   object \n",
            " 25  NORAD Number                        4852 non-null   float64\n",
            " 26  Comments                            1518 non-null   object \n",
            " 27  Unnamed: 28                         3 non-null      object \n",
            " 28  Source Used for Orbital Data        4660 non-null   object \n",
            " 29  Source                              3216 non-null   object \n",
            " 30  Source.1                            240 non-null    object \n",
            " 31  Source.2                            1428 non-null   object \n",
            " 32  Source.3                            671 non-null    object \n",
            " 33  Source.4                            259 non-null    object \n",
            " 34  Source.5                            73 non-null     object \n",
            " 35  Source.6                            20 non-null     object \n",
            " 36  Unnamed: 37                         0 non-null      float64\n",
            " 37  Unnamed: 38                         0 non-null      float64\n",
            " 38  Unnamed: 39                         0 non-null      float64\n",
            " 39  Unnamed: 40                         0 non-null      float64\n",
            " 40  Unnamed: 41                         0 non-null      float64\n",
            " 41  Unnamed: 42                         0 non-null      float64\n",
            " 42  Unnamed: 43                         0 non-null      float64\n",
            " 43  Unnamed: 44                         0 non-null      float64\n",
            " 44  Unnamed: 45                         0 non-null      float64\n",
            " 45  Unnamed: 46                         0 non-null      float64\n",
            " 46  Unnamed: 47                         0 non-null      float64\n",
            " 47  Unnamed: 48                         0 non-null      float64\n",
            " 48  Unnamed: 49                         0 non-null      float64\n",
            " 49  Unnamed: 50                         0 non-null      float64\n",
            " 50  Unnamed: 51                         0 non-null      float64\n",
            " 51  Unnamed: 52                         0 non-null      float64\n",
            " 52  Unnamed: 53                         0 non-null      float64\n",
            " 53  Unnamed: 54                         0 non-null      float64\n",
            " 54  Unnamed: 55                         0 non-null      float64\n",
            " 55  Unnamed: 56                         0 non-null      float64\n",
            " 56  Unnamed: 57                         0 non-null      float64\n",
            " 57  Unnamed: 58                         0 non-null      float64\n",
            " 58  Unnamed: 59                         0 non-null      float64\n",
            " 59  Unnamed: 60                         3 non-null      object \n",
            " 60  Unnamed: 61                         3 non-null      object \n",
            " 61  Unnamed: 62                         2 non-null      object \n",
            " 62  Unnamed: 63                         0 non-null      float64\n",
            " 63  Unnamed: 64                         0 non-null      float64\n",
            " 64  Unnamed: 65                         0 non-null      float64\n",
            " 65  Unnamed: 66                         2 non-null      object \n",
            "dtypes: float64(35), object(31)\n",
            "memory usage: 2.5+ MB\n"
          ]
        }
      ],
      "source": [
        "df_sat.info()"
      ]
    },
    {
      "cell_type": "markdown",
      "metadata": {
        "id": "baMDX6RCEVdo"
      },
      "source": [
        "**Segundo paso: limpiar el conjunto de datos**"
      ]
    },
    {
      "cell_type": "markdown",
      "metadata": {
        "id": "g4bfvGGREVdq"
      },
      "source": [
        "Algunos de los campos de datos más interesantes incluyen la fecha de lanzamiento del satélite, el fabricante y operador del satélite, el propósito del satélite, el tipo de órbita, incluidos algunos parámetros orbitales, y la capacidad de masa y potencia del satélite."
      ]
    },
    {
      "cell_type": "markdown",
      "metadata": {
        "id": "Sqg6SWv3EVds"
      },
      "source": [
        "Pero también, no es un conjunto de datos perfecto. Vemos los siguientes problemas:\n",
        "\n",
        "- Faltan datos en algunas de las columnas más interesantes, por ejemplo, carga útil, Masa, Potencia.\n",
        "- Columnas vacías.\n",
        "\n",
        "Para tener una idea de cómo se ven los datos, exploremos las primeras y la última fila de datos, usando los métodos **.head()** y **.last()**"
      ]
    },
    {
      "cell_type": "code",
      "execution_count": 61,
      "metadata": {
        "id": "CA8mxBG9EVdu",
        "colab": {
          "base_uri": "https://localhost:8080/",
          "height": 574
        },
        "outputId": "1bb7d6ff-2793-4e2a-f006-c517133076ef"
      },
      "outputs": [
        {
          "output_type": "execute_result",
          "data": {
            "text/plain": [
              "                               Name of Satellite, Alternate Names  \\\n",
              "Date of Launch                                                      \n",
              "2019-12-11      1HOPSAT-TD (1st-generation High Optical Perfor...   \n",
              "2017-06-23                                               Aalto-1    \n",
              "2016-04-25                                               AAUSat-4   \n",
              "2014-02-06                               ABS-2 (Koreasat-8, ST-3)   \n",
              "2016-06-15                                                 ABS-2A   \n",
              "\n",
              "               Current Official Name of Satellite Country/Org of UN Registry  \\\n",
              "Date of Launch                                                                 \n",
              "2019-12-11                             1HOPSAT-TD                         NR   \n",
              "2017-06-23                                Aalto-1                    Finland   \n",
              "2016-04-25                               AAUSat-4                    Denmark   \n",
              "2014-02-06                                  ABS-2                         NR   \n",
              "2016-06-15                                 ABS-2A                         NR   \n",
              "\n",
              "               Country of Operator/Owner                 Operator/Owner  \\\n",
              "Date of Launch                                                            \n",
              "2019-12-11                           USA                   Hera Systems   \n",
              "2017-06-23                       Finland               Aalto University   \n",
              "2016-04-25                       Denmark          University of Aalborg   \n",
              "2014-02-06                 Multinational  Asia Broadcast Satellite Ltd.   \n",
              "2016-06-15                 Multinational  Asia Broadcast Satellite Ltd.   \n",
              "\n",
              "                     Users                 Purpose  \\\n",
              "Date of Launch                                       \n",
              "2019-12-11      Commercial       Earth Observation   \n",
              "2017-06-23           Civil  Technology Development   \n",
              "2016-04-25           Civil       Earth Observation   \n",
              "2014-02-06      Commercial          Communications   \n",
              "2016-06-15      Commercial          Communications   \n",
              "\n",
              "                                     Detailed Purpose Class of Orbit  \\\n",
              "Date of Launch                                                         \n",
              "2019-12-11                           Infrared Imaging            LEO   \n",
              "2017-06-23                                        NaN            LEO   \n",
              "2016-04-25      Automatic Identification System (AIS)            LEO   \n",
              "2014-02-06                                        NaN            GEO   \n",
              "2016-06-15                                        NaN            GEO   \n",
              "\n",
              "                     Type of Orbit  ...  Unnamed: 57  Unnamed: 58  \\\n",
              "Date of Launch                      ...                             \n",
              "2019-12-11      Non-Polar Inclined  ...          NaN          NaN   \n",
              "2017-06-23         Sun-Synchronous  ...          NaN          NaN   \n",
              "2016-04-25         Sun-Synchronous  ...          NaN          NaN   \n",
              "2014-02-06                     NaN  ...          NaN          NaN   \n",
              "2016-06-15                     NaN  ...          NaN          NaN   \n",
              "\n",
              "                Unnamed: 59  Unnamed: 60  Unnamed: 61  Unnamed: 62  \\\n",
              "Date of Launch                                                       \n",
              "2019-12-11              NaN          NaN          NaN          NaN   \n",
              "2017-06-23              NaN          NaN          NaN          NaN   \n",
              "2016-04-25              NaN          NaN          NaN          NaN   \n",
              "2014-02-06              NaN          NaN          NaN          NaN   \n",
              "2016-06-15              NaN          NaN          NaN          NaN   \n",
              "\n",
              "                Unnamed: 63 Unnamed: 64 Unnamed: 65  Unnamed: 66  \n",
              "Date of Launch                                                    \n",
              "2019-12-11              NaN         NaN         NaN          NaN  \n",
              "2017-06-23              NaN         NaN         NaN          NaN  \n",
              "2016-04-25              NaN         NaN         NaN          NaN  \n",
              "2014-02-06              NaN         NaN         NaN          NaN  \n",
              "2016-06-15              NaN         NaN         NaN          NaN  \n",
              "\n",
              "[5 rows x 66 columns]"
            ],
            "text/html": [
              "\n",
              "  <div id=\"df-fbae96d1-a293-4b78-982f-f3295916a971\">\n",
              "    <div class=\"colab-df-container\">\n",
              "      <div>\n",
              "<style scoped>\n",
              "    .dataframe tbody tr th:only-of-type {\n",
              "        vertical-align: middle;\n",
              "    }\n",
              "\n",
              "    .dataframe tbody tr th {\n",
              "        vertical-align: top;\n",
              "    }\n",
              "\n",
              "    .dataframe thead th {\n",
              "        text-align: right;\n",
              "    }\n",
              "</style>\n",
              "<table border=\"1\" class=\"dataframe\">\n",
              "  <thead>\n",
              "    <tr style=\"text-align: right;\">\n",
              "      <th></th>\n",
              "      <th>Name of Satellite, Alternate Names</th>\n",
              "      <th>Current Official Name of Satellite</th>\n",
              "      <th>Country/Org of UN Registry</th>\n",
              "      <th>Country of Operator/Owner</th>\n",
              "      <th>Operator/Owner</th>\n",
              "      <th>Users</th>\n",
              "      <th>Purpose</th>\n",
              "      <th>Detailed Purpose</th>\n",
              "      <th>Class of Orbit</th>\n",
              "      <th>Type of Orbit</th>\n",
              "      <th>...</th>\n",
              "      <th>Unnamed: 57</th>\n",
              "      <th>Unnamed: 58</th>\n",
              "      <th>Unnamed: 59</th>\n",
              "      <th>Unnamed: 60</th>\n",
              "      <th>Unnamed: 61</th>\n",
              "      <th>Unnamed: 62</th>\n",
              "      <th>Unnamed: 63</th>\n",
              "      <th>Unnamed: 64</th>\n",
              "      <th>Unnamed: 65</th>\n",
              "      <th>Unnamed: 66</th>\n",
              "    </tr>\n",
              "    <tr>\n",
              "      <th>Date of Launch</th>\n",
              "      <th></th>\n",
              "      <th></th>\n",
              "      <th></th>\n",
              "      <th></th>\n",
              "      <th></th>\n",
              "      <th></th>\n",
              "      <th></th>\n",
              "      <th></th>\n",
              "      <th></th>\n",
              "      <th></th>\n",
              "      <th></th>\n",
              "      <th></th>\n",
              "      <th></th>\n",
              "      <th></th>\n",
              "      <th></th>\n",
              "      <th></th>\n",
              "      <th></th>\n",
              "      <th></th>\n",
              "      <th></th>\n",
              "      <th></th>\n",
              "      <th></th>\n",
              "    </tr>\n",
              "  </thead>\n",
              "  <tbody>\n",
              "    <tr>\n",
              "      <th>2019-12-11</th>\n",
              "      <td>1HOPSAT-TD (1st-generation High Optical Perfor...</td>\n",
              "      <td>1HOPSAT-TD</td>\n",
              "      <td>NR</td>\n",
              "      <td>USA</td>\n",
              "      <td>Hera Systems</td>\n",
              "      <td>Commercial</td>\n",
              "      <td>Earth Observation</td>\n",
              "      <td>Infrared Imaging</td>\n",
              "      <td>LEO</td>\n",
              "      <td>Non-Polar Inclined</td>\n",
              "      <td>...</td>\n",
              "      <td>NaN</td>\n",
              "      <td>NaN</td>\n",
              "      <td>NaN</td>\n",
              "      <td>NaN</td>\n",
              "      <td>NaN</td>\n",
              "      <td>NaN</td>\n",
              "      <td>NaN</td>\n",
              "      <td>NaN</td>\n",
              "      <td>NaN</td>\n",
              "      <td>NaN</td>\n",
              "    </tr>\n",
              "    <tr>\n",
              "      <th>2017-06-23</th>\n",
              "      <td>Aalto-1</td>\n",
              "      <td>Aalto-1</td>\n",
              "      <td>Finland</td>\n",
              "      <td>Finland</td>\n",
              "      <td>Aalto University</td>\n",
              "      <td>Civil</td>\n",
              "      <td>Technology Development</td>\n",
              "      <td>NaN</td>\n",
              "      <td>LEO</td>\n",
              "      <td>Sun-Synchronous</td>\n",
              "      <td>...</td>\n",
              "      <td>NaN</td>\n",
              "      <td>NaN</td>\n",
              "      <td>NaN</td>\n",
              "      <td>NaN</td>\n",
              "      <td>NaN</td>\n",
              "      <td>NaN</td>\n",
              "      <td>NaN</td>\n",
              "      <td>NaN</td>\n",
              "      <td>NaN</td>\n",
              "      <td>NaN</td>\n",
              "    </tr>\n",
              "    <tr>\n",
              "      <th>2016-04-25</th>\n",
              "      <td>AAUSat-4</td>\n",
              "      <td>AAUSat-4</td>\n",
              "      <td>Denmark</td>\n",
              "      <td>Denmark</td>\n",
              "      <td>University of Aalborg</td>\n",
              "      <td>Civil</td>\n",
              "      <td>Earth Observation</td>\n",
              "      <td>Automatic Identification System (AIS)</td>\n",
              "      <td>LEO</td>\n",
              "      <td>Sun-Synchronous</td>\n",
              "      <td>...</td>\n",
              "      <td>NaN</td>\n",
              "      <td>NaN</td>\n",
              "      <td>NaN</td>\n",
              "      <td>NaN</td>\n",
              "      <td>NaN</td>\n",
              "      <td>NaN</td>\n",
              "      <td>NaN</td>\n",
              "      <td>NaN</td>\n",
              "      <td>NaN</td>\n",
              "      <td>NaN</td>\n",
              "    </tr>\n",
              "    <tr>\n",
              "      <th>2014-02-06</th>\n",
              "      <td>ABS-2 (Koreasat-8, ST-3)</td>\n",
              "      <td>ABS-2</td>\n",
              "      <td>NR</td>\n",
              "      <td>Multinational</td>\n",
              "      <td>Asia Broadcast Satellite Ltd.</td>\n",
              "      <td>Commercial</td>\n",
              "      <td>Communications</td>\n",
              "      <td>NaN</td>\n",
              "      <td>GEO</td>\n",
              "      <td>NaN</td>\n",
              "      <td>...</td>\n",
              "      <td>NaN</td>\n",
              "      <td>NaN</td>\n",
              "      <td>NaN</td>\n",
              "      <td>NaN</td>\n",
              "      <td>NaN</td>\n",
              "      <td>NaN</td>\n",
              "      <td>NaN</td>\n",
              "      <td>NaN</td>\n",
              "      <td>NaN</td>\n",
              "      <td>NaN</td>\n",
              "    </tr>\n",
              "    <tr>\n",
              "      <th>2016-06-15</th>\n",
              "      <td>ABS-2A</td>\n",
              "      <td>ABS-2A</td>\n",
              "      <td>NR</td>\n",
              "      <td>Multinational</td>\n",
              "      <td>Asia Broadcast Satellite Ltd.</td>\n",
              "      <td>Commercial</td>\n",
              "      <td>Communications</td>\n",
              "      <td>NaN</td>\n",
              "      <td>GEO</td>\n",
              "      <td>NaN</td>\n",
              "      <td>...</td>\n",
              "      <td>NaN</td>\n",
              "      <td>NaN</td>\n",
              "      <td>NaN</td>\n",
              "      <td>NaN</td>\n",
              "      <td>NaN</td>\n",
              "      <td>NaN</td>\n",
              "      <td>NaN</td>\n",
              "      <td>NaN</td>\n",
              "      <td>NaN</td>\n",
              "      <td>NaN</td>\n",
              "    </tr>\n",
              "  </tbody>\n",
              "</table>\n",
              "<p>5 rows × 66 columns</p>\n",
              "</div>\n",
              "      <button class=\"colab-df-convert\" onclick=\"convertToInteractive('df-fbae96d1-a293-4b78-982f-f3295916a971')\"\n",
              "              title=\"Convert this dataframe to an interactive table.\"\n",
              "              style=\"display:none;\">\n",
              "        \n",
              "  <svg xmlns=\"http://www.w3.org/2000/svg\" height=\"24px\"viewBox=\"0 0 24 24\"\n",
              "       width=\"24px\">\n",
              "    <path d=\"M0 0h24v24H0V0z\" fill=\"none\"/>\n",
              "    <path d=\"M18.56 5.44l.94 2.06.94-2.06 2.06-.94-2.06-.94-.94-2.06-.94 2.06-2.06.94zm-11 1L8.5 8.5l.94-2.06 2.06-.94-2.06-.94L8.5 2.5l-.94 2.06-2.06.94zm10 10l.94 2.06.94-2.06 2.06-.94-2.06-.94-.94-2.06-.94 2.06-2.06.94z\"/><path d=\"M17.41 7.96l-1.37-1.37c-.4-.4-.92-.59-1.43-.59-.52 0-1.04.2-1.43.59L10.3 9.45l-7.72 7.72c-.78.78-.78 2.05 0 2.83L4 21.41c.39.39.9.59 1.41.59.51 0 1.02-.2 1.41-.59l7.78-7.78 2.81-2.81c.8-.78.8-2.07 0-2.86zM5.41 20L4 18.59l7.72-7.72 1.47 1.35L5.41 20z\"/>\n",
              "  </svg>\n",
              "      </button>\n",
              "      \n",
              "  <style>\n",
              "    .colab-df-container {\n",
              "      display:flex;\n",
              "      flex-wrap:wrap;\n",
              "      gap: 12px;\n",
              "    }\n",
              "\n",
              "    .colab-df-convert {\n",
              "      background-color: #E8F0FE;\n",
              "      border: none;\n",
              "      border-radius: 50%;\n",
              "      cursor: pointer;\n",
              "      display: none;\n",
              "      fill: #1967D2;\n",
              "      height: 32px;\n",
              "      padding: 0 0 0 0;\n",
              "      width: 32px;\n",
              "    }\n",
              "\n",
              "    .colab-df-convert:hover {\n",
              "      background-color: #E2EBFA;\n",
              "      box-shadow: 0px 1px 2px rgba(60, 64, 67, 0.3), 0px 1px 3px 1px rgba(60, 64, 67, 0.15);\n",
              "      fill: #174EA6;\n",
              "    }\n",
              "\n",
              "    [theme=dark] .colab-df-convert {\n",
              "      background-color: #3B4455;\n",
              "      fill: #D2E3FC;\n",
              "    }\n",
              "\n",
              "    [theme=dark] .colab-df-convert:hover {\n",
              "      background-color: #434B5C;\n",
              "      box-shadow: 0px 1px 3px 1px rgba(0, 0, 0, 0.15);\n",
              "      filter: drop-shadow(0px 1px 2px rgba(0, 0, 0, 0.3));\n",
              "      fill: #FFFFFF;\n",
              "    }\n",
              "  </style>\n",
              "\n",
              "      <script>\n",
              "        const buttonEl =\n",
              "          document.querySelector('#df-fbae96d1-a293-4b78-982f-f3295916a971 button.colab-df-convert');\n",
              "        buttonEl.style.display =\n",
              "          google.colab.kernel.accessAllowed ? 'block' : 'none';\n",
              "\n",
              "        async function convertToInteractive(key) {\n",
              "          const element = document.querySelector('#df-fbae96d1-a293-4b78-982f-f3295916a971');\n",
              "          const dataTable =\n",
              "            await google.colab.kernel.invokeFunction('convertToInteractive',\n",
              "                                                     [key], {});\n",
              "          if (!dataTable) return;\n",
              "\n",
              "          const docLinkHtml = 'Like what you see? Visit the ' +\n",
              "            '<a target=\"_blank\" href=https://colab.research.google.com/notebooks/data_table.ipynb>data table notebook</a>'\n",
              "            + ' to learn more about interactive tables.';\n",
              "          element.innerHTML = '';\n",
              "          dataTable['output_type'] = 'display_data';\n",
              "          await google.colab.output.renderOutput(dataTable, element);\n",
              "          const docLink = document.createElement('div');\n",
              "          docLink.innerHTML = docLinkHtml;\n",
              "          element.appendChild(docLink);\n",
              "        }\n",
              "      </script>\n",
              "    </div>\n",
              "  </div>\n",
              "  "
            ]
          },
          "metadata": {},
          "execution_count": 61
        }
      ],
      "source": [
        "df_sat.head()"
      ]
    },
    {
      "cell_type": "code",
      "execution_count": 62,
      "metadata": {
        "id": "SKUQTBVHEVdu",
        "colab": {
          "base_uri": "https://localhost:8080/",
          "height": 324
        },
        "outputId": "75c96274-5464-46ee-97a8-9836fbc327a8"
      },
      "outputs": [
        {
          "output_type": "execute_result",
          "data": {
            "text/plain": [
              "               Name of Satellite, Alternate Names  \\\n",
              "Date of Launch                                      \n",
              "NaT                                           NaN   \n",
              "NaT                                           NaN   \n",
              "\n",
              "               Current Official Name of Satellite Country/Org of UN Registry  \\\n",
              "Date of Launch                                                                 \n",
              "NaT                                           NaN                        NaN   \n",
              "NaT                                           NaN                        NaN   \n",
              "\n",
              "               Country of Operator/Owner Operator/Owner Users Purpose  \\\n",
              "Date of Launch                                                          \n",
              "NaT                                  NaN            NaN   NaN     NaN   \n",
              "NaT                                  NaN            NaN   NaN     NaN   \n",
              "\n",
              "               Detailed Purpose Class of Orbit Type of Orbit  ...  \\\n",
              "Date of Launch                                                ...   \n",
              "NaT                         NaN            NaN           NaN  ...   \n",
              "NaT                         NaN            NaN           NaN  ...   \n",
              "\n",
              "                Unnamed: 57  Unnamed: 58  Unnamed: 59  Unnamed: 60  \\\n",
              "Date of Launch                                                       \n",
              "NaT                     NaN          NaN          NaN          NaN   \n",
              "NaT                     NaN          NaN          NaN          NaN   \n",
              "\n",
              "                Unnamed: 61  Unnamed: 62  Unnamed: 63 Unnamed: 64 Unnamed: 65  \\\n",
              "Date of Launch                                                                  \n",
              "NaT                     NaN          NaN          NaN         NaN         NaN   \n",
              "NaT                     NaN          NaN          NaN         NaN         NaN   \n",
              "\n",
              "                Unnamed: 66  \n",
              "Date of Launch               \n",
              "NaT                     NaN  \n",
              "NaT                     NaN  \n",
              "\n",
              "[2 rows x 66 columns]"
            ],
            "text/html": [
              "\n",
              "  <div id=\"df-1aaf7fb4-5e0b-4e76-bcf4-9b93dcbe9652\">\n",
              "    <div class=\"colab-df-container\">\n",
              "      <div>\n",
              "<style scoped>\n",
              "    .dataframe tbody tr th:only-of-type {\n",
              "        vertical-align: middle;\n",
              "    }\n",
              "\n",
              "    .dataframe tbody tr th {\n",
              "        vertical-align: top;\n",
              "    }\n",
              "\n",
              "    .dataframe thead th {\n",
              "        text-align: right;\n",
              "    }\n",
              "</style>\n",
              "<table border=\"1\" class=\"dataframe\">\n",
              "  <thead>\n",
              "    <tr style=\"text-align: right;\">\n",
              "      <th></th>\n",
              "      <th>Name of Satellite, Alternate Names</th>\n",
              "      <th>Current Official Name of Satellite</th>\n",
              "      <th>Country/Org of UN Registry</th>\n",
              "      <th>Country of Operator/Owner</th>\n",
              "      <th>Operator/Owner</th>\n",
              "      <th>Users</th>\n",
              "      <th>Purpose</th>\n",
              "      <th>Detailed Purpose</th>\n",
              "      <th>Class of Orbit</th>\n",
              "      <th>Type of Orbit</th>\n",
              "      <th>...</th>\n",
              "      <th>Unnamed: 57</th>\n",
              "      <th>Unnamed: 58</th>\n",
              "      <th>Unnamed: 59</th>\n",
              "      <th>Unnamed: 60</th>\n",
              "      <th>Unnamed: 61</th>\n",
              "      <th>Unnamed: 62</th>\n",
              "      <th>Unnamed: 63</th>\n",
              "      <th>Unnamed: 64</th>\n",
              "      <th>Unnamed: 65</th>\n",
              "      <th>Unnamed: 66</th>\n",
              "    </tr>\n",
              "    <tr>\n",
              "      <th>Date of Launch</th>\n",
              "      <th></th>\n",
              "      <th></th>\n",
              "      <th></th>\n",
              "      <th></th>\n",
              "      <th></th>\n",
              "      <th></th>\n",
              "      <th></th>\n",
              "      <th></th>\n",
              "      <th></th>\n",
              "      <th></th>\n",
              "      <th></th>\n",
              "      <th></th>\n",
              "      <th></th>\n",
              "      <th></th>\n",
              "      <th></th>\n",
              "      <th></th>\n",
              "      <th></th>\n",
              "      <th></th>\n",
              "      <th></th>\n",
              "      <th></th>\n",
              "      <th></th>\n",
              "    </tr>\n",
              "  </thead>\n",
              "  <tbody>\n",
              "    <tr>\n",
              "      <th>NaT</th>\n",
              "      <td>NaN</td>\n",
              "      <td>NaN</td>\n",
              "      <td>NaN</td>\n",
              "      <td>NaN</td>\n",
              "      <td>NaN</td>\n",
              "      <td>NaN</td>\n",
              "      <td>NaN</td>\n",
              "      <td>NaN</td>\n",
              "      <td>NaN</td>\n",
              "      <td>NaN</td>\n",
              "      <td>...</td>\n",
              "      <td>NaN</td>\n",
              "      <td>NaN</td>\n",
              "      <td>NaN</td>\n",
              "      <td>NaN</td>\n",
              "      <td>NaN</td>\n",
              "      <td>NaN</td>\n",
              "      <td>NaN</td>\n",
              "      <td>NaN</td>\n",
              "      <td>NaN</td>\n",
              "      <td>NaN</td>\n",
              "    </tr>\n",
              "    <tr>\n",
              "      <th>NaT</th>\n",
              "      <td>NaN</td>\n",
              "      <td>NaN</td>\n",
              "      <td>NaN</td>\n",
              "      <td>NaN</td>\n",
              "      <td>NaN</td>\n",
              "      <td>NaN</td>\n",
              "      <td>NaN</td>\n",
              "      <td>NaN</td>\n",
              "      <td>NaN</td>\n",
              "      <td>NaN</td>\n",
              "      <td>...</td>\n",
              "      <td>NaN</td>\n",
              "      <td>NaN</td>\n",
              "      <td>NaN</td>\n",
              "      <td>NaN</td>\n",
              "      <td>NaN</td>\n",
              "      <td>NaN</td>\n",
              "      <td>NaN</td>\n",
              "      <td>NaN</td>\n",
              "      <td>NaN</td>\n",
              "      <td>NaN</td>\n",
              "    </tr>\n",
              "  </tbody>\n",
              "</table>\n",
              "<p>2 rows × 66 columns</p>\n",
              "</div>\n",
              "      <button class=\"colab-df-convert\" onclick=\"convertToInteractive('df-1aaf7fb4-5e0b-4e76-bcf4-9b93dcbe9652')\"\n",
              "              title=\"Convert this dataframe to an interactive table.\"\n",
              "              style=\"display:none;\">\n",
              "        \n",
              "  <svg xmlns=\"http://www.w3.org/2000/svg\" height=\"24px\"viewBox=\"0 0 24 24\"\n",
              "       width=\"24px\">\n",
              "    <path d=\"M0 0h24v24H0V0z\" fill=\"none\"/>\n",
              "    <path d=\"M18.56 5.44l.94 2.06.94-2.06 2.06-.94-2.06-.94-.94-2.06-.94 2.06-2.06.94zm-11 1L8.5 8.5l.94-2.06 2.06-.94-2.06-.94L8.5 2.5l-.94 2.06-2.06.94zm10 10l.94 2.06.94-2.06 2.06-.94-2.06-.94-.94-2.06-.94 2.06-2.06.94z\"/><path d=\"M17.41 7.96l-1.37-1.37c-.4-.4-.92-.59-1.43-.59-.52 0-1.04.2-1.43.59L10.3 9.45l-7.72 7.72c-.78.78-.78 2.05 0 2.83L4 21.41c.39.39.9.59 1.41.59.51 0 1.02-.2 1.41-.59l7.78-7.78 2.81-2.81c.8-.78.8-2.07 0-2.86zM5.41 20L4 18.59l7.72-7.72 1.47 1.35L5.41 20z\"/>\n",
              "  </svg>\n",
              "      </button>\n",
              "      \n",
              "  <style>\n",
              "    .colab-df-container {\n",
              "      display:flex;\n",
              "      flex-wrap:wrap;\n",
              "      gap: 12px;\n",
              "    }\n",
              "\n",
              "    .colab-df-convert {\n",
              "      background-color: #E8F0FE;\n",
              "      border: none;\n",
              "      border-radius: 50%;\n",
              "      cursor: pointer;\n",
              "      display: none;\n",
              "      fill: #1967D2;\n",
              "      height: 32px;\n",
              "      padding: 0 0 0 0;\n",
              "      width: 32px;\n",
              "    }\n",
              "\n",
              "    .colab-df-convert:hover {\n",
              "      background-color: #E2EBFA;\n",
              "      box-shadow: 0px 1px 2px rgba(60, 64, 67, 0.3), 0px 1px 3px 1px rgba(60, 64, 67, 0.15);\n",
              "      fill: #174EA6;\n",
              "    }\n",
              "\n",
              "    [theme=dark] .colab-df-convert {\n",
              "      background-color: #3B4455;\n",
              "      fill: #D2E3FC;\n",
              "    }\n",
              "\n",
              "    [theme=dark] .colab-df-convert:hover {\n",
              "      background-color: #434B5C;\n",
              "      box-shadow: 0px 1px 3px 1px rgba(0, 0, 0, 0.15);\n",
              "      filter: drop-shadow(0px 1px 2px rgba(0, 0, 0, 0.3));\n",
              "      fill: #FFFFFF;\n",
              "    }\n",
              "  </style>\n",
              "\n",
              "      <script>\n",
              "        const buttonEl =\n",
              "          document.querySelector('#df-1aaf7fb4-5e0b-4e76-bcf4-9b93dcbe9652 button.colab-df-convert');\n",
              "        buttonEl.style.display =\n",
              "          google.colab.kernel.accessAllowed ? 'block' : 'none';\n",
              "\n",
              "        async function convertToInteractive(key) {\n",
              "          const element = document.querySelector('#df-1aaf7fb4-5e0b-4e76-bcf4-9b93dcbe9652');\n",
              "          const dataTable =\n",
              "            await google.colab.kernel.invokeFunction('convertToInteractive',\n",
              "                                                     [key], {});\n",
              "          if (!dataTable) return;\n",
              "\n",
              "          const docLinkHtml = 'Like what you see? Visit the ' +\n",
              "            '<a target=\"_blank\" href=https://colab.research.google.com/notebooks/data_table.ipynb>data table notebook</a>'\n",
              "            + ' to learn more about interactive tables.';\n",
              "          element.innerHTML = '';\n",
              "          dataTable['output_type'] = 'display_data';\n",
              "          await google.colab.output.renderOutput(dataTable, element);\n",
              "          const docLink = document.createElement('div');\n",
              "          docLink.innerHTML = docLinkHtml;\n",
              "          element.appendChild(docLink);\n",
              "        }\n",
              "      </script>\n",
              "    </div>\n",
              "  </div>\n",
              "  "
            ]
          },
          "metadata": {},
          "execution_count": 62
        }
      ],
      "source": [
        "df_sat.tail(2)"
      ]
    },
    {
      "cell_type": "markdown",
      "metadata": {
        "id": "SKJXF9SAEVdu"
      },
      "source": [
        "**Tipos de datos y datos faltantes**\n",
        "\n",
        "Como se mencionó anteriormente, la base de datos contiene algunas columnas con comentarios y puntos de datos faltantes. También contiene filas completamente vacías, como se observó en la salida del método **.tail()**. \n",
        "\n",
        "Para nuestro trabajo exploratorio, se descartan las últimas filas innecesarias, que no contienen datos en la columna \"_Nombre del satélite, nombres alternativos_\", todas las columnas que no contengan más de 5 puntos de datos válidos (es decir, al menos 5 filas con datos válidos en la columna, usando el método **.dropna()**), y finalmente se convertirá a numéricas las columnas que deben contener datos numéricos.\n",
        "\n",
        "Luego, después de eliminar las filas problemáticas a las que les faltan las fechas de lanzamiento, ordenaremos el índice (fecha de lanzamiento) cronológicamente. "
      ]
    },
    {
      "cell_type": "code",
      "execution_count": 63,
      "metadata": {
        "id": "nVQ7jpUGEVdw",
        "colab": {
          "base_uri": "https://localhost:8080/"
        },
        "outputId": "22d6a162-b47c-49ea-e4b2-c09d591c37b6"
      },
      "outputs": [
        {
          "output_type": "stream",
          "name": "stdout",
          "text": [
            "<class 'pandas.core.frame.DataFrame'>\n",
            "DatetimeIndex: 4852 entries, 1974-11-15 to 2021-12-27\n",
            "Data columns (total 35 columns):\n",
            " #   Column                              Non-Null Count  Dtype  \n",
            "---  ------                              --------------  -----  \n",
            " 0   Name of Satellite, Alternate Names  4852 non-null   object \n",
            " 1   Current Official Name of Satellite  4852 non-null   object \n",
            " 2   Country/Org of UN Registry          4851 non-null   object \n",
            " 3   Country of Operator/Owner           4852 non-null   object \n",
            " 4   Operator/Owner                      4852 non-null   object \n",
            " 5   Users                               4852 non-null   object \n",
            " 6   Purpose                             4852 non-null   object \n",
            " 7   Detailed Purpose                    1044 non-null   object \n",
            " 8   Class of Orbit                      4852 non-null   object \n",
            " 9   Type of Orbit                       4222 non-null   object \n",
            " 10  Longitude of GEO (degrees)          4852 non-null   float64\n",
            " 11  Perigee (km)                        4852 non-null   float64\n",
            " 12  Apogee (km)                         4852 non-null   float64\n",
            " 13  Eccentricity                        4852 non-null   float64\n",
            " 14  Inclination (degrees)               4852 non-null   float64\n",
            " 15  Period (minutes)                    4837 non-null   float64\n",
            " 16  Launch Mass (kg.)                   4612 non-null   float64\n",
            " 17  Dry Mass (kg.)                      450 non-null    float64\n",
            " 18  Power (watts)                       568 non-null    float64\n",
            " 19  Expected Lifetime (yrs.)            3095 non-null   float64\n",
            " 20  Contractor                          4850 non-null   object \n",
            " 21  Country of Contractor               4850 non-null   object \n",
            " 22  Launch Site                         4851 non-null   object \n",
            " 23  Launch Vehicle                      4852 non-null   object \n",
            " 24  COSPAR Number                       4852 non-null   object \n",
            " 25  NORAD Number                        4852 non-null   float64\n",
            " 26  Comments                            1518 non-null   object \n",
            " 27  Source Used for Orbital Data        4660 non-null   object \n",
            " 28  Source                              3216 non-null   object \n",
            " 29  Source.1                            240 non-null    object \n",
            " 30  Source.2                            1426 non-null   object \n",
            " 31  Source.3                            671 non-null    object \n",
            " 32  Source.4                            259 non-null    object \n",
            " 33  Source.5                            73 non-null     object \n",
            " 34  Source.6                            20 non-null     object \n",
            "dtypes: float64(11), object(24)\n",
            "memory usage: 1.3+ MB\n"
          ]
        },
        {
          "output_type": "stream",
          "name": "stderr",
          "text": [
            "/usr/local/lib/python3.7/dist-packages/pandas/util/_decorators.py:311: SettingWithCopyWarning:\n",
            "\n",
            "\n",
            "A value is trying to be set on a copy of a slice from a DataFrame\n",
            "\n",
            "See the caveats in the documentation: https://pandas.pydata.org/pandas-docs/stable/user_guide/indexing.html#returning-a-view-versus-a-copy\n",
            "\n",
            "/usr/local/lib/python3.7/dist-packages/ipykernel_launcher.py:8: SettingWithCopyWarning:\n",
            "\n",
            "\n",
            "A value is trying to be set on a copy of a slice from a DataFrame.\n",
            "Try using .loc[row_indexer,col_indexer] = value instead\n",
            "\n",
            "See the caveats in the documentation: https://pandas.pydata.org/pandas-docs/stable/user_guide/indexing.html#returning-a-view-versus-a-copy\n",
            "\n",
            "/usr/local/lib/python3.7/dist-packages/pandas/core/frame.py:3641: SettingWithCopyWarning:\n",
            "\n",
            "\n",
            "A value is trying to be set on a copy of a slice from a DataFrame.\n",
            "Try using .loc[row_indexer,col_indexer] = value instead\n",
            "\n",
            "See the caveats in the documentation: https://pandas.pydata.org/pandas-docs/stable/user_guide/indexing.html#returning-a-view-versus-a-copy\n",
            "\n",
            "/usr/local/lib/python3.7/dist-packages/pandas/core/frame.py:6402: SettingWithCopyWarning:\n",
            "\n",
            "\n",
            "A value is trying to be set on a copy of a slice from a DataFrame\n",
            "\n",
            "See the caveats in the documentation: https://pandas.pydata.org/pandas-docs/stable/user_guide/indexing.html#returning-a-view-versus-a-copy\n",
            "\n"
          ]
        }
      ],
      "source": [
        "#quitar filas con NaN,\n",
        "df_sat = df_sat[ df_sat['Name of Satellite, Alternate Names'].notna() ]\n",
        "\n",
        "#soltar columnas con menos de 5 elementos válidos\n",
        "df_sat.dropna( axis='columns', thresh=5, inplace=True)\n",
        "\n",
        "#corregir los espacios adicionales en las columnas de categoría\n",
        "df_sat['Users']=df_sat['Users'].str.strip()\n",
        "\n",
        "#asegúrese de que las columnas numéricas sean del tipo correcto\n",
        "df_sat[['Dry Mass (kg.)', 'Launch Mass (kg.)', 'Eccentricity', 'Inclination (degrees)','Period (minutes)', 'Power (watts)']]=\\\n",
        "    df_sat[['Dry Mass (kg.)', 'Launch Mass (kg.)', 'Eccentricity', 'Inclination (degrees)','Period (minutes)', 'Power (watts)']]\\\n",
        "                                                                                            .apply(pd.to_numeric,errors='coerce')\n",
        "#ordenar el índice.\n",
        "df_sat.sort_index(axis=0, inplace=True, ascending=True)\n",
        "df_sat.info()"
      ]
    },
    {
      "cell_type": "markdown",
      "metadata": {
        "id": "H34OQnPVEVdx"
      },
      "source": [
        "Además de esto, ahora es importante explorar las columnas numéricas para asegurarse de que no haya ceros donde puedan ser problemáticos. Por ejemplo, un cero en las columnas _Masa seca, Masa de lanzamiento, Potencia_ no es un punto de datos correcto. Después de inspeccionar, el satélite NSS-6 parece tener un cero en la columna Potencia (vatios)."
      ]
    },
    {
      "cell_type": "code",
      "execution_count": 64,
      "metadata": {
        "id": "3M5UYLQFEVdx",
        "colab": {
          "base_uri": "https://localhost:8080/"
        },
        "outputId": "684ecb81-ca6e-43bc-8bd6-a7b78b439bc2"
      },
      "outputs": [
        {
          "output_type": "stream",
          "name": "stdout",
          "text": [
            "Número de entradas en las columnas Potencia, Masa de lanzamiento y Masa seca establecidas en cero\n",
            "-------------------------------------------------------------------------\n",
            " Número de puntos de datos que faltan en la columna Potencia: 1\n",
            "Date of Launch\n",
            "2002-12-17    NSS-6\n",
            "-------------------------------------------------------------------------\n",
            " Número de puntos de datos faltantes en columna de Masa seca: 0\n",
            " Número de puntos de datos que faltan en la columna Masa de lanzamiento: 0\n"
          ]
        }
      ],
      "source": [
        "## identificar CERO en las columnas de masa o potencia\n",
        "isZeroPower_idx = df_sat['Power (watts)'] == 0\n",
        "isZeroDryMass_idx = df_sat['Dry Mass (kg.)'] == 0\n",
        "isZeroLaunchMass_idx = df_sat['Launch Mass (kg.)'] == 0\n",
        "\n",
        "print('Número de entradas en las columnas Potencia, Masa de lanzamiento y Masa seca establecidas en cero')\n",
        "print('-------------------------------------------------------------------------')\n",
        "print(' Número de puntos de datos que faltan en la columna Potencia: {}'.format(isZeroPower_idx.sum()))\n",
        "print(df_sat[isZeroPower_idx]['Current Official Name of Satellite'].to_string())\n",
        "print('-------------------------------------------------------------------------')\n",
        "print(' Número de puntos de datos faltantes en columna de Masa seca: {}'.format(isZeroDryMass_idx.sum()))\n",
        "print(' Número de puntos de datos que faltan en la columna Masa de lanzamiento: {}'.format(isZeroLaunchMass_idx.sum()))"
      ]
    },
    {
      "cell_type": "markdown",
      "metadata": {
        "id": "XeZOla7IEVdy"
      },
      "source": [
        "Según la información disponible en una versión anterior de la base de datos (UCS-Satellite-Database-8-1-2020.xls), la plataforma del satélite entrega 10 KW de potencia."
      ]
    },
    {
      "cell_type": "code",
      "execution_count": 65,
      "metadata": {
        "id": "VyNHbkFdEVdz",
        "colab": {
          "base_uri": "https://localhost:8080/"
        },
        "outputId": "3c6e9b67-de12-4e02-90a3-42fcee7f03c6"
      },
      "outputs": [
        {
          "output_type": "stream",
          "name": "stdout",
          "text": [
            "Date of Launch\n",
            "2002-12-17    10000.0\n"
          ]
        },
        {
          "output_type": "stream",
          "name": "stderr",
          "text": [
            "/usr/local/lib/python3.7/dist-packages/pandas/core/indexing.py:1817: SettingWithCopyWarning:\n",
            "\n",
            "\n",
            "A value is trying to be set on a copy of a slice from a DataFrame.\n",
            "Try using .loc[row_indexer,col_indexer] = value instead\n",
            "\n",
            "See the caveats in the documentation: https://pandas.pydata.org/pandas-docs/stable/user_guide/indexing.html#returning-a-view-versus-a-copy\n",
            "\n"
          ]
        }
      ],
      "source": [
        "# Establezca el valor de POTENCIA (vatios) para NSS-6 en 10000\n",
        "df_sat.loc[isZeroPower_idx,'Power (watts)'] = 10000\n",
        "print(df_sat[isZeroPower_idx]['Power (watts)'].to_string())"
      ]
    },
    {
      "cell_type": "markdown",
      "metadata": {
        "id": "4oeH0nCzEVdz"
      },
      "source": [
        "Ahora el marco de datos está más limpio y podemos comenzar nuestro trabajo exploratorio."
      ]
    },
    {
      "cell_type": "markdown",
      "metadata": {
        "id": "dNoAZl5gEVdz"
      },
      "source": [
        "Las **estaciones terrestres de satélites** son instalaciones diseñadas con el fin de proporcionar una comunicación directa y en tiempo real con los satélites. Estos se pueden colocar hasta en 5 órbitas en el espacio en función de las necesidades de cada uno. \n",
        "\n",
        "- La **órbita LEO** u **órbita baja** es una amplia franja que se sitúa entre los 160 y los 2000 kilómetros de altura. Los objetos situados en esta órbita se mueven a gran velocidad respecto de la superficie terrestre, por lo cubren una órbita completa en pocos minutos o pocas horas. Aquí se sitúan la Estación Espacial Internacional y la mayoría de los satélites meteorológicos de observación y muchos satélites de comunicaciones. \n",
        "\n",
        "- La **órbita MEO** u **órbita circular intermedia** se halla entre los 2000 y 36000 kilómetros de altura. Su periodo orbital tiene un promedio de 12 horas y aquí se sitúan los satélites de observación, defensa y posicionamiento, las redes satelitales de GPS y los satélites Glonass rusos o los Galileo europeos. \n",
        "\n",
        "- La **órbita geoestacionaria** u **órbita GEO** se sitúa a 35786 kilómetros de la superficie terrestre. Su periodo orbital es de 24 horas y en ella se ubican todos los satélites que proveen internet, televisión, telefonía y otros datos a diferentes regiones del planeta. \n",
        "\n",
        "- La **órbita HEO** u **órbita alta** se halla a más de 36000 kilómetros de altura y tiene un periodo orbital de más de 24 horas. \n",
        "- Por último, tendríamos ya la **órbita SSO** u **órbita sincrónica solar**."
      ]
    },
    {
      "cell_type": "markdown",
      "metadata": {
        "id": "bxszXgrFEVd0"
      },
      "source": [
        "**Comencemos la exploración.**\n",
        "\n",
        "**Actividad:** Encuentre el satélite en funcionamiento más antiguo y más reciente.\n",
        "\n",
        "Determinamos esto usando el método **.iloc()** en el primer y último elemento del marco de datos:"
      ]
    },
    {
      "cell_type": "code",
      "execution_count": 66,
      "metadata": {
        "id": "RBODu_jyEVd0",
        "colab": {
          "base_uri": "https://localhost:8080/"
        },
        "outputId": "0167cec7-b418-4c80-ad8e-ae156fcbf166"
      },
      "outputs": [
        {
          "output_type": "stream",
          "name": "stdout",
          "text": [
            "Name of Satellite, Alternate Names    Amsat-Oscar 7 (AO-7)\n",
            "Current Official Name of Satellite           Amsat-Oscar 7\n",
            "Country/Org of UN Registry                             USA\n",
            "Country of Operator/Owner                              USA\n",
            "Operator/Owner                                    AMSAT-NA\n"
          ]
        }
      ],
      "source": [
        "print(df_sat.iloc[0,0:5].to_string())"
      ]
    },
    {
      "cell_type": "code",
      "execution_count": 67,
      "metadata": {
        "id": "v5aeyeLjEVd2",
        "colab": {
          "base_uri": "https://localhost:8080/"
        },
        "outputId": "777d3cb5-0e97-4fd5-cafc-f1fd3db011f0"
      },
      "outputs": [
        {
          "output_type": "stream",
          "name": "stdout",
          "text": [
            "Name of Satellite, Alternate Names         OneWeb-0419 \n",
            "Current Official Name of Satellite         OneWeb-0419 \n",
            "Country/Org of UN Registry                   NR (12/21)\n",
            "Country of Operator/Owner                United Kingdom\n",
            "Operator/Owner                        OneWeb Satellites\n"
          ]
        }
      ],
      "source": [
        "print(df_sat.iloc[-1,0:5].to_string())"
      ]
    },
    {
      "cell_type": "markdown",
      "metadata": {
        "id": "sJ2oO4SxEVd2"
      },
      "source": [
        "La base de datos contiene información sobre satélites, su tipo de órbita y usos principales. Para determinar el satélite más antiguo en órbita geoestacionaria, utilizado con fines **comerciales**, debemos aplicar una _indexación booleana_ utilizando las columnas 'Clase de órbita' y 'Usuarios'"
      ]
    },
    {
      "cell_type": "code",
      "execution_count": 68,
      "metadata": {
        "id": "fmF5KJnGEVd3",
        "colab": {
          "base_uri": "https://localhost:8080/"
        },
        "outputId": "79aae597-da5d-4ab2-9f19-7fd31e6d75db"
      },
      "outputs": [
        {
          "output_type": "stream",
          "name": "stdout",
          "text": [
            "Name of Satellite, Alternate Names         Astra 1D \n",
            "Current Official Name of Satellite          Astra 1D\n",
            "Country/Org of UN Registry                Luxembourg\n",
            "Country of Operator/Owner                 Luxembourg\n",
            "Operator/Owner                              SES S.A.\n",
            "Users                                     Commercial\n",
            "Purpose                               Communications\n",
            "Detailed Purpose                                 NaN\n"
          ]
        }
      ],
      "source": [
        "print(df_sat[(df_sat['Class of Orbit']=='GEO') & (df_sat['Users']=='Commercial')].iloc[0,0:8].to_string())"
      ]
    },
    {
      "cell_type": "markdown",
      "metadata": {
        "id": "8yrBV4nYEVd3"
      },
      "source": [
        "**Actividad:** Encuentre el satélite más pesado en operaciones"
      ]
    },
    {
      "cell_type": "code",
      "execution_count": 69,
      "metadata": {
        "id": "Fu3DqZ8-EVd3",
        "colab": {
          "base_uri": "https://localhost:8080/"
        },
        "outputId": "4925da43-7538-4dc0-8591-6d00c0c0a70f"
      },
      "outputs": [
        {
          "output_type": "stream",
          "name": "stdout",
          "text": [
            "                                                   Name of Satellite, Alternate Names                        Operator/Owner Class of Orbit  Dry Mass (kg.)\n",
            "Date of Launch                                                                                                                                            \n",
            "2005-10-19      Keyhole 5 (Advanced KH-11, KH-12-5, Improved Crystal, EIS-3, USA 186)  National Reconnaissance Office (NRO)            LEO         10000.0\n"
          ]
        }
      ],
      "source": [
        "heaviest_sat = df_sat[['Dry Mass (kg.)']].idxmax()\n",
        "print(df_sat.loc[heaviest_sat,['Name of Satellite, Alternate Names','Operator/Owner','Class of Orbit','Dry Mass (kg.)']].to_string())"
      ]
    },
    {
      "cell_type": "markdown",
      "metadata": {
        "id": "1r5ZgWY9EVd4"
      },
      "source": [
        "Además de la información sobre la fecha de lanzamiento y el nombre del satélite, la base de datos contiene variables como el país que registró el satélite en la ONU (País de registro de la ONU, país al que pertenece el operador del satélite (País del operador).\n",
        "\n",
        "_Con esta información podemos explorar qué tan activos son los países en el espacio._"
      ]
    },
    {
      "cell_type": "markdown",
      "metadata": {
        "id": "1AAmGnZEEVd5"
      },
      "source": [
        "**¿Qué países son más activos en el espacio?** \n",
        "\n",
        "**Exploración a nivel de país**: Al observar el _país de registro_ y el _país del operador_, podríamos medir la actividad del sector espacial de un país."
      ]
    },
    {
      "cell_type": "code",
      "execution_count": 70,
      "metadata": {
        "id": "-dZQr9abEVd5",
        "colab": {
          "base_uri": "https://localhost:8080/"
        },
        "outputId": "5d8990d2-a9c7-4b51-81c9-abb2a040ef29"
      },
      "outputs": [
        {
          "output_type": "stream",
          "name": "stdout",
          "text": [
            "Array sizes: Per country of registration (66,) per country of operator (105,)\n"
          ]
        }
      ],
      "source": [
        "# Determinar el número de satélites por país de registro y operador, para todos los países.\n",
        "# La serie devuelta contiene la suma de satélites de todos los países, ordenados por valor.\n",
        "# Nota: Debemos eliminar las entradas No registradas (NR) de la columna 'País/Org del Registro de la ONU' antes de realizar el conteo.\n",
        "\n",
        "nbr_sats_per_cnt_reg=df_sat['Country/Org of UN Registry'].value_counts()\n",
        "nbr_sats_per_cnt_op=df_sat['Country of Operator/Owner'].value_counts()\n",
        "\n",
        "print('Array sizes: Per country of registration {} per country of operator {}'.format(nbr_sats_per_cnt_reg.shape, nbr_sats_per_cnt_op.shape ))"
      ]
    },
    {
      "cell_type": "markdown",
      "metadata": {
        "id": "CU_JMkNzEVd7"
      },
      "source": [
        "Las variables **nbr_sats_per_reg** y **nbr_sats_per_op** contienen el número de satélites por país de registro y por país de operador, ordenados por valor ascendente. Como la cantidad de países en cada matriz es bastante grande, la siguiente celda explora los cinco principales de cada variable:"
      ]
    },
    {
      "cell_type": "code",
      "execution_count": 71,
      "metadata": {
        "id": "RzOuQBjpEVd7",
        "colab": {
          "base_uri": "https://localhost:8080/"
        },
        "outputId": "75627175-bee2-40d7-c171-737f21bef7a6"
      },
      "outputs": [
        {
          "output_type": "stream",
          "name": "stdout",
          "text": [
            "Recuento total de satélites (top 5), por país de registro de la ONU\n",
            "-------------------------------------------------------------\n",
            "USA               2583\n",
            "United Kingdom     420\n",
            "China              317\n",
            "Russia             162\n",
            "Japan               74\n"
          ]
        }
      ],
      "source": [
        "# Número de satélites según el país de registro, clasificados entre los 5 primeros.\n",
        "print('Recuento total de satélites (top 5), por país de registro de la ONU')\n",
        "print('-------------------------------------------------------------')\n",
        "print(df_sat[df_sat['Country/Org of UN Registry'].str.contains(\"NR\")==0]['Country/Org of UN Registry'].value_counts()[:5].to_string())"
      ]
    },
    {
      "cell_type": "code",
      "execution_count": 72,
      "metadata": {
        "id": "gfV5g2h9EVd8",
        "colab": {
          "base_uri": "https://localhost:8080/"
        },
        "outputId": "a9937a8a-37e2-44c8-8ed1-26b96f74eaeb"
      },
      "outputs": [
        {
          "output_type": "stream",
          "name": "stdout",
          "text": [
            "Recuento total de satélites (top 5), por país del operador\n",
            "------------------------------------------------------\n",
            "USA               2926\n",
            "China              493\n",
            "United Kingdom     450\n",
            "Russia             167\n",
            "Japan               90\n"
          ]
        }
      ],
      "source": [
        "# Número de satélites según el país del operador/propietario, clasificados entre los 5 primeros.\n",
        "print('Recuento total de satélites (top 5), por país del operador')\n",
        "print('------------------------------------------------------')\n",
        "print(df_sat['Country of Operator/Owner'].value_counts()[:5].to_string())"
      ]
    },
    {
      "cell_type": "markdown",
      "metadata": {
        "id": "AwzlBOKlEVd9"
      },
      "source": [
        "**NOTA: Puede ser mejor visualizar esta información, en lugar de presentarla como texto.**"
      ]
    },
    {
      "cell_type": "code",
      "execution_count": 73,
      "metadata": {
        "id": "E_ZdywwTEVd9",
        "colab": {
          "base_uri": "https://localhost:8080/",
          "height": 464
        },
        "outputId": "4583b4fc-d5f2-4b8d-abf3-d1fa14015fde"
      },
      "outputs": [
        {
          "output_type": "display_data",
          "data": {
            "text/plain": [
              "<Figure size 1008x432 with 2 Axes>"
            ],
            "image/png": "[encoded data removed]"
          },
          "metadata": {
            "needs_background": "light"
          }
        }
      ],
      "source": [
        "# un gráfico de barras para los cinco países principales,\n",
        "fig, ax = plt.subplots(nrows=1, ncols=2)\n",
        "fig.tight_layout(pad=0.0)\n",
        "fig.set_size_inches(14,6)\n",
        "ax1=df_sat[df_sat['Country/Org of UN Registry'].str.contains(\"NR\")==0]['Country/Org of UN Registry'].value_counts()[:5].plot(kind='barh',ax=ax[0])\n",
        "ax2=nbr_sats_per_cnt_op[0:5].plot(kind='barh')\n",
        "plt.subplots_adjust(right=1.5,wspace=0.5)\n",
        "\n",
        "# establecer una leyenda, título\n",
        "ax1.set_xlabel('Número de satélites en la base de datos', fontsize=18)\n",
        "ax1.set_title('Número total de satélites, por país del Registro de la ONU', fontsize=20)\n",
        "ax2.set_xlabel('Número de satélites en la base de datos', fontsize=18)\n",
        "ax2.set_title('Número total de satélites, por país del Operador', fontsize=20)\n",
        "\n",
        "# anotar\n",
        "set_bar_label(ax1)\n",
        "set_bar_label(ax2)"
      ]
    },
    {
      "cell_type": "markdown",
      "metadata": {
        "id": "_gmtdoPKEVd9"
      },
      "source": [
        "Los resultados probablemente no sean una sorpresa: los países que han registrado la mayoría de los satélites y que operan la mayoría de los satélites son **EE. UU.**, **China** y **Rusia**."
      ]
    },
    {
      "cell_type": "markdown",
      "metadata": {
        "id": "rmcs-4sWEVd9"
      },
      "source": [
        "**¿Desde dónde se lanzan los satélites?**"
      ]
    },
    {
      "cell_type": "code",
      "execution_count": 74,
      "metadata": {
        "id": "-BGCsdUWEVd9",
        "colab": {
          "base_uri": "https://localhost:8080/",
          "height": 505
        },
        "outputId": "ef8e3db1-67a6-46af-e714-05bf48759995"
      },
      "outputs": [
        {
          "output_type": "display_data",
          "data": {
            "text/plain": [
              "<Figure size 576x576 with 1 Axes>"
            ],
            "image/png": "[encoded data removed]"
          },
          "metadata": {
            "needs_background": "light"
          }
        }
      ],
      "source": [
        "axTen = df_sat['Launch Site'].value_counts()[:10].plot(kind='barh', color='purple',width=0.8, figsize=(8,8))\n",
        "set_bar_label(axTen, orient='h')\n",
        "_=axTen.set_title('Número total de lanzamientos, por sitio de lanzamiento (10 principales)', fontsize=20)"
      ]
    },
    {
      "cell_type": "code",
      "execution_count": 75,
      "metadata": {
        "id": "BMo7CkAFEVd-",
        "colab": {
          "base_uri": "https://localhost:8080/"
        },
        "outputId": "b1eb8dc5-e0cc-4af7-ae0d-83d0de755a0e"
      },
      "outputs": [
        {
          "output_type": "stream",
          "name": "stdout",
          "text": [
            "Lista de los 10 principales sitios de lanzamiento, ordenados por número de satélites lanzados\n",
            "--------------------------------------------------------------------\n",
            "Cape Canaveral                     2190\n",
            "Baikonur Cosmodrome                 451\n",
            "Guiana Space Center                 354\n",
            "Vandenberg AFB                      338\n",
            "Vostochny Cosmodrome                273\n",
            "Satish Dhawan Space Centre          239\n",
            "Jiuquan Satellite Launch Center     187\n",
            "Taiyuan Launch Center               165\n",
            "Xichang Satellite Launch Center     154\n",
            "Plesetsk Cosmodrome                 130\n"
          ]
        }
      ],
      "source": [
        "nbr_sats_per_launch_site=df_sat['Launch Site'].value_counts()\n",
        "print('Lista de los 10 principales sitios de lanzamiento, ordenados por número de satélites lanzados')\n",
        "print('--------------------------------------------------------------------')\n",
        "print(nbr_sats_per_launch_site[0:10].to_string())"
      ]
    },
    {
      "cell_type": "markdown",
      "metadata": {
        "id": "Zq6WTOj5EVd-"
      },
      "source": [
        "**¿Y qué vehículos se utilizan para lanzarlos?**\n",
        "\n",
        "También podemos repetir el principio para los vehículos de lanzamiento, usando los datos en la columna \"Vehículo de lanzamiento\". Tenga en cuenta que\n",
        "\n",
        "- Existe lanzamiento de varios vehículos desde el mismo sitio.\n",
        "\n",
        "- Los vehículos de lanzamiento pueden lanzarse desde diferentes sitios según la misión."
      ]
    },
    {
      "cell_type": "code",
      "execution_count": 76,
      "metadata": {
        "id": "cxnHTXBZEVd_",
        "colab": {
          "base_uri": "https://localhost:8080/"
        },
        "outputId": "5de91b28-3764-4be3-a768-87b1ba38284c"
      },
      "outputs": [
        {
          "output_type": "stream",
          "name": "stdout",
          "text": [
            "Lista de lanzadores por número de satélites lanzados en total, 10 principales\n",
            "---------------------------------------------------------------\n",
            "Falcon 9         2206\n",
            "Soyuz-2.1b        475\n",
            "PSLV              182\n",
            "Long March 2D     109\n",
            "Atlas 5           107\n",
            "Soyuz-2.1a        105\n",
            "Ariane 5           93\n",
            "Electron           84\n",
            "Long March 3B      83\n",
            "Vega               76\n"
          ]
        }
      ],
      "source": [
        "nbr_sats_per_launch_vehicle=df_sat['Launch Vehicle'].value_counts()\n",
        "print('Lista de lanzadores por número de satélites lanzados en total, 10 principales')\n",
        "print('---------------------------------------------------------------')\n",
        "print(nbr_sats_per_launch_vehicle[0:10].to_string())"
      ]
    },
    {
      "cell_type": "code",
      "execution_count": 77,
      "metadata": {
        "id": "BVbEoUKIEVd_",
        "colab": {
          "base_uri": "https://localhost:8080/"
        },
        "outputId": "d60eb271-86e0-489a-9301-b8175122fc52"
      },
      "outputs": [
        {
          "output_type": "stream",
          "name": "stdout",
          "text": [
            " - Número de satélites Starlink lanzados con Falcon 9 desde Cabo Cañaveral :  1713\n",
            " - Número de satélites que no son Starlink lanzados con Falcon 9 desde Cabo Cañaveral :  263\n",
            " - Total lanzado desde Cabo Cañaveral usando Falcon 9:  1976\n"
          ]
        },
        {
          "output_type": "stream",
          "name": "stderr",
          "text": [
            "/usr/local/lib/python3.7/dist-packages/ipykernel_launcher.py:3: UserWarning:\n",
            "\n",
            "This pattern has match groups. To actually get the groups, use str.extract.\n",
            "\n"
          ]
        }
      ],
      "source": [
        "BySite_group = df_sat.groupby(['Launch Site','Launch Vehicle']) \n",
        "nbr_Starlink_launched_from_cc = BySite_group.get_group(('Cape Canaveral','Falcon 9'))['Name of Satellite, Alternate Names'].str.contains('tarlink').sum()\n",
        "nbr_NonStarlink_launched_from_cc = BySite_group.get_group(('Cape Canaveral','Falcon 9'))['Name of Satellite, Alternate Names'].str.contains('^((?!tarlink).)*$').sum()\n",
        "\n",
        "print(' - Número de satélites Starlink lanzados con Falcon 9 desde Cabo Cañaveral : ', nbr_Starlink_launched_from_cc )\n",
        "print(' - Número de satélites que no son Starlink lanzados con Falcon 9 desde Cabo Cañaveral : ', nbr_NonStarlink_launched_from_cc )\n",
        "print(' - Total lanzado desde Cabo Cañaveral usando Falcon 9: ', nbr_Starlink_launched_from_cc+nbr_NonStarlink_launched_from_cc)"
      ]
    },
    {
      "cell_type": "markdown",
      "metadata": {
        "id": "tA19o_J_EVeC"
      },
      "source": [
        "Ahora, una mirada más cercana a los primeros 15 satélites lanzados con Falcon 9."
      ]
    },
    {
      "cell_type": "code",
      "execution_count": 78,
      "metadata": {
        "id": "uLwfz7LYEVeC",
        "colab": {
          "base_uri": "https://localhost:8080/",
          "height": 582
        },
        "outputId": "5bf7a03e-46b4-4fe1-989d-1efcc7949b21"
      },
      "outputs": [
        {
          "output_type": "display_data",
          "data": {
            "text/plain": [
              "                   Launch Site  \\\n",
              "Date of Launch                   \n",
              "2013-09-29      Vandenberg AFB   \n",
              "2013-12-03      Cape Canaveral   \n",
              "2014-01-06      Cape Canaveral   \n",
              "2014-07-14      Cape Canaveral   \n",
              "2014-07-14      Cape Canaveral   \n",
              "2014-07-14      Cape Canaveral   \n",
              "2014-08-05      Cape Canaveral   \n",
              "2014-09-07      Cape Canaveral   \n",
              "2015-03-02      Cape Canaveral   \n",
              "2015-03-02      Cape Canaveral   \n",
              "2015-04-27      Cape Canaveral   \n",
              "2015-12-22      Cape Canaveral   \n",
              "2015-12-22      Cape Canaveral   \n",
              "2015-12-22      Cape Canaveral   \n",
              "2015-12-22      Cape Canaveral   \n",
              "2015-12-22      Cape Canaveral   \n",
              "\n",
              "                               Name of Satellite, Alternate Names  \n",
              "Date of Launch                                                     \n",
              "2013-09-29      Cassiope (CAScade SmallSat and Ionospheric Pol...  \n",
              "2013-12-03                                                  SES-8  \n",
              "2014-01-06                                              Thaicom-6  \n",
              "2014-07-14                                     ORBCOMM OG2 FM-109  \n",
              "2014-07-14                                     ORBCOMM OG2 FM-107  \n",
              "2014-07-14                                     ORBCOMM OG2 FM-103  \n",
              "2014-08-05                                              AsiaSat-8  \n",
              "2014-09-07                                  AsiaSat-6 (Thaicom-7)  \n",
              "2015-03-02                                                ABS-3A   \n",
              "2015-03-02                                    Eutelsat 115 West B  \n",
              "2015-04-27                             Turkmen Alem 52E/MonacoSAT  \n",
              "2015-12-22                                     ORBCOMM OG2 FM-116  \n",
              "2015-12-22                                     ORBCOMM OG2 FM-108  \n",
              "2015-12-22                                     ORBCOMM OG2 FM-112  \n",
              "2015-12-22                                     ORBCOMM OG2 FM-113  \n",
              "2015-12-22                                     ORBCOMM OG2 FM-114  "
            ],
            "text/html": [
              "\n",
              "  <div id=\"df-6a3dadc2-a66e-421e-8ee8-2fba81841dbb\">\n",
              "    <div class=\"colab-df-container\">\n",
              "      <div>\n",
              "<style scoped>\n",
              "    .dataframe tbody tr th:only-of-type {\n",
              "        vertical-align: middle;\n",
              "    }\n",
              "\n",
              "    .dataframe tbody tr th {\n",
              "        vertical-align: top;\n",
              "    }\n",
              "\n",
              "    .dataframe thead th {\n",
              "        text-align: right;\n",
              "    }\n",
              "</style>\n",
              "<table border=\"1\" class=\"dataframe\">\n",
              "  <thead>\n",
              "    <tr style=\"text-align: right;\">\n",
              "      <th></th>\n",
              "      <th>Launch Site</th>\n",
              "      <th>Name of Satellite, Alternate Names</th>\n",
              "    </tr>\n",
              "    <tr>\n",
              "      <th>Date of Launch</th>\n",
              "      <th></th>\n",
              "      <th></th>\n",
              "    </tr>\n",
              "  </thead>\n",
              "  <tbody>\n",
              "    <tr>\n",
              "      <th>2013-09-29</th>\n",
              "      <td>Vandenberg AFB</td>\n",
              "      <td>Cassiope (CAScade SmallSat and Ionospheric Pol...</td>\n",
              "    </tr>\n",
              "    <tr>\n",
              "      <th>2013-12-03</th>\n",
              "      <td>Cape Canaveral</td>\n",
              "      <td>SES-8</td>\n",
              "    </tr>\n",
              "    <tr>\n",
              "      <th>2014-01-06</th>\n",
              "      <td>Cape Canaveral</td>\n",
              "      <td>Thaicom-6</td>\n",
              "    </tr>\n",
              "    <tr>\n",
              "      <th>2014-07-14</th>\n",
              "      <td>Cape Canaveral</td>\n",
              "      <td>ORBCOMM OG2 FM-109</td>\n",
              "    </tr>\n",
              "    <tr>\n",
              "      <th>2014-07-14</th>\n",
              "      <td>Cape Canaveral</td>\n",
              "      <td>ORBCOMM OG2 FM-107</td>\n",
              "    </tr>\n",
              "    <tr>\n",
              "      <th>2014-07-14</th>\n",
              "      <td>Cape Canaveral</td>\n",
              "      <td>ORBCOMM OG2 FM-103</td>\n",
              "    </tr>\n",
              "    <tr>\n",
              "      <th>2014-08-05</th>\n",
              "      <td>Cape Canaveral</td>\n",
              "      <td>AsiaSat-8</td>\n",
              "    </tr>\n",
              "    <tr>\n",
              "      <th>2014-09-07</th>\n",
              "      <td>Cape Canaveral</td>\n",
              "      <td>AsiaSat-6 (Thaicom-7)</td>\n",
              "    </tr>\n",
              "    <tr>\n",
              "      <th>2015-03-02</th>\n",
              "      <td>Cape Canaveral</td>\n",
              "      <td>ABS-3A</td>\n",
              "    </tr>\n",
              "    <tr>\n",
              "      <th>2015-03-02</th>\n",
              "      <td>Cape Canaveral</td>\n",
              "      <td>Eutelsat 115 West B</td>\n",
              "    </tr>\n",
              "    <tr>\n",
              "      <th>2015-04-27</th>\n",
              "      <td>Cape Canaveral</td>\n",
              "      <td>Turkmen Alem 52E/MonacoSAT</td>\n",
              "    </tr>\n",
              "    <tr>\n",
              "      <th>2015-12-22</th>\n",
              "      <td>Cape Canaveral</td>\n",
              "      <td>ORBCOMM OG2 FM-116</td>\n",
              "    </tr>\n",
              "    <tr>\n",
              "      <th>2015-12-22</th>\n",
              "      <td>Cape Canaveral</td>\n",
              "      <td>ORBCOMM OG2 FM-108</td>\n",
              "    </tr>\n",
              "    <tr>\n",
              "      <th>2015-12-22</th>\n",
              "      <td>Cape Canaveral</td>\n",
              "      <td>ORBCOMM OG2 FM-112</td>\n",
              "    </tr>\n",
              "    <tr>\n",
              "      <th>2015-12-22</th>\n",
              "      <td>Cape Canaveral</td>\n",
              "      <td>ORBCOMM OG2 FM-113</td>\n",
              "    </tr>\n",
              "    <tr>\n",
              "      <th>2015-12-22</th>\n",
              "      <td>Cape Canaveral</td>\n",
              "      <td>ORBCOMM OG2 FM-114</td>\n",
              "    </tr>\n",
              "  </tbody>\n",
              "</table>\n",
              "</div>\n",
              "      <button class=\"colab-df-convert\" onclick=\"convertToInteractive('df-6a3dadc2-a66e-421e-8ee8-2fba81841dbb')\"\n",
              "              title=\"Convert this dataframe to an interactive table.\"\n",
              "              style=\"display:none;\">\n",
              "        \n",
              "  <svg xmlns=\"http://www.w3.org/2000/svg\" height=\"24px\"viewBox=\"0 0 24 24\"\n",
              "       width=\"24px\">\n",
              "    <path d=\"M0 0h24v24H0V0z\" fill=\"none\"/>\n",
              "    <path d=\"M18.56 5.44l.94 2.06.94-2.06 2.06-.94-2.06-.94-.94-2.06-.94 2.06-2.06.94zm-11 1L8.5 8.5l.94-2.06 2.06-.94-2.06-.94L8.5 2.5l-.94 2.06-2.06.94zm10 10l.94 2.06.94-2.06 2.06-.94-2.06-.94-.94-2.06-.94 2.06-2.06.94z\"/><path d=\"M17.41 7.96l-1.37-1.37c-.4-.4-.92-.59-1.43-.59-.52 0-1.04.2-1.43.59L10.3 9.45l-7.72 7.72c-.78.78-.78 2.05 0 2.83L4 21.41c.39.39.9.59 1.41.59.51 0 1.02-.2 1.41-.59l7.78-7.78 2.81-2.81c.8-.78.8-2.07 0-2.86zM5.41 20L4 18.59l7.72-7.72 1.47 1.35L5.41 20z\"/>\n",
              "  </svg>\n",
              "      </button>\n",
              "      \n",
              "  <style>\n",
              "    .colab-df-container {\n",
              "      display:flex;\n",
              "      flex-wrap:wrap;\n",
              "      gap: 12px;\n",
              "    }\n",
              "\n",
              "    .colab-df-convert {\n",
              "      background-color: #E8F0FE;\n",
              "      border: none;\n",
              "      border-radius: 50%;\n",
              "      cursor: pointer;\n",
              "      display: none;\n",
              "      fill: #1967D2;\n",
              "      height: 32px;\n",
              "      padding: 0 0 0 0;\n",
              "      width: 32px;\n",
              "    }\n",
              "\n",
              "    .colab-df-convert:hover {\n",
              "      background-color: #E2EBFA;\n",
              "      box-shadow: 0px 1px 2px rgba(60, 64, 67, 0.3), 0px 1px 3px 1px rgba(60, 64, 67, 0.15);\n",
              "      fill: #174EA6;\n",
              "    }\n",
              "\n",
              "    [theme=dark] .colab-df-convert {\n",
              "      background-color: #3B4455;\n",
              "      fill: #D2E3FC;\n",
              "    }\n",
              "\n",
              "    [theme=dark] .colab-df-convert:hover {\n",
              "      background-color: #434B5C;\n",
              "      box-shadow: 0px 1px 3px 1px rgba(0, 0, 0, 0.15);\n",
              "      filter: drop-shadow(0px 1px 2px rgba(0, 0, 0, 0.3));\n",
              "      fill: #FFFFFF;\n",
              "    }\n",
              "  </style>\n",
              "\n",
              "      <script>\n",
              "        const buttonEl =\n",
              "          document.querySelector('#df-6a3dadc2-a66e-421e-8ee8-2fba81841dbb button.colab-df-convert');\n",
              "        buttonEl.style.display =\n",
              "          google.colab.kernel.accessAllowed ? 'block' : 'none';\n",
              "\n",
              "        async function convertToInteractive(key) {\n",
              "          const element = document.querySelector('#df-6a3dadc2-a66e-421e-8ee8-2fba81841dbb');\n",
              "          const dataTable =\n",
              "            await google.colab.kernel.invokeFunction('convertToInteractive',\n",
              "                                                     [key], {});\n",
              "          if (!dataTable) return;\n",
              "\n",
              "          const docLinkHtml = 'Like what you see? Visit the ' +\n",
              "            '<a target=\"_blank\" href=https://colab.research.google.com/notebooks/data_table.ipynb>data table notebook</a>'\n",
              "            + ' to learn more about interactive tables.';\n",
              "          element.innerHTML = '';\n",
              "          dataTable['output_type'] = 'display_data';\n",
              "          await google.colab.output.renderOutput(dataTable, element);\n",
              "          const docLink = document.createElement('div');\n",
              "          docLink.innerHTML = docLinkHtml;\n",
              "          element.appendChild(docLink);\n",
              "        }\n",
              "      </script>\n",
              "    </div>\n",
              "  </div>\n",
              "  "
            ]
          },
          "metadata": {}
        }
      ],
      "source": [
        "# Para modificar el código para ver, digamos, solo los primeros 10 lanzamientos, \n",
        "# agregue [0:11] después de los nombres de las columnas en la función de impresión ().\n",
        "ByLaunchSite = df_sat.groupby(['Launch Vehicle'])\n",
        "display(ByLaunchSite.get_group('Falcon 9')[['Launch Site','Name of Satellite, Alternate Names']][0:16])"
      ]
    },
    {
      "cell_type": "markdown",
      "metadata": {
        "id": "9dgiD059EVeC"
      },
      "source": [
        "**¿Qué órbitas se utilizan con más frecuencia?**\n",
        "\n",
        "La base de datos incluye información sobre la clase de órbita. Pero, **¿qué es una órbita?** \n",
        "\n",
        "- Una órbita es el camino que toma un objeto cuando se mueve alrededor de otro, debido a la gravedad.\n",
        "\n",
        "Construyamos un histograma para explorar la cantidad de satélites operativos por _clase de órbita_. "
      ]
    },
    {
      "cell_type": "code",
      "execution_count": 79,
      "metadata": {
        "id": "bsDKsp-YEVeE",
        "colab": {
          "base_uri": "https://localhost:8080/",
          "height": 731
        },
        "outputId": "896421c9-f7c5-4678-c074-2a388293a715"
      },
      "outputs": [
        {
          "output_type": "stream",
          "name": "stderr",
          "text": [
            "/usr/local/lib/python3.7/dist-packages/seaborn/_decorators.py:43: FutureWarning:\n",
            "\n",
            "Pass the following variable as a keyword arg: x. From version 0.12, the only valid positional argument will be `data`, and passing other arguments without an explicit keyword will result in an error or misinterpretation.\n",
            "\n"
          ]
        },
        {
          "output_type": "display_data",
          "data": {
            "text/plain": [
              "<Figure size 720x720 with 1 Axes>"
            ],
            "image/png": "[encoded data removed]"
          },
          "metadata": {
            "needs_background": "light"
          }
        }
      ],
      "source": [
        "fig_class, ax_class = plt.subplots(nrows=1, ncols=1)\n",
        "fig_class.set_size_inches(10,10)\n",
        "ax_class.tick_params(axis='x', labelsize=14)\n",
        "ax_class.tick_params(axis='y', labelsize=14)\n",
        "\n",
        "axClassBar = sns.countplot(df_sat['Class of Orbit'])\n",
        "axClassBar.set_xlabel('Clase de órbita',fontsize=18)\n",
        "_=axClassBar.set_title('Número total de satélites, por clase de órbita', fontsize=20)\n",
        "set_bar_label(axClassBar,minval=1, orient='v')"
      ]
    },
    {
      "cell_type": "markdown",
      "metadata": {
        "id": "jJZ5ksgaEVeE"
      },
      "source": [
        "La base de datos también contiene información sobre para qué se utilizan los satélites. Podemos responder preguntas como,\n",
        "\n",
        "**¿Cuántos satélites de comunicación con fines comerciales están en operación, agrupados por clase de órbita?**"
      ]
    },
    {
      "cell_type": "code",
      "execution_count": 80,
      "metadata": {
        "id": "Q6vVYM8EEVeF",
        "colab": {
          "base_uri": "https://localhost:8080/",
          "height": 645
        },
        "outputId": "678d4a92-faa9-4194-ea0c-0773c45e0aa2"
      },
      "outputs": [
        {
          "output_type": "display_data",
          "data": {
            "text/plain": [
              "Class of Orbit                  Elliptical  GEO   LEO  MEO   All\n",
              "Users                                                           \n",
              "Civil                                    2    0   147    1   150\n",
              "Civil/Government                         0    0     3    0     3\n",
              "Civil/Military                           0    0     3    0     3\n",
              "Commercial                               5  313  3118   46  3482\n",
              "Commercial/Civil                         0    0     5    0     5\n",
              "Commercial/Government                    0    1     0    0     1\n",
              "Commercial/Military                      0    2     0    0     2\n",
              "Earth Observation                        0    0     1    0     1\n",
              "Government                              23  109   374    0   506\n",
              "Government/Civil                         3    4    38    0    45\n",
              "Government/Commercial                    0   11    85    0    96\n",
              "Government/Commercial/Military           0    1     0    0     1\n",
              "Government/Military                      0    3     2    0     5\n",
              "Military                                25   94   290    2   411\n",
              "Military/Civil                           1    0     6    0     7\n",
              "Military/Commercial                      0   14     2   63    79\n",
              "Military/Government                      0   22     4   29    55\n",
              "All                                     59  574  4078  141  4852"
            ],
            "text/html": [
              "\n",
              "  <div id=\"df-cf84868e-0255-46f4-93dc-088697f5550e\">\n",
              "    <div class=\"colab-df-container\">\n",
              "      <div>\n",
              "<style scoped>\n",
              "    .dataframe tbody tr th:only-of-type {\n",
              "        vertical-align: middle;\n",
              "    }\n",
              "\n",
              "    .dataframe tbody tr th {\n",
              "        vertical-align: top;\n",
              "    }\n",
              "\n",
              "    .dataframe thead th {\n",
              "        text-align: right;\n",
              "    }\n",
              "</style>\n",
              "<table border=\"1\" class=\"dataframe\">\n",
              "  <thead>\n",
              "    <tr style=\"text-align: right;\">\n",
              "      <th>Class of Orbit</th>\n",
              "      <th>Elliptical</th>\n",
              "      <th>GEO</th>\n",
              "      <th>LEO</th>\n",
              "      <th>MEO</th>\n",
              "      <th>All</th>\n",
              "    </tr>\n",
              "    <tr>\n",
              "      <th>Users</th>\n",
              "      <th></th>\n",
              "      <th></th>\n",
              "      <th></th>\n",
              "      <th></th>\n",
              "      <th></th>\n",
              "    </tr>\n",
              "  </thead>\n",
              "  <tbody>\n",
              "    <tr>\n",
              "      <th>Civil</th>\n",
              "      <td>2</td>\n",
              "      <td>0</td>\n",
              "      <td>147</td>\n",
              "      <td>1</td>\n",
              "      <td>150</td>\n",
              "    </tr>\n",
              "    <tr>\n",
              "      <th>Civil/Government</th>\n",
              "      <td>0</td>\n",
              "      <td>0</td>\n",
              "      <td>3</td>\n",
              "      <td>0</td>\n",
              "      <td>3</td>\n",
              "    </tr>\n",
              "    <tr>\n",
              "      <th>Civil/Military</th>\n",
              "      <td>0</td>\n",
              "      <td>0</td>\n",
              "      <td>3</td>\n",
              "      <td>0</td>\n",
              "      <td>3</td>\n",
              "    </tr>\n",
              "    <tr>\n",
              "      <th>Commercial</th>\n",
              "      <td>5</td>\n",
              "      <td>313</td>\n",
              "      <td>3118</td>\n",
              "      <td>46</td>\n",
              "      <td>3482</td>\n",
              "    </tr>\n",
              "    <tr>\n",
              "      <th>Commercial/Civil</th>\n",
              "      <td>0</td>\n",
              "      <td>0</td>\n",
              "      <td>5</td>\n",
              "      <td>0</td>\n",
              "      <td>5</td>\n",
              "    </tr>\n",
              "    <tr>\n",
              "      <th>Commercial/Government</th>\n",
              "      <td>0</td>\n",
              "      <td>1</td>\n",
              "      <td>0</td>\n",
              "      <td>0</td>\n",
              "      <td>1</td>\n",
              "    </tr>\n",
              "    <tr>\n",
              "      <th>Commercial/Military</th>\n",
              "      <td>0</td>\n",
              "      <td>2</td>\n",
              "      <td>0</td>\n",
              "      <td>0</td>\n",
              "      <td>2</td>\n",
              "    </tr>\n",
              "    <tr>\n",
              "      <th>Earth Observation</th>\n",
              "      <td>0</td>\n",
              "      <td>0</td>\n",
              "      <td>1</td>\n",
              "      <td>0</td>\n",
              "      <td>1</td>\n",
              "    </tr>\n",
              "    <tr>\n",
              "      <th>Government</th>\n",
              "      <td>23</td>\n",
              "      <td>109</td>\n",
              "      <td>374</td>\n",
              "      <td>0</td>\n",
              "      <td>506</td>\n",
              "    </tr>\n",
              "    <tr>\n",
              "      <th>Government/Civil</th>\n",
              "      <td>3</td>\n",
              "      <td>4</td>\n",
              "      <td>38</td>\n",
              "      <td>0</td>\n",
              "      <td>45</td>\n",
              "    </tr>\n",
              "    <tr>\n",
              "      <th>Government/Commercial</th>\n",
              "      <td>0</td>\n",
              "      <td>11</td>\n",
              "      <td>85</td>\n",
              "      <td>0</td>\n",
              "      <td>96</td>\n",
              "    </tr>\n",
              "    <tr>\n",
              "      <th>Government/Commercial/Military</th>\n",
              "      <td>0</td>\n",
              "      <td>1</td>\n",
              "      <td>0</td>\n",
              "      <td>0</td>\n",
              "      <td>1</td>\n",
              "    </tr>\n",
              "    <tr>\n",
              "      <th>Government/Military</th>\n",
              "      <td>0</td>\n",
              "      <td>3</td>\n",
              "      <td>2</td>\n",
              "      <td>0</td>\n",
              "      <td>5</td>\n",
              "    </tr>\n",
              "    <tr>\n",
              "      <th>Military</th>\n",
              "      <td>25</td>\n",
              "      <td>94</td>\n",
              "      <td>290</td>\n",
              "      <td>2</td>\n",
              "      <td>411</td>\n",
              "    </tr>\n",
              "    <tr>\n",
              "      <th>Military/Civil</th>\n",
              "      <td>1</td>\n",
              "      <td>0</td>\n",
              "      <td>6</td>\n",
              "      <td>0</td>\n",
              "      <td>7</td>\n",
              "    </tr>\n",
              "    <tr>\n",
              "      <th>Military/Commercial</th>\n",
              "      <td>0</td>\n",
              "      <td>14</td>\n",
              "      <td>2</td>\n",
              "      <td>63</td>\n",
              "      <td>79</td>\n",
              "    </tr>\n",
              "    <tr>\n",
              "      <th>Military/Government</th>\n",
              "      <td>0</td>\n",
              "      <td>22</td>\n",
              "      <td>4</td>\n",
              "      <td>29</td>\n",
              "      <td>55</td>\n",
              "    </tr>\n",
              "    <tr>\n",
              "      <th>All</th>\n",
              "      <td>59</td>\n",
              "      <td>574</td>\n",
              "      <td>4078</td>\n",
              "      <td>141</td>\n",
              "      <td>4852</td>\n",
              "    </tr>\n",
              "  </tbody>\n",
              "</table>\n",
              "</div>\n",
              "      <button class=\"colab-df-convert\" onclick=\"convertToInteractive('df-cf84868e-0255-46f4-93dc-088697f5550e')\"\n",
              "              title=\"Convert this dataframe to an interactive table.\"\n",
              "              style=\"display:none;\">\n",
              "        \n",
              "  <svg xmlns=\"http://www.w3.org/2000/svg\" height=\"24px\"viewBox=\"0 0 24 24\"\n",
              "       width=\"24px\">\n",
              "    <path d=\"M0 0h24v24H0V0z\" fill=\"none\"/>\n",
              "    <path d=\"M18.56 5.44l.94 2.06.94-2.06 2.06-.94-2.06-.94-.94-2.06-.94 2.06-2.06.94zm-11 1L8.5 8.5l.94-2.06 2.06-.94-2.06-.94L8.5 2.5l-.94 2.06-2.06.94zm10 10l.94 2.06.94-2.06 2.06-.94-2.06-.94-.94-2.06-.94 2.06-2.06.94z\"/><path d=\"M17.41 7.96l-1.37-1.37c-.4-.4-.92-.59-1.43-.59-.52 0-1.04.2-1.43.59L10.3 9.45l-7.72 7.72c-.78.78-.78 2.05 0 2.83L4 21.41c.39.39.9.59 1.41.59.51 0 1.02-.2 1.41-.59l7.78-7.78 2.81-2.81c.8-.78.8-2.07 0-2.86zM5.41 20L4 18.59l7.72-7.72 1.47 1.35L5.41 20z\"/>\n",
              "  </svg>\n",
              "      </button>\n",
              "      \n",
              "  <style>\n",
              "    .colab-df-container {\n",
              "      display:flex;\n",
              "      flex-wrap:wrap;\n",
              "      gap: 12px;\n",
              "    }\n",
              "\n",
              "    .colab-df-convert {\n",
              "      background-color: #E8F0FE;\n",
              "      border: none;\n",
              "      border-radius: 50%;\n",
              "      cursor: pointer;\n",
              "      display: none;\n",
              "      fill: #1967D2;\n",
              "      height: 32px;\n",
              "      padding: 0 0 0 0;\n",
              "      width: 32px;\n",
              "    }\n",
              "\n",
              "    .colab-df-convert:hover {\n",
              "      background-color: #E2EBFA;\n",
              "      box-shadow: 0px 1px 2px rgba(60, 64, 67, 0.3), 0px 1px 3px 1px rgba(60, 64, 67, 0.15);\n",
              "      fill: #174EA6;\n",
              "    }\n",
              "\n",
              "    [theme=dark] .colab-df-convert {\n",
              "      background-color: #3B4455;\n",
              "      fill: #D2E3FC;\n",
              "    }\n",
              "\n",
              "    [theme=dark] .colab-df-convert:hover {\n",
              "      background-color: #434B5C;\n",
              "      box-shadow: 0px 1px 3px 1px rgba(0, 0, 0, 0.15);\n",
              "      filter: drop-shadow(0px 1px 2px rgba(0, 0, 0, 0.3));\n",
              "      fill: #FFFFFF;\n",
              "    }\n",
              "  </style>\n",
              "\n",
              "      <script>\n",
              "        const buttonEl =\n",
              "          document.querySelector('#df-cf84868e-0255-46f4-93dc-088697f5550e button.colab-df-convert');\n",
              "        buttonEl.style.display =\n",
              "          google.colab.kernel.accessAllowed ? 'block' : 'none';\n",
              "\n",
              "        async function convertToInteractive(key) {\n",
              "          const element = document.querySelector('#df-cf84868e-0255-46f4-93dc-088697f5550e');\n",
              "          const dataTable =\n",
              "            await google.colab.kernel.invokeFunction('convertToInteractive',\n",
              "                                                     [key], {});\n",
              "          if (!dataTable) return;\n",
              "\n",
              "          const docLinkHtml = 'Like what you see? Visit the ' +\n",
              "            '<a target=\"_blank\" href=https://colab.research.google.com/notebooks/data_table.ipynb>data table notebook</a>'\n",
              "            + ' to learn more about interactive tables.';\n",
              "          element.innerHTML = '';\n",
              "          dataTable['output_type'] = 'display_data';\n",
              "          await google.colab.output.renderOutput(dataTable, element);\n",
              "          const docLink = document.createElement('div');\n",
              "          docLink.innerHTML = docLinkHtml;\n",
              "          element.appendChild(docLink);\n",
              "        }\n",
              "      </script>\n",
              "    </div>\n",
              "  </div>\n",
              "  "
            ]
          },
          "metadata": {}
        }
      ],
      "source": [
        "cross_tab = pd.crosstab( df_sat['Users'], df_sat['Class of Orbit'],margins=True)\n",
        "display(cross_tab)"
      ]
    },
    {
      "cell_type": "markdown",
      "metadata": {
        "id": "-wYSTPUIEVeG"
      },
      "source": [
        "Dado que el conjunto de datos tiene usos mixtos, necesitaríamos algunas líneas de código más para sumar todas las categorías que contienen un uso comercial, para cada tipo de órbita. A continuación se muestra una forma de hacerlo."
      ]
    },
    {
      "cell_type": "code",
      "execution_count": 81,
      "metadata": {
        "id": "t_C4dsh6EVeH",
        "colab": {
          "base_uri": "https://localhost:8080/"
        },
        "outputId": "84209687-9994-4eb9-ee66-7f06eca423a5"
      },
      "outputs": [
        {
          "output_type": "stream",
          "name": "stdout",
          "text": [
            "Totales por clase de órbita\n",
            "-------------------------------------------------\n",
            "Número de satélites GEO para uso comercial:  316\n",
            "Número de satélites MEO para uso comercial:  46\n",
            "Número de satélites LEO para uso comercial:  3210\n"
          ]
        }
      ],
      "source": [
        "gb=df_sat.groupby(['Class of Orbit','Users'])\n",
        "\n",
        "# calcular el total por clase de órbita, utilizando métodos de cálculo directo. \n",
        "# Tenga en cuenta que esto también se puede lograr a través de filtros e indexación lógica.\n",
        "nbr_GEO_comm_sats = gb.get_group(('GEO','Commercial'))['Name of Satellite, Alternate Names'].count() + \\\n",
        "              gb.get_group(('GEO','Commercial/Military'))['Name of Satellite, Alternate Names'].count() + \\\n",
        "              gb.get_group(('GEO','Commercial/Government'))['Name of Satellite, Alternate Names'].count()\n",
        "\n",
        "nbr_MEO_comm_sats = gb.get_group(('MEO','Commercial'))['Name of Satellite, Alternate Names'].count() #+ \\\n",
        "             # gb.get_group(('MEO','Military/Commercial'))['Name of Satellite, Alternate Names'].count()\n",
        "\n",
        "nbr_LEO_comm_sats = gb.get_group(('LEO','Commercial'))['Name of Satellite, Alternate Names'].count() + \\\n",
        "              gb.get_group(('LEO','Commercial/Civil'))['Name of Satellite, Alternate Names'].count() + \\\n",
        "              gb.get_group(('LEO','Government/Commercial'))['Name of Satellite, Alternate Names'].count() +\\\n",
        "              gb.get_group(('LEO','Military/Commercial'))['Name of Satellite, Alternate Names'].count()\n",
        "\n",
        "print('Totales por clase de órbita')\n",
        "print('-------------------------------------------------')\n",
        "print('Número de satélites GEO para uso comercial: ', nbr_GEO_comm_sats)\n",
        "print('Número de satélites MEO para uso comercial: ', nbr_MEO_comm_sats)\n",
        "print('Número de satélites LEO para uso comercial: ', nbr_LEO_comm_sats)"
      ]
    },
    {
      "cell_type": "markdown",
      "metadata": {
        "id": "2U5zNCRBEVeI"
      },
      "source": [
        "**¿Cuántos satélites se utilizan para servicios de telecomunicaciones, por tipo de órbita?**\n",
        "\n",
        "Podemos subdividir aún más los datos por órbita y usuario y centrarnos en un propósito específico, el de los _servicios de comunicación comercial_."
      ]
    },
    {
      "cell_type": "code",
      "execution_count": 82,
      "metadata": {
        "id": "DqweI4SQEVeI",
        "colab": {
          "base_uri": "https://localhost:8080/",
          "height": 681
        },
        "outputId": "53924224-59e2-427b-992a-d0a0886a9148"
      },
      "outputs": [
        {
          "output_type": "stream",
          "name": "stdout",
          "text": [
            "Número total de satélites comerciales de comunicaciones, por clase de órbita\n",
            "------------------------------------------------------------------------\n",
            "Número de satélites LEO para uso de comunicaciones comerciales:  2565\n",
            "Número de satélites MEO para uso de comunicaciones comerciales:  20\n",
            "Número de satélites GEO para uso de comunicaciones comerciales:  340\n"
          ]
        },
        {
          "output_type": "display_data",
          "data": {
            "text/plain": [
              "<Figure size 504x720 with 1 Axes>"
            ],
            "image/png": "[encoded data removed]"
          },
          "metadata": {
            "needs_background": "light"
          }
        }
      ],
      "source": [
        "# Para que este conteo funcione, es importante recordar que hay ciertas entradas en la base de datos de \"uso mixto\", \n",
        "# es decir, un satélite con cargas útiles con propósitos duales, como comercial/militar o gubernamental/militar.\n",
        "# Esto es lo que se utilizó una suma directa de cada categoría en las celdas anteriores.\n",
        "# Ahora se intentará un enfoque de indexación lógica usando el método str.contains() \n",
        "# y buscando las palabras clave Comercial y Comunicación dentro de las columnas Usuarios y Propósito.\n",
        "\n",
        "idx_isLEO_isCOM_isCOMMS = (df_sat['Class of Orbit']=='LEO') & (df_sat['Users'].str.contains('commercial',case=False) ) & (df_sat['Purpose'].str.contains('communication',case=False))\n",
        "idx_isMEO_isCOM_isCOMMS = (df_sat['Class of Orbit']=='MEO') & (df_sat['Users'].str.contains('commercial',case=False) ) & (df_sat['Purpose'].str.contains('communication',case=False))\n",
        "idx_isGEO_isCOM_isCOMMS = (df_sat['Class of Orbit']=='GEO') & (df_sat['Users'].str.contains('commercial',case=False) ) & (df_sat['Purpose'].str.contains('communication',case=False))\n",
        "\n",
        "# el número de entradas es la suma de la serie de indexación booleana.\n",
        "nbr_LEO_com_comms_sats =idx_isLEO_isCOM_isCOMMS.sum()\n",
        "nbr_MEO_com_comms_sats =idx_isMEO_isCOM_isCOMMS.sum()\n",
        "nbr_GEO_com_comms_sats =idx_isGEO_isCOM_isCOMMS.sum()\n",
        "\n",
        "print('Número total de satélites comerciales de comunicaciones, por clase de órbita')\n",
        "print('------------------------------------------------------------------------')\n",
        "print('Número de satélites LEO para uso de comunicaciones comerciales: ', nbr_LEO_com_comms_sats)\n",
        "print('Número de satélites MEO para uso de comunicaciones comerciales: ', nbr_MEO_com_comms_sats)\n",
        "print('Número de satélites GEO para uso de comunicaciones comerciales: ', nbr_GEO_com_comms_sats)\n",
        "\n",
        "# un gráfico de barras\n",
        "fbar,barax=plt.subplots()\n",
        "fbar.set_size_inches(7,10)\n",
        "barax.bar( ['LEO', 'MEO', 'GEO'], [nbr_LEO_com_comms_sats, nbr_MEO_com_comms_sats, nbr_GEO_com_comms_sats], color=['r', 'g','b'])\n",
        "\n",
        "# anotar barras,\n",
        "set_bar_label(barax,minval=1, orient='v')\n",
        "barax.set_ylabel('Número de satélites comerciales con fines de comunicaciones', fontsize=14)\n",
        "plt.show()"
      ]
    },
    {
      "cell_type": "markdown",
      "metadata": {
        "id": "5NIwn28OEVeJ"
      },
      "source": [
        "Por lo tanto, hay casi tres veces más satélites LEO con fines comerciales que satélites GEO. \n",
        "\n",
        "**¿Significa esto que los sistemas LEO son más exitosos que los sistemas GEO?** \n",
        "\n",
        "No necesariamente. Los satélites en la órbita LEO se mueven muy rápido en relación con un punto fijo en la tierra. Los satélites GEO, en cambio, aparecen fijos en un punto de la tierra. Entonces, para una cobertura o servicio continuo, los sistemas desplegados en la órbita LEO necesitan más de un satélite, necesitan una constelación.  \n",
        "\n",
        "Algunas constelaciones bien conocidas de servicios de comunicaciones incluyen **Iridium, Orbcomm, Globalstar** y los relativamente nuevos **OneWeb** y **SpaceX Systems**. Los satélites LEO tienden a ser más pequeños (y livianos) que sus contrapartes GEO, ya que la naturaleza de la carga útil es diferente. \n",
        "\n",
        "Exploremos la velocidad orbital media de los satélites LEO y la relación entre las capacidades de masa y potencia de los satélites para ver si esto es cierto."
      ]
    },
    {
      "cell_type": "markdown",
      "metadata": {
        "id": "rvZEq9l3EVeK"
      },
      "source": [
        "**Explorando los operadores de sistemas satelitales**\n",
        "\n",
        "Ahora cambiemos ligeramente de tema y echemos un vistazo a la _cantidad de operadores de satélites_ que vuelan satélites con fines comerciales."
      ]
    },
    {
      "cell_type": "code",
      "execution_count": 83,
      "metadata": {
        "id": "IyH9oHFFEVeK",
        "colab": {
          "base_uri": "https://localhost:8080/",
          "height": 519
        },
        "outputId": "05dc9795-085a-42fa-bacd-e0620568d870"
      },
      "outputs": [
        {
          "output_type": "display_data",
          "data": {
            "text/plain": [
              "<Figure size 576x576 with 1 Axes>"
            ],
            "image/png": "[encoded data removed]"
          },
          "metadata": {
            "needs_background": "light"
          }
        }
      ],
      "source": [
        "nbr_sats_per_op=df_sat['Operator/Owner'].value_counts()\n",
        "\n",
        "# un gráfico de barras para los diez principales operadores, por número de satélites,\n",
        "axOp=df_sat['Operator/Owner'].value_counts()[:10].plot(kind='barh', width =0.8, figsize=(8,8))\n",
        "\n",
        "# anotar barras,\n",
        "set_bar_label(axOp)\n",
        "\n",
        "# establecer una leyenda, título\n",
        "axOp.set_xlabel('Número de satélites en la base de datos')\n",
        "_= axOp.set_title('Número total de satélites, por operador', Fontsize=20)"
      ]
    },
    {
      "cell_type": "markdown",
      "metadata": {
        "id": "iaJS9oQjEVeM"
      },
      "source": [
        "Como se puede observar, OneWeb y SpaceX lideran la lista por número de satélites. Cuatro de los operadores con más satélites son relativamente nuevos, y dos de los cinco principales están en el dominio de la observación de la Tierra.\n",
        "\n",
        "Cambiar el enfoque a operadores GEO, con énfasis en SATCOM comerciales,"
      ]
    },
    {
      "cell_type": "code",
      "execution_count": 84,
      "metadata": {
        "id": "s02DgucgEVeM",
        "colab": {
          "base_uri": "https://localhost:8080/",
          "height": 519
        },
        "outputId": "ef1b45a5-811f-4ee3-cec7-3e898b1f98c3"
      },
      "outputs": [
        {
          "output_type": "stream",
          "name": "stdout",
          "text": [
            "Hay 74 operadores GEO satcomm en la lista\n",
            "----------------------------------------------\n"
          ]
        },
        {
          "output_type": "display_data",
          "data": {
            "text/plain": [
              "<Figure size 576x576 with 1 Axes>"
            ],
            "image/png": "[encoded data removed]"
          },
          "metadata": {
            "needs_background": "light"
          }
        }
      ],
      "source": [
        "# Una mirada más cercana a los operadores GSO, con un enfoque comercial en el dominio de las telecomunicaciones, arroja los siguientes tamaños de flota \n",
        "# Primero creamos una lista con los nombres de los operadores,\n",
        "GSO_comm_ops = np.unique(df_sat['Operator/Owner'][(df_sat['Users'] == 'Commercial') & (df_sat['Purpose'] == 'Communications')& (df_sat['Class of Orbit'] == 'GEO')])\n",
        "\n",
        "# la longitud de la lista es 74, lo que significa que hay 74 operadores que cumplen las tres condiciones establecidas en nuestra consulta anterior.\n",
        "print('Hay {} operadores GEO satcomm en la lista'.format(len(GSO_comm_ops)))\n",
        "print('----------------------------------------------')\n",
        "\n",
        "# alternativamente, podemos usar un enfoque más complejo pero compacto, \n",
        "# como hicimos en las figuras anteriores, usando Value_counts()\n",
        "ax4 = df_sat['Operator/Owner'][(df_sat['Users'] == 'Commercial') & (df_sat['Purpose'] == 'Communications') \\\n",
        "                              & (df_sat['Class of Orbit'] == 'GEO')].value_counts()[0:10].plot(kind='barh',figsize=(8,8))\n",
        "_=set_bar_label(ax4)"
      ]
    },
    {
      "cell_type": "markdown",
      "metadata": {
        "id": "M5tKdPQeEVeN"
      },
      "source": [
        "Un problema con el análisis anterior es que el nombre de un operador de satélite aparece varias veces, en forma diferente. Por ejemplo, en los casos en que comparte la plataforma con otro operador. Por ejemplo, un satélite podría asignarse a un operador como\n",
        "\n",
        "- Telesat Canadá,\n",
        "- Telesat Canada Ltd. (BCE, Inc.)/APT Satellite Holdings Ltd.\n",
        "\n",
        "que se registrarán como operadores separados. Además, las entidades fusionadas aparecen como separadas (ver Panamsat/Intelsat o SES/O3B).\n",
        "\n",
        "Hagamos una búsqueda más específica, para lo que se conoce como los \"Cuatro Grandes\" operadores FSS: **Eutelsat, Intelsat, SES, Telesat**, buscando cualquier satélite que tenga esas compañías listadas como operadores en cualquier combinación en la cadena, y, en el caso de SES, añadiendo la constelación O3B en órbita MEO."
      ]
    },
    {
      "cell_type": "code",
      "execution_count": 85,
      "metadata": {
        "id": "abp4Ztw0EVeO",
        "colab": {
          "base_uri": "https://localhost:8080/"
        },
        "outputId": "596388e4-d659-4e0a-a8cc-65658d4c6c69"
      },
      "outputs": [
        {
          "output_type": "stream",
          "name": "stdout",
          "text": [
            "UCS contiene : \n",
            "---------------------------\n",
            " 32 satélites Eutelsat\n",
            " 50 satélites Intelsat\n",
            " 72 satélites SES/O3B\n",
            " 14 satélites Telesat\n"
          ]
        }
      ],
      "source": [
        "IS_count=np.sum(df_sat['Operator/Owner'].str.contains('intelsat',case=False) & df_sat['Users'].str.contains('Commercial'))\n",
        "EUT_count=np.sum(df_sat['Operator/Owner'].str.contains('eutelsat',case=False) & df_sat['Users'].str.contains('Commercial'))\n",
        "TEL_count=np.sum(df_sat['Operator/Owner'].str.contains('telesat',case=False) & df_sat['Users'].str.contains('Commercial'))\n",
        "SES_count=np.sum(df_sat['Operator/Owner'].str.contains('ses',case=False) & df_sat['Users'].str.contains('Commercial')) + \\\n",
        "          np.sum(df_sat['Operator/Owner'].str.contains('o3b',case=False) & df_sat['Users'].str.contains('Commercial'))\n",
        "\n",
        "print('UCS contiene : ')\n",
        "print('---------------------------')\n",
        "print(' {} satélites Eutelsat'.format(EUT_count))\n",
        "print(' {} satélites Intelsat'.format(IS_count))\n",
        "print(' {} satélites SES/O3B'.format(SES_count))\n",
        "print(' {} satélites Telesat'.format(TEL_count))"
      ]
    },
    {
      "cell_type": "markdown",
      "metadata": {
        "id": "-6VghCV6EVeP"
      },
      "source": [
        "**¿Para qué se utilizan los satélites de comunicaciones GEO?**\n",
        "\n",
        "Podemos revisar los usos de los satélites de órbita geoestacionaria estudiando las categorías en la columna \"Usuarios\" del marco de datos"
      ]
    },
    {
      "cell_type": "code",
      "execution_count": 86,
      "metadata": {
        "id": "w4HjYmkYEVeP",
        "colab": {
          "base_uri": "https://localhost:8080/",
          "height": 1000
        },
        "outputId": "7170f1c8-70a8-4c7e-b73a-8a59956a7473"
      },
      "outputs": [
        {
          "output_type": "stream",
          "name": "stdout",
          "text": [
            "Users\n",
            "Commercial                        313\n",
            "Commercial/Government               1\n",
            "Commercial/Military                 2\n",
            "Government                        109\n",
            "Government/Civil                    4\n",
            "Government/Commercial              11\n",
            "Government/Commercial/Military      1\n",
            "Government/Military                 3\n",
            "Military                           94\n",
            "Military/Commercial                14\n",
            "Military/Government                22\n",
            "Name: Purpose, dtype: int64\n"
          ]
        },
        {
          "output_type": "display_data",
          "data": {
            "text/plain": [
              "<Figure size 720x576 with 1 Axes>"
            ],
            "image/png": "[encoded data removed]"
          },
          "metadata": {
            "needs_background": "light"
          }
        }
      ],
      "source": [
        "# extraiga todos los puntos de datos para la órbita GEO, mire la columna de longitud\n",
        "geo_flt_id = (df_sat['Class of Orbit'] == 'GEO')\n",
        "GEO_df = df_sat[geo_flt_id]\n",
        "GEO_byUser=GEO_df.groupby(['Users'])['Purpose'].count()\n",
        "f=GEO_byUser.plot(kind='bar',figsize=(10,8), fontsize=16, width=1, position=0.5)\n",
        "f.set_title('Usuarios registrados de satélites comerciales geoestacionarios', fontsize=18)\n",
        "_=set_bar_label(f,1,'v')\n",
        "\n",
        "print(GEO_byUser)"
      ]
    },
    {
      "cell_type": "markdown",
      "metadata": {
        "id": "hc1JA-zqEVeQ"
      },
      "source": [
        "**¿Dónde se encuentran los satélites de comunicación GEO?**\n",
        "\n",
        "**Actividad**: Filtrar los datos según la órbita GEO y el uso de comunicaciones comerciales, y hacer un histograma de los puntos de datos válidos en el conjunto resultante, nos da una idea de la distribución de los satélites a lo largo de la órbita GEO."
      ]
    },
    {
      "cell_type": "code",
      "execution_count": 87,
      "metadata": {
        "id": "C8uoOKoWEVeQ",
        "colab": {
          "base_uri": "https://localhost:8080/",
          "height": 727
        },
        "outputId": "e34c5248-8e2f-47d9-bd5d-5b43e95b6be5"
      },
      "outputs": [
        {
          "output_type": "stream",
          "name": "stderr",
          "text": [
            "/usr/local/lib/python3.7/dist-packages/seaborn/distributions.py:2619: FutureWarning:\n",
            "\n",
            "`distplot` is a deprecated function and will be removed in a future version. Please adapt your code to use either `displot` (a figure-level function with similar flexibility) or `histplot` (an axes-level function for histograms).\n",
            "\n"
          ]
        },
        {
          "output_type": "display_data",
          "data": {
            "text/plain": [
              "<Figure size 1080x576 with 1 Axes>"
            ],
            "image/png": "[encoded data removed]"
          },
          "metadata": {
            "needs_background": "light"
          }
        }
      ],
      "source": [
        "# extraiga todos los puntos de datos para la órbita GEO, mire la columna de longitud\n",
        "flt_id = (df_sat['Class of Orbit'] == 'GEO') & (df_sat['Users'].str.contains('commercial', case = False) & (df_sat['Purpose'].str.contains('communications', case = False) ) )\n",
        "GEO_long = df_sat[ flt_id ]['Longitude of GEO (degrees)'].astype(float)\n",
        "\n",
        "# longitudes correctas para caer en el rango (-180,180)\n",
        "GEO_long[ GEO_long > 180] = GEO_long[ GEO_long > 180] - 360\n",
        "\n",
        "# hacer un histograma de los puntos de datos de longitud,\n",
        "# definición de intervalos de histograma y ubicaciones de xticks.\n",
        "bin_edges = np.arange(-180,185,5)-2.5 # cada cinco grados.\n",
        "x_axis_ticks = np.arange(-180,190,10)\n",
        "\n",
        "# crear figura lienzo y ejes\n",
        "fig, ax5 = plt.subplots(figsize=[15,8])\n",
        "fig.tight_layout(pad=0.0)\n",
        "\n",
        "# gráfico.\n",
        "_ = sns.distplot(GEO_long,bins=bin_edges,kde=False,axlabel='Orbital location (deg E.)',ax=ax5, hist_kws ={'ec':'k'}) \n",
        "_ = plt.xticks(x_axis_ticks,rotation=55)\n",
        "_ = plt.xlabel('Ubicación orbital (deg E.)')\n",
        "_ = plt.ylabel('Número de satélites en el contenedor de ubicación orbital')\n",
        "\n",
        "set_bar_label(ax5, minval=10, orient='v')"
      ]
    },
    {
      "cell_type": "markdown",
      "metadata": {
        "id": "cCvQiUwcEVeQ"
      },
      "source": [
        "Con las definiciones de intervalo anteriores, hay tres \"contenedores\" con 10 o más satélites. \n",
        "\n",
        "**¿Por qué algunas ubicaciones orbitales parecen más atractivas que otras?** \n",
        "\n",
        "- Hay varias razones. Desde la perspectiva de las comunicaciones, tiene que ver con los mercados a los que llega desde cada ubicación orbital.\n",
        "\n",
        "- Por ejemplo, un contribuyente a la cantidad de satélites alrededor de -100 grados Este y -60 grados Oriente es el hecho de que alrededor de esos lugares hay bastantes satélites que brindan servicios de video a las cabeceras de cable (servicios de distribución de cable) y a los usuarios en el hogar (DTH).\n",
        "\n",
        "- Hay puntos de acceso similares en Europa, por ejemplo, el conjunto 16E y 19.2E que admiten DTH. Eso contribuye a que la cantidad de satélites alrededor de 20E y 25E esté cerca de 8.\n",
        "\n",
        "- Alrededor de 30 grados hay bastantes satélites, debido a que el tamaño del contenedor es grande. Ese intervalo está capturando 26E, 28.2E, 30E, 31E, 33E, que son responsables de una gran cantidad de servicios de video y datos hacia Europa y Medio Oriente, con satélites de **Arabsat, Eutelsat, Intelsat** y **SES** en esos espacios."
      ]
    },
    {
      "cell_type": "markdown",
      "metadata": {
        "id": "kadn7lcNEVeR"
      },
      "source": [
        "**Sistemas de navegación**\n",
        "\n",
        "Teniendo en cuenta las noticias sobre el sistema BEIDOU de China, veamos el tamaño de tres constelaciones de navegación: el **sistema GPS** de EE. UU. (DoD/US Air Force GPS system), el **sistema GALILEO** de Europa y el **BEIDOU** de China.\n",
        "\n",
        "Para contar cuántos satélites hay en cada constelación, se hará una búsqueda de cadenas en el nombre y se contarán las coincidencias. Esto capturará cualquier satélite, independientemente de su órbita (el sistema Beidou tiene satélites en órbita MEO y GEO):"
      ]
    },
    {
      "cell_type": "code",
      "execution_count": 88,
      "metadata": {
        "id": "fkwN-W3hEVeR",
        "colab": {
          "base_uri": "https://localhost:8080/"
        },
        "outputId": "b2ae5f6c-71a4-4a14-88c3-6050f984f782"
      },
      "outputs": [
        {
          "output_type": "stream",
          "name": "stdout",
          "text": [
            "Recuento de satélites operativos (ENE-2022) en tres constelaciones de navegación:\n",
            "-----------------------------------------------------------------------------\n",
            "US DoD GPS    : 35 satélites \n",
            "EU GALILEO    : 28 satélites \n",
            "CHINA BEIDOU  : 49 satélites \n"
          ]
        }
      ],
      "source": [
        "DOD_GPS = df_sat['Name of Satellite, Alternate Names'].str.contains('navstar gps',case=False).sum()\n",
        "EU_GALILEO = df_sat['Name of Satellite, Alternate Names'].str.contains('galileo',case=False).sum()\n",
        "CH_BEIDOU = df_sat['Name of Satellite, Alternate Names'].str.contains('beidou',case=False).sum()\n",
        "print('Recuento de satélites operativos (ENE-2022) en tres constelaciones de navegación:')\n",
        "print('-----------------------------------------------------------------------------')\n",
        "print('US DoD GPS    : {} satélites '.format(DOD_GPS))\n",
        "print('EU GALILEO    : {} satélites '.format(EU_GALILEO))\n",
        "print('CHINA BEIDOU  : {} satélites '.format(CH_BEIDOU))"
      ]
    },
    {
      "cell_type": "markdown",
      "metadata": {
        "id": "etLq33CxEVeS"
      },
      "source": [
        "# EJERCICIO-01: Explorando números por contratista\n",
        "\n",
        "Finalmente, dada la información en la columna Contractor (\"Contratista\"), también es posible evaluar el número de naves espaciales construidas por cada fabricante. Tenga en cuenta que, al igual que con el nombre del operador, es posible que las naves espaciales construidas por un fabricante en la actualidad deban agregarse a partir de varias entradas.\n",
        "\n",
        "**Sin fusionar fabricantes, presente un gráfico de barras para los 15 mejores resultados por número de satélites**."
      ]
    },
    {
      "cell_type": "code",
      "source": [
        "# Definiendo paleta de colores\n",
        "paleta1 = [\"#ffb338\",\"#f56051\",\"#6ea9ec\",\"#a2ec4a\",\"#ff6ce8\",\"#a48bd6\",\"#77d8d8\"]\n",
        "\n",
        "# Gráfico de barras para los diez principales contratistas\n",
        "fig_cont = df_sat['Contractor'].value_counts()[:15].plot(kind='barh', figsize=(8,8), color=paleta1[0:7],                                                      \n",
        "                                              title='Número total de satélites por contratista')\n",
        "set_bar_label(fig_cont)\n",
        "plt.xlabel('Número de satélites')"
      ],
      "metadata": {
        "id": "24DzWydkU2oJ",
        "colab": {
          "base_uri": "https://localhost:8080/",
          "height": 531
        },
        "outputId": "d1396537-2cd5-411f-c6d0-5194909f3bad"
      },
      "execution_count": 89,
      "outputs": [
        {
          "output_type": "execute_result",
          "data": {
            "text/plain": [
              "Text(0.5, 0, 'Número de satélites')"
            ]
          },
          "metadata": {},
          "execution_count": 89
        },
        {
          "output_type": "display_data",
          "data": {
            "text/plain": [
              "<Figure size 576x576 with 1 Axes>"
            ],
            "image/png": "[encoded data removed]"
          },
          "metadata": {
            "needs_background": "light"
          }
        }
      ]
    },
    {
      "cell_type": "markdown",
      "metadata": {
        "id": "MKk6J1bnEVeS"
      },
      "source": [
        "# EJERCICIO-02: ¿Qué tan rápido se mueven los satélites? \n",
        "\n",
        "**Calcular la velocidad orbital media de los satélites**\n",
        "\n",
        "La velocidad orbital media de un satélite que orbita alrededor de la Tierra es una función del período orbital y la longitud del semieje mayor de la elipse de la órbita. Podemos aproximar la velocidad orbital media usando"
      ]
    },
    {
      "cell_type": "markdown",
      "metadata": {
        "id": "j6dKhU3qEVeS"
      },
      "source": [
        "$$\\frac{2\\pi a}{T}(1-0.25e^{2})$$"
      ]
    },
    {
      "cell_type": "markdown",
      "metadata": {
        "id": "ibdIwO5cEVeS"
      },
      "source": [
        "donde\n",
        "\n",
        "- $a$ : longitud del semieje mayor en kilómetros,\n",
        "- $T$ : período de órbita en segundos\n",
        "- $e$ : excentricidad de la órbita\n",
        "    \n",
        "La velocidad orbital media no está en la base de datos. Podemos agregar una columna al marco de datos con esos valores"
      ]
    },
    {
      "cell_type": "code",
      "execution_count": 90,
      "metadata": {
        "id": "3dU9YjXyEVeS",
        "colab": {
          "base_uri": "https://localhost:8080/",
          "height": 802
        },
        "outputId": "7e1e1012-155a-42a8-ccb2-d8f55a97992e"
      },
      "outputs": [
        {
          "output_type": "display_data",
          "data": {
            "text/plain": [
              "                               Name of Satellite, Alternate Names  \\\n",
              "Date of Launch                                                      \n",
              "1974-11-15                                   Amsat-Oscar 7 (AO-7)   \n",
              "1988-09-29      TDRS-3 (Tracking and Data Relay Satellite, TDR...   \n",
              "1989-09-25                                   FLTSATCOM-8 (USA 46)   \n",
              "1990-04-25          Hubble Space Telescope (HST, Space Telescope)   \n",
              "1990-08-30                                             Skynet 4C    \n",
              "1991-08-02      TDRS-5 (Tracking and Data Relay Satellite, TDR...   \n",
              "\n",
              "               Class of Orbit  Mean Orbital Speed (km.sec)  \n",
              "Date of Launch                                              \n",
              "1974-11-15                LEO                     7.134124  \n",
              "1988-09-29                GEO                     3.074637  \n",
              "1989-09-25                GEO                     3.074600  \n",
              "1990-04-25                LEO                     7.580885  \n",
              "1990-08-30                GEO                     3.074656  \n",
              "1991-08-02                GEO                     3.072578  "
            ],
            "text/html": [
              "\n",
              "  <div id=\"df-fa592839-00e7-4743-b7f2-6f9139985780\">\n",
              "    <div class=\"colab-df-container\">\n",
              "      <div>\n",
              "<style scoped>\n",
              "    .dataframe tbody tr th:only-of-type {\n",
              "        vertical-align: middle;\n",
              "    }\n",
              "\n",
              "    .dataframe tbody tr th {\n",
              "        vertical-align: top;\n",
              "    }\n",
              "\n",
              "    .dataframe thead th {\n",
              "        text-align: right;\n",
              "    }\n",
              "</style>\n",
              "<table border=\"1\" class=\"dataframe\">\n",
              "  <thead>\n",
              "    <tr style=\"text-align: right;\">\n",
              "      <th></th>\n",
              "      <th>Name of Satellite, Alternate Names</th>\n",
              "      <th>Class of Orbit</th>\n",
              "      <th>Mean Orbital Speed (km.sec)</th>\n",
              "    </tr>\n",
              "    <tr>\n",
              "      <th>Date of Launch</th>\n",
              "      <th></th>\n",
              "      <th></th>\n",
              "      <th></th>\n",
              "    </tr>\n",
              "  </thead>\n",
              "  <tbody>\n",
              "    <tr>\n",
              "      <th>1974-11-15</th>\n",
              "      <td>Amsat-Oscar 7 (AO-7)</td>\n",
              "      <td>LEO</td>\n",
              "      <td>7.134124</td>\n",
              "    </tr>\n",
              "    <tr>\n",
              "      <th>1988-09-29</th>\n",
              "      <td>TDRS-3 (Tracking and Data Relay Satellite, TDR...</td>\n",
              "      <td>GEO</td>\n",
              "      <td>3.074637</td>\n",
              "    </tr>\n",
              "    <tr>\n",
              "      <th>1989-09-25</th>\n",
              "      <td>FLTSATCOM-8 (USA 46)</td>\n",
              "      <td>GEO</td>\n",
              "      <td>3.074600</td>\n",
              "    </tr>\n",
              "    <tr>\n",
              "      <th>1990-04-25</th>\n",
              "      <td>Hubble Space Telescope (HST, Space Telescope)</td>\n",
              "      <td>LEO</td>\n",
              "      <td>7.580885</td>\n",
              "    </tr>\n",
              "    <tr>\n",
              "      <th>1990-08-30</th>\n",
              "      <td>Skynet 4C</td>\n",
              "      <td>GEO</td>\n",
              "      <td>3.074656</td>\n",
              "    </tr>\n",
              "    <tr>\n",
              "      <th>1991-08-02</th>\n",
              "      <td>TDRS-5 (Tracking and Data Relay Satellite, TDR...</td>\n",
              "      <td>GEO</td>\n",
              "      <td>3.072578</td>\n",
              "    </tr>\n",
              "  </tbody>\n",
              "</table>\n",
              "</div>\n",
              "      <button class=\"colab-df-convert\" onclick=\"convertToInteractive('df-fa592839-00e7-4743-b7f2-6f9139985780')\"\n",
              "              title=\"Convert this dataframe to an interactive table.\"\n",
              "              style=\"display:none;\">\n",
              "        \n",
              "  <svg xmlns=\"http://www.w3.org/2000/svg\" height=\"24px\"viewBox=\"0 0 24 24\"\n",
              "       width=\"24px\">\n",
              "    <path d=\"M0 0h24v24H0V0z\" fill=\"none\"/>\n",
              "    <path d=\"M18.56 5.44l.94 2.06.94-2.06 2.06-.94-2.06-.94-.94-2.06-.94 2.06-2.06.94zm-11 1L8.5 8.5l.94-2.06 2.06-.94-2.06-.94L8.5 2.5l-.94 2.06-2.06.94zm10 10l.94 2.06.94-2.06 2.06-.94-2.06-.94-.94-2.06-.94 2.06-2.06.94z\"/><path d=\"M17.41 7.96l-1.37-1.37c-.4-.4-.92-.59-1.43-.59-.52 0-1.04.2-1.43.59L10.3 9.45l-7.72 7.72c-.78.78-.78 2.05 0 2.83L4 21.41c.39.39.9.59 1.41.59.51 0 1.02-.2 1.41-.59l7.78-7.78 2.81-2.81c.8-.78.8-2.07 0-2.86zM5.41 20L4 18.59l7.72-7.72 1.47 1.35L5.41 20z\"/>\n",
              "  </svg>\n",
              "      </button>\n",
              "      \n",
              "  <style>\n",
              "    .colab-df-container {\n",
              "      display:flex;\n",
              "      flex-wrap:wrap;\n",
              "      gap: 12px;\n",
              "    }\n",
              "\n",
              "    .colab-df-convert {\n",
              "      background-color: #E8F0FE;\n",
              "      border: none;\n",
              "      border-radius: 50%;\n",
              "      cursor: pointer;\n",
              "      display: none;\n",
              "      fill: #1967D2;\n",
              "      height: 32px;\n",
              "      padding: 0 0 0 0;\n",
              "      width: 32px;\n",
              "    }\n",
              "\n",
              "    .colab-df-convert:hover {\n",
              "      background-color: #E2EBFA;\n",
              "      box-shadow: 0px 1px 2px rgba(60, 64, 67, 0.3), 0px 1px 3px 1px rgba(60, 64, 67, 0.15);\n",
              "      fill: #174EA6;\n",
              "    }\n",
              "\n",
              "    [theme=dark] .colab-df-convert {\n",
              "      background-color: #3B4455;\n",
              "      fill: #D2E3FC;\n",
              "    }\n",
              "\n",
              "    [theme=dark] .colab-df-convert:hover {\n",
              "      background-color: #434B5C;\n",
              "      box-shadow: 0px 1px 3px 1px rgba(0, 0, 0, 0.15);\n",
              "      filter: drop-shadow(0px 1px 2px rgba(0, 0, 0, 0.3));\n",
              "      fill: #FFFFFF;\n",
              "    }\n",
              "  </style>\n",
              "\n",
              "      <script>\n",
              "        const buttonEl =\n",
              "          document.querySelector('#df-fa592839-00e7-4743-b7f2-6f9139985780 button.colab-df-convert');\n",
              "        buttonEl.style.display =\n",
              "          google.colab.kernel.accessAllowed ? 'block' : 'none';\n",
              "\n",
              "        async function convertToInteractive(key) {\n",
              "          const element = document.querySelector('#df-fa592839-00e7-4743-b7f2-6f9139985780');\n",
              "          const dataTable =\n",
              "            await google.colab.kernel.invokeFunction('convertToInteractive',\n",
              "                                                     [key], {});\n",
              "          if (!dataTable) return;\n",
              "\n",
              "          const docLinkHtml = 'Like what you see? Visit the ' +\n",
              "            '<a target=\"_blank\" href=https://colab.research.google.com/notebooks/data_table.ipynb>data table notebook</a>'\n",
              "            + ' to learn more about interactive tables.';\n",
              "          element.innerHTML = '';\n",
              "          dataTable['output_type'] = 'display_data';\n",
              "          await google.colab.output.renderOutput(dataTable, element);\n",
              "          const docLink = document.createElement('div');\n",
              "          docLink.innerHTML = docLinkHtml;\n",
              "          element.appendChild(docLink);\n",
              "        }\n",
              "      </script>\n",
              "    </div>\n",
              "  </div>\n",
              "  "
            ]
          },
          "metadata": {}
        },
        {
          "output_type": "stream",
          "name": "stdout",
          "text": [
            " ------------------Velocidad orbital media: estadística descriptiva LEO--------------------------------- \n",
            "count    4067.000000\n",
            "mean        7.662428\n",
            "std         1.198777\n",
            "min         0.760867\n",
            "25%         7.564640\n",
            "50%         7.594004\n",
            "75%         7.629684\n",
            "max        81.200424\n",
            "Velocidad orbital media para satélites LEO con conjunto completo de parámetros en UCS:   7.66 km/sec.\n",
            " ------------------Velocidad orbital media: estadística descriptiva MEO--------------------------------- \n",
            "count    141.000000\n",
            "mean       4.239952\n",
            "std        2.158653\n",
            "min        3.483537\n",
            "25%        3.779387\n",
            "50%        3.873723\n",
            "75%        3.952953\n",
            "max       28.762194\n",
            "Velocidad orbital media para satélites MEO con conjunto completo de parámetros en UCS:   4.24 km/sec.\n",
            " ------------------Velocidad orbital media: estadística descriptiva GEO--------------------------------- \n",
            "count    570.000000\n",
            "mean       3.125197\n",
            "std        1.176633\n",
            "min        3.029884\n",
            "25%        3.074591\n",
            "50%        3.074628\n",
            "75%        3.074677\n",
            "max       31.163241\n",
            "Velocidad orbital media para satélites GEO con conjunto completo de parámetros en UCS:   3.13 km/sec.\n"
          ]
        }
      ],
      "source": [
        "R_earth=6378.165  # en kilómetros, radio medio de la tierra.\n",
        "df_sat['Mean Orbital Speed (km.sec)'] = ((2*np.pi*( (df_sat['Perigee (km)'] + df_sat['Apogee (km)'] +2*R_earth)/2)) / (df_sat['Period (minutes)']*60))*(1-0.25*df_sat['Eccentricity']**2)\n",
        "display( df_sat[['Name of Satellite, Alternate Names','Class of Orbit','Mean Orbital Speed (km.sec)']].head(6))\n",
        "\n",
        "# criterios booleanos para el filtrado\n",
        "criteria_LEO = df_sat['Class of Orbit'] == 'LEO'\n",
        "criteria_MEO = df_sat['Class of Orbit'] == 'MEO'\n",
        "criteria_GEO = df_sat['Class of Orbit'] == 'GEO'\n",
        "\n",
        "# velocidad orbital media para cualquier entrada distinta de cero o nula para satélites LEO\n",
        "print(' ------------------Velocidad orbital media: estadística descriptiva LEO--------------------------------- ')\n",
        "Mean_Orbital_speed_LEO = df_sat[criteria_LEO]['Mean Orbital Speed (km.sec)'].apply(pd.to_numeric,errors='coerce').dropna().mean()\n",
        "print(df_sat[criteria_LEO][ 'Mean Orbital Speed (km.sec)'].dropna().describe().to_string())\n",
        "print( 'Velocidad orbital media para satélites LEO con conjunto completo de parámetros en UCS: {0:6.2f} km/sec.'.format ( Mean_Orbital_speed_LEO) )\n",
        "\n",
        "# para cualquier entrada distinta de cero o nula para satélites MEO\n",
        "print(' ------------------Velocidad orbital media: estadística descriptiva MEO--------------------------------- ')\n",
        "Mean_Orbital_speed_MEO = df_sat[criteria_MEO]['Mean Orbital Speed (km.sec)'].apply(pd.to_numeric,errors='coerce').dropna().mean()\n",
        "print(df_sat[criteria_MEO][ 'Mean Orbital Speed (km.sec)'].dropna().describe().to_string())\n",
        "print( 'Velocidad orbital media para satélites MEO con conjunto completo de parámetros en UCS: {0:6.2f} km/sec.'.format ( Mean_Orbital_speed_MEO) )\n",
        "\n",
        "# para cualquier entrada distinta de cero o nula para satélites GEO\n",
        "print(' ------------------Velocidad orbital media: estadística descriptiva GEO--------------------------------- ')\n",
        "Mean_Orbital_speed_GEO = df_sat[criteria_GEO]['Mean Orbital Speed (km.sec)'].apply(pd.to_numeric,errors='coerce').dropna().mean()\n",
        "print(df_sat[criteria_GEO][ 'Mean Orbital Speed (km.sec)'].dropna().describe().to_string())\n",
        "print( 'Velocidad orbital media para satélites GEO con conjunto completo de parámetros en UCS: {0:6.2f} km/sec.'.format ( Mean_Orbital_speed_GEO) )"
      ]
    },
    {
      "cell_type": "markdown",
      "metadata": {
        "id": "aQbadHkPEVeS"
      },
      "source": [
        "# EJERCICIO-03: Explorando las relaciones básicas entre los atributos de los satélites \n",
        "\n",
        "**La relación _Masa-Potencia_**. \n",
        "    \n",
        "La base de datos contiene muestras de las capacidades de _masa_ y _potencia_ de las naves espaciales. Históricamente, se ha basado en la relación entre la masa (masa seca, masa de la carga útil, masa propulsora) y la potencia para establecer reglas de primer orden para estimar la masa de la nave espacial, conociendo una envolvente de potencia. Explore entonces la relación entre la _masa seca_ de la nave espacial y la _capacidad de potencia_."
      ]
    },
    {
      "cell_type": "code",
      "execution_count": 91,
      "metadata": {
        "id": "sRckh1ajEVeT",
        "colab": {
          "base_uri": "https://localhost:8080/"
        },
        "outputId": "1c2636cc-c054-45b4-cfae-84fff1e94be5"
      },
      "outputs": [
        {
          "output_type": "stream",
          "name": "stdout",
          "text": [
            "Masa seca promedio para un satélite LEO: 678.00 kg.\n",
            "Capacidad promedio de generación de energía para un satélite LEO: 160.00 Watt.\n",
            "----------------------------------------------------------------------\n",
            "Masa seca promedio para un satélite MEO: 280.00 kg.\n",
            "Capacidad promedio de generación de energía para un satélite MEO: 1136.00 Watt.\n",
            "----------------------------------------------------------------------\n",
            "Masa seca promedio para un satélite GEO: 1775.00 kg.\n",
            "Capacidad promedio de generación de energía para un satélite GEO: 8500.00 Watt.\n"
          ]
        }
      ],
      "source": [
        "criteria_LEO = df_sat['Class of Orbit'] == 'LEO'\n",
        "print('Masa seca promedio para un satélite LEO: {0:6.2f} kg.'.format(df_sat[criteria_LEO]['Dry Mass (kg.)'].dropna().median()))\n",
        "print('Capacidad promedio de generación de energía para un satélite LEO: {0:6.2f} Watt.'.format( df_sat[criteria_LEO]['Power (watts)'].dropna().median()))\n",
        "print('----------------------------------------------------------------------')\n",
        "\n",
        "# Extraiga los mismos datos para los satélites MEO\n",
        "criteria_MEO = df_sat['Class of Orbit'] == 'MEO'\n",
        "print('Masa seca promedio para un satélite MEO: {0:6.2f} kg.'.format(df_sat[criteria_MEO]['Dry Mass (kg.)'].dropna().median()))\n",
        "print('Capacidad promedio de generación de energía para un satélite MEO: {0:6.2f} Watt.'.format( df_sat[criteria_MEO]['Power (watts)'].dropna().median()))\n",
        "print('----------------------------------------------------------------------')\n",
        "\n",
        "# Extraiga los mismos datos para los satélites GEO\n",
        "criteria_GEO = df_sat['Class of Orbit'] == 'GEO'\n",
        "print('Masa seca promedio para un satélite GEO: {0:6.2f} kg.'.format(df_sat[criteria_GEO]['Dry Mass (kg.)'].dropna().median()))\n",
        "print('Capacidad promedio de generación de energía para un satélite GEO: {0:6.2f} Watt.'.format( df_sat[criteria_GEO]['Power (watts)'].dropna().median()))\n"
      ]
    },
    {
      "cell_type": "code",
      "execution_count": 92,
      "metadata": {
        "id": "sftqE2iiEVeT",
        "colab": {
          "base_uri": "https://localhost:8080/",
          "height": 488
        },
        "outputId": "da0d2c86-f4d4-4fd6-b118-c920d8df792b"
      },
      "outputs": [
        {
          "output_type": "execute_result",
          "data": {
            "text/plain": [
              "                               Name of Satellite, Alternate Names  \\\n",
              "Date of Launch                                                      \n",
              "1999-04-15                                             Landsat 7    \n",
              "2002-05-04      EOS-PM Aqua (Advanced Microwave Scanning Radio...   \n",
              "2005-10-19      Keyhole 5 (Advanced KH-11, KH-12-5, Improved C...   \n",
              "2006-10-19         MetOp-A (Meteorological Operational satellite)   \n",
              "2011-01-20      Keyhole 6 (NRO L49, Advanced KH-11, KH-12-6, I...   \n",
              "2013-08-28      Keyhole 7 (NRO L65, Advanced KH-11, Improved C...   \n",
              "2014-04-03                                            Sentinel 1A   \n",
              "2015-06-23                                            Sentinel 2A   \n",
              "2016-02-16                                            Sentinel 3A   \n",
              "2016-04-25                                            Sentinel 1B   \n",
              "2019-01-19      Keyhole 8 (NRO L71, Advanced KH-11, Improved C...   \n",
              "2021-07-04                                     Fengyun 3E (FY 3E)   \n",
              "2021-09-27                                              Landsat 9   \n",
              "\n",
              "                Dry Mass (kg.)  \n",
              "Date of Launch                  \n",
              "1999-04-15              2200.0  \n",
              "2002-05-04              2832.0  \n",
              "2005-10-19             10000.0  \n",
              "2006-10-19              3750.0  \n",
              "2011-01-20             10000.0  \n",
              "2013-08-28             10000.0  \n",
              "2014-04-03              2146.0  \n",
              "2015-06-23              2146.0  \n",
              "2016-02-16              2146.0  \n",
              "2016-04-25              2146.0  \n",
              "2019-01-19             10000.0  \n",
              "2021-07-04              2250.0  \n",
              "2021-09-27              2390.0  "
            ],
            "text/html": [
              "\n",
              "  <div id=\"df-f9b2e50d-5cf7-4a13-a655-d278ddb22203\">\n",
              "    <div class=\"colab-df-container\">\n",
              "      <div>\n",
              "<style scoped>\n",
              "    .dataframe tbody tr th:only-of-type {\n",
              "        vertical-align: middle;\n",
              "    }\n",
              "\n",
              "    .dataframe tbody tr th {\n",
              "        vertical-align: top;\n",
              "    }\n",
              "\n",
              "    .dataframe thead th {\n",
              "        text-align: right;\n",
              "    }\n",
              "</style>\n",
              "<table border=\"1\" class=\"dataframe\">\n",
              "  <thead>\n",
              "    <tr style=\"text-align: right;\">\n",
              "      <th></th>\n",
              "      <th>Name of Satellite, Alternate Names</th>\n",
              "      <th>Dry Mass (kg.)</th>\n",
              "    </tr>\n",
              "    <tr>\n",
              "      <th>Date of Launch</th>\n",
              "      <th></th>\n",
              "      <th></th>\n",
              "    </tr>\n",
              "  </thead>\n",
              "  <tbody>\n",
              "    <tr>\n",
              "      <th>1999-04-15</th>\n",
              "      <td>Landsat 7</td>\n",
              "      <td>2200.0</td>\n",
              "    </tr>\n",
              "    <tr>\n",
              "      <th>2002-05-04</th>\n",
              "      <td>EOS-PM Aqua (Advanced Microwave Scanning Radio...</td>\n",
              "      <td>2832.0</td>\n",
              "    </tr>\n",
              "    <tr>\n",
              "      <th>2005-10-19</th>\n",
              "      <td>Keyhole 5 (Advanced KH-11, KH-12-5, Improved C...</td>\n",
              "      <td>10000.0</td>\n",
              "    </tr>\n",
              "    <tr>\n",
              "      <th>2006-10-19</th>\n",
              "      <td>MetOp-A (Meteorological Operational satellite)</td>\n",
              "      <td>3750.0</td>\n",
              "    </tr>\n",
              "    <tr>\n",
              "      <th>2011-01-20</th>\n",
              "      <td>Keyhole 6 (NRO L49, Advanced KH-11, KH-12-6, I...</td>\n",
              "      <td>10000.0</td>\n",
              "    </tr>\n",
              "    <tr>\n",
              "      <th>2013-08-28</th>\n",
              "      <td>Keyhole 7 (NRO L65, Advanced KH-11, Improved C...</td>\n",
              "      <td>10000.0</td>\n",
              "    </tr>\n",
              "    <tr>\n",
              "      <th>2014-04-03</th>\n",
              "      <td>Sentinel 1A</td>\n",
              "      <td>2146.0</td>\n",
              "    </tr>\n",
              "    <tr>\n",
              "      <th>2015-06-23</th>\n",
              "      <td>Sentinel 2A</td>\n",
              "      <td>2146.0</td>\n",
              "    </tr>\n",
              "    <tr>\n",
              "      <th>2016-02-16</th>\n",
              "      <td>Sentinel 3A</td>\n",
              "      <td>2146.0</td>\n",
              "    </tr>\n",
              "    <tr>\n",
              "      <th>2016-04-25</th>\n",
              "      <td>Sentinel 1B</td>\n",
              "      <td>2146.0</td>\n",
              "    </tr>\n",
              "    <tr>\n",
              "      <th>2019-01-19</th>\n",
              "      <td>Keyhole 8 (NRO L71, Advanced KH-11, Improved C...</td>\n",
              "      <td>10000.0</td>\n",
              "    </tr>\n",
              "    <tr>\n",
              "      <th>2021-07-04</th>\n",
              "      <td>Fengyun 3E (FY 3E)</td>\n",
              "      <td>2250.0</td>\n",
              "    </tr>\n",
              "    <tr>\n",
              "      <th>2021-09-27</th>\n",
              "      <td>Landsat 9</td>\n",
              "      <td>2390.0</td>\n",
              "    </tr>\n",
              "  </tbody>\n",
              "</table>\n",
              "</div>\n",
              "      <button class=\"colab-df-convert\" onclick=\"convertToInteractive('df-f9b2e50d-5cf7-4a13-a655-d278ddb22203')\"\n",
              "              title=\"Convert this dataframe to an interactive table.\"\n",
              "              style=\"display:none;\">\n",
              "        \n",
              "  <svg xmlns=\"http://www.w3.org/2000/svg\" height=\"24px\"viewBox=\"0 0 24 24\"\n",
              "       width=\"24px\">\n",
              "    <path d=\"M0 0h24v24H0V0z\" fill=\"none\"/>\n",
              "    <path d=\"M18.56 5.44l.94 2.06.94-2.06 2.06-.94-2.06-.94-.94-2.06-.94 2.06-2.06.94zm-11 1L8.5 8.5l.94-2.06 2.06-.94-2.06-.94L8.5 2.5l-.94 2.06-2.06.94zm10 10l.94 2.06.94-2.06 2.06-.94-2.06-.94-.94-2.06-.94 2.06-2.06.94z\"/><path d=\"M17.41 7.96l-1.37-1.37c-.4-.4-.92-.59-1.43-.59-.52 0-1.04.2-1.43.59L10.3 9.45l-7.72 7.72c-.78.78-.78 2.05 0 2.83L4 21.41c.39.39.9.59 1.41.59.51 0 1.02-.2 1.41-.59l7.78-7.78 2.81-2.81c.8-.78.8-2.07 0-2.86zM5.41 20L4 18.59l7.72-7.72 1.47 1.35L5.41 20z\"/>\n",
              "  </svg>\n",
              "      </button>\n",
              "      \n",
              "  <style>\n",
              "    .colab-df-container {\n",
              "      display:flex;\n",
              "      flex-wrap:wrap;\n",
              "      gap: 12px;\n",
              "    }\n",
              "\n",
              "    .colab-df-convert {\n",
              "      background-color: #E8F0FE;\n",
              "      border: none;\n",
              "      border-radius: 50%;\n",
              "      cursor: pointer;\n",
              "      display: none;\n",
              "      fill: #1967D2;\n",
              "      height: 32px;\n",
              "      padding: 0 0 0 0;\n",
              "      width: 32px;\n",
              "    }\n",
              "\n",
              "    .colab-df-convert:hover {\n",
              "      background-color: #E2EBFA;\n",
              "      box-shadow: 0px 1px 2px rgba(60, 64, 67, 0.3), 0px 1px 3px 1px rgba(60, 64, 67, 0.15);\n",
              "      fill: #174EA6;\n",
              "    }\n",
              "\n",
              "    [theme=dark] .colab-df-convert {\n",
              "      background-color: #3B4455;\n",
              "      fill: #D2E3FC;\n",
              "    }\n",
              "\n",
              "    [theme=dark] .colab-df-convert:hover {\n",
              "      background-color: #434B5C;\n",
              "      box-shadow: 0px 1px 3px 1px rgba(0, 0, 0, 0.15);\n",
              "      filter: drop-shadow(0px 1px 2px rgba(0, 0, 0, 0.3));\n",
              "      fill: #FFFFFF;\n",
              "    }\n",
              "  </style>\n",
              "\n",
              "      <script>\n",
              "        const buttonEl =\n",
              "          document.querySelector('#df-f9b2e50d-5cf7-4a13-a655-d278ddb22203 button.colab-df-convert');\n",
              "        buttonEl.style.display =\n",
              "          google.colab.kernel.accessAllowed ? 'block' : 'none';\n",
              "\n",
              "        async function convertToInteractive(key) {\n",
              "          const element = document.querySelector('#df-f9b2e50d-5cf7-4a13-a655-d278ddb22203');\n",
              "          const dataTable =\n",
              "            await google.colab.kernel.invokeFunction('convertToInteractive',\n",
              "                                                     [key], {});\n",
              "          if (!dataTable) return;\n",
              "\n",
              "          const docLinkHtml = 'Like what you see? Visit the ' +\n",
              "            '<a target=\"_blank\" href=https://colab.research.google.com/notebooks/data_table.ipynb>data table notebook</a>'\n",
              "            + ' to learn more about interactive tables.';\n",
              "          element.innerHTML = '';\n",
              "          dataTable['output_type'] = 'display_data';\n",
              "          await google.colab.output.renderOutput(dataTable, element);\n",
              "          const docLink = document.createElement('div');\n",
              "          docLink.innerHTML = docLinkHtml;\n",
              "          element.appendChild(docLink);\n",
              "        }\n",
              "      </script>\n",
              "    </div>\n",
              "  </div>\n",
              "  "
            ]
          },
          "metadata": {},
          "execution_count": 92
        }
      ],
      "source": [
        "df_sat[criteria_LEO][['Name of Satellite, Alternate Names','Dry Mass (kg.)']][df_sat[criteria_LEO]['Dry Mass (kg.)']>2000]"
      ]
    },
    {
      "cell_type": "markdown",
      "metadata": {
        "id": "WYbj0U2aEVeT"
      },
      "source": [
        "# EJERCICIO-04 \n",
        "\n",
        "Muestre un **gráfico de dispersión** con las variables _Masa seca, Potencia_ y _Clase de órbita_ (GEO, MEO, LEO, Elliptical).   "
      ]
    },
    {
      "cell_type": "code",
      "source": [
        "fig = px.scatter(df_sat, x=\"Dry Mass (kg.)\", y=\"Power (watts)\", color=\"Class of Orbit\",\n",
        "                 title=\"Gráfico de dispersion para Masa seca, Potencia y Clase de órbita (GEO, MEO, LEO, Elliptical)\")\n",
        "fig.show()"
      ],
      "metadata": {
        "colab": {
          "base_uri": "https://localhost:8080/",
          "height": 542
        },
        "id": "o8Gy0e9ubXoP",
        "outputId": "b7985a65-cb16-423c-ba75-442253339e5d"
      },
      "execution_count": 93,
      "outputs": [
        {
          "output_type": "display_data",
          "data": {
            "text/html": [
              "<html>\n",
              "<head><meta charset=\"utf-8\" /></head>\n",
              "<body>\n",
              "    <div>            <script src=\"https://cdnjs.cloudflare.com/ajax/libs/mathjax/2.7.5/MathJax.js?config=TeX-AMS-MML_SVG\"></script><script type=\"text/javascript\">if (window.MathJax) {MathJax.Hub.Config({SVG: {font: \"STIX-Web\"}});}</script>                <script type=\"text/javascript\">window.PlotlyConfig = {MathJaxConfig: 'local'};</script>\n",
              "        <script src=\"https://cdn.plot.ly/plotly-2.8.3.min.js\"></script>                <div id=\"ea710a3a-9459-4058-962e-13501dc45185\" class=\"plotly-graph-div\" style=\"height:525px; width:100%;\"></div>            <script type=\"text/javascript\">                                    window.PLOTLYENV=window.PLOTLYENV || {};                                    if (document.getElementById(\"ea710a3a-9459-4058-962e-13501dc45185\")) {                    Plotly.newPlot(                        \"ea710a3a-9459-4058-962e-13501dc45185\",                        [{\"hovertemplate\":\"Class of Orbit=LEO<br>Dry Mass (kg.)=%{x}<br>Power (watts)=%{y}<extra></extra>\",\"legendgroup\":\"LEO\",\"marker\":{\"color\":\"#636efa\",\"symbol\":\"circle\"},\"mode\":\"markers\",\"name\":\"LEO\",\"showlegend\":true,\"x\":[null,null,null,823.0,41.0,22.0,22.0,22.0,22.0,22.0,22.0,22.0,22.0,22.0,1500.0,22.0,22.0,22.0,22.0,22.0,22.0,22.0,22.0,22.0,null,null,350.0,2200.0,null,22.0,22.0,22.0,22.0,22.0,823.0,null,null,null,170.0,null,77.0,null,null,null,null,null,2832.0,null,null,null,12.0,null,12.0,395.0,290.0,53.0,1.0,null,null,null,null,null,825.0,null,null,12.0,12.0,null,null,35.0,null,null,null,null,null,null,null,15.0,null,null,null,null,1450.0,1500.0,null,null,10000.0,155.0,null,null,null,null,null,null,null,null,null,null,null,3750.0,530.0,null,null,825.0,null,null,null,null,null,null,null,null,null,null,null,197.0,350.0,350.0,350.0,350.0,null,null,null,null,null,null,null,null,null,350.0,350.0,350.0,null,null,null,260.0,null,null,null,null,null,null,null,null,null,null,null,null,null,670.0,null,null,null,null,null,null,null,null,null,null,null,null,null,null,null,12.0,15.0,12.0,null,null,null,null,1100.0,1100.0,null,825.0,630.0,null,null,null,null,null,null,null,null,null,null,null,null,null,null,null,null,null,null,null,null,null,null,null,null,null,null,null,null,null,null,null,null,null,null,null,null,null,null,null,10000.0,null,null,null,null,null,null,null,null,null,null,null,null,null,null,null,null,null,12.0,null,12.0,null,null,null,null,null,null,null,null,null,null,null,null,null,null,null,null,null,null,null,null,null,null,null,null,null,null,null,null,null,null,48.0,null,null,null,110.0,110.0,null,null,null,null,null,null,null,null,null,null,null,null,null,null,null,null,null,null,null,null,null,null,null,null,null,null,null,null,null,null,null,null,null,1512.0,7.0,null,null,null,null,null,null,null,null,null,678.0,null,null,null,null,null,10000.0,null,null,null,null,null,null,null,null,null,null,null,null,null,null,null,null,null,12.0,null,12.0,369.0,369.0,369.0,null,null,null,null,null,null,null,null,null,null,null,null,2146.0,null,null,null,null,null,null,null,null,null,null,null,null,null,null,12.0,null,null,null,null,null,null,null,12.0,null,null,null,null,null,null,null,null,null,null,null,null,55.0,null,null,null,null,null,null,null,null,null,null,null,null,null,null,null,null,null,null,null,null,null,null,null,null,null,null,null,null,null,null,null,null,null,null,null,null,null,null,null,null,null,2146.0,null,null,null,null,null,null,null,null,null,null,null,null,null,null,null,null,null,null,null,null,null,null,null,null,null,null,null,null,null,null,null,6.0,null,null,null,null,null,null,null,null,null,null,null,null,null,null,null,null,null,null,null,null,null,null,null,null,null,null,null,null,null,null,null,null,null,null,null,510.0,null,2146.0,null,null,null,2146.0,null,null,null,null,null,null,null,null,null,null,null,null,null,null,null,null,null,null,null,null,null,null,null,null,null,null,null,null,null,null,null,null,null,null,null,null,null,null,null,null,null,null,null,null,null,null,null,null,null,null,null,null,null,null,null,null,null,null,null,678.0,678.0,678.0,678.0,678.0,678.0,678.0,678.0,678.0,678.0,null,null,null,null,null,null,null,null,null,null,null,null,null,null,null,null,null,null,null,null,null,null,null,null,null,null,null,null,null,null,null,null,null,null,null,null,null,null,null,null,null,null,null,null,null,null,null,null,null,null,null,null,null,null,null,null,null,null,null,null,null,null,null,null,null,null,null,null,null,null,null,null,null,null,null,678.0,678.0,678.0,678.0,678.0,678.0,678.0,678.0,678.0,678.0,null,null,null,null,null,null,null,null,null,null,null,null,null,null,null,null,null,null,null,null,null,null,null,null,null,null,null,null,null,null,null,null,null,null,null,null,null,null,null,null,null,null,null,null,null,null,678.0,678.0,678.0,678.0,678.0,678.0,678.0,678.0,678.0,678.0,null,null,null,null,null,null,null,null,null,null,null,null,null,null,null,null,null,null,null,null,null,null,null,null,null,null,null,null,null,null,null,null,null,null,null,null,null,null,678.0,678.0,678.0,678.0,678.0,678.0,678.0,678.0,678.0,678.0,null,null,null,null,null,null,null,null,null,null,null,null,null,null,null,null,null,null,null,null,null,null,null,null,null,null,null,null,null,null,null,null,null,null,null,null,null,null,null,null,null,null,null,null,null,null,null,null,null,null,null,null,null,null,null,null,null,null,null,null,null,null,null,678.0,678.0,null,678.0,null,678.0,678.0,678.0,678.0,678.0,678.0,678.0,null,null,null,null,null,null,null,null,null,null,null,678.0,null,null,678.0,678.0,678.0,678.0,null,null,null,null,null,null,null,null,null,null,null,null,null,null,678.0,678.0,678.0,678.0,678.0,678.0,678.0,678.0,678.0,678.0,null,null,null,null,null,null,null,null,null,null,null,null,null,null,null,null,null,null,null,null,null,null,null,null,null,null,null,null,null,null,null,null,null,null,null,null,null,null,null,null,null,null,null,null,null,null,null,null,null,null,null,null,null,null,null,null,null,null,null,null,null,null,null,null,null,null,null,null,null,null,null,null,null,null,null,null,null,null,null,null,null,null,null,null,null,null,null,null,null,null,null,null,null,null,null,null,null,null,null,null,null,null,null,null,null,null,null,null,null,null,null,null,null,null,null,null,null,null,null,null,null,null,null,null,null,null,null,null,null,null,null,null,null,null,null,null,null,null,null,null,null,null,null,null,null,null,null,null,null,null,678.0,678.0,678.0,678.0,678.0,678.0,678.0,678.0,678.0,678.0,null,null,null,null,10000.0,null,null,null,null,null,null,null,null,null,null,null,null,null,null,null,null,null,null,null,null,null,null,null,null,null,null,null,null,null,null,null,null,null,null,null,null,null,null,null,null,null,null,null,null,null,null,null,null,null,null,null,null,null,null,null,null,null,null,null,null,null,null,null,null,null,null,null,null,null,null,null,null,null,null,null,null,null,null,null,null,null,null,null,null,null,null,null,null,null,null,null,null,null,null,null,null,null,null,null,null,null,null,null,null,null,null,null,null,null,null,null,null,null,null,null,null,null,null,null,null,null,null,null,null,null,null,null,null,null,null,null,null,null,null,null,null,null,null,null,null,null,null,null,null,null,null,null,null,null,null,null,null,null,null,null,null,null,null,null,null,null,null,null,null,null,null,null,null,null,null,null,null,null,null,null,null,null,null,null,null,null,null,null,null,null,null,null,null,null,null,null,null,null,null,null,null,null,null,null,null,null,null,null,null,null,null,null,null,null,null,null,null,null,null,null,null,null,null,null,null,null,null,null,null,null,null,null,null,null,null,null,null,null,null,null,null,null,null,null,null,null,null,null,null,null,null,null,null,null,null,null,null,null,null,null,null,null,null,null,null,null,null,null,null,null,null,null,null,null,null,null,null,null,null,null,null,null,null,null,null,null,null,null,null,null,null,null,null,null,null,null,null,null,null,null,null,null,null,null,null,null,null,null,null,null,null,null,null,null,null,null,null,null,null,null,null,null,null,null,null,null,null,null,null,null,null,null,null,null,null,null,null,null,null,null,null,null,null,null,null,null,null,null,null,null,null,null,null,null,null,null,null,null,null,null,null,null,null,null,null,null,null,null,null,null,null,null,null,null,null,null,null,null,null,null,null,null,null,null,null,null,null,null,null,null,null,null,null,null,null,null,null,null,null,null,null,null,null,null,null,null,null,null,null,null,null,null,null,null,null,null,null,null,null,null,null,null,null,null,null,null,null,null,null,null,null,null,null,null,null,null,null,null,null,null,null,null,null,null,null,null,null,null,null,null,null,null,null,null,null,null,null,null,null,null,null,null,null,null,null,null,null,null,null,null,null,null,null,null,null,null,null,null,null,null,null,null,null,null,null,null,null,null,null,null,null,null,null,null,null,null,null,null,null,null,null,null,null,null,null,null,null,null,null,null,null,null,null,null,null,null,null,null,null,null,null,null,null,null,null,null,null,null,null,null,null,null,null,null,null,null,null,null,null,null,null,null,null,null,null,null,null,null,null,null,null,null,null,null,null,null,null,null,null,null,null,null,null,null,null,null,null,null,null,null,null,null,null,null,null,null,null,null,null,null,null,null,null,null,null,null,null,null,null,null,null,null,null,null,null,null,null,null,null,null,null,null,null,null,null,null,null,null,null,null,null,null,null,null,null,null,null,null,null,null,null,null,null,null,null,null,null,null,null,null,null,null,null,null,null,null,null,null,null,null,null,null,null,null,null,null,null,null,null,null,null,null,null,null,null,null,null,null,null,null,null,null,null,null,null,null,null,null,null,null,null,null,null,null,null,null,null,null,null,null,null,null,null,null,null,null,null,null,null,null,null,null,null,null,null,null,null,null,null,null,null,null,null,null,null,null,null,null,null,null,null,null,null,null,null,null,null,null,null,null,null,null,null,null,null,null,null,null,null,null,null,null,null,null,null,null,null,null,null,null,null,null,null,null,null,null,null,null,null,null,null,null,null,null,null,null,null,null,null,null,null,null,null,null,null,null,null,null,null,null,null,null,null,null,null,null,null,null,null,null,null,null,null,null,null,null,null,null,null,null,null,null,null,null,null,null,null,null,null,null,null,null,null,null,null,null,null,null,null,null,null,null,null,null,null,null,null,null,null,null,null,null,null,null,null,null,null,null,null,null,null,null,null,null,null,null,null,null,null,null,null,null,null,null,null,null,null,null,null,null,null,null,null,null,null,null,null,null,null,null,null,null,null,null,null,null,null,null,null,null,null,null,null,null,null,null,null,null,null,null,null,null,null,null,null,null,null,null,null,null,null,null,null,null,null,null,null,null,null,null,null,null,null,null,null,null,null,null,null,null,null,null,null,null,null,null,null,null,null,null,null,null,null,null,null,null,null,null,null,null,null,null,null,null,null,null,null,null,null,null,null,null,null,null,null,null,null,null,null,null,null,null,null,null,null,null,null,null,null,null,null,null,null,null,null,null,null,null,null,null,null,null,null,null,null,null,null,null,null,null,null,null,null,null,null,null,null,null,null,null,null,null,null,null,null,null,null,null,null,null,null,null,null,null,null,null,null,null,null,null,null,null,null,null,null,null,null,null,null,null,null,null,null,null,null,null,null,null,null,null,null,null,null,null,null,null,null,null,null,null,null,null,null,null,null,null,null,null,null,null,null,null,null,null,null,null,null,null,null,null,null,null,null,null,null,null,null,null,null,null,null,null,null,null,null,null,null,null,null,null,null,null,null,null,null,null,null,null,null,null,null,null,null,null,null,null,null,null,null,null,null,null,null,null,null,null,null,null,null,null,null,null,null,null,null,null,null,null,null,null,null,null,null,null,null,null,null,null,null,null,null,null,null,null,null,null,null,null,null,null,null,null,null,null,null,null,null,null,null,null,null,null,null,null,null,null,null,null,null,null,null,null,null,null,null,null,null,null,null,null,null,null,null,null,null,null,null,null,null,null,null,null,null,null,null,null,null,null,null,null,null,null,null,null,null,null,null,null,null,null,null,null,null,null,null,null,null,null,null,null,null,null,null,null,null,null,null,null,null,null,null,null,null,null,null,null,null,null,null,null,null,null,null,null,null,null,null,null,null,null,null,null,null,null,null,null,null,null,null,null,null,null,null,null,null,null,null,null,null,null,null,null,null,null,null,null,null,null,null,null,null,null,null,null,null,null,null,null,null,null,null,null,null,null,null,null,null,null,null,null,null,null,null,null,null,null,null,null,null,null,null,null,null,null,null,null,null,null,null,null,null,null,null,null,null,null,null,null,null,null,null,null,null,null,null,null,null,null,null,null,null,null,null,null,null,null,null,null,null,null,null,null,null,null,null,null,null,null,null,null,null,null,null,null,null,null,null,null,null,null,null,null,null,null,null,null,null,null,null,null,null,null,null,null,null,null,null,null,null,null,null,null,null,null,null,null,null,null,null,null,null,null,null,null,null,null,null,null,null,null,null,null,null,null,null,null,null,null,null,null,null,null,null,null,null,null,null,null,null,null,null,null,null,null,null,null,null,null,null,null,null,null,null,null,null,null,null,null,null,null,null,null,null,null,null,null,null,null,null,null,null,null,null,null,null,null,null,null,null,null,null,null,null,null,null,null,null,null,null,null,null,null,null,null,null,null,null,null,null,null,null,null,null,null,null,null,null,null,null,null,null,null,null,null,null,null,null,null,null,null,null,null,null,null,null,null,null,null,null,null,null,null,null,null,null,null,null,null,null,null,null,null,null,null,null,null,null,null,null,null,null,null,null,null,null,null,null,null,null,null,null,null,null,null,null,null,null,null,null,null,null,null,null,null,null,null,null,null,null,null,null,null,null,null,null,null,null,null,null,null,null,null,null,null,null,null,null,null,null,null,null,null,null,null,null,null,null,null,null,null,null,null,null,null,null,null,null,null,null,null,null,null,null,null,null,null,null,null,null,null,null,null,null,null,null,null,null,null,null,null,null,null,null,null,null,null,null,null,null,null,null,null,null,null,null,null,null,null,null,null,null,null,null,null,null,null,null,null,null,null,null,null,null,null,null,null,null,null,null,null,null,null,null,null,null,null,null,null,null,null,null,null,null,null,null,null,null,null,null,null,null,null,null,null,null,null,null,null,null,null,null,null,null,null,null,null,null,null,null,null,null,null,null,null,null,null,null,null,null,null,null,null,null,null,null,null,null,null,null,null,null,null,null,null,null,null,null,null,null,null,null,null,null,null,null,null,null,null,null,null,null,null,null,null,null,null,null,null,null,null,null,null,null,null,null,null,null,null,null,null,null,null,null,null,null,null,null,null,null,null,null,null,null,null,null,null,null,null,null,null,null,null,null,null,null,null,null,null,null,null,null,null,null,null,null,null,null,null,null,null,null,null,null,null,null,null,null,null,null,null,null,null,null,null,null,null,null,null,null,null,null,null,null,null,null,null,null,null,null,null,null,null,null,null,null,null,null,null,null,null,null,null,null,null,null,null,null,null,null,null,null,null,null,null,null,null,null,null,null,null,null,null,null,null,null,null,null,null,null,null,null,null,null,null,null,null,null,null,null,null,null,null,null,null,null,null,null,null,null,null,null,null,null,null,null,null,null,null,null,null,null,null,null,null,null,null,null,null,null,null,null,null,null,null,null,null,null,null,null,null,null,null,null,null,null,null,null,null,null,null,null,null,null,null,null,null,null,null,null,null,null,null,null,null,null,null,null,null,null,null,null,null,null,null,null,null,null,null,null,null,null,null,null,null,null,null,null,null,null,null,null,null,null,null,null,null,null,null,null,null,null,null,null,null,null,null,null,null,null,null,null,null,null,null,null,null,null,null,null,null,null,null,null,null,null,null,null,null,null,null,null,null,null,null,null,null,null,null,null,null,null,null,null,null,null,null,null,null,null,null,null,null,null,null,null,null,null,null,null,null,null,null,null,null,null,null,null,null,null,null,null,null,null,null,null,null,null,null,null,null,null,null,null,null,null,null,null,null,null,null,null,null,null,null,null,null,null,null,null,null,null,null,null,null,null,null,null,null,null,null,null,null,null,null,null,null,null,null,null,null,null,null,null,null,null,null,null,null,null,null,null,null,null,null,null,null,null,null,null,null,null,null,null,null,null,null,null,null,null,null,null,null,null,null,null,null,null,null,null,null,null,null,null,null,null,null,null,null,null,null,null,null,null,null,null,null,null,null,null,null,null,null,null,null,null,null,null,null,null,null,null,null,null,null,null,null,null,null,null,null,null,null,null,null,null,null,null,null,null,null,null,null,null,null,null,null,null,null,null,null,null,null,null,null,null,null,null,null,null,null,null,null,null,null,null,null,null,null,null,null,null,null,null,null,null,null,null,null,null,null,null,null,null,null,null,null,null,null,null,null,null,null,null,null,null,null,null,null,null,null,null,null,null,null,null,null,null,null,null,null,null,null,null,null,null,null,null,null,null,null,null,null,null,null,null,null,null,null,null,null,null,null,null,null,null,null,null,null,null,null,null,null,null,null,null,null,null,null,null,null,null,null,null,null,null,null,null,null,null,null,null,null,null,null,null,null,null,null,null,null,null,null,null,null,null,null,null,null,null,null,null,null,null,null,null,null,null,null,null,null,null,null,null,null,null,null,null,null,null,null,null,null,null,null,null,null,null,null,null,null,null,null,null,null,null,null,null,null,null,null,null,null,null,null,null,null,null,null,null,null,null,null,null,null,null,null,null,null,null,null,null,null,null,null,null,null,null,null,null,null,null,null,null,null,null,null,null,null,null,null,null,null,null,null,null,null,null,null,null,null,null,null,null,null,null,null,null,null,null,null,null,null,null,null,null,null,null,null,null,null,null,null,null,null,null,null,null,null,null,null,null,null,null,null,null,null,null,null,null,null,null,null,null,null,null,null,null,null,null,null,null,null,null,null,null,null,null,null,null,null,null,null,null,null,null,null,null,null,null,null,null,null,null,null,null,null,null,null,null,null,null,null,null,null,null,null,null,null,null,null,null,null,null,null,null,null,null,null,null,null,null,null,null,null,null,null,null,null,null,null,null,null,null,null,null,null,null,null,null,null,null,null,null,null,null,null,null,null,null,null,null,null,null,null,null,null,null,null,null,null,null,null,null,null,null,null,null,null,null,null,null,null,null,null,null,null,null,null,null,null,null,null,null,null,null,null,null,null,null,null,null,null,null,null,null,null,null,null,null,null,null,null,null,null,null,null,null,null,null,null,null,null,null,null,null,null,null,null,null,null,2250.0,null,null,null,null,null,null,null,null,null,null,null,null,null,null,null,null,null,null,null,null,null,null,null,null,null,null,null,null,null,null,null,null,null,null,null,null,null,null,null,null,null,null,null,null,null,null,null,null,null,null,null,null,null,null,null,null,null,null,null,null,null,null,null,null,null,null,null,null,null,null,null,null,null,null,null,null,null,null,null,null,null,null,null,null,null,null,null,null,null,null,null,null,null,null,null,null,null,null,null,null,null,null,null,null,null,null,null,null,null,null,null,null,null,null,null,null,null,null,null,null,null,null,null,null,null,null,null,null,null,null,null,null,null,null,null,null,null,null,null,null,2390.0,10.0,10.0,null,10.0,10.0,null,null,null,null,null,null,null,null,45.0,45.0,null,null,null,null,null,null,null,null,null,null,null,null,null,null,null,50.0,null,null,null,null,null,null,null,null,null,null,null,30.0,null,10.0,null,10.0,null,null,null,null,null,null,null,500.0,null,null,null,null,null,null,null,null,null,null,null,null,null,null,null,null,null,null,null,null,null,null,null,null,null,null,null,null,null,null,null,null,null,null,null,null,null,null,null,null,null,null,null,null,null,null,null,null,null,null,null,null,null,null,null,null,null,null,null,null,null,null,null,null,null,null,null,null,null,null,null,null,null,null,null,null,null,null,null,null,null,null,null,null,null,null,null,null,null,null,null,null,null,null,null,null,null,null,null,null,null,null,null,null,null,null,null,null,null,null,null,null,null,null,null,null,null,null,null,null,null,null,null,null,null,null,null,null,null,null,null,null,null,null,null,null,null,null,null,null,null,null,null,null,null,null,null,null,null,null,null,null,null,null,null,null,null,null,null,null,null,null,null,null,null,null,null,null,null,null,null,null,null,null,null,null,null,null,null,null,null,null,null,null,null,null,null,null,null,null,null,null,null,null,null,null,null,null,null,null,null,null,null,null,null,null,null,null,null,null,null,null,null,null],\"xaxis\":\"x\",\"y\":[null,2400.0,70.0,900.0,55.0,160.0,160.0,160.0,160.0,160.0,160.0,160.0,160.0,160.0,830.0,160.0,160.0,160.0,160.0,160.0,160.0,160.0,160.0,160.0,70.0,null,1500.0,1500.0,120.0,160.0,160.0,160.0,160.0,160.0,900.0,2530.0,575.0,null,340.0,100.0,120.0,406.0,56.0,null,null,414.0,null,null,null,null,null,null,null,1174.0,348.0,35.0,null,80.0,null,null,null,1200.0,900.0,null,null,null,null,null,null,null,null,null,null,null,null,null,1040.0,20.0,2900.0,null,null,null,1100.0,830.0,null,null,null,50.0,null,46.0,46.0,46.0,46.0,46.0,800.0,570.0,550.0,null,955.0,null,1000.0,null,null,900.0,null,14.0,null,110.0,null,null,null,null,null,null,null,216.0,1500.0,1500.0,1500.0,1500.0,3600.0,null,null,null,null,null,null,null,3200.0,1500.0,1500.0,1500.0,null,null,null,null,null,null,null,null,null,300.0,300.0,300.0,null,null,null,null,null,840.0,null,null,null,null,null,null,3800.0,null,null,null,null,null,null,300.0,300.0,null,20.0,null,null,null,null,null,null,null,null,900.0,1065.0,86.0,null,null,null,null,null,null,2900.0,null,null,null,null,null,null,null,null,null,null,null,null,null,null,null,null,null,null,null,null,null,1700.0,1700.0,1700.0,1700.0,1700.0,1700.0,null,null,null,null,null,null,null,null,null,175.0,null,null,1700.0,1700.0,1700.0,1700.0,1700.0,1700.0,null,null,null,null,null,null,null,null,null,null,null,null,null,null,null,null,null,1500.0,null,null,null,null,null,null,1700.0,1700.0,1700.0,1700.0,1700.0,1700.0,null,null,null,null,null,1300.0,4.05,120.0,null,null,null,300.0,300.0,20.0,300.0,null,null,null,null,null,null,null,null,null,null,null,null,null,null,null,null,null,null,null,300.0,300.0,300.0,null,null,160.0,1700.0,1700.0,1700.0,1700.0,1700.0,1700.0,4300.0,5.4,null,null,906.0,null,null,null,null,null,null,50.0,null,null,null,null,1400.0,null,null,null,null,120.0,120.0,120.0,null,600.0,null,null,null,null,null,null,null,null,null,null,360.0,null,608.0,608.0,608.0,null,null,null,null,null,null,null,300.0,300.0,300.0,null,null,null,null,1200.0,300.0,300.0,300.0,null,5200.0,140.0,100.0,42.0,55.0,null,null,null,null,50.0,null,50.0,null,null,null,null,null,null,450.0,null,null,null,null,120.0,120.0,120.0,null,null,null,null,400.0,400.0,400.0,null,null,null,3100.0,null,null,null,null,null,null,null,null,null,null,null,null,null,2300.0,null,null,null,null,null,null,null,null,null,null,null,null,null,1300.0,null,null,120.0,120.0,120.0,null,null,null,null,null,null,null,null,null,null,null,null,null,null,null,null,null,null,null,null,null,null,null,300.0,300.0,300.0,32.0,null,null,null,null,null,null,null,null,null,null,null,null,null,null,null,null,null,null,null,null,null,null,null,null,null,null,null,null,null,null,null,null,null,400.0,400.0,400.0,400.0,400.0,400.0,400.0,400.0,400.0,500.0,null,null,null,null,null,null,null,null,null,null,null,null,null,37.0,null,null,null,null,null,null,null,null,null,null,null,null,null,null,null,null,null,null,null,null,null,null,null,null,null,null,null,null,null,null,null,null,null,null,null,null,null,null,null,null,null,null,null,null,null,null,null,null,null,null,null,50.0,50.0,50.0,50.0,50.0,50.0,50.0,50.0,50.0,50.0,null,null,null,null,null,null,null,null,null,null,null,null,null,null,null,null,null,null,null,null,null,null,null,null,null,null,null,null,null,null,null,null,null,null,null,null,null,null,null,null,null,null,null,null,null,null,null,null,null,null,null,null,null,null,null,null,null,null,null,null,null,8.0,null,null,null,null,null,null,null,null,null,null,null,4.5,null,50.0,50.0,50.0,50.0,50.0,50.0,50.0,50.0,50.0,50.0,null,null,null,null,null,null,null,null,null,null,null,null,null,null,null,null,null,null,null,null,null,null,null,null,null,null,null,null,null,null,null,40.0,null,null,null,null,null,null,null,null,null,null,null,null,null,null,50.0,50.0,50.0,50.0,50.0,50.0,50.0,50.0,50.0,50.0,null,null,null,null,null,null,null,null,null,null,null,null,null,null,null,null,null,null,null,null,null,null,null,null,null,null,null,null,null,null,null,null,null,null,null,null,null,null,50.0,50.0,50.0,50.0,50.0,50.0,50.0,50.0,50.0,50.0,null,null,null,null,null,null,null,null,null,null,null,null,null,null,null,null,null,null,null,null,null,null,null,null,null,null,null,null,null,null,null,null,null,null,null,null,null,null,null,null,null,null,null,null,null,null,null,null,null,null,null,null,null,15.0,null,null,null,null,null,null,null,null,null,50.0,50.0,null,50.0,null,50.0,50.0,50.0,50.0,50.0,50.0,50.0,null,null,null,null,null,null,null,null,null,null,null,50.0,null,null,50.0,50.0,50.0,50.0,null,null,null,null,null,null,null,null,null,null,null,null,null,null,50.0,50.0,50.0,50.0,50.0,50.0,50.0,50.0,50.0,50.0,null,null,null,null,null,null,null,null,null,null,null,null,null,null,null,null,null,null,null,null,null,null,null,null,null,null,null,300.0,300.0,300.0,null,null,null,null,null,null,null,null,null,null,null,null,null,null,null,null,null,null,null,null,null,null,null,null,null,null,null,null,null,null,null,null,null,null,null,null,null,null,null,null,null,null,null,null,null,null,null,null,null,null,null,null,null,null,null,null,null,null,null,null,null,null,null,null,null,null,null,null,null,null,null,null,null,null,null,null,null,null,null,null,null,null,null,null,null,null,null,null,null,null,null,null,null,null,null,null,null,null,null,null,null,null,null,null,null,null,null,null,null,null,null,null,null,null,null,null,null,null,null,null,50.0,50.0,50.0,50.0,50.0,50.0,50.0,50.0,50.0,50.0,null,null,null,null,null,null,null,null,null,null,null,null,null,null,null,null,null,null,null,null,null,null,null,null,null,null,null,null,null,null,null,null,null,800.0,null,null,null,null,null,null,null,null,null,null,null,null,null,null,null,null,null,null,null,null,null,null,null,null,null,null,null,null,null,null,null,null,null,null,null,null,null,null,null,null,null,null,null,null,null,null,null,null,null,null,null,null,null,null,null,null,null,null,null,null,null,null,null,null,null,null,null,null,null,null,null,null,null,null,null,null,null,null,null,null,null,null,null,null,null,null,null,null,null,null,null,null,null,null,null,null,null,null,null,null,null,null,null,null,null,null,null,null,null,null,null,null,null,null,null,null,null,null,null,null,null,null,null,null,null,null,null,null,null,null,null,null,null,null,null,null,null,null,null,null,null,null,null,null,null,null,null,null,null,null,null,null,null,null,null,null,null,null,null,null,null,null,null,null,null,null,null,null,null,null,null,null,null,null,null,null,null,null,null,null,null,null,null,null,null,null,null,null,null,null,null,null,null,null,null,null,null,null,null,null,null,null,null,null,null,2100.0,null,null,120.0,120.0,120.0,null,null,null,null,null,null,null,null,null,null,null,null,null,null,null,null,null,null,null,null,null,null,null,null,null,null,null,null,null,null,null,null,null,null,null,null,null,null,null,null,null,null,null,null,null,null,null,null,null,null,null,null,null,null,null,null,null,null,null,null,null,null,null,null,null,null,null,null,null,null,null,null,null,null,null,null,null,null,null,null,null,null,null,null,null,null,null,null,null,null,null,null,null,null,null,null,null,null,null,null,null,null,null,null,null,null,null,null,null,null,null,null,null,null,null,null,null,null,null,null,null,null,null,null,null,null,null,null,null,null,null,null,null,null,null,null,null,null,null,null,null,null,null,null,null,null,null,null,null,null,null,null,null,null,null,null,null,null,null,null,null,null,null,null,null,null,null,null,null,null,null,null,null,null,null,null,null,null,null,null,null,null,null,null,null,null,null,null,null,null,null,null,null,null,null,null,null,null,null,null,null,null,null,null,null,null,null,null,null,null,null,null,null,null,null,null,null,null,null,null,null,null,null,null,null,null,null,null,null,null,null,null,null,null,null,null,null,null,null,null,null,null,null,null,null,null,null,null,null,null,null,null,null,null,null,null,null,null,null,null,null,null,null,null,null,null,null,null,null,null,null,null,null,null,null,null,null,null,null,null,null,null,null,null,null,null,null,null,null,null,null,null,null,null,null,null,null,null,null,null,null,null,null,null,null,null,null,null,null,null,null,null,null,null,null,null,null,null,null,null,null,null,null,null,null,null,null,null,null,null,null,null,null,null,null,null,null,null,null,null,null,null,null,null,null,null,null,null,null,null,null,null,null,null,null,null,null,null,null,null,null,null,null,null,null,null,null,null,null,null,null,null,null,null,null,null,null,null,null,null,null,null,null,null,null,null,null,null,null,null,null,null,null,null,null,null,null,null,null,null,null,null,null,null,null,null,null,null,null,null,null,null,null,null,null,null,null,null,null,null,null,null,null,null,null,null,null,null,null,null,null,null,null,null,null,null,null,null,null,null,null,null,null,null,null,null,null,null,null,null,null,null,null,null,null,null,null,null,null,null,null,null,null,null,null,null,null,null,null,null,null,null,null,null,null,null,null,null,null,null,null,null,null,null,null,null,null,null,null,null,null,null,null,null,null,null,null,null,null,null,null,null,null,null,null,null,null,null,null,null,null,null,null,null,null,null,null,null,null,null,null,null,null,null,null,null,null,null,null,null,null,null,null,null,null,null,null,null,null,null,null,null,null,null,null,null,null,null,null,null,null,null,null,null,null,null,null,null,null,null,null,null,null,null,null,null,null,null,null,null,null,null,null,null,null,null,null,null,null,null,null,null,null,null,null,null,null,null,null,null,null,null,null,null,null,null,null,null,null,null,null,null,null,null,null,null,null,null,null,null,null,null,null,null,null,null,null,null,null,null,null,null,null,null,null,null,null,null,null,null,null,null,null,null,null,null,null,null,null,null,null,null,null,null,null,null,null,null,null,null,null,null,null,null,null,null,null,null,null,null,null,null,null,null,null,null,null,null,null,null,null,null,null,null,null,null,null,null,null,null,null,null,null,null,null,null,null,null,null,null,null,null,null,null,null,null,null,null,null,null,null,null,null,null,null,null,null,null,null,null,null,null,null,null,null,null,null,null,null,null,null,null,null,null,null,null,null,null,null,null,null,null,null,null,null,null,null,null,null,null,null,null,null,null,null,null,null,null,null,null,null,null,null,null,null,null,null,null,null,null,null,null,null,null,null,null,120.0,null,null,null,null,null,null,null,null,120.0,null,120.0,null,null,null,null,null,null,null,null,null,null,null,null,null,null,null,null,null,null,null,null,null,null,null,null,null,null,null,null,null,null,null,null,null,null,null,null,null,null,null,null,null,null,null,null,null,null,null,null,null,null,null,null,null,null,null,null,null,null,null,null,null,null,null,null,null,null,null,null,null,null,null,null,null,null,null,null,null,null,null,null,null,null,null,null,null,null,null,null,null,null,null,null,null,null,null,null,null,null,null,null,null,null,null,null,null,null,null,null,null,null,null,null,null,null,null,null,null,null,null,null,null,null,null,null,null,null,null,null,null,null,null,null,null,null,null,null,null,null,null,null,null,null,null,null,null,null,null,null,null,null,null,null,null,null,null,null,null,null,null,null,null,null,null,null,null,null,null,null,null,null,null,null,null,null,null,null,null,null,null,null,null,null,null,null,null,null,null,null,null,null,null,null,null,null,null,null,null,null,null,null,null,null,null,null,null,null,null,null,null,null,null,null,null,null,null,null,null,null,null,null,null,null,null,null,null,null,null,null,null,null,null,null,null,null,null,null,null,null,null,null,null,null,null,null,null,null,null,null,null,null,null,null,null,null,null,null,null,null,null,null,null,null,null,null,null,null,null,null,null,null,null,null,null,null,null,null,null,null,null,null,null,null,null,null,null,null,null,null,null,null,null,120.0,null,120.0,120.0,null,null,null,null,null,null,null,null,null,null,null,null,null,null,null,null,null,null,null,null,null,null,null,null,null,null,null,null,null,null,null,null,null,null,null,null,null,null,null,null,null,null,null,null,null,null,null,null,null,null,null,null,null,null,null,null,null,null,null,null,null,null,null,null,null,null,null,null,null,null,null,null,null,null,null,null,null,null,null,null,null,null,null,null,null,null,null,null,null,null,null,null,null,null,null,null,null,null,null,null,null,null,null,null,null,null,null,null,null,null,null,null,null,null,null,null,null,null,null,null,null,null,null,null,null,null,null,null,null,null,null,null,null,null,null,null,null,null,null,null,null,null,null,null,null,null,null,null,null,null,null,null,null,null,null,null,null,null,null,null,null,null,null,null,null,null,null,null,null,null,null,null,null,null,null,null,null,null,null,null,null,null,null,null,null,null,null,null,null,null,null,null,null,null,null,null,null,null,null,null,null,null,null,null,null,null,null,null,null,null,null,null,null,null,null,null,null,null,null,null,null,null,null,null,null,null,null,null,null,null,null,null,null,null,null,null,null,null,null,null,null,null,null,null,null,null,null,null,null,null,null,null,null,null,null,null,null,null,null,null,null,null,null,null,null,null,null,null,null,null,null,null,null,null,null,null,null,null,null,null,null,null,null,null,null,null,null,null,null,null,null,null,null,null,null,null,null,null,null,null,null,null,null,null,null,null,null,null,null,null,null,null,null,null,null,null,null,null,null,null,null,null,null,null,null,null,null,null,null,null,null,null,null,null,null,null,null,null,null,null,null,null,null,null,null,null,null,null,null,null,null,null,null,null,null,null,null,null,null,null,null,null,null,null,null,null,null,null,null,null,null,null,null,null,null,null,null,null,null,null,null,null,null,null,null,null,null,null,null,null,null,null,null,null,null,null,null,null,null,null,null,null,null,null,null,null,null,null,null,null,null,null,null,null,null,null,null,null,null,null,null,null,null,null,null,null,null,null,null,null,null,null,null,null,null,null,null,null,null,null,null,null,null,null,null,null,null,null,null,null,null,null,null,null,null,null,null,null,null,null,null,null,null,null,null,null,null,null,null,null,null,null,null,null,null,null,null,null,null,null,null,null,null,null,null,null,null,null,null,null,null,null,null,null,null,null,null,null,null,null,null,null,null,null,null,null,null,null,null,null,null,null,null,null,null,null,null,null,null,null,null,null,null,null,null,null,null,null,null,null,null,null,null,null,null,null,null,null,null,null,null,null,null,null,null,null,null,null,null,null,null,null,null,null,null,null,null,null,null,null,null,null,null,null,null,null,null,null,null,null,null,null,null,null,null,null,null,null,null,null,null,null,null,null,null,null,null,null,null,null,null,null,null,null,null,null,null,null,null,null,null,null,null,null,null,null,null,null,null,null,null,null,null,null,null,null,null,null,null,null,null,null,null,null,null,null,null,null,null,null,null,null,null,null,null,null,null,null,null,null,null,null,null,null,null,null,null,null,null,null,null,null,null,null,null,null,null,null,null,null,null,null,null,null,null,null,null,null,null,null,null,null,null,null,null,null,null,null,null,null,null,null,null,null,null,null,null,null,null,null,null,null,null,null,null,null,null,null,null,null,null,null,null,null,null,null,null,null,null,null,null,null,null,null,null,null,null,null,null,null,null,null,null,null,null,null,null,null,null,null,null,null,null,null,null,null,null,null,null,null,null,null,null,null,null,null,null,null,null,null,null,null,null,null,null,null,null,null,null,null,null,null,null,null,null,null,null,null,null,null,null,null,null,null,null,null,null,null,null,null,null,null,null,null,null,null,null,null,null,null,null,null,null,null,null,null,null,null,null,null,null,null,null,null,null,null,null,null,null,null,null,null,null,null,null,null,null,null,null,null,null,null,null,null,null,null,null,null,null,null,null,null,null,null,null,null,null,null,null,null,null,null,null,null,null,null,null,null,null,null,null,null,null,null,null,null,null,null,null,null,null,null,null,null,null,null,null,null,null,null,null,null,null,null,null,null,null,null,null,null,null,null,null,null,null,null,null,null,null,null,null,null,null,null,null,null,null,null,null,null,null,null,null,null,null,null,null,null,null,null,null,null,null,null,null,null,null,null,null,null,null,null,null,null,null,null,null,null,null,null,null,null,null,null,null,null,null,null,null,null,null,null,null,null,null,null,null,null,null,null,null,null,null,null,null,null,null,null,null,null,null,null,null,null,null,null,null,null,null,null,null,null,null,null,null,null,null,null,null,null,null,null,null,null,null,null,null,null,null,null,null,null,null,null,null,null,null,null,null,null,null,null,null,null,null,null,null,null,null,null,null,null,null,null,null,null,null,null,null,null,null,null,null,null,null,null,null,null,null,null,null,null,null,null,null,null,null,null,null,null,null,null,null,null,null,null,null,null,null,null,null,null,null,null,null,null,null,null,null,null,null,null,null,null,null,null,null,null,null,null,null,null,null,null,null,null,null,null,null,null,null,null,null,null,null,null,null,null,null,null,null,null,null,null,null,null,null,null,null,null,null,null,null,null,null,null,null,null,null,null,null,null,null,null,null,null,null,null,null,null,null,null,null,null,null,null,null,null,null,null,null,null,null,null,null,null,null,null,null,null,null,null,null,null,null,null,null,null,null,null,null,null,null,null,null,null,null,null,null,null,null,null,null,null,null,null,null,null,null,null,null,null,null,null,null,null,null,null,null,null,null,null,null,null,null,null,null,null,null,null,null,null,null,null,null,null,null,null,null,null,null,null,null,null,null,null,null,null,null,null,null,null,null,null,null,null,null,null,null,null,null,null,null,null,null,null,null,null,null,null,null,null,null,null,null,null,null,null,null,null,null,null,null,null,null,null,null,null,null,null,null,null,null,null,null,null,null,null,null,null,null,null,null,null,null,null,null,null,null,null,null,null,null,null,null,null,null,null,null,null,null,null,null,null,null,null,null,null,null,null,null,null,null,null,null,null,null,null,null,null,null,null,null,null,null,null,null,null,null,null,null,null,null,null,null,null,null,null,null,null,null,null,null,null,null,null,null,null,null,null,null,null,null,null,null,null,null,null,null,null,null,null,null,null,null,null,null,null,null,null,null,null,null,null,null,null,null,null,null,null,null,null,null,null,null,null,null,null,null,null,null,null,null,null,null,null,null,null,null,null,null,null,null,null,null,null,null,null,null,null,null,null,null,null,null,null,null,null,null,null,null,null,null,null,null,null,null,null,null,null,null,null,null,null,null,null,null,null,null,null,null,null,null,null,null,null,null,null,null,null,null,null,null,null,null,null,null,null,null,null,null,null,null,null,null,null,null,null,null,null,null,null,null,null,null,null,null,null,null,null,null,null,null,null,null,null,null,null,null,null,null,null,null,null,null,null,null,null,null,null,null,null,null,null,null,null,null,null,null,null,null,null,null,null,null,null,null,null,null,null,null,null,null,null,null,null,null,null,null,null,null,null,null,null,null,null,null,null,null,null,null,null,null,null,null,null,null,null,null,null,null,null,null,null,null,null,null,null,null,null,null,null,null,null,null,null,null,null,null,null,null,null,null,null,null,null,null,null,null,null,null,null,null,null,null,null,null,null,null,null,null,null,null,null,null,null,null,null,null,null,null,null,null,null,null,null,null,null,null,null,null,null,null,null,null,null,null,null,null,null,null,null,null,null,null,null,null,null,null,null,null,null,null,null,null,null,null,null,null,null,null,null,null,null,null,null,null,null,null,null,null,null,null,null,null,null,null,null,null,null,null,null,null,null,null,null,null,null,null,null,null,null,null,null,null,null,null,null,null,null,null,null,null,null,null,null,null,null,null,null,null,null,null,null,null,null,null,null,null,null,null,null,null,null,null,null,null,null,null,null,null,null,null,null,null,null,null,null,null,null,null,null,null,null,null,null,null,null,null,null,null,null,null],\"yaxis\":\"y\",\"type\":\"scattergl\"},{\"hovertemplate\":\"Class of Orbit=GEO<br>Dry Mass (kg.)=%{x}<br>Power (watts)=%{y}<extra></extra>\",\"legendgroup\":\"GEO\",\"marker\":{\"color\":\"#EF553B\",\"symbol\":\"circle\"},\"mode\":\"markers\",\"name\":\"GEO\",\"showlegend\":true,\"x\":[1600.0,1884.0,850.0,1600.0,1600.0,1545.0,null,4000.0,1700.0,1545.0,1330.0,1600.0,884.0,1800.0,1330.0,4000.0,1600.0,860.0,1600.0,1841.0,null,null,2519.0,1600.0,2000.0,884.0,3010.0,895.0,1545.0,null,2500.0,2775.0,1230.0,759.0,2500.0,1700.0,1730.0,2500.0,1540.0,884.0,1530.0,null,1380.0,1600.0,2389.0,1050.0,1400.0,2000.0,884.0,2500.0,1729.0,3000.0,2950.0,700.0,919.0,1263.0,null,1375.0,2510.0,1972.0,2000.0,null,1972.0,null,2200.0,2350.0,1600.0,750.0,1460.0,2500.0,3640.0,1984.0,2873.0,1805.0,1000.0,1955.0,1382.0,1600.0,2600.0,884.0,null,800.0,null,3200.0,2000.0,2500.0,884.0,null,2630.0,null,1545.0,null,1700.0,2000.0,2316.0,null,3805.0,null,null,1412.0,null,null,null,null,null,null,null,null,1650.0,null,null,3691.0,1000.0,null,null,1467.0,1740.0,null,null,1533.0,2310.0,null,null,1858.0,1658.0,null,null,2364.0,null,1487.0,918.0,1995.0,1335.0,2170.0,null,null,null,null,3700.0,null,3655.0,null,null,3450.0,2170.0,1750.0,null,null,null,null,null,null,null,null,1750.0,null,null,null,null,1272.0,null,null,null,null,null,null,null,null,null,null,null,1555.0,2338.0,null,2240.0,1014.0,null,null,null,3450.0,null,null,null,1533.0,null,null,null,null,null,null,null,null,null,null,null,5624.0,2517.0,null,null,3450.0,null,null,1650.0,null,2180.0,3223.0,2561.0,null,null,null,null,null,null,1900.0,1700.0,1390.0,null,null,null,975.0,null,3200.0,null,null,2393.0,null,1900.0,3200.0,1150.0,2175.0,null,null,1900.0,null,1283.0,null,2150.0,null,1426.0,null,null,559.0,null,null,1900.0,null,null,2100.0,null,null,null,null,null,null,null,null,null,1900.0,null,null,620.0,3450.0,null,null,null,null,null,null,null,null,null,null,null,null,null,null,null,null,null,null,1532.0,2989.0,3600.0,2660.0,1493.0,1503.0,2300.0,950.0,null,1402.0,2060.0,3228.0,null,null,null,null,null,1600.0,1438.0,2778.0,null,2317.0,null,null,null,3450.0,null,614.0,null,null,3370.0,3450.0,null,null,null,null,null,2975.0,null,null,3750.0,null,null,null,null,1600.0,null,null,null,null,null,null,null,615.0,null,950.0,null,null,null,600.0,null,null,null,null,null,null,1300.0,598.0,null,null,1100.0,null,null,null,null,620.0,null,3812.0,3360.0,null,null,null,598.0,null,null,null,1850.0,null,2364.0,null,1200.0,3450.0,null,null,980.0,null,null,null,null,null,null,null,null,null,null,null,null,null,null,null,null,null,null,null,null,598.0,null,2835.0,null,598.0,1900.0,598.0,null,null,null,null,null,2300.0,null,null,null,null,null,null,null,600.0,600.0,null,null,null,null,null,1300.0,null,2857.0,null,3450.0,null,null,null,null,null,null,null,1700.0,null,null,null,3450.0,2835.0,null,null,null,null,null,null,null,null,null,null,null,null,null,null,null,null,1600.0,null,null,null,null,null,null,null,null,null,null,null,null,null,null,3000.0,null,null,null,598.0,null,null,null,null,null,null,null,280.0,null,null,null,null,null,null,280.0,null,null,null,null,null,null,null,null,null,null,null,null,null,3450.0,null,null,280.0,280.0,null,null,null,280.0,null,null,null,null,null,null,null,null,null,null,null,null,null,null,null,null,null,null,null,null,null,280.0,null,null,null,null,null,null,null,null,null,null,null,null,null,null,null,3000.0,null,null,null,null,null,null,null,null,2500.0,2000.0,3500.0,2500.0,null,null,null,null,1500.0,2000.0,1800.0,3500.0,4000.0,2000.0,2000.0],\"xaxis\":\"x\",\"y\":[1800.0,null,1200.0,1800.0,1800.0,null,8000.0,null,3300.0,null,3300.0,1800.0,1240.0,4400.0,3300.0,null,null,null,null,5200.0,1485.0,null,9700.0,null,null,1240.0,6600.0,2800.0,null,null,7000.0,10400.0,5200.0,1200.0,10000.0,8600.0,null,null,null,1240.0,5600.0,1485.0,6000.0,null,9900.0,null,7800.0,null,1240.0,null,12000.0,15000.0,null,1500.0,3300.0,3300.0,8000.0,5900.0,9600.0,10000.0,7000.0,1485.0,8500.0,8000.0,13000.0,8500.0,null,1500.0,3500.0,3900.0,null,10000.0,18000.0,11000.0,700.0,7000.0,6200.0,null,10000.0,1240.0,8000.0,null,7600.0,11000.0,10600.0,null,1240.0,null,8600.0,2000.0,null,1485.0,7400.0,null,null,11000.0,16000.0,null,null,null,18000.0,13000.0,8200.0,16000.0,4200.0,14000.0,4700.0,10000.0,5640.0,4700.0,13000.0,12300.0,700.0,13000.0,10000.0,null,10000.0,null,12000.0,2300.0,null,10000.0,14000.0,null,null,null,4800.0,13900.0,18000.0,null,null,10000.0,null,6000.0,17500.0,13000.0,9500.0,9500.0,18000.0,null,null,3800.0,null,13000.0,6000.0,10500.0,null,4700.0,null,null,null,null,16000.0,null,null,null,null,null,null,8100.0,null,6000.0,11000.0,20000.0,5000.0,null,13000.0,12000.0,null,9900.0,null,7000.0,14500.0,null,11000.0,2300.0,null,null,null,13000.0,null,null,null,2300.0,20000.0,null,null,5000.0,null,6000.0,null,null,15300.0,3500.0,5900.0,null,null,13200.0,4600.0,13000.0,null,null,1500.0,4500.0,2300.0,20000.0,5000.0,10000.0,3500.0,null,null,null,20000.0,null,null,null,null,null,18000.0,null,null,null,null,null,null,null,null,11000.0,null,14000.0,null,null,null,null,4800.0,null,12000.0,null,6250.0,null,null,1430.0,null,null,null,null,null,null,null,5000.0,null,12000.0,null,null,null,null,null,null,null,null,null,13000.0,20000.0,null,null,null,null,null,null,null,null,null,null,15000.0,null,null,null,16100.0,null,null,null,19300.0,null,null,null,null,null,null,null,null,null,null,null,null,null,3500.0,null,null,null,14000.0,null,null,17500.0,null,null,13000.0,null,1660.0,null,null,12000.0,13000.0,null,null,null,null,13000.0,20000.0,null,null,13000.0,null,null,null,null,null,null,16000.0,null,null,null,null,null,1660.0,null,2200.0,5500.0,null,null,null,8500.0,null,null,16000.0,null,null,2600.0,1660.0,null,null,14000.0,null,20000.0,null,13000.0,null,null,null,13000.0,null,null,18000.0,1600.0,null,7700.0,null,null,null,null,15600.0,null,13000.0,null,null,3100.0,15000.0,null,null,null,null,16400.0,4600.0,null,null,10500.0,null,null,null,null,8000.0,null,null,null,null,null,1600.0,null,12700.0,16000.0,1600.0,null,1600.0,null,null,null,null,null,13000.0,null,null,null,null,null,null,null,null,null,null,null,null,16400.0,null,2600.0,null,null,null,13000.0,null,null,null,null,null,null,null,6000.0,16000.0,6400.0,null,13000.0,null,null,null,null,null,null,null,null,null,null,null,null,null,null,null,null,null,null,null,null,null,null,null,null,null,null,6500.0,null,null,null,null,null,null,null,null,null,1600.0,null,null,null,null,null,15000.0,null,null,null,null,null,null,null,null,null,null,null,2600.0,null,null,null,null,null,null,4700.0,null,null,null,13000.0,null,20000.0,null,null,null,null,null,null,null,null,null,null,null,null,null,null,null,null,null,null,null,null,null,null,null,null,null,null,null,null,null,null,null,null,null,null,null,null,null,null,null,null,null,null,null,null,null,18000.0,null,null,null,null,null,null,null,null,null,null,null,null,null,null,null,null,null,null,null,null,null],\"yaxis\":\"y\",\"type\":\"scattergl\"},{\"hovertemplate\":\"Class of Orbit=Elliptical<br>Dry Mass (kg.)=%{x}<br>Power (watts)=%{y}<extra></extra>\",\"legendgroup\":\"Elliptical\",\"marker\":{\"color\":\"#00cc96\",\"symbol\":\"circle\"},\"mode\":\"markers\",\"name\":\"Elliptical\",\"showlegend\":true,\"x\":[null,null,null,null,3233.0,1570.0,478.0,478.0,478.0,478.0,1570.0,1570.0,3414.0,null,null,77.0,77.0,77.0,null,null,null,null,null,null,null,null,null,null,null,null,null,660.0,660.0,null,null,null,null,null,null,null,null,null,null,null,null,null,null,null,null,null,null,null,null,null,null,null,780.0,null,null],\"xaxis\":\"x\",\"y\":[273.0,null,null,2500.0,null,null,220.0,220.0,220.0,224.0,null,null,2000.0,null,null,40.0,40.0,40.0,null,null,null,null,null,null,null,null,1000.0,null,null,null,900.0,null,null,null,null,null,null,null,null,null,750.0,null,null,null,null,null,null,null,null,null,null,null,null,null,null,null,2000.0,null,null],\"yaxis\":\"y\",\"type\":\"scattergl\"},{\"hovertemplate\":\"Class of Orbit=MEO<br>Dry Mass (kg.)=%{x}<br>Power (watts)=%{y}<extra></extra>\",\"legendgroup\":\"MEO\",\"marker\":{\"color\":\"#ab63fa\",\"symbol\":\"circle\"},\"mode\":\"markers\",\"name\":\"MEO\",\"showlegend\":true,\"x\":[null,980.0,980.0,980.0,980.0,980.0,980.0,980.0,980.0,980.0,980.0,980.0,980.0,null,null,null,null,980.0,null,null,null,null,null,980.0,980.0,null,null,null,null,null,null,null,null,null,null,null,null,null,null,null,null,null,null,null,null,null,null,null,null,null,null,null,null,null,null,null,null,null,null,null,null,null,null,null,null,null,null,null,null,280.0,280.0,null,null,null,null,null,null,null,null,null,null,null,null,null,null,null,280.0,280.0,null,null,null,null,280.0,280.0,280.0,280.0,null,null,null,null,280.0,280.0,null,null,null,null,null,280.0,280.0,280.0,280.0,280.0,280.0,280.0,280.0,null,280.0,280.0,null,null,null,null,null,null,null,null,280.0,280.0,280.0,280.0,null,280.0,280.0,null,null,null,null,null,null,660.0,660.0],\"xaxis\":\"x\",\"y\":[null,1136.0,1136.0,1136.0,1136.0,1136.0,1136.0,1136.0,1136.0,1136.0,1136.0,1136.0,1136.0,null,null,1600.0,1600.0,1136.0,1600.0,1600.0,null,1600.0,1600.0,1136.0,1136.0,1000.0,1000.0,1000.0,1000.0,1000.0,null,1000.0,1700.0,null,1420.0,1420.0,1000.0,1000.0,1000.0,null,null,null,1136.0,1420.0,1420.0,1000.0,1136.0,1500.0,1500.0,1500.0,1500.0,1136.0,1136.0,1000.0,1500.0,1500.0,1500.0,1500.0,1136.0,1136.0,1700.0,1500.0,1500.0,1500.0,1500.0,1136.0,null,null,1136.0,null,null,null,null,null,null,null,null,1000.0,null,null,1000.0,null,null,null,null,1000.0,null,null,null,null,null,null,null,null,null,null,1500.0,1500.0,1500.0,1500.0,null,null,1000.0,null,null,null,null,null,null,null,null,null,null,null,null,1000.0,null,null,null,1500.0,1500.0,1500.0,1500.0,1000.0,null,1136.0,null,null,null,null,1000.0,null,null,1000.0,1136.0,1000.0,1136.0,null,1136.0,null,null],\"yaxis\":\"y\",\"type\":\"scattergl\"}],                        {\"template\":{\"data\":{\"bar\":[{\"error_x\":{\"color\":\"#2a3f5f\"},\"error_y\":{\"color\":\"#2a3f5f\"},\"marker\":{\"line\":{\"color\":\"#E5ECF6\",\"width\":0.5},\"pattern\":{\"fillmode\":\"overlay\",\"size\":10,\"solidity\":0.2}},\"type\":\"bar\"}],\"barpolar\":[{\"marker\":{\"line\":{\"color\":\"#E5ECF6\",\"width\":0.5},\"pattern\":{\"fillmode\":\"overlay\",\"size\":10,\"solidity\":0.2}},\"type\":\"barpolar\"}],\"carpet\":[{\"aaxis\":{\"endlinecolor\":\"#2a3f5f\",\"gridcolor\":\"white\",\"linecolor\":\"white\",\"minorgridcolor\":\"white\",\"startlinecolor\":\"#2a3f5f\"},\"baxis\":{\"endlinecolor\":\"#2a3f5f\",\"gridcolor\":\"white\",\"linecolor\":\"white\",\"minorgridcolor\":\"white\",\"startlinecolor\":\"#2a3f5f\"},\"type\":\"carpet\"}],\"choropleth\":[{\"colorbar\":{\"outlinewidth\":0,\"ticks\":\"\"},\"type\":\"choropleth\"}],\"contour\":[{\"colorbar\":{\"outlinewidth\":0,\"ticks\":\"\"},\"colorscale\":[[0.0,\"#0d0887\"],[0.1111111111111111,\"#46039f\"],[0.2222222222222222,\"#7201a8\"],[0.3333333333333333,\"#9c179e\"],[0.4444444444444444,\"#bd3786\"],[0.5555555555555556,\"#d8576b\"],[0.6666666666666666,\"#ed7953\"],[0.7777777777777778,\"#fb9f3a\"],[0.8888888888888888,\"#fdca26\"],[1.0,\"#f0f921\"]],\"type\":\"contour\"}],\"contourcarpet\":[{\"colorbar\":{\"outlinewidth\":0,\"ticks\":\"\"},\"type\":\"contourcarpet\"}],\"heatmap\":[{\"colorbar\":{\"outlinewidth\":0,\"ticks\":\"\"},\"colorscale\":[[0.0,\"#0d0887\"],[0.1111111111111111,\"#46039f\"],[0.2222222222222222,\"#7201a8\"],[0.3333333333333333,\"#9c179e\"],[0.4444444444444444,\"#bd3786\"],[0.5555555555555556,\"#d8576b\"],[0.6666666666666666,\"#ed7953\"],[0.7777777777777778,\"#fb9f3a\"],[0.8888888888888888,\"#fdca26\"],[1.0,\"#f0f921\"]],\"type\":\"heatmap\"}],\"heatmapgl\":[{\"colorbar\":{\"outlinewidth\":0,\"ticks\":\"\"},\"colorscale\":[[0.0,\"#0d0887\"],[0.1111111111111111,\"#46039f\"],[0.2222222222222222,\"#7201a8\"],[0.3333333333333333,\"#9c179e\"],[0.4444444444444444,\"#bd3786\"],[0.5555555555555556,\"#d8576b\"],[0.6666666666666666,\"#ed7953\"],[0.7777777777777778,\"#fb9f3a\"],[0.8888888888888888,\"#fdca26\"],[1.0,\"#f0f921\"]],\"type\":\"heatmapgl\"}],\"histogram\":[{\"marker\":{\"pattern\":{\"fillmode\":\"overlay\",\"size\":10,\"solidity\":0.2}},\"type\":\"histogram\"}],\"histogram2d\":[{\"colorbar\":{\"outlinewidth\":0,\"ticks\":\"\"},\"colorscale\":[[0.0,\"#0d0887\"],[0.1111111111111111,\"#46039f\"],[0.2222222222222222,\"#7201a8\"],[0.3333333333333333,\"#9c179e\"],[0.4444444444444444,\"#bd3786\"],[0.5555555555555556,\"#d8576b\"],[0.6666666666666666,\"#ed7953\"],[0.7777777777777778,\"#fb9f3a\"],[0.8888888888888888,\"#fdca26\"],[1.0,\"#f0f921\"]],\"type\":\"histogram2d\"}],\"histogram2dcontour\":[{\"colorbar\":{\"outlinewidth\":0,\"ticks\":\"\"},\"colorscale\":[[0.0,\"#0d0887\"],[0.1111111111111111,\"#46039f\"],[0.2222222222222222,\"#7201a8\"],[0.3333333333333333,\"#9c179e\"],[0.4444444444444444,\"#bd3786\"],[0.5555555555555556,\"#d8576b\"],[0.6666666666666666,\"#ed7953\"],[0.7777777777777778,\"#fb9f3a\"],[0.8888888888888888,\"#fdca26\"],[1.0,\"#f0f921\"]],\"type\":\"histogram2dcontour\"}],\"mesh3d\":[{\"colorbar\":{\"outlinewidth\":0,\"ticks\":\"\"},\"type\":\"mesh3d\"}],\"parcoords\":[{\"line\":{\"colorbar\":{\"outlinewidth\":0,\"ticks\":\"\"}},\"type\":\"parcoords\"}],\"pie\":[{\"automargin\":true,\"type\":\"pie\"}],\"scatter\":[{\"marker\":{\"colorbar\":{\"outlinewidth\":0,\"ticks\":\"\"}},\"type\":\"scatter\"}],\"scatter3d\":[{\"line\":{\"colorbar\":{\"outlinewidth\":0,\"ticks\":\"\"}},\"marker\":{\"colorbar\":{\"outlinewidth\":0,\"ticks\":\"\"}},\"type\":\"scatter3d\"}],\"scattercarpet\":[{\"marker\":{\"colorbar\":{\"outlinewidth\":0,\"ticks\":\"\"}},\"type\":\"scattercarpet\"}],\"scattergeo\":[{\"marker\":{\"colorbar\":{\"outlinewidth\":0,\"ticks\":\"\"}},\"type\":\"scattergeo\"}],\"scattergl\":[{\"marker\":{\"colorbar\":{\"outlinewidth\":0,\"ticks\":\"\"}},\"type\":\"scattergl\"}],\"scattermapbox\":[{\"marker\":{\"colorbar\":{\"outlinewidth\":0,\"ticks\":\"\"}},\"type\":\"scattermapbox\"}],\"scatterpolar\":[{\"marker\":{\"colorbar\":{\"outlinewidth\":0,\"ticks\":\"\"}},\"type\":\"scatterpolar\"}],\"scatterpolargl\":[{\"marker\":{\"colorbar\":{\"outlinewidth\":0,\"ticks\":\"\"}},\"type\":\"scatterpolargl\"}],\"scatterternary\":[{\"marker\":{\"colorbar\":{\"outlinewidth\":0,\"ticks\":\"\"}},\"type\":\"scatterternary\"}],\"surface\":[{\"colorbar\":{\"outlinewidth\":0,\"ticks\":\"\"},\"colorscale\":[[0.0,\"#0d0887\"],[0.1111111111111111,\"#46039f\"],[0.2222222222222222,\"#7201a8\"],[0.3333333333333333,\"#9c179e\"],[0.4444444444444444,\"#bd3786\"],[0.5555555555555556,\"#d8576b\"],[0.6666666666666666,\"#ed7953\"],[0.7777777777777778,\"#fb9f3a\"],[0.8888888888888888,\"#fdca26\"],[1.0,\"#f0f921\"]],\"type\":\"surface\"}],\"table\":[{\"cells\":{\"fill\":{\"color\":\"#EBF0F8\"},\"line\":{\"color\":\"white\"}},\"header\":{\"fill\":{\"color\":\"#C8D4E3\"},\"line\":{\"color\":\"white\"}},\"type\":\"table\"}]},\"layout\":{\"annotationdefaults\":{\"arrowcolor\":\"#2a3f5f\",\"arrowhead\":0,\"arrowwidth\":1},\"autotypenumbers\":\"strict\",\"coloraxis\":{\"colorbar\":{\"outlinewidth\":0,\"ticks\":\"\"}},\"colorscale\":{\"diverging\":[[0,\"#8e0152\"],[0.1,\"#c51b7d\"],[0.2,\"#de77ae\"],[0.3,\"#f1b6da\"],[0.4,\"#fde0ef\"],[0.5,\"#f7f7f7\"],[0.6,\"#e6f5d0\"],[0.7,\"#b8e186\"],[0.8,\"#7fbc41\"],[0.9,\"#4d9221\"],[1,\"#276419\"]],\"sequential\":[[0.0,\"#0d0887\"],[0.1111111111111111,\"#46039f\"],[0.2222222222222222,\"#7201a8\"],[0.3333333333333333,\"#9c179e\"],[0.4444444444444444,\"#bd3786\"],[0.5555555555555556,\"#d8576b\"],[0.6666666666666666,\"#ed7953\"],[0.7777777777777778,\"#fb9f3a\"],[0.8888888888888888,\"#fdca26\"],[1.0,\"#f0f921\"]],\"sequentialminus\":[[0.0,\"#0d0887\"],[0.1111111111111111,\"#46039f\"],[0.2222222222222222,\"#7201a8\"],[0.3333333333333333,\"#9c179e\"],[0.4444444444444444,\"#bd3786\"],[0.5555555555555556,\"#d8576b\"],[0.6666666666666666,\"#ed7953\"],[0.7777777777777778,\"#fb9f3a\"],[0.8888888888888888,\"#fdca26\"],[1.0,\"#f0f921\"]]},\"colorway\":[\"#636efa\",\"#EF553B\",\"#00cc96\",\"#ab63fa\",\"#FFA15A\",\"#19d3f3\",\"#FF6692\",\"#B6E880\",\"#FF97FF\",\"#FECB52\"],\"font\":{\"color\":\"#2a3f5f\"},\"geo\":{\"bgcolor\":\"white\",\"lakecolor\":\"white\",\"landcolor\":\"#E5ECF6\",\"showlakes\":true,\"showland\":true,\"subunitcolor\":\"white\"},\"hoverlabel\":{\"align\":\"left\"},\"hovermode\":\"closest\",\"mapbox\":{\"style\":\"light\"},\"paper_bgcolor\":\"white\",\"plot_bgcolor\":\"#E5ECF6\",\"polar\":{\"angularaxis\":{\"gridcolor\":\"white\",\"linecolor\":\"white\",\"ticks\":\"\"},\"bgcolor\":\"#E5ECF6\",\"radialaxis\":{\"gridcolor\":\"white\",\"linecolor\":\"white\",\"ticks\":\"\"}},\"scene\":{\"xaxis\":{\"backgroundcolor\":\"#E5ECF6\",\"gridcolor\":\"white\",\"gridwidth\":2,\"linecolor\":\"white\",\"showbackground\":true,\"ticks\":\"\",\"zerolinecolor\":\"white\"},\"yaxis\":{\"backgroundcolor\":\"#E5ECF6\",\"gridcolor\":\"white\",\"gridwidth\":2,\"linecolor\":\"white\",\"showbackground\":true,\"ticks\":\"\",\"zerolinecolor\":\"white\"},\"zaxis\":{\"backgroundcolor\":\"#E5ECF6\",\"gridcolor\":\"white\",\"gridwidth\":2,\"linecolor\":\"white\",\"showbackground\":true,\"ticks\":\"\",\"zerolinecolor\":\"white\"}},\"shapedefaults\":{\"line\":{\"color\":\"#2a3f5f\"}},\"ternary\":{\"aaxis\":{\"gridcolor\":\"white\",\"linecolor\":\"white\",\"ticks\":\"\"},\"baxis\":{\"gridcolor\":\"white\",\"linecolor\":\"white\",\"ticks\":\"\"},\"bgcolor\":\"#E5ECF6\",\"caxis\":{\"gridcolor\":\"white\",\"linecolor\":\"white\",\"ticks\":\"\"}},\"title\":{\"x\":0.05},\"xaxis\":{\"automargin\":true,\"gridcolor\":\"white\",\"linecolor\":\"white\",\"ticks\":\"\",\"title\":{\"standoff\":15},\"zerolinecolor\":\"white\",\"zerolinewidth\":2},\"yaxis\":{\"automargin\":true,\"gridcolor\":\"white\",\"linecolor\":\"white\",\"ticks\":\"\",\"title\":{\"standoff\":15},\"zerolinecolor\":\"white\",\"zerolinewidth\":2}}},\"xaxis\":{\"anchor\":\"y\",\"domain\":[0.0,1.0],\"title\":{\"text\":\"Dry Mass (kg.)\"}},\"yaxis\":{\"anchor\":\"x\",\"domain\":[0.0,1.0],\"title\":{\"text\":\"Power (watts)\"}},\"legend\":{\"title\":{\"text\":\"Class of Orbit\"},\"tracegroupgap\":0},\"title\":{\"text\":\"Gr\\u00e1fico de dispersion para Masa seca, Potencia y Clase de \\u00f3rbita (GEO, MEO, LEO, Elliptical)\"}},                        {\"responsive\": true}                    ).then(function(){\n",
              "                            \n",
              "var gd = document.getElementById('ea710a3a-9459-4058-962e-13501dc45185');\n",
              "var x = new MutationObserver(function (mutations, observer) {{\n",
              "        var display = window.getComputedStyle(gd).display;\n",
              "        if (!display || display === 'none') {{\n",
              "            console.log([gd, 'removed!']);\n",
              "            Plotly.purge(gd);\n",
              "            observer.disconnect();\n",
              "        }}\n",
              "}});\n",
              "\n",
              "// Listen for the removal of the full notebook cells\n",
              "var notebookContainer = gd.closest('#notebook-container');\n",
              "if (notebookContainer) {{\n",
              "    x.observe(notebookContainer, {childList: true});\n",
              "}}\n",
              "\n",
              "// Listen for the clearing of the current output cell\n",
              "var outputEl = gd.closest('.output');\n",
              "if (outputEl) {{\n",
              "    x.observe(outputEl, {childList: true});\n",
              "}}\n",
              "\n",
              "                        })                };                            </script>        </div>\n",
              "</body>\n",
              "</html>"
            ]
          },
          "metadata": {}
        }
      ]
    }
  ],
  "metadata": {
    "kernelspec": {
      "display_name": "Python 3 (ipykernel)",
      "language": "python",
      "name": "python3"
    },
    "language_info": {
      "codemirror_mode": {
        "name": "ipython",
        "version": 3
      },
      "file_extension": ".py",
      "mimetype": "text/x-python",
      "name": "python",
      "nbconvert_exporter": "python",
      "pygments_lexer": "ipython3",
      "version": "3.9.7"
    },
    "colab": {
      "name": "Practica8_VI.ipynb",
      "provenance": [],
      "collapsed_sections": []
    }
  },
  "nbformat": 4,
  "nbformat_minor": 0
}