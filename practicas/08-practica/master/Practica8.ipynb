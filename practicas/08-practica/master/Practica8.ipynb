{
 "cells": [
  {
   "cell_type": "markdown",
   "metadata": {},
   "source": [
    "# Práctica-08: Base de datos de satélites UCS\n",
    "\n",
    "**Objetivo:** Analizar detalles sobre los satélites que actualmente orbitan la Tierra, incluido su país de origen, propósito y otros detalles operativos."
   ]
  },
  {
   "cell_type": "markdown",
   "metadata": {},
   "source": [
    "La base de datos se actualiza tres veces al año. La base de datos contiene 28 tipos de datos para cada satélite, incluida información técnica sobre cada satélite (_masa, potencia, fecha de lanzamiento, vida útil esperada_) y su órbita (_apogeo, perigeo, inclinación y período_), así como información sobre lo que hace el satélite.\n",
    "\n",
    "- Vamos a presentar números básicos sobre la cadena de valor de los servicios satelitales (como datos sobre lanzadores, fabricantes de satélites, operadores de satélites) y la industria espacial en general."
   ]
  },
  {
   "cell_type": "markdown",
   "metadata": {},
   "source": [
    "¿Alguna vez te has preguntado cuántos satélites hay encima de nosotros?"
   ]
  },
  {
   "cell_type": "markdown",
   "metadata": {},
   "source": [
    "**Primer paso: cargar la base de datos**\n",
    "\n",
    "Estableceremos el índice del marco de datos a la fecha de lanzamiento de cada satélite, contenido en la columna \"Fecha de lanzamiento\" (Date of Launch)"
   ]
  },
  {
   "cell_type": "code",
   "execution_count": 11,
   "metadata": {},
   "outputs": [],
   "source": [
    "import numpy as np  # útil para muchos cálculos científicos en Python\n",
    "import pandas as pd # biblioteca de estructura de datos primaria\n",
    "import matplotlib.pyplot as plt\n",
    "import seaborn as sns\n",
    "import plotly.express as px\n",
    "\n",
    "sns.color_palette(\"colorblind\", n_colors=8, desat=.5)\n",
    "plt.style.use('tableau-colorblind10')\n",
    "\n",
    "# Esta función personaliza un objeto de barra de gráfico de barras para agregar el número de observaciones.\n",
    "def set_bar_label(ax_ref, minval=1, orient='h'):\n",
    "  for p in ax_ref.patches:\n",
    "    if orient=='h':    \n",
    "      if p.get_width() >=minval:\n",
    "        ax_ref.annotate('{}'.format(p.get_width()),xy=(p.get_x()+p.get_width()*1.01,p.get_y()*1.05),fontsize=13)\n",
    "    else:\n",
    "      if p.get_height() >=minval:\n",
    "          ax_ref.annotate('{}'.format(p.get_height()),xy=(p.get_x()+0.4*p.get_width(), p.get_y() + p.get_height()*1.01),fontsize=13)"
   ]
  },
  {
   "cell_type": "code",
   "execution_count": 12,
   "metadata": {},
   "outputs": [],
   "source": [
    "df_sat=pd.read_excel('UCS-Satellite-Database-1-1-2022.xls',index_col='Date of Launch',parse_dates=True,thousands=',')\n",
    "df_sat.index.name='Date of Launch'\n",
    "print('Datos cargados')"
   ]
  },
  {
   "cell_type": "markdown",
   "metadata": {},
   "source": [
    "El primer paso cuando se trabaja con datos es _explorarlos_. El objetivo de este primer paso es identificar tipos de datos, datos faltantes, problemas de formato, etc., que puedan existir en los datos.\n",
    "\n",
    "Los métodos **.info()** y **.head()** son útiles para determinar los tipos de datos y los datos faltantes. Observemos los nombres de las columnas, el conteo de datos y el tipo de datos."
   ]
  },
  {
   "cell_type": "code",
   "execution_count": null,
   "metadata": {},
   "outputs": [],
   "source": [
    "df_sat.info()"
   ]
  },
  {
   "cell_type": "markdown",
   "metadata": {},
   "source": [
    "**Segundo paso: limpiar el conjunto de datos**"
   ]
  },
  {
   "cell_type": "markdown",
   "metadata": {},
   "source": [
    "Algunos de los campos de datos más interesantes incluyen la fecha de lanzamiento del satélite, el fabricante y operador del satélite, el propósito del satélite, el tipo de órbita, incluidos algunos parámetros orbitales, y la capacidad de masa y potencia del satélite."
   ]
  },
  {
   "cell_type": "markdown",
   "metadata": {},
   "source": [
    "Pero también, no es un conjunto de datos perfecto. Vemos los siguientes problemas:\n",
    "\n",
    "- Faltan datos en algunas de las columnas más interesantes, por ejemplo, carga útil, Masa, Potencia.\n",
    "- Columnas vacías.\n",
    "\n",
    "Para tener una idea de cómo se ven los datos, exploremos las primeras y la última fila de datos, usando los métodos **.head()** y **.last()**"
   ]
  },
  {
   "cell_type": "code",
   "execution_count": null,
   "metadata": {},
   "outputs": [],
   "source": [
    "df_sat.head()"
   ]
  },
  {
   "cell_type": "code",
   "execution_count": null,
   "metadata": {},
   "outputs": [],
   "source": [
    "df_sat.tail(2)"
   ]
  },
  {
   "cell_type": "markdown",
   "metadata": {},
   "source": [
    "**Tipos de datos y datos faltantes**\n",
    "\n",
    "Como se mencionó anteriormente, la base de datos contiene algunas columnas con comentarios y puntos de datos faltantes. También contiene filas completamente vacías, como se observó en la salida del método **.tail()**. \n",
    "\n",
    "Para nuestro trabajo exploratorio, se descartan las últimas filas innecesarias, que no contienen datos en la columna \"_Nombre del satélite, nombres alternativos_\", todas las columnas que no contengan más de 5 puntos de datos válidos (es decir, al menos 5 filas con datos válidos en la columna, usando el método **.dropna()**), y finalmente se convertirá a numéricas las columnas que deben contener datos numéricos.\n",
    "\n",
    "Luego, después de eliminar las filas problemáticas a las que les faltan las fechas de lanzamiento, ordenaremos el índice (fecha de lanzamiento) cronológicamente. "
   ]
  },
  {
   "cell_type": "code",
   "execution_count": null,
   "metadata": {},
   "outputs": [],
   "source": [
    "#quitar filas con NaN,\n",
    "df_sat = df_sat[ df_sat['Name of Satellite, Alternate Names'].notna() ]\n",
    "\n",
    "#soltar columnas con menos de 5 elementos válidos\n",
    "df_sat.dropna( axis='columns', thresh=5, inplace=True)\n",
    "\n",
    "#corregir los espacios adicionales en las columnas de categoría\n",
    "df_sat['Users']=df_sat['Users'].str.strip()\n",
    "\n",
    "#asegúrese de que las columnas numéricas sean del tipo correcto\n",
    "df_sat[['Dry Mass (kg.)', 'Launch Mass (kg.)', 'Eccentricity', 'Inclination (degrees)','Period (minutes)', 'Power (watts)']]=\\\n",
    "    df_sat[['Dry Mass (kg.)', 'Launch Mass (kg.)', 'Eccentricity', 'Inclination (degrees)','Period (minutes)', 'Power (watts)']]\\\n",
    "                                                                                            .apply(pd.to_numeric,errors='coerce')\n",
    "#ordenar el índice.\n",
    "df_sat.sort_index(axis=0, inplace=True, ascending=True)\n",
    "df_sat.info()"
   ]
  },
  {
   "cell_type": "markdown",
   "metadata": {},
   "source": [
    "Además de esto, ahora es importante explorar las columnas numéricas para asegurarse de que no haya ceros donde puedan ser problemáticos. Por ejemplo, un cero en las columnas _Masa seca, Masa de lanzamiento, Potencia_ no es un punto de datos correcto. Después de inspeccionar, el satélite NSS-6 parece tener un cero en la columna Potencia (vatios)."
   ]
  },
  {
   "cell_type": "code",
   "execution_count": null,
   "metadata": {},
   "outputs": [],
   "source": [
    "## identificar CERO en las columnas de masa o potencia\n",
    "isZeroPower_idx = df_sat['Power (watts)'] == 0\n",
    "isZeroDryMass_idx = df_sat['Dry Mass (kg.)'] == 0\n",
    "isZeroLaunchMass_idx = df_sat['Launch Mass (kg.)'] == 0\n",
    "\n",
    "print('Número de entradas en las columnas Potencia, Masa de lanzamiento y Masa seca establecidas en cero')\n",
    "print('-------------------------------------------------------------------------')\n",
    "print(' Número de puntos de datos que faltan en la columna Potencia: {}'.format(isZeroPower_idx.sum()))\n",
    "print(df_sat[isZeroPower_idx]['Current Official Name of Satellite'].to_string())\n",
    "print('-------------------------------------------------------------------------')\n",
    "print(' Número de puntos de datos faltantes en columna de Masa seca: {}'.format(isZeroDryMass_idx.sum()))\n",
    "print(' Número de puntos de datos que faltan en la columna Masa de lanzamiento: {}'.format(isZeroLaunchMass_idx.sum()))"
   ]
  },
  {
   "cell_type": "markdown",
   "metadata": {},
   "source": [
    "Según la información disponible en una versión anterior de la base de datos (UCS-Satellite-Database-8-1-2020.xls), la plataforma del satélite entrega 10 KW de potencia."
   ]
  },
  {
   "cell_type": "code",
   "execution_count": null,
   "metadata": {},
   "outputs": [],
   "source": [
    "# Establezca el valor de POTENCIA (vatios) para NSS-6 en 10000\n",
    "df_sat.loc[isZeroPower_idx,'Power (watts)'] = 10000\n",
    "print(df_sat[isZeroPower_idx]['Power (watts)'].to_string())"
   ]
  },
  {
   "cell_type": "markdown",
   "metadata": {},
   "source": [
    "Ahora el marco de datos está más limpio y podemos comenzar nuestro trabajo exploratorio."
   ]
  },
  {
   "cell_type": "markdown",
   "metadata": {},
   "source": [
    "Las **estaciones terrestres de satélites** son instalaciones diseñadas con el fin de proporcionar una comunicación directa y en tiempo real con los satélites. Estos se pueden colocar hasta en 5 órbitas en el espacio en función de las necesidades de cada uno. \n",
    "\n",
    "- La **órbita LEO** u **órbita baja** es una amplia franja que se sitúa entre los 160 y los 2000 kilómetros de altura. Los objetos situados en esta órbita se mueven a gran velocidad respecto de la superficie terrestre, por lo cubren una órbita completa en pocos minutos o pocas horas. Aquí se sitúan la Estación Espacial Internacional y la mayoría de los satélites meteorológicos de observación y muchos satélites de comunicaciones. \n",
    "\n",
    "- La **órbita MEO** u **órbita circular intermedia** se halla entre los 2000 y 36000 kilómetros de altura. Su periodo orbital tiene un promedio de 12 horas y aquí se sitúan los satélites de observación, defensa y posicionamiento, las redes satelitales de GPS y los satélites Glonass rusos o los Galileo europeos. \n",
    "\n",
    "- La **órbita geoestacionaria** u **órbita GEO** se sitúa a 35786 kilómetros de la superficie terrestre. Su periodo orbital es de 24 horas y en ella se ubican todos los satélites que proveen internet, televisión, telefonía y otros datos a diferentes regiones del planeta. \n",
    "\n",
    "- La **órbita HEO** u **órbita alta** se halla a más de 36000 kilómetros de altura y tiene un periodo orbital de más de 24 horas. Por último, tendríamos ya la **órbita SSO** u **órbita sincrónica solar**."
   ]
  },
  {
   "cell_type": "markdown",
   "metadata": {},
   "source": [
    "**Comencemos la exploración.**\n",
    "\n",
    "**Actividad:** Encuentre el satélite en funcionamiento más antiguo y más reciente.\n",
    "\n",
    "Determinamos esto usando el método **.iloc()** en el primer y último elemento del marco de datos:"
   ]
  },
  {
   "cell_type": "code",
   "execution_count": null,
   "metadata": {},
   "outputs": [],
   "source": [
    "print(df_sat.iloc[0,0:5].to_string())"
   ]
  },
  {
   "cell_type": "code",
   "execution_count": null,
   "metadata": {},
   "outputs": [],
   "source": [
    "print(df_sat.iloc[-1,0:5].to_string())"
   ]
  },
  {
   "cell_type": "markdown",
   "metadata": {},
   "source": [
    "La base de datos contiene información sobre satélites, su tipo de órbita y usos principales. Para determinar el satélite más antiguo en órbita geoestacionaria, utilizado con fines **comerciales**, debemos aplicar una _indexación booleana_ utilizando las columnas 'Clase de órbita' y 'Usuarios'"
   ]
  },
  {
   "cell_type": "code",
   "execution_count": null,
   "metadata": {},
   "outputs": [],
   "source": [
    "print(df_sat[(df_sat['Class of Orbit']=='GEO') & (df_sat['Users']=='Commercial')].iloc[0,0:8].to_string())"
   ]
  },
  {
   "cell_type": "markdown",
   "metadata": {},
   "source": [
    "**Actividad:** Encuentre el satélite más pesado en operaciones"
   ]
  },
  {
   "cell_type": "code",
   "execution_count": null,
   "metadata": {},
   "outputs": [],
   "source": [
    "heaviest_sat = df_sat[['Dry Mass (kg.)']].idxmax()\n",
    "print(df_sat.loc[heaviest_sat,['Name of Satellite, Alternate Names','Operator/Owner','Class of Orbit','Dry Mass (kg.)']].to_string())"
   ]
  },
  {
   "cell_type": "markdown",
   "metadata": {},
   "source": [
    "Además de la información sobre la fecha de lanzamiento y el nombre del satélite, la base de datos contiene variables como el país que registró el satélite en la ONU (País de registro de la ONU, país al que pertenece el operador del satélite (País del operador).\n",
    "\n",
    "_Con esta información podemos explorar qué tan activos son los países en el espacio._"
   ]
  },
  {
   "cell_type": "markdown",
   "metadata": {},
   "source": [
    "**¿Qué países son más activos en el espacio?** \n",
    "\n",
    "**Exploración a nivel de país**: Al observar el _país de registro_ y el _país del operador_, podríamos medir la actividad del sector espacial de un país."
   ]
  },
  {
   "cell_type": "code",
   "execution_count": null,
   "metadata": {},
   "outputs": [],
   "source": [
    "# Determinar el número de satélites por país de registro y operador, para todos los países.\n",
    "# La serie devuelta contiene la suma de satélites de todos los países, ordenados por valor.\n",
    "# Nota: Debemos eliminar las entradas No registradas (NR) de la columna 'País/Org del Registro de la ONU' antes de realizar el conteo.\n",
    "\n",
    "nbr_sats_per_cnt_reg=df_sat['Country/Org of UN Registry'].value_counts()\n",
    "nbr_sats_per_cnt_op=df_sat['Country of Operator/Owner'].value_counts()\n",
    "\n",
    "print('Array sizes: Per country of registration {} per country of operator {}'.format(nbr_sats_per_cnt_reg.shape, nbr_sats_per_cnt_op.shape ))"
   ]
  },
  {
   "cell_type": "markdown",
   "metadata": {},
   "source": [
    "Las variables **nbr_sats_per_reg** y **nbr_sats_per_op** contienen el número de satélites por país de registro y por país de operador, ordenados por valor ascendente. Como la cantidad de países en cada matriz es bastante grande, la siguiente celda explora los cinco principales de cada variable:"
   ]
  },
  {
   "cell_type": "code",
   "execution_count": null,
   "metadata": {},
   "outputs": [],
   "source": [
    "# Número de satélites según el país de registro, clasificados entre los 5 primeros.\n",
    "print('Recuento total de satélites (top 5), por país de registro de la ONU')\n",
    "print('-------------------------------------------------------------')\n",
    "print(df_sat[df_sat['Country/Org of UN Registry'].str.contains(\"NR\")==0]['Country/Org of UN Registry'].value_counts()[:5].to_string())"
   ]
  },
  {
   "cell_type": "code",
   "execution_count": null,
   "metadata": {},
   "outputs": [],
   "source": [
    "# Número de satélites según el país del operador/propietario, clasificados entre los 5 primeros.\n",
    "print('Recuento total de satélites (top 5), por país del operador')\n",
    "print('------------------------------------------------------')\n",
    "print(df_sat['Country of Operator/Owner'].value_counts()[:5].to_string())"
   ]
  },
  {
   "cell_type": "markdown",
   "metadata": {},
   "source": [
    "**NOTA: Puede ser mejor visualizar esta información, en lugar de presentarla como texto.**"
   ]
  },
  {
   "cell_type": "code",
   "execution_count": null,
   "metadata": {},
   "outputs": [],
   "source": [
    "# un gráfico de barras para los cinco países principales,\n",
    "fig, ax = plt.subplots(nrows=1, ncols=2)\n",
    "fig.tight_layout(pad=0.0)\n",
    "fig.set_size_inches(14,6)\n",
    "ax1=df_sat[df_sat['Country/Org of UN Registry'].str.contains(\"NR\")==0]['Country/Org of UN Registry'].value_counts()[:5].plot(kind='barh',ax=ax[0])\n",
    "ax2=nbr_sats_per_cnt_op[0:5].plot(kind='barh')\n",
    "plt.subplots_adjust(right=1.5,wspace=0.5)\n",
    "\n",
    "# establecer una leyenda, título\n",
    "ax1.set_xlabel('Número de satélites en la base de datos', fontsize=18)\n",
    "ax1.set_title('Número total de satélites, por país del Registro de la ONU', fontsize=20)\n",
    "ax2.set_xlabel('Número de satélites en la base de datos', fontsize=18)\n",
    "ax2.set_title('Número total de satélites, por país del Operador', fontsize=20)\n",
    "\n",
    "# anotar\n",
    "set_bar_label(ax1)\n",
    "set_bar_label(ax2)"
   ]
  },
  {
   "cell_type": "markdown",
   "metadata": {},
   "source": [
    "Los resultados probablemente no sean una sorpresa: los países que han registrado la mayoría de los satélites y que operan la mayoría de los satélites son **EE. UU.**, **China** y **Rusia**."
   ]
  },
  {
   "cell_type": "markdown",
   "metadata": {},
   "source": [
    "**¿Desde dónde se lanzan los satélites?**"
   ]
  },
  {
   "cell_type": "code",
   "execution_count": null,
   "metadata": {},
   "outputs": [],
   "source": [
    "axTen = df_sat['Launch Site'].value_counts()[:10].plot(kind='barh', color='purple',width=0.8, figsize=(8,8))\n",
    "set_bar_label(axTen, orient='h')\n",
    "_=axTen.set_title('Número total de lanzamientos, por sitio de lanzamiento (10 principales)', fontsize=20)"
   ]
  },
  {
   "cell_type": "code",
   "execution_count": null,
   "metadata": {},
   "outputs": [],
   "source": [
    "nbr_sats_per_launch_site=df_sat['Launch Site'].value_counts()\n",
    "print('Lista de los 10 principales sitios de lanzamiento, ordenados por número de satélites lanzados')\n",
    "print('--------------------------------------------------------------------')\n",
    "print(nbr_sats_per_launch_site[0:10].to_string())"
   ]
  },
  {
   "cell_type": "markdown",
   "metadata": {},
   "source": [
    "**¿Y qué vehículos se utilizan para lanzarlos?**\n",
    "\n",
    "También podemos repetir el principio para los vehículos de lanzamiento, usando los datos en la columna \"Vehículo de lanzamiento\". Tenga en cuenta que\n",
    "\n",
    "- Existe lanzamiento de varios vehículos desde el mismo sitio.\n",
    "\n",
    "- Los vehículos de lanzamiento pueden lanzarse desde diferentes sitios según la misión."
   ]
  },
  {
   "cell_type": "code",
   "execution_count": null,
   "metadata": {},
   "outputs": [],
   "source": [
    "nbr_sats_per_launch_vehicle=df_sat['Launch Vehicle'].value_counts()\n",
    "print('Lista de lanzadores por número de satélites lanzados en total, 10 principales')\n",
    "print('---------------------------------------------------------------')\n",
    "print(nbr_sats_per_launch_vehicle[0:10].to_string())"
   ]
  },
  {
   "cell_type": "code",
   "execution_count": null,
   "metadata": {},
   "outputs": [],
   "source": [
    "BySite_group = df_sat.groupby(['Launch Site','Launch Vehicle']) \n",
    "nbr_Starlink_launched_from_cc = BySite_group.get_group(('Cape Canaveral','Falcon 9'))['Name of Satellite, Alternate Names'].str.contains('tarlink').sum()\n",
    "nbr_NonStarlink_launched_from_cc = BySite_group.get_group(('Cape Canaveral','Falcon 9'))['Name of Satellite, Alternate Names'].str.contains('^((?!tarlink).)*$').sum()\n",
    "\n",
    "print(' - Número de satélites Starlink lanzados con Falcon 9 desde Cabo Cañaveral : ', nbr_Starlink_launched_from_cc )\n",
    "print(' - Número de satélites que no son Starlink lanzados con Falcon 9 desde Cabo Cañaveral : ', nbr_NonStarlink_launched_from_cc )\n",
    "print(' - Total lanzado desde Cabo Cañaveral usando Falcon 9: ', nbr_Starlink_launched_from_cc+nbr_NonStarlink_launched_from_cc)"
   ]
  },
  {
   "cell_type": "markdown",
   "metadata": {},
   "source": [
    "Ahora, una mirada más cercana a los primeros 15 satélites lanzados con Falcon 9."
   ]
  },
  {
   "cell_type": "code",
   "execution_count": null,
   "metadata": {},
   "outputs": [],
   "source": [
    "# Para modificar el código para ver, digamos, solo los primeros 10 lanzamientos, \n",
    "# agregue [0:11] después de los nombres de las columnas en la función de impresión ().\n",
    "ByLaunchSite = df_sat.groupby(['Launch Vehicle'])\n",
    "display(ByLaunchSite.get_group('Falcon 9')[['Launch Site','Name of Satellite, Alternate Names']][0:16])"
   ]
  },
  {
   "cell_type": "markdown",
   "metadata": {},
   "source": [
    "**¿Qué órbitas se utilizan con más frecuencia?**\n",
    "\n",
    "La base de datos incluye información sobre la clase de órbita. Pero, **¿qué es una órbita?** \n",
    "\n",
    "- Una órbita es el camino que toma un objeto cuando se mueve alrededor de otro, debido a la gravedad.\n",
    "\n",
    "Construyamos un histograma para explorar la cantidad de satélites operativos por _clase de órbita_. "
   ]
  },
  {
   "cell_type": "code",
   "execution_count": null,
   "metadata": {},
   "outputs": [],
   "source": [
    "fig_class, ax_class = plt.subplots(nrows=1, ncols=1)\n",
    "fig_class.set_size_inches(10,10)\n",
    "ax_class.tick_params(axis='x', labelsize=14)\n",
    "ax_class.tick_params(axis='y', labelsize=14)\n",
    "\n",
    "axClassBar = sns.countplot(df_sat['Class of Orbit'])\n",
    "axClassBar.set_xlabel('Clase de órbita',fontsize=18)\n",
    "_=axClassBar.set_title('Número total de satélites, por clase de órbita', fontsize=20)\n",
    "set_bar_label(axClassBar,minval=1, orient='v')"
   ]
  },
  {
   "cell_type": "markdown",
   "metadata": {},
   "source": [
    "La base de datos también contiene información sobre para qué se utilizan los satélites. Podemos responder preguntas como,\n",
    "\n",
    "**¿Cuántos satélites de comunicación con fines comerciales están en operación, agrupados por clase de órbita?**"
   ]
  },
  {
   "cell_type": "code",
   "execution_count": null,
   "metadata": {},
   "outputs": [],
   "source": [
    "cross_tab = pd.crosstab( df_sat['Users'], df_sat['Class of Orbit'],margins=True)\n",
    "display(cross_tab)"
   ]
  },
  {
   "cell_type": "markdown",
   "metadata": {},
   "source": [
    "Dado que el conjunto de datos tiene usos mixtos, necesitaríamos algunas líneas de código más para sumar todas las categorías que contienen un uso comercial, para cada tipo de órbita. A continuación se muestra una forma de hacerlo."
   ]
  },
  {
   "cell_type": "code",
   "execution_count": null,
   "metadata": {},
   "outputs": [],
   "source": [
    "gb=df_sat.groupby(['Class of Orbit','Users'])\n",
    "\n",
    "# calcular el total por clase de órbita, utilizando métodos de cálculo directo. \n",
    "# Tenga en cuenta que esto también se puede lograr a través de filtros e indexación lógica.\n",
    "nbr_GEO_comm_sats = gb.get_group(('GEO','Commercial'))['Name of Satellite, Alternate Names'].count() + \\\n",
    "              gb.get_group(('GEO','Commercial/Military'))['Name of Satellite, Alternate Names'].count() + \\\n",
    "              gb.get_group(('GEO','Commercial/Government'))['Name of Satellite, Alternate Names'].count()\n",
    "\n",
    "nbr_MEO_comm_sats = gb.get_group(('MEO','Commercial'))['Name of Satellite, Alternate Names'].count() #+ \\\n",
    "             # gb.get_group(('MEO','Military/Commercial'))['Name of Satellite, Alternate Names'].count()\n",
    "\n",
    "nbr_LEO_comm_sats = gb.get_group(('LEO','Commercial'))['Name of Satellite, Alternate Names'].count() + \\\n",
    "              gb.get_group(('LEO','Commercial/Civil'))['Name of Satellite, Alternate Names'].count() + \\\n",
    "              gb.get_group(('LEO','Government/Commercial'))['Name of Satellite, Alternate Names'].count() +\\\n",
    "              gb.get_group(('LEO','Military/Commercial'))['Name of Satellite, Alternate Names'].count()\n",
    "\n",
    "print('Totales por clase de órbita')\n",
    "print('-------------------------------------------------')\n",
    "print('Número de satélites GEO para uso comercial: ', nbr_GEO_comm_sats)\n",
    "print('Número de satélites MEO para uso comercial: ', nbr_MEO_comm_sats)\n",
    "print('Número de satélites LEO para uso comercial: ', nbr_LEO_comm_sats)"
   ]
  },
  {
   "cell_type": "markdown",
   "metadata": {},
   "source": [
    "**¿Cuántos satélites se utilizan para servicios de telecomunicaciones, por tipo de órbita?**\n",
    "\n",
    "Podemos subdividir aún más los datos por órbita y usuario y centrarnos en un propósito específico, el de los _servicios de comunicación comercial_."
   ]
  },
  {
   "cell_type": "code",
   "execution_count": null,
   "metadata": {},
   "outputs": [],
   "source": [
    "# Para que este conteo funcione, es importante recordar que hay ciertas entradas en la base de datos de \"uso mixto\", \n",
    "# es decir, un satélite con cargas útiles con propósitos duales, como comercial/militar o gubernamental/militar.\n",
    "# Esto es lo que se utilizó una suma directa de cada categoría en las celdas anteriores.\n",
    "# Ahora se intentará un enfoque de indexación lógica usando el método str.contains() \n",
    "# y buscando las palabras clave Comercial y Comunicación dentro de las columnas Usuarios y Propósito.\n",
    "\n",
    "idx_isLEO_isCOM_isCOMMS = (df_sat['Class of Orbit']=='LEO') & (df_sat['Users'].str.contains('commercial',case=False) ) & (df_sat['Purpose'].str.contains('communication',case=False))\n",
    "idx_isMEO_isCOM_isCOMMS = (df_sat['Class of Orbit']=='MEO') & (df_sat['Users'].str.contains('commercial',case=False) ) & (df_sat['Purpose'].str.contains('communication',case=False))\n",
    "idx_isGEO_isCOM_isCOMMS = (df_sat['Class of Orbit']=='GEO') & (df_sat['Users'].str.contains('commercial',case=False) ) & (df_sat['Purpose'].str.contains('communication',case=False))\n",
    "\n",
    "# el número de entradas es la suma de la serie de indexación booleana.\n",
    "nbr_LEO_com_comms_sats =idx_isLEO_isCOM_isCOMMS.sum()\n",
    "nbr_MEO_com_comms_sats =idx_isMEO_isCOM_isCOMMS.sum()\n",
    "nbr_GEO_com_comms_sats =idx_isGEO_isCOM_isCOMMS.sum()\n",
    "\n",
    "print('Número total de satélites comerciales de comunicaciones, por clase de órbita')\n",
    "print('------------------------------------------------------------------------')\n",
    "print('Número de satélites LEO para uso de comunicaciones comerciales: ', nbr_LEO_com_comms_sats)\n",
    "print('Número de satélites MEO para uso de comunicaciones comerciales: ', nbr_MEO_com_comms_sats)\n",
    "print('Número de satélites GEO para uso de comunicaciones comerciales: ', nbr_GEO_com_comms_sats)\n",
    "\n",
    "# un gráfico de barras\n",
    "fbar,barax=plt.subplots()\n",
    "fbar.set_size_inches(7,10)\n",
    "barax.bar( ['LEO', 'MEO', 'GEO'], [nbr_LEO_com_comms_sats, nbr_MEO_com_comms_sats, nbr_GEO_com_comms_sats], color=['r', 'g','b'])\n",
    "\n",
    "# anotar barras,\n",
    "set_bar_label(barax,minval=1, orient='v')\n",
    "barax.set_ylabel('Número de satélites comerciales con fines de comunicaciones', fontsize=14)\n",
    "plt.show()"
   ]
  },
  {
   "cell_type": "markdown",
   "metadata": {},
   "source": [
    "Por lo tanto, hay casi tres veces más satélites LEO con fines comerciales que satélites GEO. \n",
    "\n",
    "**¿Significa esto que los sistemas LEO son más exitosos que los sistemas GEO?** \n",
    "\n",
    "No necesariamente. Los satélites en la órbita LEO se mueven muy rápido en relación con un punto fijo en la tierra. Los satélites GEO, en cambio, aparecen fijos en un punto de la tierra. Entonces, para una cobertura o servicio continuo, los sistemas desplegados en la órbita LEO necesitan más de un satélite, necesitan una constelación.  \n",
    "\n",
    "Algunas constelaciones bien conocidas de servicios de comunicaciones incluyen **Iridium, Orbcomm, Globalstar** y los relativamente nuevos **OneWeb** y **SpaceX Systems**. Los satélites LEO tienden a ser más pequeños (y livianos) que sus contrapartes GEO, ya que la naturaleza de la carga útil es diferente. \n",
    "\n",
    "Exploremos la velocidad orbital media de los satélites LEO y la relación entre las capacidades de masa y potencia de los satélites para ver si esto es cierto."
   ]
  },
  {
   "cell_type": "markdown",
   "metadata": {},
   "source": [
    "**Explorando los operadores de sistemas satelitales**\n",
    "\n",
    "Ahora cambiemos ligeramente de tema y echemos un vistazo a la _cantidad de operadores de satélites_ que vuelan satélites con fines comerciales."
   ]
  },
  {
   "cell_type": "code",
   "execution_count": null,
   "metadata": {},
   "outputs": [],
   "source": [
    "nbr_sats_per_op=df_sat['Operator/Owner'].value_counts()\n",
    "\n",
    "# un gráfico de barras para los diez principales operadores, por número de satélites,\n",
    "axOp=df_sat['Operator/Owner'].value_counts()[:10].plot(kind='barh', width =0.8, figsize=(8,8))\n",
    "\n",
    "# anotar barras,\n",
    "set_bar_label(axOp)\n",
    "\n",
    "# establecer una leyenda, título\n",
    "axOp.set_xlabel('Número de satélites en la base de datos')\n",
    "_= axOp.set_title('Número total de satélites, por operador', Fontsize=20)"
   ]
  },
  {
   "cell_type": "markdown",
   "metadata": {},
   "source": [
    "Como se puede observar, OneWeb y SpaceX lideran la lista por número de satélites. Cuatro de los operadores con más satélites son relativamente nuevos, y dos de los cinco principales están en el dominio de la observación de la Tierra.\n",
    "\n",
    "Cambiar el enfoque a operadores GEO, con énfasis en SATCOM comerciales,"
   ]
  },
  {
   "cell_type": "code",
   "execution_count": null,
   "metadata": {},
   "outputs": [],
   "source": [
    "# Una mirada más cercana a los operadores GSO, con un enfoque comercial en el dominio de las telecomunicaciones, arroja los siguientes tamaños de flota \n",
    "# Primero creamos una lista con los nombres de los operadores,\n",
    "GSO_comm_ops = np.unique(df_sat['Operator/Owner'][(df_sat['Users'] == 'Commercial') & (df_sat['Purpose'] == 'Communications')& (df_sat['Class of Orbit'] == 'GEO')])\n",
    "\n",
    "# la longitud de la lista es 74, lo que significa que hay 74 operadores que cumplen las tres condiciones establecidas en nuestra consulta anterior.\n",
    "print('Hay {} operadores GEO satcomm en la lista'.format(len(GSO_comm_ops)))\n",
    "print('----------------------------------------------')\n",
    "\n",
    "# alternativamente, podemos usar un enfoque más complejo pero compacto, \n",
    "# como hicimos en las figuras anteriores, usando Value_counts()\n",
    "ax4 = df_sat['Operator/Owner'][(df_sat['Users'] == 'Commercial') & (df_sat['Purpose'] == 'Communications') \\\n",
    "                              & (df_sat['Class of Orbit'] == 'GEO')].value_counts()[0:10].plot(kind='barh',figsize=(8,8))\n",
    "_=set_bar_label(ax4)"
   ]
  },
  {
   "cell_type": "markdown",
   "metadata": {},
   "source": [
    "Un problema con el análisis anterior es que el nombre de un operador de satélite aparece varias veces, en forma diferente. Por ejemplo, en los casos en que comparte la plataforma con otro operador. Por ejemplo, un satélite podría asignarse a un operador como\n",
    "\n",
    "- Telesat Canadá,\n",
    "- Telesat Canada Ltd. (BCE, Inc.)/APT Satellite Holdings Ltd.\n",
    "\n",
    "que se registrarán como operadores separados. Además, las entidades fusionadas aparecen como separadas (ver Panamsat/Intelsat o SES/O3B).\n",
    "\n",
    "Hagamos una búsqueda más específica, para lo que se conoce como los \"Cuatro Grandes\" operadores FSS: **Eutelsat, Intelsat, SES, Telesat**, buscando cualquier satélite que tenga esas compañías listadas como operadores en cualquier combinación en la cadena, y, en el caso de SES, añadiendo la constelación O3B en órbita MEO."
   ]
  },
  {
   "cell_type": "code",
   "execution_count": null,
   "metadata": {},
   "outputs": [],
   "source": [
    "IS_count=np.sum(df_sat['Operator/Owner'].str.contains('intelsat',case=False) & df_sat['Users'].str.contains('Commercial'))\n",
    "EUT_count=np.sum(df_sat['Operator/Owner'].str.contains('eutelsat',case=False) & df_sat['Users'].str.contains('Commercial'))\n",
    "TEL_count=np.sum(df_sat['Operator/Owner'].str.contains('telesat',case=False) & df_sat['Users'].str.contains('Commercial'))\n",
    "SES_count=np.sum(df_sat['Operator/Owner'].str.contains('ses',case=False) & df_sat['Users'].str.contains('Commercial')) + \\\n",
    "          np.sum(df_sat['Operator/Owner'].str.contains('o3b',case=False) & df_sat['Users'].str.contains('Commercial'))\n",
    "\n",
    "print('UCS contiene : ')\n",
    "print('---------------------------')\n",
    "print(' {} satélites Eutelsat'.format(EUT_count))\n",
    "print(' {} satélites Intelsat'.format(IS_count))\n",
    "print(' {} satélites SES/O3B'.format(SES_count))\n",
    "print(' {} satélites Telesat'.format(TEL_count))"
   ]
  },
  {
   "cell_type": "markdown",
   "metadata": {},
   "source": [
    "**¿Para qué se utilizan los satélites de comunicaciones GEO?**\n",
    "\n",
    "Podemos revisar los usos de los satélites de órbita geoestacionaria estudiando las categorías en la columna \"Usuarios\" del marco de datos"
   ]
  },
  {
   "cell_type": "code",
   "execution_count": null,
   "metadata": {},
   "outputs": [],
   "source": [
    "# extraiga todos los puntos de datos para la órbita GEO, mire la columna de longitud\n",
    "geo_flt_id = (df_sat['Class of Orbit'] == 'GEO')\n",
    "GEO_df = df_sat[geo_flt_id]\n",
    "GEO_byUser=GEO_df.groupby(['Users'])['Purpose'].count()\n",
    "f=GEO_byUser.plot(kind='bar',figsize=(10,8), fontsize=16, width=1, position=0.5)\n",
    "f.set_title('Usuarios registrados de satélites comerciales geoestacionarios', fontsize=18)\n",
    "_=set_bar_label(f,1,'v')\n",
    "\n",
    "print(GEO_byUser)"
   ]
  },
  {
   "cell_type": "markdown",
   "metadata": {},
   "source": [
    "**¿Dónde se encuentran los satélites de comunicación GEO?**\n",
    "\n",
    "**Actividad**: Filtrar los datos según la órbita GEO y el uso de comunicaciones comerciales, y hacer un histograma de los puntos de datos válidos en el conjunto resultante, nos da una idea de la distribución de los satélites a lo largo de la órbita GEO."
   ]
  },
  {
   "cell_type": "code",
   "execution_count": null,
   "metadata": {},
   "outputs": [],
   "source": [
    "# extraiga todos los puntos de datos para la órbita GEO, mire la columna de longitud\n",
    "flt_id = (df_sat['Class of Orbit'] == 'GEO') & (df_sat['Users'].str.contains('commercial', case = False) & (df_sat['Purpose'].str.contains('communications', case = False) ) )\n",
    "GEO_long = df_sat[ flt_id ]['Longitude of GEO (degrees)'].astype(float)\n",
    "\n",
    "# longitudes correctas para caer en el rango (-180,180)\n",
    "GEO_long[ GEO_long > 180] = GEO_long[ GEO_long > 180] - 360\n",
    "\n",
    "# hacer un histograma de los puntos de datos de longitud,\n",
    "# definición de intervalos de histograma y ubicaciones de xticks.\n",
    "bin_edges = np.arange(-180,185,5)-2.5 # cada cinco grados.\n",
    "x_axis_ticks = np.arange(-180,190,10)\n",
    "\n",
    "# crear figura lienzo y ejes\n",
    "fig, ax5 = plt.subplots(figsize=[15,8])\n",
    "fig.tight_layout(pad=0.0)\n",
    "\n",
    "# gráfico.\n",
    "_ = sns.distplot(GEO_long,bins=bin_edges,kde=False,axlabel='Orbital location (deg E.)',ax=ax5, hist_kws ={'ec':'k'}) \n",
    "_ = plt.xticks(x_axis_ticks,rotation=55)\n",
    "_ = plt.xlabel('Ubicación orbital (deg E.)')\n",
    "_ = plt.ylabel('Número de satélites en el contenedor de ubicación orbital')\n",
    "\n",
    "set_bar_label(ax5, minval=10, orient='v')"
   ]
  },
  {
   "cell_type": "markdown",
   "metadata": {},
   "source": [
    "Con las definiciones de intervalo anteriores, hay tres \"contenedores\" con 10 o más satélites. \n",
    "\n",
    "**¿Por qué algunas ubicaciones orbitales parecen más atractivas que otras?** \n",
    "\n",
    "- Hay varias razones. Desde la perspectiva de las comunicaciones, tiene que ver con los mercados a los que llega desde cada ubicación orbital.\n",
    "\n",
    "- Por ejemplo, un contribuyente a la cantidad de satélites alrededor de -100 grados Este y -60 grados Oriente es el hecho de que alrededor de esos lugares hay bastantes satélites que brindan servicios de video a las cabeceras de cable (servicios de distribución de cable) y a los usuarios en el hogar (DTH).\n",
    "\n",
    "- Hay puntos de acceso similares en Europa, por ejemplo, el conjunto 16E y 19.2E que admiten DTH. Eso contribuye a que la cantidad de satélites alrededor de 20E y 25E esté cerca de 8.\n",
    "\n",
    "- Alrededor de 30 grados hay bastantes satélites, debido a que el tamaño del contenedor es grande. Ese intervalo está capturando 26E, 28.2E, 30E, 31E, 33E, que son responsables de una gran cantidad de servicios de video y datos hacia Europa y Medio Oriente, con satélites de **Arabsat, Eutelsat, Intelsat** y **SES** en esos espacios."
   ]
  },
  {
   "cell_type": "markdown",
   "metadata": {},
   "source": [
    "**Sistemas de navegación**\n",
    "\n",
    "Teniendo en cuenta las noticias sobre el sistema BEIDOU de China, veamos el tamaño de tres constelaciones de navegación: el **sistema GPS** de EE. UU. (DoD/US Air Force GPS system), el **sistema GALILEO** de Europa y el **BEIDOU** de China.\n",
    "\n",
    "Para contar cuántos satélites hay en cada constelación, se hará una búsqueda de cadenas en el nombre y se contarán las coincidencias. Esto capturará cualquier satélite, independientemente de su órbita (el sistema Beidou tiene satélites en órbita MEO y GEO):"
   ]
  },
  {
   "cell_type": "code",
   "execution_count": null,
   "metadata": {},
   "outputs": [],
   "source": [
    "DOD_GPS = df_sat['Name of Satellite, Alternate Names'].str.contains('navstar gps',case=False).sum()\n",
    "EU_GALILEO = df_sat['Name of Satellite, Alternate Names'].str.contains('galileo',case=False).sum()\n",
    "CH_BEIDOU = df_sat['Name of Satellite, Alternate Names'].str.contains('beidou',case=False).sum()\n",
    "print('Recuento de satélites operativos (ENE-2022) en tres constelaciones de navegación:')\n",
    "print('-----------------------------------------------------------------------------')\n",
    "print('US DoD GPS    : {} satélites '.format(DOD_GPS))\n",
    "print('EU GALILEO    : {} satélites '.format(EU_GALILEO))\n",
    "print('CHINA BEIDOU  : {} satélites '.format(CH_BEIDOU))"
   ]
  },
  {
   "cell_type": "markdown",
   "metadata": {},
   "source": [
    "# EJERCICIO-01: Explorando números por contratista\n",
    "\n",
    "Finalmente, dada la información en la columna Contractor (\"Contratista\"), también es posible evaluar el número de naves espaciales construidas por cada fabricante. Tenga en cuenta que, al igual que con el nombre del operador, es posible que las naves espaciales construidas por un fabricante en la actualidad deban agregarse a partir de varias entradas.\n",
    "\n",
    "**Sin fusionar fabricantes, presente un gráfico de barras para los 15 mejores resultados por número de satélites**."
   ]
  },
  {
   "cell_type": "markdown",
   "metadata": {},
   "source": [
    "# EJERCICIO-02: ¿Qué tan rápido se mueven los satélites? \n",
    "\n",
    "**Calcular la velocidad orbital media de los satélites**\n",
    "\n",
    "La velocidad orbital media de un satélite que orbita alrededor de la Tierra es una función del período orbital y la longitud del semieje mayor de la elipse de la órbita. Podemos aproximar la velocidad orbital media usando"
   ]
  },
  {
   "cell_type": "markdown",
   "metadata": {},
   "source": [
    "$$\\frac{2\\pi a}{T}(1-0.25e^{2})$$"
   ]
  },
  {
   "cell_type": "markdown",
   "metadata": {},
   "source": [
    "donde\n",
    "\n",
    "- $a$ : longitud del semieje mayor en kilómetros,\n",
    "- $T$ : período de órbita en segundos\n",
    "- $e$ : excentricidad de la órbita\n",
    "    \n",
    "La velocidad orbital media no está en la base de datos. Podemos agregar una columna al marco de datos con esos valores"
   ]
  },
  {
   "cell_type": "code",
   "execution_count": null,
   "metadata": {},
   "outputs": [],
   "source": [
    "R_earth=6378.165  # en kilómetros, radio medio de la tierra.\n",
    "df_sat['Mean Orbital Speed (km.sec)'] = ((2*np.pi*( (df_sat['Perigee (km)'] + df_sat['Apogee (km)'] +2*R_earth)/2)) / (df_sat['Period (minutes)']*60))*(1-0.25*df_sat['Eccentricity']**2)\n",
    "display( df_sat[['Name of Satellite, Alternate Names','Class of Orbit','Mean Orbital Speed (km.sec)']].head(6))\n",
    "\n",
    "# criterios booleanos para el filtrado\n",
    "criteria_LEO = df_sat['Class of Orbit'] == 'LEO'\n",
    "criteria_MEO = df_sat['Class of Orbit'] == 'MEO'\n",
    "criteria_GEO = df_sat['Class of Orbit'] == 'GEO'\n",
    "\n",
    "# velocidad orbital media para cualquier entrada distinta de cero o nula para satélites LEO\n",
    "print(' ------------------Velocidad orbital media: estadística descriptiva LEO--------------------------------- ')\n",
    "Mean_Orbital_speed_LEO = df_sat[criteria_LEO]['Mean Orbital Speed (km.sec)'].apply(pd.to_numeric,errors='coerce').dropna().mean()\n",
    "print(df_sat[criteria_LEO][ 'Mean Orbital Speed (km.sec)'].dropna().describe().to_string())\n",
    "print( 'Velocidad orbital media para satélites LEO con conjunto completo de parámetros en UCS: {0:6.2f} km/sec.'.format ( Mean_Orbital_speed_LEO) )\n",
    "\n",
    "# para cualquier entrada distinta de cero o nula para satélites MEO\n",
    "\n",
    "# para cualquier entrada distinta de cero o nula para satélites GEO\n"
   ]
  },
  {
   "cell_type": "markdown",
   "metadata": {},
   "source": [
    "# EJERCICIO-03: Explorando las relaciones básicas entre los atributos de los satélites \n",
    "\n",
    "**La relación _Masa-Potencia_**. \n",
    "    \n",
    "La base de datos contiene muestras de las capacidades de _masa_ y _potencia_ de las naves espaciales. Históricamente, se ha basado en la relación entre la masa (masa seca, masa de la carga útil, masa propulsora) y la potencia para establecer reglas de primer orden para estimar la masa de la nave espacial, conociendo una envolvente de potencia. Explore entonces la relación entre la _masa seca_ de la nave espacial y la _capacidad de potencia_."
   ]
  },
  {
   "cell_type": "code",
   "execution_count": null,
   "metadata": {},
   "outputs": [],
   "source": [
    "criteria_LEO = df_sat['Class of Orbit'] == 'LEO'\n",
    "print('Masa seca promedio para un satélite LEO: {0:6.2f} kg.'.format(df_sat[criteria_LEO]['Dry Mass (kg.)'].dropna().median()))\n",
    "print('Capacidad promedio de generación de energía para un satélite LEO: {0:6.2f} Watt.'.format( df_sat[criteria_LEO]['Power (watts)'].dropna().median()))\n",
    "print('----------------------------------------------------------------------')\n",
    "\n",
    "# Extraiga los mismos datos para los satélites MEO\n",
    "\n",
    "# Extraiga los mismos datos para los satélites GEO\n"
   ]
  },
  {
   "cell_type": "code",
   "execution_count": null,
   "metadata": {},
   "outputs": [],
   "source": [
    "df_sat[criteria_LEO][['Name of Satellite, Alternate Names','Dry Mass (kg.)']][df_sat[criteria_LEO]['Dry Mass (kg.)']>2000]"
   ]
  },
  {
   "cell_type": "markdown",
   "metadata": {},
   "source": [
    "# EJERCICIO-04 \n",
    "\n",
    "Muestre un **gráfico de dispersión** con las variables _Masa seca, Potencia_ y _Clase de órbita_ (GEO, MEO, LEO, Elliptical).   "
   ]
  }
 ],
 "metadata": {
  "kernelspec": {
   "display_name": "Python 3 (ipykernel)",
   "language": "python",
   "name": "python3"
  },
  "language_info": {
   "codemirror_mode": {
    "name": "ipython",
    "version": 3
   },
   "file_extension": ".py",
   "mimetype": "text/x-python",
   "name": "python",
   "nbconvert_exporter": "python",
   "pygments_lexer": "ipython3",
   "version": "3.9.7"
  }
 },
 "nbformat": 4,
 "nbformat_minor": 4
}
