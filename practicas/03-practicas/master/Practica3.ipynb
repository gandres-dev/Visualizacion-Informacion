{
 "cells": [
  {
   "cell_type": "markdown",
   "id": "8e5c748b",
   "metadata": {},
   "source": [
    "# PRACTICA 3"
   ]
  },
  {
   "cell_type": "markdown",
   "id": "473cbe2c",
   "metadata": {},
   "source": [
    "En esta práctica se van a graficar funciones 1D, 2D y 3D así como cambiar algunos de sus parámetros:\n",
    "\n",
    "Tamaño de figura, grosor de línea, color y estilo, ejes, propiedades de cuadrícula, propiedades de texto y fuente."
   ]
  },
  {
   "cell_type": "markdown",
   "id": "704b5cb6",
   "metadata": {},
   "source": [
    "# Gráfica simple 1D"
   ]
  },
  {
   "cell_type": "markdown",
   "id": "46917414",
   "metadata": {},
   "source": [
    "En esta sección, vamos a mostrar funciones seno y coseno en la misma gráfica. A partir de la configuración por defecto, vamos a cambiar los parámetros de la figura para que sea más agradable.\n",
    "\n",
    "El primer paso es obtener los datos para las funciones seno y coseno:\n",
    "\n",
    "X es un arreglo numpy con 256 valores que van desde $-π$ a $+π$ (incluido). C es la función coseno (256 valores) y S es la función seno (256 valores)."
   ]
  },
  {
   "cell_type": "code",
   "execution_count": null,
   "id": "793c0c35",
   "metadata": {},
   "outputs": [],
   "source": [
    "import pylab as pl\n",
    "import numpy as np\n",
    "\n",
    "X = np.linspace(-np.pi, np.pi, 256, endpoint=True)\n",
    "C, S = np.cos(X), np.sin(X)\n",
    "\n",
    "pl.plot(X, C)\n",
    "pl.plot(X, S)\n",
    "\n",
    "pl.show()"
   ]
  },
  {
   "cell_type": "markdown",
   "id": "dfd18579",
   "metadata": {},
   "source": [
    "# Gráfica 1D con cambio de valores predeterminados"
   ]
  },
  {
   "cell_type": "code",
   "execution_count": null,
   "id": "64645084",
   "metadata": {},
   "outputs": [],
   "source": [
    "import matplotlib.pyplot as plt\n",
    "\n",
    "\n",
    "plt.style.use('seaborn-whitegrid') #classic\n",
    "\n",
    "X = np.linspace(-np.pi, np.pi, 256, endpoint=True)\n",
    "C, S = np.cos(X), np.sin(X)\n",
    "\n",
    "# Los graduación actual no es ideal, ya que no muestran los valores requeridos (+/-π,+/-π/2) \n",
    "# Los cambiamos de tal manera que sólo muestren estos valores.\n",
    "pl.xticks([-np.pi, -np.pi/2, 0, np.pi/2, np.pi],\n",
    "          [r'$-\\pi$', r'$-\\pi/2$', r'$0$', r'$+\\pi/2$', r'$+\\pi$'])\n",
    "\n",
    "pl.yticks([-1, 0, +1],\n",
    "          [r'$-1$', r'$0$', r'$+1$'])\n",
    "\n",
    "# Los spines son las líneas que unen las marcas de graduación del eje y muestran los límites de datos. \n",
    "# Se pueden colocar en posiciones arbitrarias, hasta ahora estaban en el borde del eje.\n",
    "\n",
    "ax = pl.gca()  # gca stands for 'get current axis'\n",
    "ax.spines['right'].set_color('none')\n",
    "ax.spines['top'].set_color('none')\n",
    "ax.xaxis.set_ticks_position('bottom')\n",
    "ax.spines['bottom'].set_position(('data',0))\n",
    "ax.yaxis.set_ticks_position('left')\n",
    "ax.spines['left'].set_position(('data',0))\n",
    "\n",
    "# Debido a los límites actuales la figura se puede mostrar un poco ajustada, \n",
    "# Cambiamos los límites con el fin de ver con claridad todos los puntos.\n",
    "pl.xlim(X.min() * 1.1, X.max() * 1.1)\n",
    "pl.ylim(C.min() * 1.1, C.max() * 1.1)\n",
    "\n",
    "# COLORES\n",
    "# \"r\" red     \"g\" green     \"b\" blue    \"m\" magenta     \"y\" yellow     \"c\" cyan     \"k\" black\n",
    "\n",
    "# MARCAS Y LINEAS\n",
    "# \"-\" línea continua     \"-.\" línea a puntos y rayas     \":\" línea punteada    \"--\" línea discontinua\n",
    "\n",
    "# \".\" símbolo punto      \",\"  símbolo pixel              \"o\" círculo lleno\n",
    "# \"*\" símbolo estrella   \"+\"  símbolo cruz \n",
    "\n",
    "# Graficar la función coseno con una línea discontinua azul de 2.5 pixeles de grosor\n",
    "pl.plot(X, C, color=\"blue\", linewidth=2.5, linestyle=\"--\", label=\"cos(x)\")\n",
    "\n",
    "# Graficar la función seno con una línea roja a puntos y rayas de 2.5 pixeles de grosor\n",
    "pl.plot(X, S, color=\"red\",  linewidth=2.5, linestyle=\"-.\", label=\"sen(x)\")\n",
    "\n",
    "# Vamos a añadir una leyenda en la esquina superior izquierda. \n",
    "# Esto sólo requiere la adición de la palabra clave label (que se utilizará en el cuadro de la leyenda) en el comando plot.\n",
    "pl.legend(loc='upper left') # lower center\n",
    "\n",
    "# Vamos a anotar algunos puntos interesantes utilizando el comando de annotate. \n",
    "# Elegimos el valor 2π/3 y queremos anotar tanto en la función seno y el coseno. \n",
    "# Haremos primero dibujar un marcador en la curva, así como una línea de puntos recta. \n",
    "# A continuación, vamos a utilizar el comando annotate que muestra parte del texto con una flecha.\n",
    "t = 2 * np.pi / 3\n",
    "pl.plot([t, t], [0, np.cos(t)], color='blue', linewidth=2.5, linestyle=\"--\")\n",
    "pl.scatter([t, ], [np.cos(t), ], 50, color='blue')\n",
    "pl.annotate(r'$sin(\\frac{2\\pi}{3})=\\frac{\\sqrt{3}}{2}$',\n",
    "            xy=(t, np.sin(t)), xycoords='data',\n",
    "            xytext=(+10, +30), textcoords='offset points', fontsize=16,\n",
    "            arrowprops=dict(arrowstyle=\"->\", connectionstyle=\"arc3,rad=.2\"))\n",
    "pl.plot([t, t],[0, np.sin(t)], color='red', linewidth=2.5, linestyle=\"--\")\n",
    "pl.scatter([t, ],[np.sin(t), ], 50, color='red')\n",
    "pl.annotate(r'$cos(\\frac{2\\pi}{3})=-\\frac{1}{2}$',\n",
    "            xy=(t, np.cos(t)), xycoords='data',\n",
    "            xytext=(-90, -50), textcoords='offset points', fontsize=16,\n",
    "            arrowprops=dict(arrowstyle=\"->\", connectionstyle=\"arc3,rad=.2\"))\n",
    "\n",
    "# Las etiquetas graduadas pueden ser menos visibles debido a las líneas azules y rojas. \n",
    "# Podemos hacerlos más grandes y también podemos ajustar sus propiedades, \n",
    "# que van a estar renderizados en un fondo blanco semi-transparente. \n",
    "# Esto nos permitirá ver tanto los datos y las etiquetas.\n",
    "\n",
    "for label in ax.get_xticklabels() + ax.get_yticklabels():\n",
    "    label.set_fontsize(16)\n",
    "    label.set_bbox(dict(facecolor='white', edgecolor='None', alpha=0.65))\n",
    "\n",
    "pl.show()"
   ]
  },
  {
   "cell_type": "markdown",
   "id": "504690c8",
   "metadata": {},
   "source": [
    "# EJERCICIO"
   ]
  },
  {
   "cell_type": "markdown",
   "id": "fc2f6e8d",
   "metadata": {},
   "source": [
    "Grafique las siguientes funciones $sin(x)$ y $cos(x)$ cambiando valores de línea, tipo, color, titulo, leyendas, rango en ejes y etiquetas.  "
   ]
  },
  {
   "cell_type": "code",
   "execution_count": null,
   "id": "e58f581a",
   "metadata": {},
   "outputs": [],
   "source": [
    "x = np.linspace(-np.pi, np.pi, 90)\n",
    "fig = plt.figure()\n",
    "plt.plot(x, np.sin(x), 'o', color='red', label='sin(x)') # especificar color por nombre\n",
    "plt.plot(x, np.cos(x), '+', color='b', label='cos(x)') # código corto de color  (rgbcmyk)\n",
    "\n",
    "plt.title(\"Gráficas de sin(x) y cos(x)\")\n",
    "plt.xlabel(\"x\")\n",
    "plt.axis('equal')\n",
    "plt.legend(loc='upper left'); #lower center\n",
    "\n",
    "pl.xticks([-np.pi, -np.pi/2, 0, np.pi/2, np.pi],\n",
    "          [r'$-\\pi$', r'$-\\pi/2$', r'$0$', r'$+\\pi/2$', r'$+\\pi$'])\n",
    "\n",
    "pl.yticks([-1, 0, +1],\n",
    "          [r'$-1$', r'$0$', r'$+1$'])\n",
    "\n",
    "plt.xlim(-np.pi/2, np.pi/2)\n",
    "plt.ylim(-1.5, 1.5);\n",
    "\n",
    "fig = plt.figure()"
   ]
  },
  {
   "cell_type": "markdown",
   "id": "608e557f",
   "metadata": {},
   "source": [
    "# Gráficas 2D"
   ]
  },
  {
   "cell_type": "markdown",
   "id": "9dfcde18",
   "metadata": {},
   "source": [
    "Ahora procedemos a graficar la función $cos(x^{3}+y^{2})$ "
   ]
  },
  {
   "cell_type": "code",
   "execution_count": null,
   "id": "9f13cb1d",
   "metadata": {},
   "outputs": [],
   "source": [
    "import matplotlib.pyplot as plt\n",
    " \n",
    "plt.figure()\n",
    " \n",
    "x = np.arange(-5, 5, 0.01) \n",
    "y = np.arange(-5, 5, 0.01)\n",
    "X, Y = np.meshgrid(x, y)\n",
    " \n",
    "# Definimos cos (x^3 + y^2)\n",
    "fxy = np.cos(X**3+Y**2)\n",
    " \n",
    "plt.imshow(fxy);\n",
    "plt.colorbar();\n",
    " \n",
    "plt.show()"
   ]
  },
  {
   "cell_type": "markdown",
   "id": "f6b7295e",
   "metadata": {},
   "source": [
    "# Gráficas 3D"
   ]
  },
  {
   "cell_type": "markdown",
   "id": "d2c73903",
   "metadata": {},
   "source": [
    "Ahora vamos a mostrar un diagrama de contorno tridimensional de una función sinusoidal tridimensional"
   ]
  },
  {
   "cell_type": "code",
   "execution_count": 2,
   "id": "5024f0fd",
   "metadata": {},
   "outputs": [],
   "source": [
    "from mpl_toolkits import mplot3d\n",
    "import matplotlib.pyplot as plt"
   ]
  },
  {
   "cell_type": "code",
   "execution_count": null,
   "id": "3ad83c15",
   "metadata": {},
   "outputs": [],
   "source": [
    "def f(x, y):\n",
    "    return np.sin(np.sqrt(x**2 + y**2))\n",
    "\n",
    "x = np.linspace(-6, 6, 30)\n",
    "y = np.linspace(-6, 6, 30)\n",
    "X, Y = np.meshgrid(x, y)\n",
    "Z = f(X, Y)\n",
    "\n",
    "fig = plt.figure()\n",
    "ax = plt.axes(projection='3d')\n",
    "ax.contour3D(X, Y, Z, 50, cmap='binary') #viridis #plasma #inferno #magma #cividis\n",
    "\n",
    "ax.set_xlabel('x')\n",
    "ax.set_ylabel('y')\n",
    "ax.set_zlabel('z');"
   ]
  },
  {
   "cell_type": "markdown",
   "id": "2f238a5b",
   "metadata": {},
   "source": [
    "A veces, el ángulo de visión predeterminado no es óptimo. \n",
    "En este ejemplo usaremos una elevación de 60 grados (es decir, 60 grados por encima del plano $xy$).\n",
    "También usaremos un ángulo azimutal de 35 grados (es decir, girado 35 grados en sentido antihorario sobre el eje $z$):"
   ]
  },
  {
   "cell_type": "code",
   "execution_count": null,
   "id": "0fa25cba",
   "metadata": {},
   "outputs": [],
   "source": [
    "ax.view_init(60, 35)\n",
    "fig"
   ]
  },
  {
   "cell_type": "markdown",
   "id": "b0dd03c9",
   "metadata": {},
   "source": [
    "# EJERCICIO"
   ]
  },
  {
   "cell_type": "markdown",
   "id": "1e2805cc",
   "metadata": {},
   "source": [
    "A partir del código de abajo, intente reproducir el gráfico de una superficie definida en coordenadas polares. Observe que se muestra la escritura de etiquetas de ejes con el modo matemático de látex. Despues de obtener la gráfica, use una elevación de -60 grados y un ángulo azimutal de 30 grados. "
   ]
  },
  {
   "cell_type": "code",
   "execution_count": null,
   "id": "b9047196",
   "metadata": {},
   "outputs": [],
   "source": [
    "fig = plt.figure()\n",
    "ax = fig.add_subplot(projection='3d')\n",
    "\n",
    "# Cree la malla en coordenadas polares y calcule la Z correspondiente.\n",
    "r = np.linspace(0, 1.25, 50)\n",
    "p = np.linspace(0, 2*np.pi, 50)\n",
    "R, P = np.meshgrid(r, p)\n",
    "Z = ((R**2 - 1)**2)\n",
    "\n",
    "# Expresar la malla en el sistema cartesiano.\n",
    "X, Y = R*np.cos(P), R*np.sin(P)\n",
    "\n",
    "# Trazar la superficie.\n",
    "ax.plot_surface(X, Y, Z, cmap=plt.cm.YlGnBu_r)\n",
    "\n",
    "# Modifique los límites y agregue etiquetas matemáticas de látex.\n",
    "ax.set_zlim(0, 1)\n",
    "ax.set_xlabel(r'$\\phi_\\mathrm{real}$')\n",
    "ax.set_ylabel(r'$\\phi_\\mathrm{im}$')\n",
    "ax.set_zlabel(r'$V(\\phi)$')\n",
    "\n",
    "plt.show()"
   ]
  },
  {
   "cell_type": "code",
   "execution_count": null,
   "id": "3f6dc928",
   "metadata": {},
   "outputs": [],
   "source": []
  }
 ],
 "metadata": {
  "kernelspec": {
   "display_name": "Python 3",
   "language": "python",
   "name": "python3"
  },
  "language_info": {
   "codemirror_mode": {
    "name": "ipython",
    "version": 3
   },
   "file_extension": ".py",
   "mimetype": "text/x-python",
   "name": "python",
   "nbconvert_exporter": "python",
   "pygments_lexer": "ipython3",
   "version": "3.6.15"
  }
 },
 "nbformat": 4,
 "nbformat_minor": 5
}
