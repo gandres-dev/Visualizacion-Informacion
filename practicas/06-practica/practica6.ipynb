{
 "cells": [
  {
   "cell_type": "markdown",
   "metadata": {},
   "source": [
    "# Practica-6 Proporciones, distribuciones y cantidades\n",
    "Para esta práctica usar:\n",
    "- Dataset: Inmigración canadiense de 1980 a 2013\n",
    "- Gráficos de Área\n",
    "- Gráficos de barras verticales, con marcas de tendencia"
   ]
  },
  {
   "cell_type": "code",
   "execution_count": 3,
   "metadata": {},
   "outputs": [],
   "source": [
    "import numpy as np  # útil para muchos cálculos científicos en Python\n",
    "import pandas as pd # biblioteca primaria de estructura de datos"
   ]
  },
  {
   "cell_type": "code",
   "execution_count": 4,
   "metadata": {},
   "outputs": [],
   "source": [
    "df_can = pd.read_excel('Canada.xls',\n",
    "                       sheet_name='Canada by Citizenship',\n",
    "                       skiprows=range(20),\n",
    "                       skipfooter=2\n",
    "                      )\n"
   ]
  },
  {
   "cell_type": "code",
   "execution_count": null,
   "metadata": {},
   "outputs": [],
   "source": [
    "df_can.head()"
   ]
  },
  {
   "cell_type": "markdown",
   "metadata": {},
   "source": [
    "Vamos hacer una limpieza de los datos para facilitar la creación de las visualizaciones.\n",
    "* Remover las columnas 'AREA', 'REG', 'DEV', 'Type', 'Coverage'.\n",
    "* Definir nombres más adecuados a las columnas 'OdName', 'AreaName' y 'RegName'.\n",
    "* Asegurarse de que todas las columnas (DataFrame.columns) corresponden a tipo *string*.\n",
    "* Usar el método *set_index()* del dataFrame para que los índices de las entradas sean los Paises.\n",
    "* Adicionar una columna de \"Total\", en donde esta represente la suma del flujo total de migrantes hacia Canada desde los diferentes paises a lo largo de los años.\n"
   ]
  },
  {
   "cell_type": "code",
   "execution_count": null,
   "metadata": {},
   "outputs": [],
   "source": [
    "df_can.columns"
   ]
  },
  {
   "cell_type": "code",
   "execution_count": null,
   "metadata": {},
   "outputs": [],
   "source": [
    "# Limpiar el conjunto de datos para eliminar columnas innecesarias (por ejemplo, REG)\n",
    "df_can.drop(['AREA','REG','DEV','Type','Coverage'], axis=1, inplace=True)\n",
    "\n",
    "# Cambiemos el nombre de las columnas para que tengan sentido\n",
    "df_can.rename(columns={'OdName':'Country', 'AreaName':'Continent','RegName':'Region'}, inplace=True)\n",
    "\n",
    "# Para tener coherencia, también hagamos que todas las etiquetas de columna sean de tipo cadena\n",
    "df_can.columns = list(map(str, df_can.columns))\n",
    "\n",
    "# Se agrega una columna de Total\n",
    "df_can['Total'] = df_can.sum(axis=1)\n",
    "\n",
    "# Años que usaremos en esta practica - útil para trazar más adelante\n",
    "years = list(map(str, range(1980, 2014)))\n",
    "print ('data dimensions:', df_can.shape)"
   ]
  },
  {
   "cell_type": "code",
   "execution_count": null,
   "metadata": {},
   "outputs": [],
   "source": [
    "df_can.head()"
   ]
  },
  {
   "cell_type": "code",
   "execution_count": null,
   "metadata": {},
   "outputs": [],
   "source": [
    "# Examinemos los tipos de etiquetas de columna\n",
    "all(isinstance(column, str) for column in df_can.columns)\n",
    "\n",
    "df_can.columns = list(map(str, df_can.columns))\n",
    "\n",
    "# Ahora vamos a comprobar los tipos de etiquetas de columna\n",
    "all(isinstance(column, str) for column in df_can.columns)\n",
    "df_can.set_index('Country', inplace=True)\n",
    "\n",
    "# Veamos los primeros cinco elementos y veamos cómo se cambió el marco de datos\n",
    "df_can.head()"
   ]
  },
  {
   "cell_type": "markdown",
   "metadata": {},
   "source": [
    "# Gráficas de línea\n",
    "\n",
    "El diagrama de líneas es una herramienta útil para mostrar varias variables dependientes contra una variable independiente. Sin embargo, se recomienda no más de 5-10 líneas en un solo gráfico; más que eso y se vuelve difícil de interpretar."
   ]
  },
  {
   "cell_type": "markdown",
   "metadata": {},
   "source": [
    "**Actividad**: Compare la tendencia de los 5 principales países que más contribuyeron a la inmigración a Canadá."
   ]
  },
  {
   "cell_type": "code",
   "execution_count": null,
   "metadata": {},
   "outputs": [],
   "source": [
    "import matplotlib as mpl\n",
    "import matplotlib.pyplot as plt"
   ]
  },
  {
   "cell_type": "code",
   "execution_count": null,
   "metadata": {},
   "outputs": [],
   "source": [
    "df_can.sort_values(by='Total', ascending=False, axis=0, inplace=True)\n",
    "df_top5 = df_can.head(5)\n",
    "df_top5 = df_top5[years].transpose()\n",
    " \n",
    "# print(df_top5)\n",
    "df_top5.index = df_top5.index.map(int)\n",
    "df_top5.plot(kind='line', figsize=(14,8))\n",
    " \n",
    "plt.title('Tendencia de inmigración de los 5 países principales')\n",
    "plt.ylabel('Número de Inmigración')\n",
    "plt.xlabel('Años')\n",
    "plt.show()"
   ]
  },
  {
   "cell_type": "markdown",
   "metadata": {},
   "source": [
    "# Gráficas de área\n",
    "\n",
    "Con una pequeña modificación al código, podemos visualizar este diagrama como un _Diagrama acumulativo_, también conocido como **Diagrama de Líneas Apiladas** o _Diagrama de áreas_."
   ]
  },
  {
   "cell_type": "code",
   "execution_count": null,
   "metadata": {},
   "outputs": [],
   "source": [
    "df_can.sort_values(['Total'], ascending=False, axis=0, inplace=True)\n",
    "\n",
    "# Obtener las 5 principales entradas\n",
    "df_top5 = df_can.head()\n",
    "\n",
    "# Transponer el marco de datos\n",
    "df_top5 = df_top5[years].transpose() \n",
    "\n",
    "df_top5.head()"
   ]
  },
  {
   "cell_type": "markdown",
   "metadata": {},
   "source": [
    "Los gráficos de área se apilan de forma predeterminada. Y para producir un gráfico de áreas apiladas, cada columna debe tener valores positivos o negativos (cualquier valor de NaN se establecerá de forma predeterminada en 0). Para producir un gráfico no apilado, pase `stacked=False`."
   ]
  },
  {
   "cell_type": "code",
   "execution_count": null,
   "metadata": {},
   "outputs": [],
   "source": [
    "import matplotlib as mpl\n",
    "import matplotlib.pyplot as plt\n",
    "\n",
    "# Cambiemos los valores de índice de df_top5 para escribir un número entero para trazar\n",
    "# df_top5.index = df_top5.index.map(int) \n",
    "df_top5.plot(kind='area', \n",
    "             figsize=(20, 10), # pasar una tupla de tamaño (x,y)\n",
    "             )\n",
    "\n",
    "plt.title('Tendencia de inmigración de 5 países principales')\n",
    "plt.ylabel('Número de inmigrantes')\n",
    "plt.xlabel('Años')\n",
    "\n",
    "plt.show()"
   ]
  },
  {
   "cell_type": "markdown",
   "metadata": {},
   "source": [
    "Presentarlo ahora como porcentaje de proporciones"
   ]
  },
  {
   "cell_type": "code",
   "execution_count": null,
   "metadata": {},
   "outputs": [],
   "source": [
    "df_perc = df_top5.divide(df_top5.sum(axis=1), axis=0)\n",
    "df_perc.head()"
   ]
  },
  {
   "cell_type": "code",
   "execution_count": null,
   "metadata": {},
   "outputs": [],
   "source": [
    "df_perc.plot(kind='area', \n",
    "             figsize=(20, 10), # pasar una tupla de tamaño (x,y)\n",
    "             )\n",
    "\n",
    "plt.title('Tendencia de inmigración de 5 países principales')\n",
    "plt.ylabel('Número de inmigrantes')\n",
    "plt.xlabel('Años')\n",
    "\n",
    "plt.show()"
   ]
  },
  {
   "cell_type": "markdown",
   "metadata": {},
   "source": [
    "**Actividad**: Use la capa Artist (método orientado a objetos) para crear un diagrama de área no apilada de los 5 países que menos contribuyeron a la inmigración a Canadá **desde** 1980 hasta 2013. Use un valor de transparencia de 0.55."
   ]
  },
  {
   "cell_type": "code",
   "execution_count": null,
   "metadata": {},
   "outputs": [],
   "source": [
    "# Obtener los 5 paises con menor aporte\n",
    "df_least5 = df_can.tail(5)\n",
    "\n",
    "# Transponer el marco de datos\n",
    "df_least5 = df_least5[years].transpose() \n",
    "\n",
    "df_least5.head()"
   ]
  },
  {
   "cell_type": "code",
   "execution_count": null,
   "metadata": {},
   "outputs": [],
   "source": [
    "df_least5.plot(kind='area', \n",
    "             figsize=(20, 10), # pasar una tupla de tamaño (x,y)\n",
    "             stacked=False,\n",
    "             )\n",
    "\n",
    "plt.title('Tendencia de inmigración de 5 países principales')\n",
    "plt.ylabel('Número de inmigrantes')\n",
    "plt.xlabel('Años')"
   ]
  },
  {
   "cell_type": "code",
   "execution_count": null,
   "metadata": {},
   "outputs": [],
   "source": [
    "# cambiemos los valores de índice de df_least5 para escribir un número entero para trazar\n",
    "df_least5.index = df_least5.index.map(int) \n",
    "\n",
    "ax = df_least5.plot(kind='area', alpha=0.55, stacked=False, figsize=(20, 10))\n",
    "ax.spines['top'].set_visible(False)\n",
    "ax.spines['right'].set_visible(False)\n",
    "ax.grid(color='grey', linestyle='-', linewidth=0.5, alpha=0.5)\n",
    "\n",
    "ax.set_title('Tendencia de inmigración de 5 países con menor contribución a la inmigración')\n",
    "ax.set_ylabel('Número de inmigrantes')\n",
    "ax.set_xlabel('Años')\n"
   ]
  },
  {
   "cell_type": "markdown",
   "metadata": {},
   "source": [
    "**Actividad**: Utilice la capa de secuencias (método procesal) de comandos para crear un gráfico de áreas apiladas de los 5 países que menos contribuyeron a la inmigración a Canadá entre 1980 y 2013. Utilice un valor de transparencia de 0,45."
   ]
  },
  {
   "cell_type": "code",
   "execution_count": null,
   "metadata": {},
   "outputs": [],
   "source": [
    "df_can.sort_values(['Total'], ascending = True, axis = 0, inplace = True)\n",
    "\n",
    "# Obtener las 5 entradas principales\n",
    "df_least5 = df_can.head()\n",
    "\n",
    "# Transponer el marco de datos\n",
    "df_least5 = df_least5[years].transpose()\n",
    "\n",
    "df_least5.head()"
   ]
  },
  {
   "cell_type": "code",
   "execution_count": null,
   "metadata": {},
   "outputs": [],
   "source": [
    "df_least5.index = df_least5.index.map(int) # cambie el valor del índice para escribir un número entero\n",
    "df_least5.plot(kind='area', \n",
    "             alpha=0.45, # 0-1, valor por defecto a= 0.5\n",
    "             stacked=True,\n",
    "             figsize=(20, 10),\n",
    "            )\n",
    "\n",
    "plt.title('Tendencia de inmigración de 5 países que contribuyeron menos a Canadá')\n",
    "plt.ylabel('Número de Inmigrantes')\n",
    "plt.xlabel('Años')\n",
    "\n",
    "plt.show()"
   ]
  },
  {
   "cell_type": "markdown",
   "metadata": {},
   "source": [
    "# Gráficos de barras (marco de datos) <a id=\"10\"></a>\n",
    "\n",
    "Un gráfico de barras es una forma de representar datos donde la _longitud_ de las barras representa la magnitud/tamaño de la característica/variable. Los gráficos de barras generalmente representan variables numéricas y categóricas agrupadas en intervalos.\n",
    "\n",
    "Para crear un gráfico de barras, podemos pasar uno de los dos argumentos a través del parámetro `kind` en `plot()`:\n",
    "\n",
    "-   `kind=bar` crea un gráfico de barras _vertical_\n",
    "-   `kind=barh` crea un gráfico de barras _horizontal_\n"
   ]
  },
  {
   "cell_type": "markdown",
   "metadata": {},
   "source": [
    "# Gráfica de barras verticales\n",
    "\n",
    "En los gráficos de barras verticales, el eje $x$ se usa para etiquetar, y la longitud de las barras en el eje $y$ corresponde a la magnitud de la variable que se mide. Los gráficos de barras verticales son particularmente útiles para analizar datos de series de tiempo. Una desventaja es que carecen de espacio para el etiquetado de texto al pie de cada barra.\n",
    "\n",
    "**Empecemos analizando el efecto de la crisis financiera de Islandia:**\n",
    "\n",
    "La crisis financiera islandesa de 2008 - 2011 fue un evento económico y político importante en Islandia. En relación con el tamaño de su economía, el colapso bancario sistémico de Islandia fue el mayor experimentado por cualquier país en la historia económica. La crisis condujo a una grave depresión económica entre 2008 y 2011 y a un importante malestar político.\n",
    "\n",
    "**Actividad:** Comparemos el número de Inmigrantes islandeses (país = 'Islandia') en Canadá desde el año 1980 hasta el 2013."
   ]
  },
  {
   "cell_type": "code",
   "execution_count": null,
   "metadata": {},
   "outputs": [],
   "source": [
    "# Paso 1: obtener los datos\n",
    "df_iceland = df_can.loc['Iceland', years]\n",
    "df_iceland.head()\n",
    "\n",
    "# Paso 2: graficar datos\n",
    "df_iceland.plot(kind='bar', figsize=(10, 6), color=\"red\")\n",
    "\n",
    "plt.xlabel('Año') # agregue la etiqueta \"x\" a la trama\n",
    "plt.ylabel('Número de Inmigrantes') # agregue la etiqueta \"y\" a la trama\n",
    "plt.title('Inmigrantes Islandeses a Canadá de 1980 a 2013') # añadir título a la trama\n",
    "\n",
    "plt.show()"
   ]
  },
  {
   "cell_type": "markdown",
   "metadata": {},
   "source": [
    "El diagrama de barras de arriba muestra el número total de inmigrantes desglosados por cada año. Podemos ver claramente el impacto de la crisis financiera; el número de inmigrantes a Canadá comenzó a aumentar rápidamente después de 2008.\n",
    "\n",
    "Anotemos esto en el gráfico usando el método `annotate` de la capa de secuencias de comandos **scripting layer** o la interfaz pyplot **pyplot interface**. Pasaremos los siguientes parámetros:\n",
    "\n",
    "- `s`: str, el texto de la anotación.\n",
    "- `xy`: Tupla que especifica el punto (x,y) a anotar (en este caso, el punto final de la flecha).\n",
    "- `xytext`: Tupla que especifica el punto (x,y) para colocar el texto (en este caso, punto de inicio de la flecha).\n",
    "- `xycoords`: El sistema de coordenadas en el que se da xy - 'data' usa el sistema de coordenadas del objeto que se está anotando (predeterminado).\n",
    "- `arrowprops`: Toma un diccionario de propiedades para dibujar la flecha:\n",
    "    - `arrowstyle`: Especifica el estilo de la flecha, `'->'` es la flecha estándar.\n",
    "    - `connectionstyle`: Especifica el tipo de conexión. `arc3` es una línea recta.\n",
    "    - `color`: especifica el color del error.\n",
    "    - `lw`: Especifica el ancho de línea.\n",
    "\n",
    "Puede leer la documentación de Matplotlib para obtener más detalles sobre las anotaciones: \n",
    "[http://matplotlib.org/api/pyplot_api.html#matplotlib.pyplot.annotate](http://matplotlib.org/api/pyplot_api.html#matplotlib.pyplot.annotate?cm_mmc=Email_Newsletter-_-Developer_Ed%2BTech-_-WW_WW-_-SkillsNetwork-Courses-IBMDeveloperSkillsNetwork-DV0101EN-SkillsNetwork-20297740&cm_mmca1=000026UJ&cm_mmca2=10006555&cm_mmca3=M12345678&cvosrc=email.Newsletter.M12345678&cvo_campaign=000026UJ&cm_mmc=Email_Newsletter-_-Developer_Ed%2BTech-_-WW_WW-_-SkillsNetwork-Courses-IBMDeveloperSkillsNetwork-DV0101EN-SkillsNetwork-20297740&cm_mmca1=000026UJ&cm_mmca2=10006555&cm_mmca3=M12345678&cvosrc=email.Newsletter.M12345678&cvo_campaign=000026UJ)."
   ]
  },
  {
   "cell_type": "code",
   "execution_count": null,
   "metadata": {},
   "outputs": [],
   "source": [
    "df_iceland.plot(kind='bar', figsize=(10, 6), rot=90, color=\"red\") # gire los xticks (puntos etiquetados en el eje x) 90 grados\n",
    "\n",
    "plt.xlabel('Año')\n",
    "plt.ylabel('Número de Inmigrantes ')\n",
    "plt.title('Inmigrantes Islandeses a Canadá de 1980 a 2013')\n",
    "\n",
    "# Anotar flecha\n",
    "plt.annotate('',                      # s: str. Lo dejará en blanco para que no haya texto.\n",
    "             xy=(32, 70),             # coloque la punta de la flecha en el punto (año 2012, pop 70)\n",
    "             xytext=(28, 20),         # coloque la base de la flecha en el punto (año 2008, pop 20)\n",
    "             xycoords='data',         # utilizará el sistema de coordenadas del objeto que se está anotando\n",
    "             arrowprops=dict(arrowstyle='->', connectionstyle='arc3', color='blue', lw=2)\n",
    "            )\n",
    "\n",
    "plt.show()"
   ]
  },
  {
   "cell_type": "markdown",
   "metadata": {},
   "source": [
    "Anotemos también un texto para pasar por encima de la flecha. Pasaremos los siguientes parámetros adicionales:\n",
    "\n",
    "-   `rotation`: ángulo de rotación del texto en grados (en sentido antihorario)\n",
    "-   `va`: Alineación vertical del texto [‘center’ | ‘top’ | ‘bottom’ | ‘baseline’]\n",
    "-   `ha`: Alineación horizontal del texto [‘center’ | ‘right’ | ‘left’]\n"
   ]
  },
  {
   "cell_type": "code",
   "execution_count": null,
   "metadata": {},
   "outputs": [],
   "source": [
    "df_iceland.plot(kind='bar', figsize=(10, 6), rot=90, color='red') \n",
    "\n",
    "plt.xlabel('Año')\n",
    "plt.ylabel('Número de Inmigrantes')\n",
    "plt.title('Inmigrantes Islandeses a Canadá de 1980 a 2013')\n",
    "\n",
    "# Anotar flecha\n",
    "plt.annotate('',                      # s: str. Lo dejará en blanco para que no haya texto\n",
    "             xy=(32, 70),             # coloque la punta de la flecha en el punto (año 2012, pop 70)\n",
    "             xytext=(28, 20),         # coloque la base de la flecha en el punto (año 2008, pop 20)\n",
    "             xycoords='data',         # utilizará el sistema de coordenadas del objeto que se está anotando\n",
    "             arrowprops=dict(arrowstyle='->', connectionstyle='arc3', color='blue', lw=2)\n",
    "            )\n",
    "\n",
    "# Anotar texto\n",
    "plt.annotate('Crisis financiera de 2008 - 2011', # texto para mostrar\n",
    "             xy=(28, 30),                    # comience el texto en un punto (año 2008, pop 30) \n",
    "             rotation=72.5,                  # basado en prueba y error para que coincida con la flecha\n",
    "             va='bottom',                    # desea que el texto se alinee verticalmente en la \"inferior\"\n",
    "             ha='left',                      # desea que el texto esté alineado horizontalmente a la 'izquierda'.\n",
    "            )\n",
    "\n",
    "plt.show()"
   ]
  },
  {
   "cell_type": "markdown",
   "metadata": {},
   "source": [
    "# EJERCICIO:\n",
    "Repita el proceso anterior para estudiar la crisis financiera de Argentina en el 2003."
   ]
  },
  {
   "cell_type": "markdown",
   "metadata": {},
   "source": [
    "# Introducción a Folium"
   ]
  },
  {
   "cell_type": "markdown",
   "metadata": {},
   "source": [
    "Folium es una biblioteca de Python que lo ayuda a crear varios tipos de mapas de folletos. El hecho de que los resultados de Folium sean interactivos hace que esta biblioteca sea muy útil para la creación de cuadros de mando."
   ]
  },
  {
   "cell_type": "code",
   "execution_count": null,
   "metadata": {},
   "outputs": [],
   "source": [
    "!conda install -c conda-forge folium=0.5.0 --yes\n",
    "import folium\n",
    "\n",
    "print('Folium installed and imported!')"
   ]
  },
  {
   "cell_type": "markdown",
   "metadata": {},
   "source": [
    "Generar el mapa del mundo es sencillo en Folium. Simplemente se crea un objeto Folium Map y luego lo muestra. Lo atractivo de los mapas de Folium es que son interactivos, por lo que puede hacer zoom en cualquier región de interés a pesar del nivel de zoom inicial."
   ]
  },
  {
   "cell_type": "code",
   "execution_count": null,
   "metadata": {},
   "outputs": [],
   "source": [
    "# Se define el mapa mundial\n",
    "world_map = folium.Map()\n",
    "\n",
    "# Se muestra el mapa mundial\n",
    "world_map"
   ]
  },
  {
   "cell_type": "markdown",
   "metadata": {},
   "source": [
    "Puede personalizar esta definición predeterminada del mapa mundial especificando el centro de su mapa y el nivel de zoom inicial.\n",
    "\n",
    "Todas las ubicaciones en un mapa están definidas por sus respectivos valores de Latitud y Longitud. Entonces puede crear un mapa y pasar en un centro de valores de Latitud y Longitud de [0, 0].\n",
    "\n",
    "Para un centro definido, también puede definir el nivel de zoom inicial en esa ubicación cuando se representa el mapa. Cuanto mayor sea el nivel de zoom, más se acercará el mapa al centro.\n",
    "\n",
    "Creemos un mapa centrado alrededor de Canadá y juguemos con el nivel de zoom para ver cómo afecta el mapa renderizado."
   ]
  },
  {
   "cell_type": "code",
   "execution_count": null,
   "metadata": {},
   "outputs": [],
   "source": [
    "# Defina el mapa mundial centrado alrededor de Canadá con un nivel de zoom bajo\n",
    "world_map = folium.Map(location=[56.130, -106.35], zoom_start=4)\n",
    "\n",
    "# Mostrar el mapa del mundo\n",
    "world_map"
   ]
  },
  {
   "cell_type": "markdown",
   "metadata": {},
   "source": [
    "# Mapas de coropletas"
   ]
  },
  {
   "cell_type": "markdown",
   "metadata": {},
   "source": [
    "Un mapa de coropletas es un mapa temático en el que las áreas están sombreadas o modeladas en proporción a la medida de la variable estadística que se muestra en el mapa, como la densidad de población o el ingreso per cápita. El mapa de coropletas proporciona una manera fácil de visualizar cómo varía una medida en un área geográfica o muestra el nivel de variabilidad dentro de una región. "
   ]
  },
  {
   "cell_type": "markdown",
   "metadata": {},
   "source": [
    "Ahora, creemos nuestro propio mapa de coropletas del mundo que represente la inmigración de varios países a Canadá.\n",
    "\n",
    "Primero descarguemos e importemos nuestro principal conjunto de datos de inmigración canadiense usando el método pandas read_excel(). Normalmente, antes de que podamos hacer eso, necesitaríamos descargar un módulo que pandas requiere para leer en archivos de Excel. Este módulo es xlrd. "
   ]
  },
  {
   "cell_type": "code",
   "execution_count": null,
   "metadata": {},
   "outputs": [],
   "source": [
    "!conda install -c anaconda xlrd --yes"
   ]
  },
  {
   "cell_type": "code",
   "execution_count": 6,
   "metadata": {},
   "outputs": [],
   "source": [
    "import pandas as pd # biblioteca primaria de estructura de datos\n",
    "df_can = pd.read_excel('Canada.xls',\n",
    "                     sheet_name='Canada by Citizenship',\n",
    "                     skiprows=range(20),\n",
    "                     skipfooter=2)"
   ]
  },
  {
   "cell_type": "code",
   "execution_count": null,
   "metadata": {},
   "outputs": [],
   "source": [
    "df_can.head()"
   ]
  },
  {
   "cell_type": "code",
   "execution_count": null,
   "metadata": {},
   "outputs": [],
   "source": [
    "# limpiar el conjunto de datos para eliminar columnas innecesarias (por ejemplo, REG)\n",
    "df_can.drop(['AREA','REG','DEV','Type','Coverage'], axis=1, inplace=True)\n",
    "\n",
    "# cambiemos el nombre de las columnas para que tengan sentido\n",
    "df_can.rename(columns={'OdName':'Country', 'AreaName':'Continent','RegName':'Region'}, inplace=True)\n",
    "\n",
    "# para tener coherencia, también hagamos que todas las etiquetas de columna sean de tipo cadena\n",
    "df_can.columns = list(map(str, df_can.columns))\n",
    "\n",
    "# agregar columna Total\n",
    "df_can['Total'] = df_can.sum(axis=1)\n",
    "\n",
    "# años que usaremos en esta lección - útil para trazar más adelante\n",
    "years = list(map(str, range(1980, 2014)))\n",
    "print ('data dimensions:', df_can.shape)"
   ]
  },
  {
   "cell_type": "code",
   "execution_count": null,
   "metadata": {},
   "outputs": [],
   "source": [
    "df_can.head()"
   ]
  },
  {
   "cell_type": "markdown",
   "metadata": {},
   "source": [
    "Para crear un mapa de coropletas, necesitamos un archivo GeoJSON que defina las áreas/límites del estado, condado o país que nos interesa. En nuestro caso, dado que nos esforzamos por crear un mapa mundial, queremos un GeoJSON que define los límites de todos los países del mundo. Llamémoslo world_countries.json."
   ]
  },
  {
   "cell_type": "markdown",
   "metadata": {},
   "source": [
    "Ahora que tenemos el archivo GeoJSON, vamos a crear un mapa mundial, centrado alrededor de los valores de latitud y longitud [0, 0], con un nivel de zoom inicial de 2 y usando el estilo Mapbox Bright."
   ]
  },
  {
   "cell_type": "code",
   "execution_count": 59,
   "metadata": {},
   "outputs": [],
   "source": [
    "import folium\n",
    "\n",
    "world_geo = r'world_countries.json' # geojson file\n",
    "\n",
    "# crear un mapa plano del mundo\n",
    "world_map = folium.Map(location=[0, 0], zoom_start=2, tiles='Mapbox Bright')"
   ]
  },
  {
   "cell_type": "markdown",
   "metadata": {},
   "source": [
    "Y ahora para crear un mapa de coropletas, usaremos el método de coropletas con los siguientes parámetros principales:\n",
    "\n",
    "- geo_data, que es el archivo GeoJSON.\n",
    "\n",
    "- data, que es el marco de datos que contiene los datos.\n",
    "\n",
    "- columns, que representa las columnas en el marco de datos que se usarán para crear el mapa de coropletas.\n",
    "\n",
    "- key_on, que es la clave o variable en el archivo GeoJSON que contiene el nombre de la variable de interés. Para determinar eso, deberá abrir el archivo GeoJSON usando cualquier editor de texto y anotar el nombre de la clave o variable que contiene el nombre de los países, ya que los países son nuestra variable de interés. En este caso, nombre es la clave en el archivo GeoJSON que contiene el nombre de los países. Tenga en cuenta que esta clave distingue entre mayúsculas y minúsculas, por lo que debe pasar exactamente como existe en el archivo GeoJSON."
   ]
  },
  {
   "cell_type": "code",
   "execution_count": null,
   "metadata": {},
   "outputs": [],
   "source": [
    " # Generar un mapa de coropletas utilizando la inmigración total de cada país a Canadá desde 1980 hasta 2013\n",
    "world_map.choropleth(\n",
    "    geo_data=world_geo,\n",
    "    data=df_can,\n",
    "    columns=['Country', 'Total'],\n",
    "    key_on='feature.properties.name',\n",
    "    fill_color='YlOrRd', \n",
    "    fill_opacity=0.7, \n",
    "    line_opacity=0.2,\n",
    "    legend_name='Inmigración a Canadá'\n",
    "    )\n",
    "    # display map\n",
    "world_map"
   ]
  }
 ],
 "metadata": {
  "kernelspec": {
   "display_name": "Python 3 (ipykernel)",
   "language": "python",
   "name": "python3"
  },
  "language_info": {
   "codemirror_mode": {
    "name": "ipython",
    "version": 3
   },
   "file_extension": ".py",
   "mimetype": "text/x-python",
   "name": "python",
   "nbconvert_exporter": "python",
   "pygments_lexer": "ipython3",
   "version": "3.9.7"
  }
 },
 "nbformat": 4,
 "nbformat_minor": 4
}
