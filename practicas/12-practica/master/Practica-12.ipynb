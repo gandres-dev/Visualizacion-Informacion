{
 "cells": [
  {
   "cell_type": "markdown",
   "metadata": {},
   "source": [
    "# PRACTICA-12\n",
    "## DESCOMPOSICIÓN DE SERIES TEMPORALES"
   ]
  },
  {
   "cell_type": "markdown",
   "metadata": {},
   "source": [
    "La descomposición de series temporales es una técnica que nos permite deconstruir una serie temporal en \n",
    "sus **partes componentes** individuales. Estas partes constan de hasta 4 componentes diferentes:\n",
    "\n",
    "- 1) Componente de tendencia ($T$)\n",
    "\n",
    "- 2) Componente estacional ($S$)\n",
    "\n",
    "- 3) Componente cíclico ($C$)\n",
    "\n",
    "- 4) Componente de ruido ($N$)\n",
    "\n",
    "Nota: a veces agrupamos los componentes cíclico y de ruido y lo llamamos **Restante** o algo así."
   ]
  },
  {
   "cell_type": "markdown",
   "metadata": {},
   "source": [
    "No es necesario que una serie temporal en particular contenga los 4 componentes, puede que le \n",
    "falte un componente **estacional** o de **tendencia**."
   ]
  },
  {
   "cell_type": "markdown",
   "metadata": {},
   "source": [
    "## ¿De qué nos sirve este conocimiento? \n",
    "\n",
    "Bueno, predecir una serie de tiempo a menudo puede ser bastante difícil, pero si podemos descomponer \n",
    "la serie en componentes y tratar cada uno por separado, a veces podemos mejorar la predicción general. \n",
    "Cada componente tiene propiedades y comportamientos específicos y con este enfoque podemos utilizar métodos \n",
    "que se adaptan mejor a cada componente en particular.\n",
    "\n",
    "- Vale la pena señalar que la descomposición se usa principalmente para ayudar a analizar y comprender series temporales históricas, pero también puede resultar útil cuando se intenta un **análisis prospectivo**."
   ]
  },
  {
   "cell_type": "markdown",
   "metadata": {},
   "source": [
    "Es útil pensar en los componentes como si se combinaran de forma **aditiva** o **multiplicativa**."
   ]
  },
  {
   "cell_type": "markdown",
   "metadata": {},
   "source": [
    "Un **modelo aditivo** sugiere que los componentes se suman de la siguiente manera:"
   ]
  },
  {
   "cell_type": "markdown",
   "metadata": {},
   "source": [
    "$$y_{t}=T_{t}+S_{t}+C_{t}+N_{t}$$"
   ]
  },
  {
   "cell_type": "markdown",
   "metadata": {},
   "source": [
    "mientras que un **modelo multiplicativo** sugiere que los componentes se multiplican juntos de la siguiente manera:"
   ]
  },
  {
   "cell_type": "markdown",
   "metadata": {},
   "source": [
    "$$y_{t}=T_{t}\\times S_{t}\\times C_{t}\\times N_{t}$$"
   ]
  },
  {
   "cell_type": "markdown",
   "metadata": {},
   "source": [
    "- Un **modelo aditivo** es **lineal** donde los cambios a lo largo del tiempo se realizan consistentemente en la misma cantidad. \n",
    "\n",
    "- Un **modelo multiplicativo** es **no lineal**, como *cuadrático* o *exponencial* y los cambios aumentan o disminuyen con el tiempo.\n",
    "\n",
    "- Una **tendencia lineal** es una línea recta, mientras que una **tendencia no lineal** es una línea curva.\n",
    "\n",
    "- Una **estacionalidad lineal** tiene la *misma* frecuencia (ancho de ciclos) y amplitud (altura de ciclos), \n",
    "mientras que una **estacionalidad no lineal** tiene una frecuencia y/o amplitud creciente o decreciente a lo largo del tiempo."
   ]
  },
  {
   "cell_type": "markdown",
   "metadata": {},
   "source": [
    "Pueden existir **combinaciones** de los dos modelos, las tendencias pueden cambiar de dirección y los ciclos de naturaleza \n",
    "no repetitiva pueden *mezclarse* con los componentes de estacionalidad repetitivos. Básicamente, los datos del \n",
    "mundo real pueden ser confusos y no siempre siguen las reglas. Sin embargo, siguen siendo útiles para definir \n",
    "un marco simple desde el cual analizar nuestros datos."
   ]
  },
  {
   "cell_type": "code",
   "execution_count": null,
   "metadata": {},
   "outputs": [],
   "source": [
    "import pandas as pd\n",
    "import numpy as np\n",
    "import matplotlib as plt\n",
    "from statsmodels.tsa.seasonal import seasonal_decompose"
   ]
  },
  {
   "cell_type": "code",
   "execution_count": null,
   "metadata": {},
   "outputs": [],
   "source": [
    "df = pd.read_csv('Ozono.csv')\n",
    "df.head(10)"
   ]
  },
  {
   "cell_type": "code",
   "execution_count": null,
   "metadata": {},
   "outputs": [],
   "source": [
    "df.set_index('Month', inplace=True)\n",
    "df.index = pd.to_datetime(df.index)\n",
    "df.head(10)"
   ]
  },
  {
   "cell_type": "code",
   "execution_count": 4,
   "metadata": {},
   "outputs": [],
   "source": [
    "df.dropna(inplace=True)"
   ]
  },
  {
   "cell_type": "code",
   "execution_count": null,
   "metadata": {},
   "outputs": [],
   "source": [
    "df.plot()"
   ]
  },
  {
   "cell_type": "code",
   "execution_count": 6,
   "metadata": {},
   "outputs": [],
   "source": [
    "# Descomposición\n",
    "result = seasonal_decompose(df['Ozon concentration'], \n",
    "                            model = 'Additive',\n",
    "                           period = 12)"
   ]
  },
  {
   "cell_type": "code",
   "execution_count": null,
   "metadata": {},
   "outputs": [],
   "source": [
    "result.seasonal.plot()"
   ]
  },
  {
   "cell_type": "code",
   "execution_count": null,
   "metadata": {},
   "outputs": [],
   "source": [
    "result.trend.plot()"
   ]
  },
  {
   "cell_type": "code",
   "execution_count": null,
   "metadata": {},
   "outputs": [],
   "source": [
    "result.plot()"
   ]
  },
  {
   "cell_type": "markdown",
   "metadata": {},
   "source": [
    "## Descomposición de tendencia estacional usando LOESS (STL)"
   ]
  },
  {
   "cell_type": "markdown",
   "metadata": {},
   "source": [
    "Haremos uso de STL para descomponer una serie de tiempo en tres componentes: **tendencia**, **estacional** y **residual**. \n",
    "STL utiliza LOESS (*suavizado de diagrama de dispersión estimado localmente*) para extraer estimaciones suavizadas \n",
    "de los tres componentes. Las entradas clave en STL son:\n",
    "\n",
    "- season- La duración de la temporada más suave. Debe ser extraño.\n",
    "\n",
    "- trend- La duración de la tendencia más suave, por lo general alrededor del 150% de *season*. Debe ser impar y más grande que *season*.\n",
    "\n",
    "- low_pass- La longitud de la ventana de estimación de paso bajo, generalmente el número impar más pequeño mayor que la periodicidad de los datos."
   ]
  },
  {
   "cell_type": "markdown",
   "metadata": {},
   "source": [
    "Primero importamos los paquetes necesarios, preparamos el entorno de gráficos y preparamos los datos."
   ]
  },
  {
   "cell_type": "code",
   "execution_count": 10,
   "metadata": {},
   "outputs": [],
   "source": [
    "import matplotlib.pyplot as plt\n",
    "import pandas as pd\n",
    "import seaborn as sns\n",
    "from pandas.plotting import register_matplotlib_converters\n",
    "\n",
    "register_matplotlib_converters()\n",
    "sns.set_style(\"darkgrid\")"
   ]
  },
  {
   "cell_type": "code",
   "execution_count": 11,
   "metadata": {},
   "outputs": [],
   "source": [
    "plt.rc(\"figure\", figsize=(16, 12))\n",
    "plt.rc(\"font\", size=13)"
   ]
  },
  {
   "cell_type": "markdown",
   "metadata": {},
   "source": [
    "La descomposición requiere 1 entrada, la *serie de datos*. Si la serie de datos no tiene una frecuencia, \n",
    "también debe especificar **period**. El valor predeterminado para *season* es 7, por lo que también debe \n",
    "cambiarse en la mayoría de las aplicaciones."
   ]
  },
  {
   "cell_type": "code",
   "execution_count": null,
   "metadata": {},
   "outputs": [],
   "source": [
    "from statsmodels.tsa.seasonal import STL\n",
    "\n",
    "stl = STL(df, seasonal=13)\n",
    "res = stl.fit()\n",
    "fig = res.plot()"
   ]
  },
  {
   "cell_type": "markdown",
   "metadata": {},
   "source": [
    "## Montaje robusto\n",
    "La configuración **robust** utiliza una función de ponderación dependiente de los datos que vuelve a \n",
    "ponderar los datos al estimar el LOESS (y también se usa LOWESS). El uso de una estimación robusta permite que el \n",
    "modelo tolere errores más grandes que son visibles en el gráfico inferior.\n",
    "\n",
    "- Aquí utilizamos una serie de medidas de la producción de equipos eléctricos en la UE."
   ]
  },
  {
   "cell_type": "code",
   "execution_count": 17,
   "metadata": {},
   "outputs": [],
   "source": [
    "from statsmodels.datasets import elec_equip as ds\n",
    "elec_equip = ds.load().data"
   ]
  },
  {
   "cell_type": "markdown",
   "metadata": {},
   "source": [
    "A continuación, estimamos el modelo con y sin *ponderación robusta*. La diferencia es menor y \n",
    "es más pronunciada durante la crisis financiera de 2008. La estimación no robusta asigna pesos \n",
    "iguales a todas las observaciones y, por lo tanto, produce errores más pequeños, en promedio. \n",
    "Los pesos varían entre 0 y 1."
   ]
  },
  {
   "cell_type": "code",
   "execution_count": null,
   "metadata": {},
   "outputs": [],
   "source": [
    "def add_stl_plot(fig, res, legend):\n",
    "    \"\"\"Agregue 3 parcelas de un segundo ajuste STL\"\"\"\n",
    "    axs = fig.get_axes()\n",
    "    comps = [\"trend\", \"seasonal\", \"resid\"]\n",
    "    for ax, comp in zip(axs[1:], comps):\n",
    "        series = getattr(res, comp)\n",
    "        if comp == \"resid\":\n",
    "            ax.plot(series, marker=\"o\", linestyle=\"none\")\n",
    "        else:\n",
    "            ax.plot(series)\n",
    "            if comp == \"trend\":\n",
    "                ax.legend(legend, frameon=False)\n",
    "\n",
    "\n",
    "stl = STL(elec_equip, period=12, robust=True)\n",
    "res_robust = stl.fit()\n",
    "fig = res_robust.plot()\n",
    "res_non_robust = STL(elec_equip, period=12, robust=False).fit()\n",
    "add_stl_plot(fig, res_non_robust, [\"Robust\", \"Non-robust\"])"
   ]
  },
  {
   "cell_type": "markdown",
   "metadata": {},
   "source": [
    "## grado LOESS\n",
    "La configuración predeterminada estima el modelo LOESS con una constante y una tendencia. Esto se puede cambiar \n",
    "para incluir solo una constante al establecerlo COMPONENT_deg en 0. Aquí el grado hace poca diferencia, excepto en \n",
    "la tendencia en torno a la crisis financiera de 2008."
   ]
  },
  {
   "cell_type": "code",
   "execution_count": null,
   "metadata": {},
   "outputs": [],
   "source": [
    "stl = STL(elec_equip, period=12, seasonal_deg=0, trend_deg=0, low_pass_deg=0, robust=True)\n",
    "res_deg_0 = stl.fit()\n",
    "fig = res_robust.plot()\n",
    "add_stl_plot(fig, res_deg_0, [\"Grado 1\", \"Grado 0\"])"
   ]
  },
  {
   "cell_type": "markdown",
   "metadata": {},
   "source": [
    "## Actuación\n",
    "Se pueden usar tres opciones para reducir el costo computacional de la descomposición STL:\n",
    "\n",
    "- seasonal_jump\n",
    "\n",
    "- trend_jump\n",
    "\n",
    "- low_pass_jump\n",
    "\n",
    "Cuando estos son distintos de cero, el LOESS para el componente COMPONENT solo se estima cada COMPONENT_jump observación, \n",
    "y se usa la interpolación lineal entre puntos. Estos valores normalmente no deberían ser más del 10-20% \n",
    "del tamaño de seasonal, trend o low_pass, respectivamente."
   ]
  },
  {
   "cell_type": "markdown",
   "metadata": {},
   "source": [
    "El siguiente ejemplo muestra cómo estos pueden reducir el costo computacional por un factor de 15 utilizando \n",
    "datos simulados con una tendencia cosinusoidal de baja frecuencia y un patrón estacional sinusoidal."
   ]
  },
  {
   "cell_type": "code",
   "execution_count": null,
   "metadata": {},
   "outputs": [],
   "source": [
    "import numpy as np\n",
    "\n",
    "rs = np.random.RandomState(0xA4FD94BC)\n",
    "tau = 2000\n",
    "t = np.arange(tau)\n",
    "period = int(0.05 * tau)\n",
    "seasonal = period + ((period % 2) == 0)  # Ensure odd\n",
    "e = 0.25 * rs.standard_normal(tau)\n",
    "y = np.cos(t / tau * 2 * np.pi) + 0.25 * np.sin(t / period * 2 * np.pi) + e\n",
    "plt.plot(y)\n",
    "plt.title(\"Datos simulados\")\n",
    "xlim = plt.gca().set_xlim(0, tau)"
   ]
  },
  {
   "cell_type": "markdown",
   "metadata": {},
   "source": [
    "Primero, el modelo de línea base se estima con todos los saltos iguales a 1."
   ]
  },
  {
   "cell_type": "code",
   "execution_count": null,
   "metadata": {},
   "outputs": [],
   "source": [
    "mod = STL(y, period=period, seasonal=seasonal)\n",
    "%timeit mod.fit()\n",
    "res = mod.fit()\n",
    "fig = res.plot(observed=False, resid=False)"
   ]
  },
  {
   "cell_type": "markdown",
   "metadata": {},
   "source": [
    "Todos los saltos están configurados al 15% de la longitud de su ventana. La interpolación lineal limitada hace \n",
    "poca diferencia en el ajuste del modelo."
   ]
  },
  {
   "cell_type": "code",
   "execution_count": null,
   "metadata": {},
   "outputs": [],
   "source": [
    "low_pass_jump = seasonal_jump = int(0.15 * (period + 1))\n",
    "trend_jump = int(0.15 * 1.5 * (period + 1))\n",
    "mod = STL(\n",
    "    y,\n",
    "    period=period,\n",
    "    seasonal=seasonal,\n",
    "    seasonal_jump=seasonal_jump,\n",
    "    trend_jump=trend_jump,\n",
    "    low_pass_jump=low_pass_jump,\n",
    ")\n",
    "%timeit mod.fit()\n",
    "res = mod.fit()\n",
    "fig = res.plot(observed=False, resid=False)"
   ]
  },
  {
   "cell_type": "markdown",
   "metadata": {},
   "source": [
    "## Información de los precios de las acciones de Apple Inc. (AAPL)"
   ]
  },
  {
   "cell_type": "code",
   "execution_count": null,
   "metadata": {},
   "outputs": [],
   "source": [
    "# importando modulos necesarios\n",
    "!pip install pandas-datareader\n",
    "\n",
    "import numpy as np\n",
    "import pandas as pd\n",
    "import datetime as dt\n",
    "import statsmodels.api as sm \n",
    "\n",
    "# librerías de visualizaciones\n",
    "import seaborn as sns\n",
    "import matplotlib.pyplot as plt \n",
    "\n",
    "\n",
    "# graficos incrustados\n",
    "%matplotlib inline"
   ]
  },
  {
   "cell_type": "code",
   "execution_count": null,
   "metadata": {},
   "outputs": [],
   "source": [
    "# Creando una serie de tiempo de Acciones Apple Inc. desde yahoo finance\n",
    "from pandas_datareader import data\n",
    "wft = data.DataReader(\"AAPL\", 'yahoo', '2016-1-1', '2016-9-30')\n",
    "wft.head(5)"
   ]
  },
  {
   "cell_type": "code",
   "execution_count": null,
   "metadata": {},
   "outputs": [],
   "source": [
    "# filtrando sólo del 2016-02-04 al 2016-02-18\n",
    "wft['2016-02-04':'2016-02-18']"
   ]
  },
  {
   "cell_type": "code",
   "execution_count": null,
   "metadata": {},
   "outputs": [],
   "source": [
    "# valores al 2016-02-16\n",
    "wft.loc['2016-2-16']"
   ]
  },
  {
   "cell_type": "code",
   "execution_count": null,
   "metadata": {},
   "outputs": [],
   "source": [
    "# valor de la columna Adj Close al 2016-2-16\n",
    "wft['Adj Close']['2016-2-16']"
   ]
  },
  {
   "cell_type": "code",
   "execution_count": null,
   "metadata": {},
   "outputs": [],
   "source": [
    "# filtrando todo febrero de 2016\n",
    "wft['2016-2']"
   ]
  },
  {
   "cell_type": "code",
   "execution_count": null,
   "metadata": {},
   "outputs": [],
   "source": [
    "# Valores al cierre de cada mes.\n",
    "wft.asfreq('M', method='ffill')"
   ]
  },
  {
   "cell_type": "code",
   "execution_count": null,
   "metadata": {},
   "outputs": [],
   "source": [
    "# Valores al cierre de cada mes (días laborales).\n",
    "wft.asfreq('BM')"
   ]
  },
  {
   "cell_type": "code",
   "execution_count": null,
   "metadata": {},
   "outputs": [],
   "source": [
    "# valores al cierre de cada trimestre\n",
    "wft.asfreq('BQ')"
   ]
  },
  {
   "cell_type": "markdown",
   "metadata": {},
   "source": [
    "Una operación común en los datos de series de tiempo es desplazar los valores hacia \n",
    "atrás y adelante en el tiempo, como por ejemplo para calcular el cambio porcentual \n",
    "de una muestra a otra."
   ]
  },
  {
   "cell_type": "code",
   "execution_count": null,
   "metadata": {},
   "outputs": [],
   "source": [
    "# desplazando el 1 dia el valor de cierre\n",
    "desplazado = wft['Adj Close'].shift(1)\n",
    "desplazado[:5]"
   ]
  },
  {
   "cell_type": "code",
   "execution_count": null,
   "metadata": {},
   "outputs": [],
   "source": [
    "# calculando el porcentaje de variación del día.\n",
    "variacion_diaria = wft['Adj Close'] / wft['Adj Close'].shift(1) - 1\n",
    "wft['var_diaria'] = variacion_diaria\n",
    "wft['var_diaria'][:5]"
   ]
  },
  {
   "cell_type": "code",
   "execution_count": null,
   "metadata": {},
   "outputs": [],
   "source": [
    "# mismo resultado utilizando pct_change()\n",
    "wft['Adj Close'].pct_change()[:5]"
   ]
  },
  {
   "cell_type": "code",
   "execution_count": null,
   "metadata": {},
   "outputs": [],
   "source": [
    "# calculando rendimiento acumulado diario\n",
    "rendimiento_diario = (1 + wft['Adj Close'].pct_change()).cumprod()\n",
    "wft['rend_diario'] = rendimiento_diario\n",
    "wft['rend_diario'][:5]"
   ]
  },
  {
   "cell_type": "markdown",
   "metadata": {},
   "source": [
    "Una operación fundamental para entender el comportamiento de una serie de tiempo y \n",
    "poder determinar si se trata de una serie estacionaria o no; es realizar gráficos \n",
    "de la misma."
   ]
  },
  {
   "cell_type": "code",
   "execution_count": null,
   "metadata": {},
   "outputs": [],
   "source": [
    "# graficando Adj Close\n",
    "plot = wft['Adj Close'].plot(figsize=(10, 8))"
   ]
  },
  {
   "cell_type": "code",
   "execution_count": 22,
   "metadata": {},
   "outputs": [],
   "source": [
    "# Aplicando el filtro Hodrick-Prescott para separar en tendencia y \n",
    "# componente ciclico.\n",
    "wft_ciclo, wft_tend = sm.tsa.filters.hpfilter(wft['Adj Close'])\n",
    "wft['tend'] = wft_tend"
   ]
  },
  {
   "cell_type": "code",
   "execution_count": null,
   "metadata": {},
   "outputs": [],
   "source": [
    "# graficando la variacion del precio real con la tendencia.\n",
    "wft[['Adj Close', 'tend']].plot(figsize=(10, 8), fontsize=12);\n",
    "legend = plt.legend()\n",
    "legend.prop.set_size(14);"
   ]
  },
  {
   "cell_type": "code",
   "execution_count": null,
   "metadata": {},
   "outputs": [],
   "source": [
    "# graficando rendimiento diario\n",
    "plot = wft['var_diaria'].plot(figsize=(10, 8))"
   ]
  },
  {
   "cell_type": "markdown",
   "metadata": {},
   "source": [
    "## EJERCICIO\n",
    "Descomponer la serie de tiempo ('Adj Close') en su tendencia, su estacionalidad y sus factores residuales."
   ]
  }
 ],
 "metadata": {
  "kernelspec": {
   "display_name": "Python 3 (ipykernel)",
   "language": "python",
   "name": "python3"
  },
  "language_info": {
   "codemirror_mode": {
    "name": "ipython",
    "version": 3
   },
   "file_extension": ".py",
   "mimetype": "text/x-python",
   "name": "python",
   "nbconvert_exporter": "python",
   "pygments_lexer": "ipython3",
   "version": "3.9.7"
  }
 },
 "nbformat": 4,
 "nbformat_minor": 4
}
